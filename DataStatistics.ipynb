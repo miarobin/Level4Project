{
 "cells": [
  {
   "cell_type": "code",
   "execution_count": 2,
   "metadata": {},
   "outputs": [],
   "source": [
    "import matplotlib.pyplot as plt\n",
    "import numpy as np\n",
    "from scipy.interpolate import griddata\n",
    "import matplotlib.colors as colors\n",
    "\n",
    "import DataPreprocessing"
   ]
  },
  {
   "cell_type": "code",
   "execution_count": 3,
   "metadata": {},
   "outputs": [],
   "source": [
    "##Minkowski product of 4-vectors, vector inputs\n",
    "def m_prod(p1, p2):\n",
    "    return np.multiply(p1[0], p2[0]) - np.sum(np.multiply(p1[1:], p2[1:]))\n",
    "\n",
    "def analytic_me_calc(q1, q2, p1, p2, p3):\n",
    "    constants = 1\n",
    "    return constants*(m_prod(p1, q1)**2 + m_prod(p1, q2)**2 + m_prod(p2, q1)**2 + m_prod(p2, q2)**2)/(m_prod(p1, p3)*m_prod(p2, p3))"
   ]
  },
  {
   "cell_type": "code",
   "execution_count": 57,
   "metadata": {},
   "outputs": [
    {
     "name": "stdout",
     "output_type": "stream",
     "text": [
      "5.636680607956805e-13\n"
     ]
    }
   ],
   "source": [
    "me = np.load('LO/MG_uuxg/3Jet_500000.npy', allow_pickle=True) #Matrix elements\n",
    "mom = np.load('LO/LO_3_0.01_NJet/PS3_0.01_500000.npy', allow_pickle=True, encoding='bytes') #4-momenta of inputs\n",
    "\n",
    "analytic_me = np.array([analytic_me_calc(*mom[i]) for i in range(len(mom))])\n",
    "\n",
    "lin_perc = np.mean(100*np.divide(np.abs(analytic_me - np.mean(analytic_me)*me/np.mean(me)), analytic_me))\n",
    "print(lin_perc)"
   ]
  },
  {
   "cell_type": "code",
   "execution_count": 67,
   "metadata": {},
   "outputs": [
    {
     "name": "stdout",
     "output_type": "stream",
     "text": [
      "1.4188644205377335e-10\n"
     ]
    }
   ],
   "source": [
    "me = np.load('LO/MG_uuxg_2/me_3jet_1000000.npy', allow_pickle=True) #Matrix elements\n",
    "mom = np.load('LO/MG_uuxg_2/mom_3jet_1000000.npy', allow_pickle=True, encoding='bytes')\n",
    "\n",
    "p1=np.array([500,0,0,500])\n",
    "p2=np.array([500,0,0,-500])\n",
    "\n",
    "analytic_me = np.array([analytic_me_calc(p1,p2,*mom[i]) for i in range(len(mom))])\n",
    "\n",
    "lin_perc = np.mean(100*np.divide(np.abs(analytic_me - np.mean(analytic_me)*me/np.mean(me)), analytic_me))\n",
    "\n",
    "print(lin_perc)"
   ]
  },
  {
   "cell_type": "code",
   "execution_count": 68,
   "metadata": {},
   "outputs": [
    {
     "name": "stdout",
     "output_type": "stream",
     "text": [
      "[1000000. 1000000. 1000000. ... 1000000. 1000000. 1000000.]\n"
     ]
    }
   ],
   "source": [
    "s12, s13, s23 = DataPreprocessing.mandel_creation(['1,2','1,3','2,3'],np.array([np.ndarray.flatten(np.array(element)) for element in mom]))\n",
    "#s12, s13, s23 = DataPreprocessing.mandel_creation(['3,4','3,5','4,5'],np.array([np.ndarray.flatten(np.array(element)) for element in mom]))\n",
    "S = s12 + s13 + s23\n",
    "print(S)"
   ]
  },
  {
   "cell_type": "code",
   "execution_count": 69,
   "metadata": {},
   "outputs": [
    {
     "name": "stdout",
     "output_type": "stream",
     "text": [
      "[0.30927477 0.2803805  0.27362695 ... 0.04306294 0.33737525 0.34529759]\n"
     ]
    }
   ],
   "source": [
    "x1 = np.divide(s12, S)\n",
    "x2 = np.divide(s13, S)\n",
    "x3 = np.divide(s23, S)\n",
    "print(x1)\n",
    "\n",
    "x2i = np.linspace(0, 1, 500) #x1 coordinates\n",
    "x3i = np.linspace(0, 1, 500) #x2 coordinates\n",
    "X2i, X3i = np.meshgrid(x2i, x3i) #2d regularly spaced grid of coordinates."
   ]
  },
  {
   "cell_type": "code",
   "execution_count": 70,
   "metadata": {},
   "outputs": [],
   "source": [
    "#Value at grid coordinate is mapped to the nearest actual datapoint.\n",
    "grid = griddata((x2, x3), 100*np.divide(np.abs(analytic_me - np.mean(analytic_me)*me/np.mean(me)), analytic_me), (X2i, X3i), method='linear') "
   ]
  },
  {
   "cell_type": "code",
   "execution_count": 71,
   "metadata": {},
   "outputs": [
    {
     "data": {
      "text/plain": [
       "Text(0.5,0,'x3')"
      ]
     },
     "execution_count": 71,
     "metadata": {},
     "output_type": "execute_result"
    },
    {
     "data": {
      "image/png": "[encoded data removed]",
      "text/plain": [
       "<Figure size 432x288 with 2 Axes>"
      ]
     },
     "metadata": {},
     "output_type": "display_data"
    }
   ],
   "source": [
    "fig, ax = plt.subplots()\n",
    "im = ax.pcolor(grid, cmap = 'nipy_spectral_r') #color map of coord grid\n",
    "cbar = ax.figure.colorbar(im)\n",
    "cbar.set_label('Percentage Error')\n",
    "\n",
    "ax.set_xticks([0, 500])\n",
    "ax.set_xticklabels([0, 1])\n",
    "ax.set_yticks([0, 500])\n",
    "ax.set_yticklabels([0, 1])\n",
    "\n",
    "\n",
    "ax.set_ylabel('x2')\n",
    "ax.set_xlabel('x3')"
   ]
  },
  {
   "cell_type": "code",
   "execution_count": 72,
   "metadata": {},
   "outputs": [
    {
     "name": "stdout",
     "output_type": "stream",
     "text": [
      "[1.41418437e-10 1.41282283e-10 1.41257354e-10 1.40695450e-10\n",
      " 1.41210997e-10]\n"
     ]
    }
   ],
   "source": [
    "print((100*np.divide(np.abs(analytic_me - np.mean(analytic_me)*me/np.mean(me)), analytic_me))[1000:1005])"
   ]
  },
  {
   "cell_type": "code",
   "execution_count": 73,
   "metadata": {},
   "outputs": [
    {
     "name": "stdout",
     "output_type": "stream",
     "text": [
      "[[ 305.06071302 -191.11365238  224.0253026   -79.68860829]\n",
      " [ 499.99967382  313.58351181 -366.7620729   130.9604399 ]\n",
      " [ 194.93961316 -122.46985943  142.7367703   -51.27183161]]\n"
     ]
    }
   ],
   "source": [
    "print(mom[109755])\n"
   ]
  },
  {
   "cell_type": "code",
   "execution_count": 74,
   "metadata": {},
   "outputs": [
    {
     "name": "stdout",
     "output_type": "stream",
     "text": [
      "0.2034262781617181\n",
      "0.20342627816143188\n",
      "-1.4133621009068264e-12\n"
     ]
    }
   ],
   "source": [
    "print(me[109756]/np.mean(me))\n",
    "print(analytic_me[109756]/np.mean(analytic_me))\n",
    "print((analytic_me[109655]/np.mean(analytic_me)-me[109655]/np.mean(me))/(analytic_me[109655]/np.mean(analytic_me)))"
   ]
  },
  {
   "cell_type": "code",
   "execution_count": null,
   "metadata": {},
   "outputs": [],
   "source": []
  }
 ],
 "metadata": {
  "kernelspec": {
   "display_name": "Python 3",
   "language": "python",
   "name": "python3"
  },
  "language_info": {
   "codemirror_mode": {
    "name": "ipython",
    "version": 3
   },
   "file_extension": ".py",
   "mimetype": "text/x-python",
   "name": "python",
   "nbconvert_exporter": "python",
   "pygments_lexer": "ipython3",
   "version": "3.6.3"
  }
 },
 "nbformat": 4,
 "nbformat_minor": 2
}
