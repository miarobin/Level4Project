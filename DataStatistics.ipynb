{
 "cells": [
  {
   "cell_type": "code",
   "execution_count": 2,
   "metadata": {},
   "outputs": [],
   "source": [
    "import matplotlib.pyplot as plt\n",
    "import numpy as np"
   ]
  },
  {
   "cell_type": "code",
   "execution_count": 3,
   "metadata": {},
   "outputs": [],
   "source": [
    "##Data Aquisition\n",
    "me = np.load('LO_3_0.01/NJ_LO_3_0.01_500000.npy', allow_pickle=True) #Matrix elements - test\n",
    "momentum = np.load('LO_3_0.01/PS3_0.01_500000.npy', allow_pickle=True, encoding='bytes')#4-momenta of inputs - test"
   ]
  },
  {
   "cell_type": "code",
   "execution_count": 5,
   "metadata": {},
   "outputs": [
    {
     "data": {
      "text/plain": [
       "Text(0,0.5,'Frequency Histogram')"
      ]
     },
     "execution_count": 5,
     "metadata": {},
     "output_type": "execute_result"
    },
    {
     "data": {
      "image/png": "[encoded data removed]",
      "text/plain": [
       "<Figure size 432x288 with 1 Axes>"
      ]
     },
     "metadata": {},
     "output_type": "display_data"
    }
   ],
   "source": [
    "plt.hist(me, bins = 200)\n",
    "plt.yscale('log')\n",
    "\n",
    "plt.xlabel('Matrix Element')\n",
    "plt.ylabel('Frequency Histogram')"
   ]
  },
  {
   "cell_type": "code",
   "execution_count": 6,
   "metadata": {},
   "outputs": [
    {
     "name": "stdout",
     "output_type": "stream",
     "text": [
      "126968\n"
     ]
    }
   ],
   "source": [
    "print(np.argmax(me))"
   ]
  },
  {
   "cell_type": "code",
   "execution_count": 8,
   "metadata": {},
   "outputs": [
    {
     "name": "stdout",
     "output_type": "stream",
     "text": [
      "0.0017198756272075475\n",
      "[array([500.,   0.,   0., 500.]), array([ 500.,    0.,    0., -500.]), array([ 490.86438821,   75.5887405 ,  290.07026835, -388.70738267]), array([ 343.97458723,   -5.6264378 , -170.62094596,  298.62242491]), array([ 165.16102456,  -69.9623027 , -119.44932239,   90.08495776])]\n"
     ]
    }
   ],
   "source": [
    "print(me[np.argmin(me)])\n",
    "print(momentum[np.argmin(me)])"
   ]
  },
  {
   "cell_type": "code",
   "execution_count": null,
   "metadata": {},
   "outputs": [],
   "source": []
  }
 ],
 "metadata": {
  "kernelspec": {
   "display_name": "Python 3",
   "language": "python",
   "name": "python3"
  },
  "language_info": {
   "codemirror_mode": {
    "name": "ipython",
    "version": 3
   },
   "file_extension": ".py",
   "mimetype": "text/x-python",
   "name": "python",
   "nbconvert_exporter": "python",
   "pygments_lexer": "ipython3",
   "version": "3.6.3"
  }
 },
 "nbformat": 4,
 "nbformat_minor": 2
}
