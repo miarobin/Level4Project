{
 "cells": [
  {
   "cell_type": "code",
   "execution_count": 3,
   "metadata": {},
   "outputs": [],
   "source": [
    "import numpy as np\n",
    "import matplotlib.pyplot as pyplot\n",
    "import pandas as pd\n",
    "\n",
    "from sklearn.pipeline import Pipeline\n",
    "from sklearn.preprocessing import StandardScaler, KBinsDiscretizer\n",
    "from sklearn.model_selection import train_test_split, learning_curve, StratifiedShuffleSplit\n",
    "\n",
    "from sklearn.linear_model import LinearRegression\n",
    "from sklearn.metrics import mean_squared_error\n",
    "from sklearn.ensemble import RandomForestRegressor"
   ]
  },
  {
   "cell_type": "code",
   "execution_count": 4,
   "metadata": {},
   "outputs": [],
   "source": [
    "##Data Aquisition\n",
    "me_test = np.load('LO_3_MG/3Jet_500000.npy', allow_pickle=True) #Matrix elements - test\n",
    "momentum_test_r = np.load('LO_3_0.01_NJet/PS3_0.01_500000.npy', allow_pickle=True, encoding='bytes')#4-momenta of inputs - test\n",
    "momentum_test_r = np.array([np.array(element) for element in momentum_test_r])\n",
    "\n",
    "me_train = np.load('LO_3_MG/3Jet_3000000.npy', allow_pickle=True) #Matrix elements - train\n",
    "momentum_train_r = np.load('LO_3_0.01_NJet/PS3_0.01_3000000.npy', allow_pickle=True, encoding='bytes') #4-momenta of input - train\n",
    "momentum_train_r = np.array([np.array(element) for element in momentum_train_r])"
   ]
  },
  {
   "cell_type": "markdown",
   "metadata": {},
   "source": [
    "Adding some extra features"
   ]
  },
  {
   "cell_type": "code",
   "execution_count": 5,
   "metadata": {},
   "outputs": [],
   "source": [
    "##Minkowski product of 4-vectors p1, p2.\n",
    "def m_prod_arr(p1, p2):\n",
    "    #Input: p1, p2 - n x 4 dimensional numpy array.\n",
    "    #Output: n dimensional numpy array.\n",
    "    return np.multiply(p1[:,0], p2[:,0]) - np.sum(np.multiply(p1[:,1:], p2[:,1:]), axis=1)"
   ]
  },
  {
   "cell_type": "code",
   "execution_count": 6,
   "metadata": {},
   "outputs": [],
   "source": [
    "p_12tr = np.sum(np.array(momentum_train_r)[:,2:4], axis=1) #p1+p2\n",
    "p_13tr = np.sum(np.array(momentum_train_r)[:,2:5:2], axis=1) #p1+p3\n",
    "p_23tr = np.sum(np.array(momentum_train_r)[:,3:5], axis=1) #p2+p3\n",
    "\n",
    "p_12te = np.sum(np.array(momentum_test_r)[:,2:4], axis=1) #p1+p2\n",
    "p_13te = np.sum(np.array(momentum_test_r)[:,2:5:2], axis=1) #p1+p3\n",
    "p_23te = np.sum(np.array(momentum_test_r)[:,3:5], axis=1) #p2+p3\n",
    "\n",
    "s_12tr = m_prod_arr(p_12tr, p_12tr) #center of mass energyies of two of three beams\n",
    "s_13tr = m_prod_arr(p_13tr, p_13tr)\n",
    "s_23tr = m_prod_arr(p_23tr, p_23tr)\n",
    "\n",
    "s_12te = m_prod_arr(p_12te, p_12te)\n",
    "s_13te = m_prod_arr(p_13te, p_13te)\n",
    "s_23te = m_prod_arr(p_23te, p_23te)\n",
    "\n",
    "#Dot product with incoming particle\n",
    "ang_1tr = momentum_train_r[:,2,3]/momentum_train_r[:,2,0]\n",
    "ang_2tr = momentum_train_r[:,3,3]/momentum_train_r[:,3,0]\n",
    "\n",
    "ang_1te = momentum_test_r[:,2,3]/momentum_test_r[:,2,0]\n",
    "ang_2te = momentum_test_r[:,3,3]/momentum_test_r[:,3,0]"
   ]
  },
  {
   "cell_type": "code",
   "execution_count": 7,
   "metadata": {},
   "outputs": [],
   "source": [
    "##Reformat Momentum\n",
    "momentum_train = np.array([np.ndarray.flatten(np.array(element)[3:]) for element in momentum_train_r])\n",
    "momentum_test = np.array([np.ndarray.flatten(np.array(element)[3:]) for element in momentum_test_r])\n",
    "\n",
    "##Add extra features\n",
    "momentum_train = np.hstack((momentum_train, s_23tr[:,None], s_12tr[:,None], s_13tr[:,None], ang_2tr[:,None]))\n",
    "momentum_test = np.hstack((momentum_test, s_23te[:,None], s_12te[:,None], s_13te[:,None], ang_2te[:,None]))\n",
    "\n",
    "##Data transformation\n",
    "pipeline = Pipeline([\n",
    "    ('scaler', StandardScaler()), #Rescale Data.\n",
    "    ('kbins', KBinsDiscretizer(n_bins=200)) #Checking convergence as bins.\n",
    "])\n",
    " \n",
    "momentum_train = pipeline.fit_transform(momentum_train) #Rescale on training set\n",
    "momentum_test = pipeline.transform(momentum_test) #Rescale on test set"
   ]
  },
  {
   "cell_type": "code",
   "execution_count": 6,
   "metadata": {},
   "outputs": [
    {
     "name": "stdout",
     "output_type": "stream",
     "text": [
      "1.0150097331014477e-05\n",
      "30.58303022996773\n"
     ]
    }
   ],
   "source": [
    "linreg = LinearRegression().fit(momentum_train, me_train)\n",
    "\n",
    "me_predict_lin = linreg.predict(momentum_test) #Prediction on test set\n",
    "lin_mse = mean_squared_error(me_test, me_predict_lin) \n",
    "print(np.sqrt(lin_mse))\n",
    "\n",
    "lin_perc = 100*np.abs(me_test[10] - me_predict_lin[10])/me_test[10]\n",
    "print(lin_perc)"
   ]
  },
  {
   "cell_type": "markdown",
   "metadata": {},
   "source": [
    "## Plotting Learning Curve"
   ]
  },
  {
   "cell_type": "code",
   "execution_count": 7,
   "metadata": {},
   "outputs": [
    {
     "name": "stdout",
     "output_type": "stream",
     "text": [
      "[learning_curve] Training set sizes: [ 2400  7800 13200 18600 24000]\n"
     ]
    },
    {
     "name": "stderr",
     "output_type": "stream",
     "text": [
      "[Parallel(n_jobs=1)]: Using backend SequentialBackend with 1 concurrent workers.\n",
      "[Parallel(n_jobs=1)]: Done  25 out of  25 | elapsed:    5.5s finished\n"
     ]
    }
   ],
   "source": [
    "##Plotting a Learning Curve\n",
    "split = StratifiedShuffleSplit() #Collects data evenly about mean to put into validation sets\n",
    "train = split.split(momentum_train, pd.cut(me_train, bins = 100)) #But are we testing on something we've trained..?\n",
    "\n",
    "train_sizes, train_scores, test_scores = learning_curve(\n",
    "        linreg, momentum_train, me_train, scoring='neg_mean_squared_error',\n",
    "        cv=5, shuffle=True, train_sizes=np.linspace(0.001, 0.01, 5), \n",
    "        n_jobs=1, verbose=1)"
   ]
  },
  {
   "cell_type": "code",
   "execution_count": 8,
   "metadata": {},
   "outputs": [
    {
     "data": {
      "text/plain": [
       "<matplotlib.legend.Legend at 0x7fa743264198>"
      ]
     },
     "execution_count": 8,
     "metadata": {},
     "output_type": "execute_result"
    },
    {
     "data": {
      "image/png": "[encoded data removed]",
      "text/plain": [
       "<Figure size 432x288 with 1 Axes>"
      ]
     },
     "metadata": {},
     "output_type": "display_data"
    }
   ],
   "source": [
    "pyplot.figure()\n",
    "\n",
    "train_scores_mean = np.sqrt(-np.mean(train_scores, axis=1))\n",
    "test_scores_mean = np.sqrt(-np.mean(test_scores, axis=1))\n",
    "\n",
    "pyplot.xlabel(\"Training examples\")\n",
    "pyplot.ylabel(\"Score\")\n",
    "pyplot.plot(train_sizes, train_scores_mean, 'o-', color=\"r\",\n",
    "             label=\"Training score\")\n",
    "pyplot.plot(train_sizes, test_scores_mean, 'o-', color=\"g\",\n",
    "             label=\"Cross-validation score\")\n",
    "\n",
    "pyplot.legend(loc=\"best\")"
   ]
  },
  {
   "cell_type": "code",
   "execution_count": 9,
   "metadata": {},
   "outputs": [
    {
     "data": {
      "text/plain": [
       "1.860799512233226e-05"
      ]
     },
     "execution_count": 9,
     "metadata": {},
     "output_type": "execute_result"
    }
   ],
   "source": [
    "np.std(me_test)"
   ]
  },
  {
   "cell_type": "markdown",
   "metadata": {},
   "source": [
    "## Plot accuracy vs number of bins"
   ]
  },
  {
   "cell_type": "code",
   "execution_count": 8,
   "metadata": {},
   "outputs": [],
   "source": [
    "def changeBins(n_bins, input_train, input_test, output_train, output_test):\n",
    "    ##Data transformation\n",
    "    pipeline = Pipeline([\n",
    "        ('scaler', StandardScaler()), #Rescale Data.\n",
    "        ('kbins', KBinsDiscretizer(n_bins=n_bins)) #Checking convergence as bins.\n",
    "    ])\n",
    "\n",
    "    input_train = pipeline.fit_transform(input_train) #Rescale on training set\n",
    "    input_test = pipeline.transform(input_test) #Rescale on test set\n",
    "    \n",
    "    linreg = LinearRegression().fit(input_train, output_train)\n",
    "\n",
    "    me_predict_lin = linreg.predict(input_test) #Prediction on test set\n",
    "    lin_mse = mean_squared_error(output_test, me_predict_lin) \n",
    "    \n",
    "    return np.sqrt(lin_mse)"
   ]
  },
  {
   "cell_type": "code",
   "execution_count": 11,
   "metadata": {},
   "outputs": [
    {
     "name": "stdout",
     "output_type": "stream",
     "text": [
      "5.207390898212608e-06\n",
      "5.12671826727651e-06\n",
      "5.123126198635949e-06\n",
      "5.1318527361552014e-06\n"
     ]
    }
   ],
   "source": [
    "##Reformat Momentum\n",
    "momentum_train = np.array([np.ndarray.flatten(np.array(element)[3:, 1:]) for element in momentum_train_r])\n",
    "momentum_test = np.array([np.ndarray.flatten(np.array(element)[3:, 1:]) for element in momentum_test_r])\n",
    "\n",
    "##Add extra features\n",
    "momentum_train = np.hstack((momentum_train, s_23tr[:,None], s_12tr[:,None], s_13tr[:,None], ang_1tr[:,None]))\n",
    "momentum_test = np.hstack((momentum_test, s_23te[:,None], s_12te[:,None], s_13te[:,None], ang_1te[:,None]))\n",
    "\n",
    "n_bins_arr = range(10000, 30000, 5000)\n",
    "result = []\n",
    "for n_bins in n_bins_arr:\n",
    "    print(changeBins(n_bins, momentum_train, momentum_test, me_train, me_test))\n",
    "    result.append(changeBins(n_bins, momentum_train, momentum_test, me_train, me_test))\n"
   ]
  },
  {
   "cell_type": "code",
   "execution_count": 12,
   "metadata": {},
   "outputs": [
    {
     "data": {
      "text/plain": [
       "[<matplotlib.lines.Line2D at 0x7f983183b668>]"
      ]
     },
     "execution_count": 12,
     "metadata": {},
     "output_type": "execute_result"
    },
    {
     "data": {
      "image/png": "[encoded data removed]",
      "text/plain": [
       "<Figure size 432x288 with 1 Axes>"
      ]
     },
     "metadata": {},
     "output_type": "display_data"
    }
   ],
   "source": [
    "pyplot.plot(n_bins_arr, result)"
   ]
  },
  {
   "cell_type": "code",
   "execution_count": 13,
   "metadata": {},
   "outputs": [
    {
     "name": "stdout",
     "output_type": "stream",
     "text": [
      "4.145085558123077e-06\n"
     ]
    }
   ],
   "source": [
    "print(np.mean(me_test))"
   ]
  },
  {
   "cell_type": "code",
   "execution_count": 14,
   "metadata": {},
   "outputs": [
    {
     "name": "stdout",
     "output_type": "stream",
     "text": [
      "1.860799512233226e-05\n"
     ]
    }
   ],
   "source": [
    "print(np.std(me_test))"
   ]
  },
  {
   "cell_type": "code",
   "execution_count": null,
   "metadata": {},
   "outputs": [],
   "source": []
  }
 ],
 "metadata": {
  "kernelspec": {
   "display_name": "Python 3",
   "language": "python",
   "name": "python3"
  },
  "language_info": {
   "codemirror_mode": {
    "name": "ipython",
    "version": 3
   },
   "file_extension": ".py",
   "mimetype": "text/x-python",
   "name": "python",
   "nbconvert_exporter": "python",
   "pygments_lexer": "ipython3",
   "version": "3.6.3"
  }
 },
 "nbformat": 4,
 "nbformat_minor": 2
}
