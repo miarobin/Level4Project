{
 "cells": [
  {
   "cell_type": "code",
   "execution_count": 1,
   "metadata": {},
   "outputs": [],
   "source": [
    "import numpy as np\n",
    "import matplotlib.pyplot as pyplot\n",
    "import pandas as pd\n",
    "\n",
    "from sklearn.pipeline import Pipeline\n",
    "from sklearn.preprocessing import StandardScaler, KBinsDiscretizer\n",
    "from sklearn.model_selection import train_test_split, learning_curve, StratifiedShuffleSplit\n",
    "\n",
    "from sklearn.linear_model import LinearRegression\n",
    "from sklearn.metrics import mean_squared_error\n",
    "from sklearn.ensemble import RandomForestRegressor"
   ]
  },
  {
   "cell_type": "code",
   "execution_count": 2,
   "metadata": {},
   "outputs": [],
   "source": [
    "##Data Aquisition\n",
    "me_test_raw = np.load('LO_3_MG/3Jet_500000.npy', allow_pickle=True) #Matrix elements - test\n",
    "mom_test_raw = np.load('LO_3_0.01_NJet/PS3_0.01_500000.npy', allow_pickle=True, encoding='bytes')#4-momenta of inputs - test\n",
    "mom_test_raw = np.array([np.array(element) for element in mom_test_raw])\n",
    "\n",
    "me_train_raw = np.load('LO_3_MG/3Jet_3000000.npy', allow_pickle=True) #Matrix elements - train\n",
    "mom_train_raw = np.load('LO_3_0.01_NJet/PS3_0.01_3000000.npy', allow_pickle=True, encoding='bytes') #4-momenta of input - train\n",
    "mom_train_raw = np.array([np.array(element) for element in mom_train_raw])"
   ]
  },
  {
   "cell_type": "markdown",
   "metadata": {},
   "source": [
    "Adding some extra features"
   ]
  },
  {
   "cell_type": "code",
   "execution_count": 3,
   "metadata": {},
   "outputs": [],
   "source": [
    "##Minkowski product of 4-vectors p1, p2.\n",
    "def m_prod_arr(p1, p2):\n",
    "    return np.multiply(p1[:,0], p2[:,0]) - np.sum(np.multiply(p1[:,1:], p2[:,1:]), axis=1)"
   ]
  },
  {
   "cell_type": "code",
   "execution_count": 4,
   "metadata": {},
   "outputs": [],
   "source": [
    "p_12tr = mom_train_raw[:,2] + mom_train_raw[:,3] #p1+p2\n",
    "p_13tr = mom_train_raw[:,2] + mom_train_raw[:,4] #p1+p3\n",
    "p_23tr = mom_train_raw[:,3] + mom_train_raw[:,4] #p2+p3\n",
    "\n",
    "p_12te = mom_test_raw[:,2] + mom_test_raw[:,3] #p1+p2\n",
    "p_13te = mom_test_raw[:,2] + mom_test_raw[:,4] #p1+p3\n",
    "p_23te = mom_test_raw[:,3] + mom_test_raw[:,4] #p2+p3\n",
    "\n",
    "s_12tr = m_prod_arr(p_12tr, p_12tr) #center of mass energyies of two of three beams\n",
    "s_13tr = m_prod_arr(p_13tr, p_13tr)\n",
    "s_23tr = m_prod_arr(p_23tr, p_23tr)\n",
    "\n",
    "s_12te = m_prod_arr(p_12te, p_12te)\n",
    "s_13te = m_prod_arr(p_13te, p_13te)\n",
    "s_23te = m_prod_arr(p_23te, p_23te)\n"
   ]
  },
  {
   "cell_type": "markdown",
   "metadata": {},
   "source": [
    "## Single Test"
   ]
  },
  {
   "cell_type": "code",
   "execution_count": 5,
   "metadata": {},
   "outputs": [],
   "source": [
    "##Reformat Momentum\n",
    "mom_train = np.array([np.ndarray.flatten(np.array(element)[2:]) for element in mom_train_raw])\n",
    "mom_test = np.array([np.ndarray.flatten(np.array(element)[2:]) for element in mom_test_raw])\n",
    "\n",
    "##Reformat Matrix Element\n",
    "me_train = np.multiply(np.multiply(me_train_raw, s_13tr), s_23tr)/(s_12tr+s_13tr+s_23tr)\n",
    "me_test = np.multiply(np.multiply(me_test_raw, s_13te), s_23te)/(s_12te+s_13te+s_23te)\n",
    "\n",
    "\n",
    "##Data transformation\n",
    "pipeline = Pipeline([\n",
    "    ('scaler', StandardScaler()), #Rescale Data.\n",
    "    ('kbins', KBinsDiscretizer(n_bins=1200)) #Checking convergence as bins.\n",
    "])\n",
    " \n",
    "mom_train = pipeline.fit_transform(mom_train) #Rescale on training set\n",
    "mom_test = pipeline.transform(mom_test) #Rescale on test set"
   ]
  },
  {
   "cell_type": "code",
   "execution_count": 6,
   "metadata": {},
   "outputs": [
    {
     "name": "stdout",
     "output_type": "stream",
     "text": [
      "5.2471394781601385e-09\n",
      "7.243714156536091e-05\n",
      "0.057031997232973426\n"
     ]
    }
   ],
   "source": [
    "linreg = LinearRegression().fit(mom_train, me_train)\n",
    "\n",
    "me_predict_lin = linreg.predict(mom_test) #Prediction on test set\n",
    "lin_mse = mean_squared_error(me_test, me_predict_lin) \n",
    "print(lin_mse)\n",
    "print(np.sqrt(lin_mse))\n",
    "\n",
    "\n",
    "lin_perc = np.mean(100*np.divide(np.abs(me_test - me_predict_lin), me_test))\n",
    "print(lin_perc)"
   ]
  },
  {
   "cell_type": "code",
   "execution_count": 7,
   "metadata": {},
   "outputs": [
    {
     "name": "stdout",
     "output_type": "stream",
     "text": [
      "0.024803181637985238\n"
     ]
    }
   ],
   "source": [
    "print(np.std(me_test))"
   ]
  },
  {
   "cell_type": "markdown",
   "metadata": {},
   "source": [
    "## Plotting Learning Curve"
   ]
  },
  {
   "cell_type": "code",
   "execution_count": 23,
   "metadata": {},
   "outputs": [
    {
     "name": "stdout",
     "output_type": "stream",
     "text": [
      "[learning_curve] Training set sizes: [ 24000  39428  54857  70285  85714 101142 116571 132000 147428 162857\n",
      " 178285 193714 209142 224571 240000]\n"
     ]
    },
    {
     "name": "stderr",
     "output_type": "stream",
     "text": [
      "[Parallel(n_jobs=1)]: Using backend SequentialBackend with 1 concurrent workers.\n",
      "[Parallel(n_jobs=1)]: Done  75 out of  75 | elapsed:    5.3s finished\n"
     ]
    }
   ],
   "source": [
    "##Plotting a Learning Curve\n",
    "split = StratifiedShuffleSplit() #Collects data evenly about mean to put into validation sets\n",
    "train = split.split(mom_train, pd.cut(me_train, bins = 200)) #But are we testing on something we've trained..?\n",
    "\n",
    "train_sizes, train_scores, test_scores = learning_curve(\n",
    "        linreg, mom_train, me_train, scoring='neg_mean_squared_error',\n",
    "        cv=5, shuffle=True, train_sizes=np.linspace(0.01, 0.1, 15), \n",
    "        n_jobs=1, verbose=1)"
   ]
  },
  {
   "cell_type": "code",
   "execution_count": 24,
   "metadata": {},
   "outputs": [
    {
     "data": {
      "text/plain": [
       "<matplotlib.legend.Legend at 0x7f224bc6b550>"
      ]
     },
     "execution_count": 24,
     "metadata": {},
     "output_type": "execute_result"
    },
    {
     "data": {
      "image/png": "[encoded data removed]",
      "text/plain": [
       "<Figure size 432x288 with 1 Axes>"
      ]
     },
     "metadata": {},
     "output_type": "display_data"
    }
   ],
   "source": [
    "pyplot.figure()\n",
    "\n",
    "train_scores_mean = np.sqrt(-np.mean(train_scores, axis=1))\n",
    "test_scores_mean = np.sqrt(-np.mean(test_scores, axis=1))\n",
    "\n",
    "pyplot.xlabel(\"Training examples\")\n",
    "pyplot.ylabel(\"Score\")\n",
    "pyplot.plot(train_sizes, train_scores_mean, 'o-', color=\"r\",\n",
    "             label=\"Training score\")\n",
    "pyplot.plot(train_sizes, test_scores_mean, 'o-', color=\"g\",\n",
    "             label=\"Cross-validation score\")\n",
    "\n",
    "pyplot.legend(loc=\"best\")"
   ]
  },
  {
   "cell_type": "code",
   "execution_count": 12,
   "metadata": {},
   "outputs": [
    {
     "data": {
      "text/plain": [
       "0.024803181637985238"
      ]
     },
     "execution_count": 12,
     "metadata": {},
     "output_type": "execute_result"
    }
   ],
   "source": [
    "np.std(me_test)"
   ]
  },
  {
   "cell_type": "markdown",
   "metadata": {},
   "source": [
    "## Plot accuracy vs number of bins"
   ]
  },
  {
   "cell_type": "code",
   "execution_count": 5,
   "metadata": {},
   "outputs": [],
   "source": [
    "def changeBins(n_bins, input_train, input_test, output_train, output_test):\n",
    "    ##Data transformation\n",
    "    pipeline = Pipeline([\n",
    "        ('scaler', StandardScaler()), #Rescale Data.\n",
    "        ('kbins', KBinsDiscretizer(n_bins=n_bins)) #Checking convergence as bins.\n",
    "    ])\n",
    "\n",
    "    temp_train = pipeline.fit_transform(input_train) #Rescale on training set\n",
    "    temp_test = pipeline.transform(input_test) #Rescale on test set\n",
    "    \n",
    "    linreg = LinearRegression().fit(temp_train, output_train)\n",
    "\n",
    "    me_predict = linreg.predict(temp_test) #Prediction on test set\n",
    "    lin_mse = mean_squared_error(output_test, me_predict) \n",
    "    \n",
    "    return np.sqrt(lin_mse)"
   ]
  },
  {
   "cell_type": "code",
   "execution_count": 21,
   "metadata": {},
   "outputs": [
    {
     "name": "stdout",
     "output_type": "stream",
     "text": [
      "1.5155934822585473e-06\n",
      "1.4601332153269125e-06\n",
      "1.4276628655441308e-06\n",
      "1.3991790643439597e-06\n",
      "1.3745689592476353e-06\n",
      "1.3550931254382378e-06\n",
      "1.3371902537080522e-06\n",
      "1.3166715710008728e-06\n",
      "1.3123495758045727e-06\n",
      "1.3013149582577112e-06\n"
     ]
    }
   ],
   "source": [
    "##Reformat Momentum\n",
    "mom_train = np.array([np.ndarray.flatten(np.array(element)[2:]) for element in mom_train_raw])\n",
    "mom_test = np.array([np.ndarray.flatten(np.array(element)[2:]) for element in mom_test_raw])\n",
    "\n",
    "##Reformat Matrix Element\n",
    "me_train = np.multiply(np.multiply(me_train_raw, s_13tr), s_23tr)/(s_12tr+s_13tr+s_23tr)\n",
    "me_test = np.multiply(np.multiply(me_test_raw, s_13te), s_23te)/(s_12te+s_13te+s_23te)\n",
    "\n",
    "n_bins_arr = range(100000, 150000, 5000)\n",
    "result = []\n",
    "for n_bins in n_bins_arr:\n",
    "    temp = changeBins(n_bins, mom_train, mom_test, me_train, me_test)\n",
    "    print(temp)\n",
    "    result.append(temp)"
   ]
  },
  {
   "cell_type": "code",
   "execution_count": 22,
   "metadata": {},
   "outputs": [
    {
     "data": {
      "image/png": "[encoded data removed]",
      "text/plain": [
       "<Figure size 432x288 with 1 Axes>"
      ]
     },
     "metadata": {},
     "output_type": "display_data"
    }
   ],
   "source": [
    "pyplot.xlabel('Number of Bins')\n",
    "pyplot.ylabel('RMSE')\n",
    "pyplot.title('Point k at which kBins overfits')\n",
    "pyplot.plot(n_bins_arr, result)\n",
    "pyplot.savefig('RMSE_kBins_Overfit')"
   ]
  },
  {
   "cell_type": "code",
   "execution_count": null,
   "metadata": {},
   "outputs": [],
   "source": [
    "print(np.mean(me_test))"
   ]
  },
  {
   "cell_type": "code",
   "execution_count": null,
   "metadata": {},
   "outputs": [],
   "source": [
    "print(np.std(me_test))"
   ]
  },
  {
   "cell_type": "code",
   "execution_count": null,
   "metadata": {},
   "outputs": [],
   "source": []
  }
 ],
 "metadata": {
  "kernelspec": {
   "display_name": "Python 3",
   "language": "python",
   "name": "python3"
  },
  "language_info": {
   "codemirror_mode": {
    "name": "ipython",
    "version": 3
   },
   "file_extension": ".py",
   "mimetype": "text/x-python",
   "name": "python",
   "nbconvert_exporter": "python",
   "pygments_lexer": "ipython3",
   "version": "3.6.3"
  }
 },
 "nbformat": 4,
 "nbformat_minor": 2
}
