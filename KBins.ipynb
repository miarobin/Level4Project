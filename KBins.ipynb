{
 "cells": [
  {
   "cell_type": "code",
   "execution_count": 1,
   "metadata": {},
   "outputs": [],
   "source": [
    "import numpy as np\n",
    "import matplotlib.pyplot as pyplot\n",
    "\n",
    "from sklearn.pipeline import Pipeline\n",
    "from sklearn.preprocessing import StandardScaler, KBinsDiscretizer\n",
    "\n",
    "from sklearn.model_selection import train_test_split\n",
    "from sklearn.linear_model import LinearRegression\n",
    "from sklearn.metrics import mean_squared_error"
   ]
  },
  {
   "cell_type": "code",
   "execution_count": 2,
   "metadata": {},
   "outputs": [],
   "source": [
    "##Data Aquisition\n",
    "me_test = np.load('LO_3_0.01/MG_3jets_500000.npy', allow_pickle=True) #Matrix elements - test\n",
    "momentum_test_r = np.load('LO_3_0.01/PS3_0.01_500000.npy', allow_pickle=True, encoding='bytes')#4-momenta of inputs - test\n",
    "\n",
    "me_train = np.load('LO_3_0.01/MG_3jets_3000000.npy', allow_pickle=True) #Matrix elements - train\n",
    "momentum_train_r = np.load('LO_3_0.01/PS3_0.01_3000000.npy', allow_pickle=True, encoding='bytes') #4-momenta of input - train\n"
   ]
  },
  {
   "cell_type": "code",
   "execution_count": 3,
   "metadata": {},
   "outputs": [],
   "source": [
    "##Reformat Momentum\n",
    "momentum_train = np.array([np.ndarray.flatten(np.array(element)[3:, 2:]) for element in momentum_train_r])\n",
    "momentum_test = np.array([np.ndarray.flatten(np.array(element)[3:, 2:]) for element in momentum_test_r])\n",
    "\n",
    "##Data transformation\n",
    "pipeline = Pipeline([\n",
    "    ('scaler', StandardScaler()), #Rescale Data.\n",
    "    ('kbins', KBinsDiscretizer(n_bins=100)) #Checking convergence as bins.\n",
    "])\n",
    " \n",
    "momentum_train = pipeline.fit_transform(momentum_train) #Rescale on training set\n",
    "momentum_test = pipeline.transform(momentum_test) #Rescale on test set"
   ]
  },
  {
   "cell_type": "code",
   "execution_count": 4,
   "metadata": {},
   "outputs": [
    {
     "name": "stdout",
     "output_type": "stream",
     "text": [
      "0.2919447568832994\n"
     ]
    }
   ],
   "source": [
    "linreg = LinearRegression().fit(momentum_train, me_train)\n",
    "\n",
    "me_predict_lin = linreg.predict(momentum_test) #Prediction on test set\n",
    "lin_mse = mean_squared_error(me_test, me_predict_lin) \n",
    "print(np.sqrt(lin_mse))"
   ]
  },
  {
   "cell_type": "code",
   "execution_count": 5,
   "metadata": {},
   "outputs": [
    {
     "name": "stdout",
     "output_type": "stream",
     "text": [
      "0.31313240526417024\n"
     ]
    }
   ],
   "source": [
    "print(np.std(me_test))"
   ]
  },
  {
   "cell_type": "code",
   "execution_count": 6,
   "metadata": {},
   "outputs": [
    {
     "name": "stdout",
     "output_type": "stream",
     "text": [
      "0.05811934685242726\n"
     ]
    }
   ],
   "source": [
    "print(np.mean(me_train))"
   ]
  },
  {
   "cell_type": "code",
   "execution_count": null,
   "metadata": {},
   "outputs": [],
   "source": []
  }
 ],
 "metadata": {
  "kernelspec": {
   "display_name": "Python 3",
   "language": "python",
   "name": "python3"
  },
  "language_info": {
   "codemirror_mode": {
    "name": "ipython",
    "version": 3
   },
   "file_extension": ".py",
   "mimetype": "text/x-python",
   "name": "python",
   "nbconvert_exporter": "python",
   "pygments_lexer": "ipython3",
   "version": "3.6.3"
  }
 },
 "nbformat": 4,
 "nbformat_minor": 2
}
