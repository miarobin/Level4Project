{
 "cells": [
  {
   "cell_type": "code",
   "execution_count": 1,
   "metadata": {},
   "outputs": [],
   "source": [
    "import numpy as np\n",
    "from functools import reduce\n",
    "\n",
    "from sklearn.preprocessing import StandardScaler\n",
    "from sklearn.linear_model import LinearRegression\n",
    "\n",
    "import DataPreprocessing\n",
    "import SmartPolynomials\n",
    "import time\n",
    "import NLOPolynomials"
   ]
  },
  {
   "cell_type": "markdown",
   "metadata": {},
   "source": [
    "4 Jets"
   ]
  },
  {
   "cell_type": "code",
   "execution_count": 2,
   "metadata": {},
   "outputs": [],
   "source": [
    "combs = ['1,3','1,4','2,3','2,4','1,2,3','1,2,4','2,3,4','1,3,4','1,3','1,4','2,3','2,4','1,2,3','1,2,4','2,3,4','1,3,4']"
   ]
  },
  {
   "cell_type": "code",
   "execution_count": 3,
   "metadata": {},
   "outputs": [
    {
     "name": "stdout",
     "output_type": "stream",
     "text": [
      "Matrix Element Prep in 1.5104 seconds\n"
     ]
    }
   ],
   "source": [
    "##Obtain & process data NPY\n",
    "#me_train, mom_train_r = DataPreprocessing.npy('LO/uuuxux/me_1000000.npy', 'LO/uuuxux/mom_1000000.npy', combs, frac=0.01)\n",
    "me_test, mom_test = DataPreprocessing.npy('LO/uuuxux/me_500000.npy', 'LO/uuuxux/mom_500000.npy', combs, frac=1)"
   ]
  },
  {
   "cell_type": "code",
   "execution_count": 4,
   "metadata": {},
   "outputs": [],
   "source": [
    "features = np.load('PolyCoef_uuuxuxLO.npy')\n",
    "mean = np.load('mean_uuuxuxLO.npy')\n",
    "std = np.load('std_uuuxuxLO.npy')\n",
    "intercept = 4.904350663351414e+74"
   ]
  },
  {
   "cell_type": "code",
   "execution_count": 5,
   "metadata": {},
   "outputs": [
    {
     "name": "stdout",
     "output_type": "stream",
     "text": [
      "0\n",
      "50000\n",
      "100000\n",
      "150000\n",
      "200000\n",
      "250000\n",
      "300000\n",
      "350000\n",
      "400000\n",
      "450000\n",
      "Ran in 215.5826 seconds\n"
     ]
    }
   ],
   "source": [
    "tic = time.perf_counter()\n",
    "\n",
    "pred = np.zeros(len(me_test))\n",
    "for i in range(0, len(me_test), 1000):\n",
    "    if(i%50000==0): print(i)\n",
    "    point = mom_test[i:i+1000]\n",
    "    poly_test = SmartPolynomials.uuuxuxFeatures(point)\n",
    "    \n",
    "    poly_test = (poly_test - mean)/np.sqrt(std)\n",
    "    \n",
    "    temp = np.dot(poly_test, features) + intercept\n",
    "    pred[i:i+1000] = temp\n",
    "    \n",
    "toc = time.perf_counter()\n",
    "\n",
    "print(f\"Ran in {toc - tic:0.4f} seconds\")"
   ]
  },
  {
   "cell_type": "code",
   "execution_count": 7,
   "metadata": {},
   "outputs": [],
   "source": [
    "np.save('LO/uuuxux/pred_poly.npy', pred)"
   ]
  },
  {
   "cell_type": "code",
   "execution_count": 8,
   "metadata": {},
   "outputs": [
    {
     "name": "stdout",
     "output_type": "stream",
     "text": [
      "0.00016192638800066936\n"
     ]
    }
   ],
   "source": [
    "print(100*np.mean(np.abs((pred - me_test)/me_test)))"
   ]
  },
  {
   "cell_type": "markdown",
   "metadata": {},
   "source": [
    "3 Jet NLO Finite"
   ]
  },
  {
   "cell_type": "code",
   "execution_count": 2,
   "metadata": {},
   "outputs": [
    {
     "name": "stdout",
     "output_type": "stream",
     "text": [
      "Test multiplication ran in 0.2106 seconds\n"
     ]
    }
   ],
   "source": [
    "me_test, mom_test = DataPreprocessing.npy('NLO/uuxg/me_500000.npy', 'NLO/uuxg/mom_500000.npy', [], frac=1)\n",
    "me_test = me_test[:,1]\n",
    "\n",
    "tic = time.perf_counter()\n",
    "div_test = reduce(np.multiply, DataPreprocessing.mandel_creation(['1,3','2,3'], mom_test))\n",
    "temp_test = np.multiply(div_test, me_test)\n",
    "toc = time.perf_counter()\n",
    "print(f\"Test multiplication ran in {toc - tic:0.4f} seconds\")"
   ]
  },
  {
   "cell_type": "code",
   "execution_count": 3,
   "metadata": {},
   "outputs": [],
   "source": [
    "features = np.load('PolyCoef_uuxgfin.npy')\n",
    "intercept = 498.85107759232767"
   ]
  },
  {
   "cell_type": "code",
   "execution_count": 4,
   "metadata": {},
   "outputs": [
    {
     "name": "stdout",
     "output_type": "stream",
     "text": [
      "0\n",
      "50000\n",
      "100000\n",
      "150000\n",
      "200000\n",
      "250000\n",
      "300000\n",
      "350000\n",
      "400000\n",
      "450000\n",
      "Ran in 43.2983 seconds\n"
     ]
    }
   ],
   "source": [
    "tic = time.perf_counter()\n",
    "\n",
    "pred = np.zeros(len(me_test))\n",
    "for i in range(0, len(me_test), 5000):\n",
    "    if(i%50000==0): print(i)\n",
    "    point = mom_test[i:i+5000]\n",
    "    poly_test = NLOPolynomials.uuxgFinFeatures(point)\n",
    "    \n",
    "    temp = np.dot(poly_test, features) + intercept\n",
    "    pred[i:i+5000] = temp\n",
    "    \n",
    "toc = time.perf_counter()\n",
    "\n",
    "print(f\"Ran in {toc - tic:0.4f} seconds\")"
   ]
  },
  {
   "cell_type": "code",
   "execution_count": 5,
   "metadata": {},
   "outputs": [
    {
     "name": "stdout",
     "output_type": "stream",
     "text": [
      "0.0011201583728920911\n"
     ]
    }
   ],
   "source": [
    "print(100*np.mean(np.abs((pred - temp_test)/temp_test)))"
   ]
  },
  {
   "cell_type": "code",
   "execution_count": 6,
   "metadata": {},
   "outputs": [],
   "source": [
    "np.save('NLO/uuxg/pred_poly_fin.npy', pred)"
   ]
  },
  {
   "cell_type": "code",
   "execution_count": null,
   "metadata": {},
   "outputs": [],
   "source": []
  }
 ],
 "metadata": {
  "kernelspec": {
   "display_name": "Python 3",
   "language": "python",
   "name": "python3"
  },
  "language_info": {
   "codemirror_mode": {
    "name": "ipython",
    "version": 3
   },
   "file_extension": ".py",
   "mimetype": "text/x-python",
   "name": "python",
   "nbconvert_exporter": "python",
   "pygments_lexer": "ipython3",
   "version": "3.6.3"
  }
 },
 "nbformat": 4,
 "nbformat_minor": 2
}
