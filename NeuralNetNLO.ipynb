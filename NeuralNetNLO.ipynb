{
 "cells": [
  {
   "cell_type": "code",
   "execution_count": 1,
   "metadata": {},
   "outputs": [
    {
     "name": "stderr",
     "output_type": "stream",
     "text": [
      "Using TensorFlow backend.\n"
     ]
    }
   ],
   "source": [
    "import tensorflow as tf\n",
    "from tensorflow import keras\n",
    "\n",
    "from sklearn.preprocessing import StandardScaler\n",
    "from sklearn.model_selection import RandomizedSearchCV\n",
    "from keras.wrappers.scikit_learn import KerasRegressor\n",
    "from sklearn.metrics import mean_squared_error\n",
    "from sklearn.preprocessing import PolynomialFeatures\n",
    "from functools import reduce\n",
    "\n",
    "import numpy as np\n",
    "import DataPreprocessing\n",
    "import SmartPolynomials"
   ]
  },
  {
   "cell_type": "code",
   "execution_count": 2,
   "metadata": {},
   "outputs": [],
   "source": [
    "combs = ['1,3','2,3']"
   ]
  },
  {
   "cell_type": "code",
   "execution_count": 3,
   "metadata": {},
   "outputs": [],
   "source": [
    "##Obtain & process data NPY\n",
    "me_train, mom_train = DataPreprocessing.npy('NLO/MG_uuxg/me_1000000.npy', 'NLO/MG_uuxg/mom_1000000.npy', [], frac=1)\n",
    "me_test, mom_test = DataPreprocessing.npy('NLO/MG_uuxg/me_100000.npy', 'NLO/MG_uuxg/mom_100000.npy', [], frac=0.1)"
   ]
  },
  {
   "cell_type": "code",
   "execution_count": 4,
   "metadata": {},
   "outputs": [],
   "source": [
    "def build_model(components=400):\n",
    "  model = keras.Sequential([\n",
    "    keras.layers.Dense(components, activation='relu', input_shape=[12,]), #could try swish??  \n",
    "    \n",
    "    keras.layers.Dense(components, activation='relu'),\n",
    "    keras.layers.Dense(components, activation='relu'),\n",
    "    keras.layers.Dense(components, activation='relu'),   \n",
    "    keras.layers.Dense(components, activation='relu'),\n",
    "      \n",
    "    keras.layers.Dense(1) \n",
    "  ])\n",
    "\n",
    "  sgd=tf.keras.optimizers.SGD(0.00000000000000005, momentum=0.95, nesterov=True)\n",
    "  model.compile(loss='mse', \n",
    "                optimizer=sgd,\n",
    "                metrics=['mse'])\n",
    "  return model"
   ]
  },
  {
   "cell_type": "code",
   "execution_count": 5,
   "metadata": {},
   "outputs": [],
   "source": [
    "def calc_RMSE(mom_train, mom_test, me_train, me_test, var_name):\n",
    "    #if var_name == 'Finite':\n",
    "    #    mom_train = NLOPolynomialFeatures.finitePolynomialFeatures(mandel_str, mom_train, 1000000)\n",
    "    #    mom_test = NLOPolynomialFeatures.finitePolynomialFeatures(mandel_str, mom_test, 1000000)\n",
    "\n",
    "    #if var_name == 'Sing':\n",
    "    #    mom_train = NLOPolynomialFeatures.r1PolynomialFeatures(mandel_str, mom_train,1000000)\n",
    "    #    mom_test = NLOPolynomialFeatures.r1PolynomialFeatures(mandel_str, mom_test,1000000)\n",
    "        \n",
    "    \n",
    "    mom_train = np.array([np.ndarray.flatten(np.array(element)) for element in mom_train])\n",
    "    mom_test = np.array([np.ndarray.flatten(np.array(element)) for element in mom_test])\n",
    "\n",
    "    #if var_name == 'Born' or var_name == 'Doub': \n",
    "    #    poly_features = PolynomialFeatures(degree=2)\n",
    "    #    mom_train = poly_features.fit_transform(mom_train)\n",
    "    #    mom_test = poly_features.transform(mom_test)\n",
    "        \n",
    "    model = build_model()\n",
    "    scaler = StandardScaler()\n",
    "    mom_train = scaler.fit_transform(mom_train)\n",
    "    mom_test = scaler.transform(mom_test)\n",
    "\n",
    "    model.fit(mom_train,me_train, batch_size=64, epochs=20, shuffle=True)\n",
    "    pred = model.predict(mom_test,verbose=0) #Prediction on test set\n",
    "\n",
    "    \n",
    "    mse_test = mean_squared_error(me_test, pred) #Mean squared error on test set\n",
    "    mse_train = mean_squared_error(me_train, model.predict(mom_train)) #Mean squared error on train set\n",
    "    \n",
    "    print('{} RMSE Test: {}'.format(var_name, np.sqrt(mse_test)))\n",
    "    print('{} RMSE Train: {}'.format(var_name, np.sqrt(mse_train)))\n",
    "\n",
    "    perc = np.mean(np.abs(100*np.divide(np.abs(me_test - pred), me_test)))\n",
    "    print('{} Percentage Error: {}'.format(var_name, perc))"
   ]
  },
  {
   "cell_type": "code",
   "execution_count": 6,
   "metadata": {},
   "outputs": [
    {
     "name": "stdout",
     "output_type": "stream",
     "text": [
      "WARNING:tensorflow:From /opt/conda/lib/python3.6/site-packages/tensorflow/python/keras/_impl/keras/backend.py:1557: calling reduce_mean (from tensorflow.python.ops.math_ops) with keep_dims is deprecated and will be removed in a future version.\n",
      "Instructions for updating:\n",
      "keep_dims is deprecated, use keepdims instead\n",
      "Epoch 1/20\n",
      "1000000/1000000 [==============================]1000000/1000000 [==============================] - 130s 130us/step - loss: 540786610389068939264.0000 - mean_squared_error: 540786610389068939264.0000\n",
      "\n",
      "Epoch 2/20\n",
      "1000000/1000000 [==============================]1000000/1000000 [==============================] - 133s 133us/step - loss: 540786610949109841920.0000 - mean_squared_error: 540786610949109841920.0000\n",
      "\n",
      "Epoch 3/20\n",
      "1000000/1000000 [==============================]1000000/1000000 [==============================] - 132s 132us/step - loss: 540786607641616515072.0000 - mean_squared_error: 540786607641616515072.0000\n",
      "\n",
      "Epoch 4/20\n",
      "1000000/1000000 [==============================]1000000/1000000 [==============================] - 134s 134us/step - loss: 540786610656762462208.0000 - mean_squared_error: 540786610656762462208.0000\n",
      "\n",
      "Epoch 5/20\n",
      "1000000/1000000 [==============================]1000000/1000000 [==============================] - 131s 131us/step - loss: 540786611226665025536.0000 - mean_squared_error: 540786611226665025536.0000\n",
      "\n",
      "Epoch 7/20\n",
      " 416192/1000000 [===========>..................] 416192/1000000 [===========>..................] - ETA: 1:16 - loss: 1084146676911471722496.0000 - mean_squared_error: 1084146676911471722496.0000"
     ]
    },
    {
     "name": "stderr",
     "output_type": "stream",
     "text": [
      "IOPub message rate exceeded.\n",
      "The notebook server will temporarily stop sending output\n",
      "to the client in order to avoid crashing it.\n",
      "To change this limit, set the config variable\n",
      "`--NotebookApp.iopub_msg_rate_limit`.\n",
      "\n",
      "Current values:\n",
      "NotebookApp.iopub_msg_rate_limit=1000.0 (msgs/sec)\n",
      "NotebookApp.rate_limit_window=3.0 (secs)\n",
      "\n"
     ]
    },
    {
     "name": "stdout",
     "output_type": "stream",
     "text": [
      "1000000/1000000 [==============================]1000000/1000000 [==============================] - 130s 130us/step - loss: 540786610664405860352.0000 - mean_squared_error: 540786610664405860352.0000\n",
      "\n",
      "Epoch 10/20\n",
      "1000000/1000000 [==============================]1000000/1000000 [==============================] - 130s 130us/step - loss: 540786609520921411584.0000 - mean_squared_error: 540786609520921411584.0000\n",
      "\n",
      "Epoch 11/20\n",
      "  47424/1000000 [>.............................]  47424/1000000 [>.............................] - ETA: 2:03 - loss: 1797632818466862848.0000 - mean_squared_error: 1797632818466862848.0000"
     ]
    },
    {
     "name": "stderr",
     "output_type": "stream",
     "text": [
      "IOPub message rate exceeded.\n",
      "The notebook server will temporarily stop sending output\n",
      "to the client in order to avoid crashing it.\n",
      "To change this limit, set the config variable\n",
      "`--NotebookApp.iopub_msg_rate_limit`.\n",
      "\n",
      "Current values:\n",
      "NotebookApp.iopub_msg_rate_limit=1000.0 (msgs/sec)\n",
      "NotebookApp.rate_limit_window=3.0 (secs)\n",
      "\n"
     ]
    },
    {
     "name": "stdout",
     "output_type": "stream",
     "text": [
      "1000000/1000000 [==============================]1000000/1000000 [==============================] - 132s 132us/step - loss: 540786609494765797376.0000 - mean_squared_error: 540786609494765797376.0000\n",
      "\n",
      "Epoch 14/20\n",
      " 720704/1000000 [====================>.........] 720704/1000000 [====================>.........] - ETA: 36s - loss: 693869632245625913344.0000 - mean_squared_error: 693869632245625913344.0000"
     ]
    },
    {
     "name": "stderr",
     "output_type": "stream",
     "text": [
      "IOPub message rate exceeded.\n",
      "The notebook server will temporarily stop sending output\n",
      "to the client in order to avoid crashing it.\n",
      "To change this limit, set the config variable\n",
      "`--NotebookApp.iopub_msg_rate_limit`.\n",
      "\n",
      "Current values:\n",
      "NotebookApp.iopub_msg_rate_limit=1000.0 (msgs/sec)\n",
      "NotebookApp.rate_limit_window=3.0 (secs)\n",
      "\n"
     ]
    },
    {
     "name": "stdout",
     "output_type": "stream",
     "text": [
      "1000000/1000000 [==============================]1000000/1000000 [==============================] - 133s 133us/step - loss: 540786614177498071040.0000 - mean_squared_error: 540786614177498071040.0000\n",
      "\n",
      "Epoch 18/20\n",
      " 352640/1000000 [=========>....................] 352640/1000000 [=========>....................] - ETA: 1:22 - loss: 79085350618641858560.0000 - mean_squared_error: 79085350618641858560.0000"
     ]
    },
    {
     "name": "stderr",
     "output_type": "stream",
     "text": [
      "IOPub message rate exceeded.\n",
      "The notebook server will temporarily stop sending output\n",
      "to the client in order to avoid crashing it.\n",
      "To change this limit, set the config variable\n",
      "`--NotebookApp.iopub_msg_rate_limit`.\n",
      "\n",
      "Current values:\n",
      "NotebookApp.iopub_msg_rate_limit=1000.0 (msgs/sec)\n",
      "NotebookApp.rate_limit_window=3.0 (secs)\n",
      "\n"
     ]
    },
    {
     "name": "stdout",
     "output_type": "stream",
     "text": [
      "1000000/1000000 [==============================]1000000/1000000 [==============================] - 131s 131us/step - loss: 540786610913732853760.0000 - mean_squared_error: 540786610913732853760.0000\n",
      "\n",
      "Real RMSE Test: 369674714.2519558\n",
      "Real RMSE Train: 23254819063.444725\n",
      "Real Percentage Error: 100.00122565815643\n"
     ]
    }
   ],
   "source": [
    "for i, name in enumerate(['Real']):\n",
    "    i += 1\n",
    "    div_train = reduce(np.multiply, DataPreprocessing.mandel_creation(['1,3','2,3'], mom_train))\n",
    "    div_test = reduce(np.multiply, DataPreprocessing.mandel_creation(['1,3','2,3'], mom_test))\n",
    "    \n",
    "    temp_train = np.multiply(div_train, me_train[:,i])\n",
    "    temp_test = np.multiply(div_test, me_test[:,i])\n",
    "    \n",
    "    if i == 1 or i == 2:\n",
    "        div_train = reduce(np.multiply, 1000000-DataPreprocessing.mandel_creation(['1,3','2,3'], mom_train))\n",
    "        div_test = reduce(np.multiply, 1000000-DataPreprocessing.mandel_creation(['1,3','2,3'], mom_test))\n",
    "\n",
    "        temp_train = np.multiply(div_train, me_train[:,i])\n",
    "        temp_test = np.multiply(div_test, me_test[:,i])\n",
    "        \n",
    "    calc_RMSE(mom_train, mom_test, temp_train, temp_test, name)"
   ]
  },
  {
   "cell_type": "code",
   "execution_count": 21,
   "metadata": {},
   "outputs": [
    {
     "name": "stdout",
     "output_type": "stream",
     "text": [
      "1.176309223796073e-06\n"
     ]
    }
   ],
   "source": []
  },
  {
   "cell_type": "code",
   "execution_count": null,
   "metadata": {},
   "outputs": [],
   "source": []
  }
 ],
 "metadata": {
  "kernelspec": {
   "display_name": "Python 3",
   "language": "python",
   "name": "python3"
  },
  "language_info": {
   "codemirror_mode": {
    "name": "ipython",
    "version": 3
   },
   "file_extension": ".py",
   "mimetype": "text/x-python",
   "name": "python",
   "nbconvert_exporter": "python",
   "pygments_lexer": "ipython3",
   "version": "3.6.3"
  }
 },
 "nbformat": 4,
 "nbformat_minor": 2
}
