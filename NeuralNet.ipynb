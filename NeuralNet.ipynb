{
 "cells": [
  {
   "cell_type": "code",
   "execution_count": 1,
   "metadata": {},
   "outputs": [
    {
     "name": "stderr",
     "output_type": "stream",
     "text": [
      "Using TensorFlow backend.\n"
     ]
    }
   ],
   "source": [
    "import tensorflow as tf\n",
    "from tensorflow import keras\n",
    "\n",
    "from sklearn.preprocessing import StandardScaler\n",
    "from sklearn.model_selection import RandomizedSearchCV\n",
    "from keras.wrappers.scikit_learn import KerasRegressor\n",
    "\n",
    "import numpy as np"
   ]
  },
  {
   "cell_type": "code",
   "execution_count": 2,
   "metadata": {},
   "outputs": [],
   "source": [
    "##Data Aquisition\n",
    "me_test = np.load('MG_3jets_500000.npy', allow_pickle=True) #Matrix elements - test\n",
    "momentum_test_r = np.load('LO_3_0.01/PS3_0.01_500000.npy', allow_pickle=True, encoding='bytes')#4-momenta of inputs - test\n",
    "\n",
    "me_train = np.load('MG_3jets_3000000.npy', allow_pickle=True) #Matrix elements - train\n",
    "momentum_train_r = np.load('LO_3_0.01/PS3_0.01_3000000.npy', allow_pickle=True, encoding='bytes') #4-momenta of input - train"
   ]
  },
  {
   "cell_type": "code",
   "execution_count": 3,
   "metadata": {},
   "outputs": [],
   "source": [
    "##Reformat Momentum\n",
    "momentum_train = np.array([np.ndarray.flatten(np.array(element)[3:, 2:]) for element in momentum_train_r])\n",
    "momentum_test = np.array([np.ndarray.flatten(np.array(element)[3:, 2:]) for element in momentum_test_r])\n",
    "##Rescale\n",
    "scaler = StandardScaler()\n",
    "\n",
    "momentum_train = scaler.fit_transform(momentum_train) #Rescale on training set\n",
    "momentum_test = scaler.transform(momentum_test) #Rescale on test set\n",
    "\n",
    "me_train = me_train*10**5\n",
    "me_test = me_test*10**5"
   ]
  },
  {
   "cell_type": "code",
   "execution_count": 4,
   "metadata": {},
   "outputs": [],
   "source": [
    "# Random Model from Tensorflow Website\n",
    "def build_model(dropout, hidden_layers, optimizer='RMSprop'):\n",
    "    \n",
    "  model = keras.Sequential([\n",
    "    keras.layers.Dense(10, activation='relu', input_shape=[4]), #could try swish??\n",
    "    keras.layers.BatchNormalization(),  \n",
    "    keras.layers.Dropout(dropout),\n",
    "      \n",
    "    *np.repeat([keras.layers.Dense(10, activation='relu'), \n",
    "    keras.layers.BatchNormalization(),\n",
    "    keras.layers.Dropout(dropout)], hidden_layers),\n",
    "    \n",
    "    keras.layers.Dense(10, activation='relu'), \n",
    "    keras.layers.BatchNormalization(),\n",
    "    keras.layers.Dropout(dropout),\n",
    "    \n",
    "    keras.layers.Dense(1) \n",
    "  ])\n",
    "\n",
    "  model.compile(loss='mse', #gans?\n",
    "                optimizer=optimizer,\n",
    "                metrics=['mse'])\n",
    "  return model"
   ]
  },
  {
   "cell_type": "code",
   "execution_count": null,
   "metadata": {},
   "outputs": [],
   "source": [
    "model = KerasRegressor(build_fn=build_model, epochs=1)\n",
    "\n",
    "dropout = [0.1, 0.2, 0.3]\n",
    "hidden_layers = [5, 7, 9]\n",
    "param_grid = dict(dropout=dropout, hidden_layers=hidden_layers)\n",
    "\n",
    "grid = RandomizedSearchCV(model, param_grid, cv=3, scoring='neg_mean_absolute_error')\n",
    "grid_result = grid.fit(momentum_train[:10000], me_train[:10000])"
   ]
  },
  {
   "cell_type": "code",
   "execution_count": null,
   "metadata": {},
   "outputs": [],
   "source": [
    "# summarize results\n",
    "print(\"Best: %f using %s\" % (grid_result.best_score_, grid_result.best_params_))\n",
    "means = grid_result.cv_results_['mean_test_score']\n",
    "stds = grid_result.cv_results_['std_test_score']\n",
    "params = grid_result.cv_results_['params']\n",
    "for mean, stdev, param in zip(means, stds, params):\n",
    "    print(\"%f (%f) with: %r\" % (mean, stdev, param))"
   ]
  },
  {
   "cell_type": "code",
   "execution_count": 5,
   "metadata": {},
   "outputs": [
    {
     "name": "stdout",
     "output_type": "stream",
     "text": [
      "WARNING:tensorflow:From /opt/conda/lib/python3.6/site-packages/tensorflow/python/keras/_impl/keras/backend.py:1557: calling reduce_mean (from tensorflow.python.ops.math_ops) with keep_dims is deprecated and will be removed in a future version.\n",
      "Instructions for updating:\n",
      "keep_dims is deprecated, use keepdims instead\n",
      "Epoch 1/1\n",
      "3000000/3000000 [==============================]3000000/3000000 [==============================] - 214s 71us/step - loss: 9.7719 - mean_squared_error: 9.7719\n",
      "\n"
     ]
    },
    {
     "data": {
      "text/plain": [
       "<tensorflow.python.keras._impl.keras.callbacks.History at 0x7f5a5cf98588>"
      ]
     },
     "execution_count": 5,
     "metadata": {},
     "output_type": "execute_result"
    }
   ],
   "source": [
    "#model = build_model(grid_result.best_params_['dropout'],grid_result.best_params_['hidden_layers'])\n",
    "model = build_model(0.5, 2)\n",
    "model.fit(momentum_train, me_train, epochs=1)"
   ]
  },
  {
   "cell_type": "code",
   "execution_count": 6,
   "metadata": {},
   "outputs": [
    {
     "name": "stdout",
     "output_type": "stream",
     "text": [
      "500000/500000 [==============================]500000/500000 [==============================] - 13s 25us/step\n",
      "\n"
     ]
    },
    {
     "data": {
      "text/plain": [
       "[8.787978788966537, 8.787978788966537]"
      ]
     },
     "execution_count": 6,
     "metadata": {},
     "output_type": "execute_result"
    }
   ],
   "source": [
    "model.evaluate(momentum_test, me_test, batch_size=32, verbose=1)"
   ]
  },
  {
   "cell_type": "code",
   "execution_count": 7,
   "metadata": {},
   "outputs": [
    {
     "name": "stdout",
     "output_type": "stream",
     "text": [
      "0.5811934685242724\n",
      "3.185513571309742\n"
     ]
    }
   ],
   "source": [
    "print(np.mean(me_train))\n",
    "print(np.std(me_train))"
   ]
  },
  {
   "cell_type": "code",
   "execution_count": null,
   "metadata": {},
   "outputs": [],
   "source": [
    "def mean_absolute_percentage_error(y_true, y_pred): \n",
    "    return np.mean(np.abs((y_true - y_pred) / y_true)) * 100"
   ]
  },
  {
   "cell_type": "code",
   "execution_count": null,
   "metadata": {},
   "outputs": [],
   "source": [
    "print(mean_absolute_percentage_error(me_test, model.predict(momentum_test)))"
   ]
  },
  {
   "cell_type": "code",
   "execution_count": 9,
   "metadata": {},
   "outputs": [
    {
     "name": "stdout",
     "output_type": "stream",
     "text": [
      "[[0.42182222]\n",
      " [0.363656  ]\n",
      " [0.13414937]\n",
      " [0.40451664]\n",
      " [0.553161  ]\n",
      " [0.19603121]\n",
      " [0.2631011 ]\n",
      " [0.12869662]\n",
      " [0.25812036]\n",
      " [0.39833415]]\n",
      "[0.06036061 0.06346955 0.14260086 0.0690008  5.57815624 0.02971246\n",
      " 0.07641449 0.09079059 0.08664685 0.01896705]\n"
     ]
    }
   ],
   "source": [
    "print(model.predict(momentum_test[:10]))\n",
    "print(me_test[:10])"
   ]
  },
  {
   "cell_type": "code",
   "execution_count": null,
   "metadata": {},
   "outputs": [],
   "source": []
  }
 ],
 "metadata": {
  "kernelspec": {
   "display_name": "Python 3",
   "language": "python",
   "name": "python3"
  },
  "language_info": {
   "codemirror_mode": {
    "name": "ipython",
    "version": 3
   },
   "file_extension": ".py",
   "mimetype": "text/x-python",
   "name": "python",
   "nbconvert_exporter": "python",
   "pygments_lexer": "ipython3",
   "version": "3.6.3"
  }
 },
 "nbformat": 4,
 "nbformat_minor": 2
}
