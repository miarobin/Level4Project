{
 "cells": [
  {
   "cell_type": "code",
   "execution_count": 1,
   "metadata": {},
   "outputs": [
    {
     "name": "stderr",
     "output_type": "stream",
     "text": [
      "Using TensorFlow backend.\n"
     ]
    }
   ],
   "source": [
    "import tensorflow as tf\n",
    "from tensorflow import keras\n",
    "\n",
    "from sklearn.preprocessing import StandardScaler\n",
    "from sklearn.model_selection import RandomizedSearchCV\n",
    "from keras.wrappers.scikit_learn import KerasRegressor\n",
    "from sklearn.metrics import mean_squared_error\n",
    "\n",
    "import numpy as np\n",
    "import DataPreprocessing\n",
    "import SmartPolynomials"
   ]
  },
  {
   "cell_type": "code",
   "execution_count": 2,
   "metadata": {},
   "outputs": [],
   "source": [
    "combs = ['1,3','1,4','2,3','2,4','1,3','1,4','2,3','2,4','1,2,3','1,2,4','1,3,4','2,3,4']"
   ]
  },
  {
   "cell_type": "code",
   "execution_count": 46,
   "metadata": {},
   "outputs": [],
   "source": [
    "#me_train, mom_train = DataPreprocessing.npy('LO/MG_uuuxux/me_4jet_1000000', 'LO/MG_uuuxux//mom_4jet_1000000', combs, frac=1)\n",
    "#me_test, mom_test = DataPreprocessing.npy('LO/MG_uuuxux/me_4jet_100000', 'LO/MG_uuuxux/mom_4jet_100000', combs, frac=0.1)\n",
    "me_train, mom_train = DataPreprocessing.npy('LO/MG_uuxgg/JOE_me_3000000.npy', 'LO/MG_uuxgg/JOE_mom_3000000.npy', combs, frac=1)\n",
    "me_test, mom_test = DataPreprocessing.npy('LO/MG_uuxgg/JOE_me_500000.npy', 'LO/MG_uuxgg/JOE_mom_500000.npy', combs, frac=0.1)\n",
    "me_train=me_train/10.0**50\n",
    "me_test=me_test/10.0**50"
   ]
  },
  {
   "cell_type": "code",
   "execution_count": 7,
   "metadata": {},
   "outputs": [
    {
     "name": "stdout",
     "output_type": "stream",
     "text": [
      "[1.87683058e+03 5.62481798e+02 7.87978876e+02 ... 8.87116146e-01\n",
      " 2.21967918e+00 3.45411257e-02]\n"
     ]
    }
   ],
   "source": [
    "print(me_train)"
   ]
  },
  {
   "cell_type": "code",
   "execution_count": 8,
   "metadata": {},
   "outputs": [
    {
     "name": "stdout",
     "output_type": "stream",
     "text": [
      "460.014608567249\n"
     ]
    }
   ],
   "source": [
    "print(np.std(me_test))"
   ]
  },
  {
   "cell_type": "code",
   "execution_count": 71,
   "metadata": {},
   "outputs": [],
   "source": [
    "# Random Model from Tensorflow Website\n",
    "def build_model(components=300):\n",
    "  model = keras.Sequential([\n",
    "    keras.layers.Dense(components, activation='elu', input_shape=[12,]), #could try swish??      \n",
    "    keras.layers.Dense(components, activation='elu'),\n",
    "    keras.layers.Dense(components, activation='elu'),\n",
    "    keras.layers.Dense(components, activation='elu'),\n",
    "      \n",
    "    keras.layers.Dense(1, activation='linear') \n",
    "  ])\n",
    "\n",
    "  sgd=tf.keras.optimizers.SGD(0.000000000005, momentum=0.995, nesterov=True)\n",
    "  model.compile(loss='mse', \n",
    "                optimizer=sgd,\n",
    "                metrics=['mse'])\n",
    "  return model"
   ]
  },
  {
   "cell_type": "code",
   "execution_count": 72,
   "metadata": {},
   "outputs": [
    {
     "name": "stdout",
     "output_type": "stream",
     "text": [
      "Epoch 1/100\n",
      "1000000/1000000 [==============================]1000000/1000000 [==============================] - 53s 53us/step - loss: 8605376230.5510 - mean_squared_error: 8605376230.5510\n",
      "\n",
      "Epoch 2/100\n",
      "1000000/1000000 [==============================]1000000/1000000 [==============================] - 52s 52us/step - loss: 1474934624.1811 - mean_squared_error: 1474934624.1811\n",
      "\n",
      "Epoch 3/100\n",
      "1000000/1000000 [==============================]1000000/1000000 [==============================] - 53s 53us/step - loss: 357477762.5550 - mean_squared_error: 357477762.5550\n",
      "\n",
      "Epoch 4/100\n",
      "1000000/1000000 [==============================]1000000/1000000 [==============================] - 53s 53us/step - loss: 272971050.2932 - mean_squared_error: 272971050.2932\n",
      "\n",
      "Epoch 5/100\n",
      "1000000/1000000 [==============================]1000000/1000000 [==============================] - 52s 52us/step - loss: 202631632.4556 - mean_squared_error: 202631632.4556\n",
      "\n",
      "Epoch 6/100\n",
      "1000000/1000000 [==============================]1000000/1000000 [==============================] - 52s 52us/step - loss: 137852020.3293 - mean_squared_error: 137852020.3293\n",
      "\n",
      "Epoch 7/100\n",
      "1000000/1000000 [==============================]1000000/1000000 [==============================] - 52s 52us/step - loss: 122475134.2522 - mean_squared_error: 122475134.2522\n",
      "\n",
      "Epoch 9/100\n",
      "1000000/1000000 [==============================]1000000/1000000 [==============================] - 52s 52us/step - loss: 96792780.6712 - mean_squared_error: 96792780.6712\n",
      "\n",
      "Epoch 10/100\n",
      "1000000/1000000 [==============================]1000000/1000000 [==============================] - 52s 52us/step - loss: 96525997.7529 - mean_squared_error: 96525997.7529\n",
      "\n",
      "Epoch 11/100\n",
      " 476416/1000000 [=============>................] 476416/1000000 [=============>................] - ETA: 27s - loss: 100163874.4494 - mean_squared_error: 100163874.4494"
     ]
    },
    {
     "name": "stderr",
     "output_type": "stream",
     "text": [
      "IOPub message rate exceeded.\n",
      "The notebook server will temporarily stop sending output\n",
      "to the client in order to avoid crashing it.\n",
      "To change this limit, set the config variable\n",
      "`--NotebookApp.iopub_msg_rate_limit`.\n",
      "\n",
      "Current values:\n",
      "NotebookApp.iopub_msg_rate_limit=1000.0 (msgs/sec)\n",
      "NotebookApp.rate_limit_window=3.0 (secs)\n",
      "\n"
     ]
    },
    {
     "name": "stdout",
     "output_type": "stream",
     "text": [
      "1000000/1000000 [==============================]1000000/1000000 [==============================] - 52s 52us/step - loss: 62827392.2843 - mean_squared_error: 62827392.2843\n",
      "\n",
      "Epoch 16/100\n",
      "1000000/1000000 [==============================]1000000/1000000 [==============================] - 52s 52us/step - loss: 66778379.7331 - mean_squared_error: 66778379.7331\n",
      "\n",
      "Epoch 17/100\n",
      "1000000/1000000 [==============================]1000000/1000000 [==============================] - 52s 52us/step - loss: 58394475.3926 - mean_squared_error: 58394475.3926\n",
      "\n",
      "Epoch 18/100\n",
      "  47424/1000000 [>.............................]  47424/1000000 [>.............................] - ETA: 49s - loss: 40302898.2716 - mean_squared_error: 40302898.2716"
     ]
    },
    {
     "name": "stderr",
     "output_type": "stream",
     "text": [
      "IOPub message rate exceeded.\n",
      "The notebook server will temporarily stop sending output\n",
      "to the client in order to avoid crashing it.\n",
      "To change this limit, set the config variable\n",
      "`--NotebookApp.iopub_msg_rate_limit`.\n",
      "\n",
      "Current values:\n",
      "NotebookApp.iopub_msg_rate_limit=1000.0 (msgs/sec)\n",
      "NotebookApp.rate_limit_window=3.0 (secs)\n",
      "\n"
     ]
    },
    {
     "name": "stdout",
     "output_type": "stream",
     "text": [
      "1000000/1000000 [==============================]1000000/1000000 [==============================] - 53s 53us/step - loss: 48047212.2449 - mean_squared_error: 48047212.2449\n",
      "\n",
      "Epoch 22/100\n",
      "1000000/1000000 [==============================]1000000/1000000 [==============================] - 53s 53us/step - loss: 43201495.4997 - mean_squared_error: 43201495.4997\n",
      "\n",
      "Epoch 23/100\n",
      "1000000/1000000 [==============================]1000000/1000000 [==============================] - 53s 53us/step - loss: 40284086.8214 - mean_squared_error: 40284086.8214\n",
      "\n",
      "Epoch 24/100\n",
      " 594368/1000000 [================>.............] 594368/1000000 [================>.............] - ETA: 21s - loss: 39341872.5244 - mean_squared_error: 39341872.5244"
     ]
    },
    {
     "name": "stderr",
     "output_type": "stream",
     "text": [
      "IOPub message rate exceeded.\n",
      "The notebook server will temporarily stop sending output\n",
      "to the client in order to avoid crashing it.\n",
      "To change this limit, set the config variable\n",
      "`--NotebookApp.iopub_msg_rate_limit`.\n",
      "\n",
      "Current values:\n",
      "NotebookApp.iopub_msg_rate_limit=1000.0 (msgs/sec)\n",
      "NotebookApp.rate_limit_window=3.0 (secs)\n",
      "\n"
     ]
    },
    {
     "name": "stdout",
     "output_type": "stream",
     "text": [
      "1000000/1000000 [==============================]1000000/1000000 [==============================] - 53s 53us/step - loss: 36312359.0966 - mean_squared_error: 36312359.0966\n",
      "\n",
      "Epoch 29/100\n",
      "1000000/1000000 [==============================]1000000/1000000 [==============================] - 52s 52us/step - loss: 32363628.7122 - mean_squared_error: 32363628.7122\n",
      "\n",
      "Epoch 30/100\n",
      "1000000/1000000 [==============================]1000000/1000000 [==============================] - 53s 53us/step - loss: 37240799.4963 - mean_squared_error: 37240799.4963\n",
      "\n",
      "Epoch 31/100\n",
      " 160448/1000000 [===>..........................] 160448/1000000 [===>..........................] - ETA: 45s - loss: 38292480.0822 - mean_squared_error: 38292480.0822"
     ]
    },
    {
     "name": "stderr",
     "output_type": "stream",
     "text": [
      "IOPub message rate exceeded.\n",
      "The notebook server will temporarily stop sending output\n",
      "to the client in order to avoid crashing it.\n",
      "To change this limit, set the config variable\n",
      "`--NotebookApp.iopub_msg_rate_limit`.\n",
      "\n",
      "Current values:\n",
      "NotebookApp.iopub_msg_rate_limit=1000.0 (msgs/sec)\n",
      "NotebookApp.rate_limit_window=3.0 (secs)\n",
      "\n"
     ]
    },
    {
     "name": "stdout",
     "output_type": "stream",
     "text": [
      "1000000/1000000 [==============================]1000000/1000000 [==============================] - 53s 53us/step - loss: 30354404.0956 - mean_squared_error: 30354404.0956\n",
      "\n",
      "Epoch 36/100\n",
      "1000000/1000000 [==============================]1000000/1000000 [==============================] - 52s 52us/step - loss: 27519606.2846 - mean_squared_error: 27519606.2846\n",
      "\n",
      "Epoch 37/100\n",
      "1000000/1000000 [==============================]1000000/1000000 [==============================] - 52s 52us/step - loss: 27992127.9171 - mean_squared_error: 27992127.9171\n",
      "\n",
      "Epoch 38/100\n",
      " 526528/1000000 [==============>...............] 526528/1000000 [==============>...............] - ETA: 24s - loss: 26036213.9936 - mean_squared_error: 26036213.9936"
     ]
    },
    {
     "name": "stderr",
     "output_type": "stream",
     "text": [
      "IOPub message rate exceeded.\n",
      "The notebook server will temporarily stop sending output\n",
      "to the client in order to avoid crashing it.\n",
      "To change this limit, set the config variable\n",
      "`--NotebookApp.iopub_msg_rate_limit`.\n",
      "\n",
      "Current values:\n",
      "NotebookApp.iopub_msg_rate_limit=1000.0 (msgs/sec)\n",
      "NotebookApp.rate_limit_window=3.0 (secs)\n",
      "\n"
     ]
    },
    {
     "name": "stdout",
     "output_type": "stream",
     "text": [
      "1000000/1000000 [==============================]1000000/1000000 [==============================] - 52s 52us/step - loss: 25845233.7056 - mean_squared_error: 25845233.7056\n",
      "\n",
      "Epoch 43/100\n",
      "1000000/1000000 [==============================]1000000/1000000 [==============================] - 53s 53us/step - loss: 23431123.1257 - mean_squared_error: 23431123.1257\n",
      "\n",
      "Epoch 44/100\n",
      "1000000/1000000 [==============================]1000000/1000000 [==============================] - 53s 53us/step - loss: 23634414.5508 - mean_squared_error: 23634414.5508\n",
      "\n",
      "Epoch 45/100\n",
      " 854528/1000000 [========================>.....] 854528/1000000 [========================>.....] - ETA: 7s - loss: 22866088.8793 - mean_squared_error: 22866088.8793"
     ]
    },
    {
     "name": "stderr",
     "output_type": "stream",
     "text": [
      "IOPub message rate exceeded.\n",
      "The notebook server will temporarily stop sending output\n",
      "to the client in order to avoid crashing it.\n",
      "To change this limit, set the config variable\n",
      "`--NotebookApp.iopub_msg_rate_limit`.\n",
      "\n",
      "Current values:\n",
      "NotebookApp.iopub_msg_rate_limit=1000.0 (msgs/sec)\n",
      "NotebookApp.rate_limit_window=3.0 (secs)\n",
      "\n"
     ]
    },
    {
     "name": "stdout",
     "output_type": "stream",
     "text": [
      "1000000/1000000 [==============================]1000000/1000000 [==============================] - 52s 52us/step - loss: 19739263.8782 - mean_squared_error: 19739263.8782\n",
      "\n",
      "Epoch 51/100\n",
      "1000000/1000000 [==============================]1000000/1000000 [==============================] - 53s 53us/step - loss: 20288673.2877 - mean_squared_error: 20288673.2877\n",
      "\n",
      "Epoch 52/100\n",
      "1000000/1000000 [==============================]1000000/1000000 [==============================] - 52s 52us/step - loss: 20752849.6018 - mean_squared_error: 20752849.6018\n",
      "\n",
      "Epoch 53/100\n",
      " 305472/1000000 [========>.....................] 305472/1000000 [========>.....................] - ETA: 36s - loss: 19419666.6380 - mean_squared_error: 19419666.6380"
     ]
    },
    {
     "name": "stderr",
     "output_type": "stream",
     "text": [
      "IOPub message rate exceeded.\n",
      "The notebook server will temporarily stop sending output\n",
      "to the client in order to avoid crashing it.\n",
      "To change this limit, set the config variable\n",
      "`--NotebookApp.iopub_msg_rate_limit`.\n",
      "\n",
      "Current values:\n",
      "NotebookApp.iopub_msg_rate_limit=1000.0 (msgs/sec)\n",
      "NotebookApp.rate_limit_window=3.0 (secs)\n",
      "\n"
     ]
    },
    {
     "name": "stdout",
     "output_type": "stream",
     "text": [
      "1000000/1000000 [==============================]1000000/1000000 [==============================] - 52s 52us/step - loss: 18753386.2778 - mean_squared_error: 18753386.2778\n",
      "\n",
      "Epoch 58/100\n",
      "1000000/1000000 [==============================]1000000/1000000 [==============================] - 52s 52us/step - loss: 17201143.7104 - mean_squared_error: 17201143.7104\n",
      "\n",
      "Epoch 59/100\n",
      "1000000/1000000 [==============================]1000000/1000000 [==============================] - 52s 52us/step - loss: 18941385.8662 - mean_squared_error: 18941385.8662\n",
      "\n",
      "Epoch 60/100\n",
      " 796544/1000000 [======================>.......] 796544/1000000 [======================>.......] - ETA: 10s - loss: 17049914.1609 - mean_squared_error: 17049914.1609"
     ]
    },
    {
     "name": "stderr",
     "output_type": "stream",
     "text": [
      "IOPub message rate exceeded.\n",
      "The notebook server will temporarily stop sending output\n",
      "to the client in order to avoid crashing it.\n",
      "To change this limit, set the config variable\n",
      "`--NotebookApp.iopub_msg_rate_limit`.\n",
      "\n",
      "Current values:\n",
      "NotebookApp.iopub_msg_rate_limit=1000.0 (msgs/sec)\n",
      "NotebookApp.rate_limit_window=3.0 (secs)\n",
      "\n"
     ]
    },
    {
     "name": "stdout",
     "output_type": "stream",
     "text": [
      "1000000/1000000 [==============================]1000000/1000000 [==============================] - 52s 52us/step - loss: 16875613.9781 - mean_squared_error: 16875613.9781\n",
      "\n",
      "Epoch 66/100\n",
      "1000000/1000000 [==============================]1000000/1000000 [==============================] - 52s 52us/step - loss: 15508314.3857 - mean_squared_error: 15508314.3857\n",
      "\n",
      "Epoch 67/100\n",
      "1000000/1000000 [==============================]1000000/1000000 [==============================] - 52s 52us/step - loss: 15582080.9331 - mean_squared_error: 15582080.9331\n",
      "\n",
      "Epoch 68/100\n",
      " 254080/1000000 [======>.......................] 254080/1000000 [======>.......................] - ETA: 38s - loss: 14468356.0608 - mean_squared_error: 14468356.0608"
     ]
    },
    {
     "name": "stderr",
     "output_type": "stream",
     "text": [
      "IOPub message rate exceeded.\n",
      "The notebook server will temporarily stop sending output\n",
      "to the client in order to avoid crashing it.\n",
      "To change this limit, set the config variable\n",
      "`--NotebookApp.iopub_msg_rate_limit`.\n",
      "\n",
      "Current values:\n",
      "NotebookApp.iopub_msg_rate_limit=1000.0 (msgs/sec)\n",
      "NotebookApp.rate_limit_window=3.0 (secs)\n",
      "\n"
     ]
    },
    {
     "name": "stdout",
     "output_type": "stream",
     "text": [
      "1000000/1000000 [==============================]1000000/1000000 [==============================] - 52s 52us/step - loss: 14451510.1795 - mean_squared_error: 14451510.1795\n",
      "\n",
      "Epoch 73/100\n",
      "1000000/1000000 [==============================]1000000/1000000 [==============================] - 52s 52us/step - loss: 13862005.9161 - mean_squared_error: 13862005.9161\n",
      "\n",
      "Epoch 74/100\n",
      "1000000/1000000 [==============================]1000000/1000000 [==============================] - 52s 52us/step - loss: 13838302.4179 - mean_squared_error: 13838302.4179\n",
      "\n",
      "Epoch 75/100\n",
      " 697088/1000000 [===================>..........] 697088/1000000 [===================>..........] - ETA: 15s - loss: 13802279.3903 - mean_squared_error: 13802279.3903"
     ]
    },
    {
     "name": "stderr",
     "output_type": "stream",
     "text": [
      "IOPub message rate exceeded.\n",
      "The notebook server will temporarily stop sending output\n",
      "to the client in order to avoid crashing it.\n",
      "To change this limit, set the config variable\n",
      "`--NotebookApp.iopub_msg_rate_limit`.\n",
      "\n",
      "Current values:\n",
      "NotebookApp.iopub_msg_rate_limit=1000.0 (msgs/sec)\n",
      "NotebookApp.rate_limit_window=3.0 (secs)\n",
      "\n"
     ]
    },
    {
     "name": "stdout",
     "output_type": "stream",
     "text": [
      "1000000/1000000 [==============================]1000000/1000000 [==============================] - 52s 52us/step - loss: 13313932.6316 - mean_squared_error: 13313932.6316\n",
      "\n",
      "Epoch 81/100\n",
      "1000000/1000000 [==============================]1000000/1000000 [==============================] - 53s 53us/step - loss: 12245310.7614 - mean_squared_error: 12245310.7614\n",
      "\n",
      "Epoch 82/100\n",
      "1000000/1000000 [==============================]1000000/1000000 [==============================] - 53s 53us/step - loss: 12411288.7867 - mean_squared_error: 12411288.7867\n",
      "\n",
      "Epoch 83/100\n",
      "  37504/1000000 [>.............................]  37504/1000000 [>.............................] - ETA: 51s - loss: 10425665.8215 - mean_squared_error: 10425665.8215"
     ]
    },
    {
     "name": "stderr",
     "output_type": "stream",
     "text": [
      "IOPub message rate exceeded.\n",
      "The notebook server will temporarily stop sending output\n",
      "to the client in order to avoid crashing it.\n",
      "To change this limit, set the config variable\n",
      "`--NotebookApp.iopub_msg_rate_limit`.\n",
      "\n",
      "Current values:\n",
      "NotebookApp.iopub_msg_rate_limit=1000.0 (msgs/sec)\n",
      "NotebookApp.rate_limit_window=3.0 (secs)\n",
      "\n"
     ]
    },
    {
     "name": "stdout",
     "output_type": "stream",
     "text": [
      "1000000/1000000 [==============================]1000000/1000000 [==============================] - 52s 52us/step - loss: 11637878.8303 - mean_squared_error: 11637878.8303\n",
      "\n",
      "Epoch 88/100\n",
      "1000000/1000000 [==============================]1000000/1000000 [==============================] - 53s 53us/step - loss: 12058460.5577 - mean_squared_error: 12058460.5577\n",
      "\n",
      "Epoch 89/100\n",
      "1000000/1000000 [==============================]1000000/1000000 [==============================] - 53s 53us/step - loss: 11166976.4172 - mean_squared_error: 11166976.4172\n",
      "\n",
      "Epoch 90/100\n",
      " 346304/1000000 [=========>....................] 346304/1000000 [=========>....................] - ETA: 34s - loss: 9402538.2675 - mean_squared_error: 9402538.2675"
     ]
    },
    {
     "name": "stderr",
     "output_type": "stream",
     "text": [
      "IOPub message rate exceeded.\n",
      "The notebook server will temporarily stop sending output\n",
      "to the client in order to avoid crashing it.\n",
      "To change this limit, set the config variable\n",
      "`--NotebookApp.iopub_msg_rate_limit`.\n",
      "\n",
      "Current values:\n",
      "NotebookApp.iopub_msg_rate_limit=1000.0 (msgs/sec)\n",
      "NotebookApp.rate_limit_window=3.0 (secs)\n",
      "\n"
     ]
    },
    {
     "name": "stdout",
     "output_type": "stream",
     "text": [
      "1000000/1000000 [==============================]1000000/1000000 [==============================] - 53s 53us/step - loss: 11078516.6356 - mean_squared_error: 11078516.6356\n",
      "\n",
      "Epoch 95/100\n",
      "1000000/1000000 [==============================]1000000/1000000 [==============================] - 53s 53us/step - loss: 11644995.3006 - mean_squared_error: 11644995.3006\n",
      "\n",
      "Epoch 96/100\n",
      "1000000/1000000 [==============================]1000000/1000000 [==============================] - 53s 53us/step - loss: 11222302.5102 - mean_squared_error: 11222302.5102\n",
      "\n",
      "Epoch 97/100\n",
      " 669632/1000000 [===================>..........] 669632/1000000 [===================>..........] - ETA: 17s - loss: 9825141.6779 - mean_squared_error: 9825141.6779"
     ]
    },
    {
     "name": "stderr",
     "output_type": "stream",
     "text": [
      "IOPub message rate exceeded.\n",
      "The notebook server will temporarily stop sending output\n",
      "to the client in order to avoid crashing it.\n",
      "To change this limit, set the config variable\n",
      "`--NotebookApp.iopub_msg_rate_limit`.\n",
      "\n",
      "Current values:\n",
      "NotebookApp.iopub_msg_rate_limit=1000.0 (msgs/sec)\n",
      "NotebookApp.rate_limit_window=3.0 (secs)\n",
      "\n"
     ]
    },
    {
     "name": "stdout",
     "output_type": "stream",
     "text": [
      "1000000/1000000 [==============================]1000000/1000000 [==============================] - 52s 52us/step - loss: 24586387.0568 - mean_squared_error: 24586387.0568\n",
      "\n",
      "Epoch 2/100\n",
      "1000000/1000000 [==============================]1000000/1000000 [==============================] - 53s 53us/step - loss: 21565331.0206 - mean_squared_error: 21565331.0206\n",
      "\n",
      "Epoch 3/100\n",
      "1000000/1000000 [==============================]1000000/1000000 [==============================] - 52s 52us/step - loss: 20573501.8464 - mean_squared_error: 20573501.8464\n",
      "\n",
      "Epoch 4/100\n",
      "  69248/1000000 [=>............................]  69248/1000000 [=>............................] - ETA: 49s - loss: 23426515.0032 - mean_squared_error: 23426515.0032"
     ]
    },
    {
     "name": "stderr",
     "output_type": "stream",
     "text": [
      "IOPub message rate exceeded.\n",
      "The notebook server will temporarily stop sending output\n",
      "to the client in order to avoid crashing it.\n",
      "To change this limit, set the config variable\n",
      "`--NotebookApp.iopub_msg_rate_limit`.\n",
      "\n",
      "Current values:\n",
      "NotebookApp.iopub_msg_rate_limit=1000.0 (msgs/sec)\n",
      "NotebookApp.rate_limit_window=3.0 (secs)\n",
      "\n"
     ]
    },
    {
     "name": "stdout",
     "output_type": "stream",
     "text": [
      "1000000/1000000 [==============================]1000000/1000000 [==============================] - 52s 52us/step - loss: 16465102.7750 - mean_squared_error: 16465102.7750\n",
      "\n",
      "Epoch 9/100\n",
      "1000000/1000000 [==============================]1000000/1000000 [==============================] - 52s 52us/step - loss: 16099467.2908 - mean_squared_error: 16099467.2908\n",
      "\n",
      "Epoch 10/100\n",
      "1000000/1000000 [==============================]1000000/1000000 [==============================] - 52s 52us/step - loss: 15497165.6925 - mean_squared_error: 15497165.6925\n",
      "\n",
      "Epoch 11/100\n",
      " 359616/1000000 [=========>....................] 359616/1000000 [=========>....................] - ETA: 33s - loss: 15121798.2903 - mean_squared_error: 15121798.2903"
     ]
    },
    {
     "name": "stderr",
     "output_type": "stream",
     "text": [
      "IOPub message rate exceeded.\n",
      "The notebook server will temporarily stop sending output\n",
      "to the client in order to avoid crashing it.\n",
      "To change this limit, set the config variable\n",
      "`--NotebookApp.iopub_msg_rate_limit`.\n",
      "\n",
      "Current values:\n",
      "NotebookApp.iopub_msg_rate_limit=1000.0 (msgs/sec)\n",
      "NotebookApp.rate_limit_window=3.0 (secs)\n",
      "\n"
     ]
    },
    {
     "name": "stdout",
     "output_type": "stream",
     "text": [
      "1000000/1000000 [==============================]1000000/1000000 [==============================] - 52s 52us/step - loss: 14375040.1740 - mean_squared_error: 14375040.1740\n",
      "\n",
      "Epoch 16/100\n",
      "1000000/1000000 [==============================]1000000/1000000 [==============================] - 53s 53us/step - loss: 13462346.4782 - mean_squared_error: 13462346.4782\n",
      "\n",
      "Epoch 17/100\n",
      "1000000/1000000 [==============================]1000000/1000000 [==============================] - 53s 53us/step - loss: 13417149.1416 - mean_squared_error: 13417149.1416\n",
      "\n",
      "Epoch 18/100\n",
      " 612480/1000000 [=================>............] 612480/1000000 [=================>............] - ETA: 20s - loss: 12319242.8094 - mean_squared_error: 12319242.8094"
     ]
    },
    {
     "name": "stderr",
     "output_type": "stream",
     "text": [
      "IOPub message rate exceeded.\n",
      "The notebook server will temporarily stop sending output\n",
      "to the client in order to avoid crashing it.\n",
      "To change this limit, set the config variable\n",
      "`--NotebookApp.iopub_msg_rate_limit`.\n",
      "\n",
      "Current values:\n",
      "NotebookApp.iopub_msg_rate_limit=1000.0 (msgs/sec)\n",
      "NotebookApp.rate_limit_window=3.0 (secs)\n",
      "\n"
     ]
    },
    {
     "name": "stdout",
     "output_type": "stream",
     "text": [
      "1000000/1000000 [==============================]1000000/1000000 [==============================] - 52s 52us/step - loss: 10504085.0668 - mean_squared_error: 10504085.0668\n",
      "\n",
      "Epoch 23/100\n",
      "1000000/1000000 [==============================]1000000/1000000 [==============================] - 52s 52us/step - loss: 9961346.3847 - mean_squared_error: 9961346.3847\n",
      "\n",
      "Epoch 24/100\n",
      "1000000/1000000 [==============================]1000000/1000000 [==============================] - 52s 52us/step - loss: 10318179.1313 - mean_squared_error: 10318179.1313\n",
      "\n",
      "Epoch 25/100\n",
      " 908416/1000000 [==========================>...] 908416/1000000 [==========================>...] - ETA: 4s - loss: 10316625.0336 - mean_squared_error: 10316625.0336"
     ]
    },
    {
     "name": "stderr",
     "output_type": "stream",
     "text": [
      "IOPub message rate exceeded.\n",
      "The notebook server will temporarily stop sending output\n",
      "to the client in order to avoid crashing it.\n",
      "To change this limit, set the config variable\n",
      "`--NotebookApp.iopub_msg_rate_limit`.\n",
      "\n",
      "Current values:\n",
      "NotebookApp.iopub_msg_rate_limit=1000.0 (msgs/sec)\n",
      "NotebookApp.rate_limit_window=3.0 (secs)\n",
      "\n"
     ]
    },
    {
     "name": "stdout",
     "output_type": "stream",
     "text": [
      "1000000/1000000 [==============================]1000000/1000000 [==============================] - 53s 53us/step - loss: 9462422.6982 - mean_squared_error: 9462422.6982\n",
      "\n",
      "Epoch 31/100\n",
      "1000000/1000000 [==============================]1000000/1000000 [==============================] - 53s 53us/step - loss: 10014865.7123 - mean_squared_error: 10014865.7123\n",
      "\n",
      "Epoch 32/100\n",
      "1000000/1000000 [==============================]1000000/1000000 [==============================] - 52s 52us/step - loss: 10848286.4328 - mean_squared_error: 10848286.4328\n",
      "\n",
      "Epoch 33/100\n",
      " 240640/1000000 [======>.......................] 240640/1000000 [======>.......................] - ETA: 39s - loss: 10115463.2184 - mean_squared_error: 10115463.2184"
     ]
    },
    {
     "name": "stderr",
     "output_type": "stream",
     "text": [
      "IOPub message rate exceeded.\n",
      "The notebook server will temporarily stop sending output\n",
      "to the client in order to avoid crashing it.\n",
      "To change this limit, set the config variable\n",
      "`--NotebookApp.iopub_msg_rate_limit`.\n",
      "\n",
      "Current values:\n",
      "NotebookApp.iopub_msg_rate_limit=1000.0 (msgs/sec)\n",
      "NotebookApp.rate_limit_window=3.0 (secs)\n",
      "\n"
     ]
    },
    {
     "name": "stdout",
     "output_type": "stream",
     "text": [
      "1000000/1000000 [==============================]1000000/1000000 [==============================] - 52s 52us/step - loss: 9105998.2477 - mean_squared_error: 9105998.2477\n",
      "\n",
      "Epoch 38/100\n",
      "1000000/1000000 [==============================]1000000/1000000 [==============================] - 52s 52us/step - loss: 9025851.6528 - mean_squared_error: 9025851.6528\n",
      "\n",
      "Epoch 39/100\n",
      "1000000/1000000 [==============================]1000000/1000000 [==============================] - 52s 52us/step - loss: 9058334.9311 - mean_squared_error: 9058334.9311\n",
      "\n",
      "Epoch 40/100\n",
      " 736960/1000000 [=====================>........] 736960/1000000 [=====================>........] - ETA: 13s - loss: 8310809.8008 - mean_squared_error: 8310809.8008"
     ]
    },
    {
     "name": "stderr",
     "output_type": "stream",
     "text": [
      "IOPub message rate exceeded.\n",
      "The notebook server will temporarily stop sending output\n",
      "to the client in order to avoid crashing it.\n",
      "To change this limit, set the config variable\n",
      "`--NotebookApp.iopub_msg_rate_limit`.\n",
      "\n",
      "Current values:\n",
      "NotebookApp.iopub_msg_rate_limit=1000.0 (msgs/sec)\n",
      "NotebookApp.rate_limit_window=3.0 (secs)\n",
      "\n"
     ]
    },
    {
     "name": "stdout",
     "output_type": "stream",
     "text": [
      "1000000/1000000 [==============================]1000000/1000000 [==============================] - 52s 52us/step - loss: 7833155.8001 - mean_squared_error: 7833155.8001\n",
      "\n",
      "Epoch 46/100\n",
      "1000000/1000000 [==============================]1000000/1000000 [==============================] - 53s 53us/step - loss: 8358119.4827 - mean_squared_error: 8358119.4827\n",
      "\n",
      "Epoch 47/100\n",
      "1000000/1000000 [==============================]1000000/1000000 [==============================] - 53s 53us/step - loss: 7302817.5086 - mean_squared_error: 7302817.5086\n",
      "\n",
      "Epoch 48/100\n",
      " 159872/1000000 [===>..........................] 159872/1000000 [===>..........................] - ETA: 43s - loss: 7278866.6682 - mean_squared_error: 7278866.6682"
     ]
    },
    {
     "name": "stderr",
     "output_type": "stream",
     "text": [
      "IOPub message rate exceeded.\n",
      "The notebook server will temporarily stop sending output\n",
      "to the client in order to avoid crashing it.\n",
      "To change this limit, set the config variable\n",
      "`--NotebookApp.iopub_msg_rate_limit`.\n",
      "\n",
      "Current values:\n",
      "NotebookApp.iopub_msg_rate_limit=1000.0 (msgs/sec)\n",
      "NotebookApp.rate_limit_window=3.0 (secs)\n",
      "\n"
     ]
    },
    {
     "name": "stdout",
     "output_type": "stream",
     "text": [
      "1000000/1000000 [==============================]1000000/1000000 [==============================] - 53s 53us/step - loss: 7767847.0378 - mean_squared_error: 7767847.0378\n",
      "\n",
      "Epoch 53/100\n",
      "1000000/1000000 [==============================]1000000/1000000 [==============================] - 52s 52us/step - loss: 6913671.5466 - mean_squared_error: 6913671.5466\n",
      "\n",
      "Epoch 54/100\n",
      "1000000/1000000 [==============================]1000000/1000000 [==============================] - 53s 53us/step - loss: 6270169.4265 - mean_squared_error: 6270169.4265\n",
      "\n",
      "Epoch 55/100\n",
      " 541120/1000000 [===============>..............] 541120/1000000 [===============>..............] - ETA: 23s - loss: 6979240.9954 - mean_squared_error: 6979240.9954"
     ]
    },
    {
     "name": "stderr",
     "output_type": "stream",
     "text": [
      "IOPub message rate exceeded.\n",
      "The notebook server will temporarily stop sending output\n",
      "to the client in order to avoid crashing it.\n",
      "To change this limit, set the config variable\n",
      "`--NotebookApp.iopub_msg_rate_limit`.\n",
      "\n",
      "Current values:\n",
      "NotebookApp.iopub_msg_rate_limit=1000.0 (msgs/sec)\n",
      "NotebookApp.rate_limit_window=3.0 (secs)\n",
      "\n"
     ]
    },
    {
     "name": "stdout",
     "output_type": "stream",
     "text": [
      "1000000/1000000 [==============================]1000000/1000000 [==============================] - 52s 52us/step - loss: 6403055.0233 - mean_squared_error: 6403055.0233\n",
      "\n",
      "Epoch 60/100\n",
      "1000000/1000000 [==============================]1000000/1000000 [==============================] - 52s 52us/step - loss: 6968757.7030 - mean_squared_error: 6968757.7030\n",
      "\n",
      "Epoch 61/100\n",
      "1000000/1000000 [==============================]1000000/1000000 [==============================] - 52s 52us/step - loss: 6524871.3433 - mean_squared_error: 6524871.3433\n",
      "\n",
      "Epoch 62/100\n",
      " 920192/1000000 [==========================>...] 920192/1000000 [==========================>...] - ETA: 4s - loss: 5811709.9673 - mean_squared_error: 5811709.9673"
     ]
    },
    {
     "name": "stderr",
     "output_type": "stream",
     "text": [
      "IOPub message rate exceeded.\n",
      "The notebook server will temporarily stop sending output\n",
      "to the client in order to avoid crashing it.\n",
      "To change this limit, set the config variable\n",
      "`--NotebookApp.iopub_msg_rate_limit`.\n",
      "\n",
      "Current values:\n",
      "NotebookApp.iopub_msg_rate_limit=1000.0 (msgs/sec)\n",
      "NotebookApp.rate_limit_window=3.0 (secs)\n",
      "\n"
     ]
    },
    {
     "name": "stdout",
     "output_type": "stream",
     "text": [
      "1000000/1000000 [==============================]1000000/1000000 [==============================] - 52s 52us/step - loss: 6330964.8264 - mean_squared_error: 6330964.8264\n",
      "\n",
      "Epoch 68/100\n",
      "1000000/1000000 [==============================]1000000/1000000 [==============================] - 51s 51us/step - loss: 6648104.6250 - mean_squared_error: 6648104.6250\n",
      "\n",
      "Epoch 69/100\n",
      "1000000/1000000 [==============================]1000000/1000000 [==============================] - 52s 52us/step - loss: 7217204.9451 - mean_squared_error: 7217204.9451\n",
      "\n",
      "Epoch 70/100\n",
      " 393088/1000000 [==========>...................] 393088/1000000 [==========>...................] - ETA: 31s - loss: 6070140.3873 - mean_squared_error: 6070140.3873"
     ]
    },
    {
     "name": "stderr",
     "output_type": "stream",
     "text": [
      "IOPub message rate exceeded.\n",
      "The notebook server will temporarily stop sending output\n",
      "to the client in order to avoid crashing it.\n",
      "To change this limit, set the config variable\n",
      "`--NotebookApp.iopub_msg_rate_limit`.\n",
      "\n",
      "Current values:\n",
      "NotebookApp.iopub_msg_rate_limit=1000.0 (msgs/sec)\n",
      "NotebookApp.rate_limit_window=3.0 (secs)\n",
      "\n"
     ]
    },
    {
     "name": "stdout",
     "output_type": "stream",
     "text": [
      "1000000/1000000 [==============================]1000000/1000000 [==============================] - 52s 52us/step - loss: 5821856.6016 - mean_squared_error: 5821856.6016\n",
      "\n",
      "Epoch 75/100\n",
      "1000000/1000000 [==============================]1000000/1000000 [==============================] - 52s 52us/step - loss: 6067628.4120 - mean_squared_error: 6067628.4120\n",
      "\n",
      "Epoch 76/100\n",
      "1000000/1000000 [==============================]1000000/1000000 [==============================] - 51s 51us/step - loss: 6225937.8135 - mean_squared_error: 6225937.8135\n",
      "\n",
      "Epoch 77/100\n",
      " 869952/1000000 [=========================>....] 869952/1000000 [=========================>....] - ETA: 6s - loss: 5434689.1409 - mean_squared_error: 5434689.1409"
     ]
    },
    {
     "name": "stderr",
     "output_type": "stream",
     "text": [
      "IOPub message rate exceeded.\n",
      "The notebook server will temporarily stop sending output\n",
      "to the client in order to avoid crashing it.\n",
      "To change this limit, set the config variable\n",
      "`--NotebookApp.iopub_msg_rate_limit`.\n",
      "\n",
      "Current values:\n",
      "NotebookApp.iopub_msg_rate_limit=1000.0 (msgs/sec)\n",
      "NotebookApp.rate_limit_window=3.0 (secs)\n",
      "\n"
     ]
    },
    {
     "name": "stdout",
     "output_type": "stream",
     "text": [
      "1000000/1000000 [==============================]1000000/1000000 [==============================] - 52s 52us/step - loss: 5652991.8135 - mean_squared_error: 5652991.8135\n",
      "\n",
      "Epoch 83/100\n",
      "1000000/1000000 [==============================]1000000/1000000 [==============================] - 52s 52us/step - loss: 4958862.9542 - mean_squared_error: 4958862.9542\n",
      "\n",
      "Epoch 84/100\n",
      "1000000/1000000 [==============================]1000000/1000000 [==============================] - 52s 52us/step - loss: 5154754.6464 - mean_squared_error: 5154754.6464\n",
      "\n",
      "Epoch 85/100\n",
      " 251648/1000000 [======>.......................] 251648/1000000 [======>.......................] - ETA: 39s - loss: 5276345.3706 - mean_squared_error: 5276345.3706"
     ]
    },
    {
     "name": "stderr",
     "output_type": "stream",
     "text": [
      "IOPub message rate exceeded.\n",
      "The notebook server will temporarily stop sending output\n",
      "to the client in order to avoid crashing it.\n",
      "To change this limit, set the config variable\n",
      "`--NotebookApp.iopub_msg_rate_limit`.\n",
      "\n",
      "Current values:\n",
      "NotebookApp.iopub_msg_rate_limit=1000.0 (msgs/sec)\n",
      "NotebookApp.rate_limit_window=3.0 (secs)\n",
      "\n"
     ]
    },
    {
     "name": "stdout",
     "output_type": "stream",
     "text": [
      "1000000/1000000 [==============================]1000000/1000000 [==============================] - 53s 53us/step - loss: 5384886.5733 - mean_squared_error: 5384886.5733\n",
      "\n",
      "Epoch 90/100\n",
      "1000000/1000000 [==============================]1000000/1000000 [==============================] - 52s 52us/step - loss: 5498601.6914 - mean_squared_error: 5498601.6914\n",
      "\n",
      "Epoch 91/100\n",
      "1000000/1000000 [==============================]1000000/1000000 [==============================] - 52s 52us/step - loss: 5102004.9369 - mean_squared_error: 5102004.9369\n",
      "\n",
      "Epoch 92/100\n",
      " 733696/1000000 [=====================>........] 733696/1000000 [=====================>........] - ETA: 13s - loss: 5661122.1290 - mean_squared_error: 5661122.1290"
     ]
    },
    {
     "name": "stderr",
     "output_type": "stream",
     "text": [
      "IOPub message rate exceeded.\n",
      "The notebook server will temporarily stop sending output\n",
      "to the client in order to avoid crashing it.\n",
      "To change this limit, set the config variable\n",
      "`--NotebookApp.iopub_msg_rate_limit`.\n",
      "\n",
      "Current values:\n",
      "NotebookApp.iopub_msg_rate_limit=1000.0 (msgs/sec)\n",
      "NotebookApp.rate_limit_window=3.0 (secs)\n",
      "\n"
     ]
    },
    {
     "name": "stdout",
     "output_type": "stream",
     "text": [
      "1000000/1000000 [==============================]1000000/1000000 [==============================] - 52s 52us/step - loss: 5073035.0135 - mean_squared_error: 5073035.0135\n",
      "\n",
      "Epoch 98/100\n",
      "1000000/1000000 [==============================]1000000/1000000 [==============================] - 52s 52us/step - loss: 5205737.9231 - mean_squared_error: 5205737.9231\n",
      "\n",
      "Epoch 99/100\n",
      "1000000/1000000 [==============================]1000000/1000000 [==============================] - 52s 52us/step - loss: 4821134.2664 - mean_squared_error: 4821134.2664\n",
      "\n",
      "Epoch 100/100\n",
      " 139392/1000000 [===>..........................] 139392/1000000 [===>..........................] - ETA: 44s - loss: 4143843.9545 - mean_squared_error: 4143843.9545"
     ]
    },
    {
     "name": "stderr",
     "output_type": "stream",
     "text": [
      "IOPub message rate exceeded.\n",
      "The notebook server will temporarily stop sending output\n",
      "to the client in order to avoid crashing it.\n",
      "To change this limit, set the config variable\n",
      "`--NotebookApp.iopub_msg_rate_limit`.\n",
      "\n",
      "Current values:\n",
      "NotebookApp.iopub_msg_rate_limit=1000.0 (msgs/sec)\n",
      "NotebookApp.rate_limit_window=3.0 (secs)\n",
      "\n"
     ]
    },
    {
     "name": "stdout",
     "output_type": "stream",
     "text": [
      "1000000/1000000 [==============================]1000000/1000000 [==============================] - 53s 53us/step - loss: 13084962.4648 - mean_squared_error: 13084962.4648\n",
      "\n",
      "Epoch 4/100\n",
      "1000000/1000000 [==============================]1000000/1000000 [==============================] - 52s 52us/step - loss: 13241696.3407 - mean_squared_error: 13241696.3407\n",
      "\n",
      "Epoch 5/100\n",
      "1000000/1000000 [==============================]1000000/1000000 [==============================] - 52s 52us/step - loss: 11691748.1857 - mean_squared_error: 11691748.1857\n",
      "\n",
      "Epoch 6/100\n",
      " 719872/1000000 [====================>.........] 719872/1000000 [====================>.........] - ETA: 14s - loss: 13844917.9238 - mean_squared_error: 13844917.9238"
     ]
    },
    {
     "name": "stderr",
     "output_type": "stream",
     "text": [
      "IOPub message rate exceeded.\n",
      "The notebook server will temporarily stop sending output\n",
      "to the client in order to avoid crashing it.\n",
      "To change this limit, set the config variable\n",
      "`--NotebookApp.iopub_msg_rate_limit`.\n",
      "\n",
      "Current values:\n",
      "NotebookApp.iopub_msg_rate_limit=1000.0 (msgs/sec)\n",
      "NotebookApp.rate_limit_window=3.0 (secs)\n",
      "\n"
     ]
    },
    {
     "name": "stdout",
     "output_type": "stream",
     "text": [
      "1000000/1000000 [==============================]1000000/1000000 [==============================] - 52s 52us/step - loss: 10577198.7869 - mean_squared_error: 10577198.7869\n",
      "\n",
      "Epoch 12/100\n",
      "1000000/1000000 [==============================]1000000/1000000 [==============================] - 53s 53us/step - loss: 10691494.5941 - mean_squared_error: 10691494.5941\n",
      "\n",
      "Epoch 13/100\n",
      "1000000/1000000 [==============================]1000000/1000000 [==============================] - 53s 53us/step - loss: 9597979.0333 - mean_squared_error: 9597979.0333\n",
      "\n",
      "Epoch 14/100\n",
      "  90560/1000000 [=>............................]  90560/1000000 [=>............................] - ETA: 48s - loss: 9825167.4704 - mean_squared_error: 9825167.4704"
     ]
    },
    {
     "name": "stderr",
     "output_type": "stream",
     "text": [
      "IOPub message rate exceeded.\n",
      "The notebook server will temporarily stop sending output\n",
      "to the client in order to avoid crashing it.\n",
      "To change this limit, set the config variable\n",
      "`--NotebookApp.iopub_msg_rate_limit`.\n",
      "\n",
      "Current values:\n",
      "NotebookApp.iopub_msg_rate_limit=1000.0 (msgs/sec)\n",
      "NotebookApp.rate_limit_window=3.0 (secs)\n",
      "\n"
     ]
    },
    {
     "name": "stdout",
     "output_type": "stream",
     "text": [
      "1000000/1000000 [==============================]1000000/1000000 [==============================] - 52s 52us/step - loss: 8191967.4673 - mean_squared_error: 8191967.4673\n",
      "\n",
      "Epoch 19/100\n",
      "1000000/1000000 [==============================]1000000/1000000 [==============================] - 53s 53us/step - loss: 8887200.0511 - mean_squared_error: 8887200.0511\n",
      "\n",
      "Epoch 20/100\n",
      "1000000/1000000 [==============================]1000000/1000000 [==============================] - 52s 52us/step - loss: 7470046.8967 - mean_squared_error: 7470046.8967\n",
      "\n",
      "Epoch 21/100\n",
      " 308160/1000000 [========>.....................] 308160/1000000 [========>.....................] - ETA: 36s - loss: 6581984.2530 - mean_squared_error: 6581984.2530"
     ]
    },
    {
     "name": "stderr",
     "output_type": "stream",
     "text": [
      "IOPub message rate exceeded.\n",
      "The notebook server will temporarily stop sending output\n",
      "to the client in order to avoid crashing it.\n",
      "To change this limit, set the config variable\n",
      "`--NotebookApp.iopub_msg_rate_limit`.\n",
      "\n",
      "Current values:\n",
      "NotebookApp.iopub_msg_rate_limit=1000.0 (msgs/sec)\n",
      "NotebookApp.rate_limit_window=3.0 (secs)\n",
      "\n"
     ]
    },
    {
     "name": "stdout",
     "output_type": "stream",
     "text": [
      "1000000/1000000 [==============================]1000000/1000000 [==============================] - 53s 53us/step - loss: 7329734.4412 - mean_squared_error: 7329734.4412\n",
      "\n",
      "Epoch 26/100\n",
      "1000000/1000000 [==============================]1000000/1000000 [==============================] - 52s 52us/step - loss: 7354579.4432 - mean_squared_error: 7354579.4432\n",
      "\n",
      "Epoch 27/100\n",
      "1000000/1000000 [==============================]1000000/1000000 [==============================] - 52s 52us/step - loss: 6760862.0616 - mean_squared_error: 6760862.0616\n",
      "\n",
      "Epoch 28/100\n",
      " 634496/1000000 [==================>...........] 634496/1000000 [==================>...........] - ETA: 19s - loss: 6010346.0069 - mean_squared_error: 6010346.0069"
     ]
    },
    {
     "name": "stderr",
     "output_type": "stream",
     "text": [
      "IOPub message rate exceeded.\n",
      "The notebook server will temporarily stop sending output\n",
      "to the client in order to avoid crashing it.\n",
      "To change this limit, set the config variable\n",
      "`--NotebookApp.iopub_msg_rate_limit`.\n",
      "\n",
      "Current values:\n",
      "NotebookApp.iopub_msg_rate_limit=1000.0 (msgs/sec)\n",
      "NotebookApp.rate_limit_window=3.0 (secs)\n",
      "\n"
     ]
    },
    {
     "name": "stdout",
     "output_type": "stream",
     "text": [
      "1000000/1000000 [==============================]1000000/1000000 [==============================] - 52s 52us/step - loss: 6251923.6124 - mean_squared_error: 6251923.6124\n",
      "\n",
      "Epoch 33/100\n",
      "1000000/1000000 [==============================]1000000/1000000 [==============================] - 52s 52us/step - loss: 7161276.6621 - mean_squared_error: 7161276.6621\n",
      "\n",
      "Epoch 34/100\n",
      "1000000/1000000 [==============================]1000000/1000000 [==============================] - 51s 51us/step - loss: 6806483.8260 - mean_squared_error: 6806483.8260\n",
      "\n",
      "Epoch 35/100\n",
      " 840512/1000000 [========================>.....] 840512/1000000 [========================>.....] - ETA: 8s - loss: 6786925.5388 - mean_squared_error: 6786925.5388"
     ]
    },
    {
     "name": "stderr",
     "output_type": "stream",
     "text": [
      "IOPub message rate exceeded.\n",
      "The notebook server will temporarily stop sending output\n",
      "to the client in order to avoid crashing it.\n",
      "To change this limit, set the config variable\n",
      "`--NotebookApp.iopub_msg_rate_limit`.\n",
      "\n",
      "Current values:\n",
      "NotebookApp.iopub_msg_rate_limit=1000.0 (msgs/sec)\n",
      "NotebookApp.rate_limit_window=3.0 (secs)\n",
      "\n"
     ]
    },
    {
     "name": "stdout",
     "output_type": "stream",
     "text": [
      "1000000/1000000 [==============================]1000000/1000000 [==============================] - 52s 52us/step - loss: 5908959.2065 - mean_squared_error: 5908959.2065\n",
      "\n",
      "Epoch 41/100\n",
      "1000000/1000000 [==============================]1000000/1000000 [==============================] - 53s 53us/step - loss: 5969763.1759 - mean_squared_error: 5969763.1759\n",
      "\n",
      "Epoch 42/100\n",
      "1000000/1000000 [==============================]1000000/1000000 [==============================] - 53s 53us/step - loss: 6855904.6291 - mean_squared_error: 6855904.6291\n",
      "\n",
      "Epoch 43/100\n",
      " 114176/1000000 [==>...........................] 114176/1000000 [==>...........................] - ETA: 47s - loss: 5981303.6542 - mean_squared_error: 5981303.6542"
     ]
    },
    {
     "name": "stderr",
     "output_type": "stream",
     "text": [
      "IOPub message rate exceeded.\n",
      "The notebook server will temporarily stop sending output\n",
      "to the client in order to avoid crashing it.\n",
      "To change this limit, set the config variable\n",
      "`--NotebookApp.iopub_msg_rate_limit`.\n",
      "\n",
      "Current values:\n",
      "NotebookApp.iopub_msg_rate_limit=1000.0 (msgs/sec)\n",
      "NotebookApp.rate_limit_window=3.0 (secs)\n",
      "\n"
     ]
    },
    {
     "name": "stdout",
     "output_type": "stream",
     "text": [
      "1000000/1000000 [==============================]1000000/1000000 [==============================] - 52s 52us/step - loss: 5222902.4714 - mean_squared_error: 5222902.4714\n",
      "\n",
      "Epoch 48/100\n",
      "1000000/1000000 [==============================]1000000/1000000 [==============================] - 52s 52us/step - loss: 5285938.2520 - mean_squared_error: 5285938.2520\n",
      "\n",
      "Epoch 49/100\n",
      "1000000/1000000 [==============================]1000000/1000000 [==============================] - 52s 52us/step - loss: 4820682.1907 - mean_squared_error: 4820682.1907\n",
      "\n",
      "Epoch 50/100\n",
      " 409536/1000000 [===========>..................] 409536/1000000 [===========>..................] - ETA: 30s - loss: 6375170.9045 - mean_squared_error: 6375170.9045"
     ]
    },
    {
     "name": "stderr",
     "output_type": "stream",
     "text": [
      "IOPub message rate exceeded.\n",
      "The notebook server will temporarily stop sending output\n",
      "to the client in order to avoid crashing it.\n",
      "To change this limit, set the config variable\n",
      "`--NotebookApp.iopub_msg_rate_limit`.\n",
      "\n",
      "Current values:\n",
      "NotebookApp.iopub_msg_rate_limit=1000.0 (msgs/sec)\n",
      "NotebookApp.rate_limit_window=3.0 (secs)\n",
      "\n"
     ]
    },
    {
     "name": "stdout",
     "output_type": "stream",
     "text": [
      "1000000/1000000 [==============================]1000000/1000000 [==============================] - 53s 53us/step - loss: 5026496.9512 - mean_squared_error: 5026496.9512\n",
      "\n",
      "Epoch 55/100\n",
      "1000000/1000000 [==============================]1000000/1000000 [==============================] - 53s 53us/step - loss: 5338614.9615 - mean_squared_error: 5338614.9615\n",
      "\n",
      "Epoch 56/100\n",
      "1000000/1000000 [==============================]1000000/1000000 [==============================] - 53s 53us/step - loss: 4760038.3527 - mean_squared_error: 4760038.3527\n",
      "\n",
      "Epoch 57/100\n",
      " 622976/1000000 [=================>............] 622976/1000000 [=================>............] - ETA: 20s - loss: 4405157.4543 - mean_squared_error: 4405157.4543"
     ]
    },
    {
     "name": "stderr",
     "output_type": "stream",
     "text": [
      "IOPub message rate exceeded.\n",
      "The notebook server will temporarily stop sending output\n",
      "to the client in order to avoid crashing it.\n",
      "To change this limit, set the config variable\n",
      "`--NotebookApp.iopub_msg_rate_limit`.\n",
      "\n",
      "Current values:\n",
      "NotebookApp.iopub_msg_rate_limit=1000.0 (msgs/sec)\n",
      "NotebookApp.rate_limit_window=3.0 (secs)\n",
      "\n"
     ]
    },
    {
     "name": "stdout",
     "output_type": "stream",
     "text": [
      "1000000/1000000 [==============================]1000000/1000000 [==============================] - 52s 52us/step - loss: 4402439.1635 - mean_squared_error: 4402439.1635\n",
      "\n",
      "Epoch 62/100\n",
      "1000000/1000000 [==============================]1000000/1000000 [==============================] - 52s 52us/step - loss: 4695839.4144 - mean_squared_error: 4695839.4144\n",
      "\n",
      "Epoch 63/100\n",
      "1000000/1000000 [==============================]1000000/1000000 [==============================] - 52s 52us/step - loss: 5065257.3701 - mean_squared_error: 5065257.3701\n",
      "\n",
      "Epoch 64/100\n",
      " 820992/1000000 [=======================>......] 820992/1000000 [=======================>......] - ETA: 9s - loss: 4282260.6416 - mean_squared_error: 4282260.6416"
     ]
    },
    {
     "name": "stderr",
     "output_type": "stream",
     "text": [
      "IOPub message rate exceeded.\n",
      "The notebook server will temporarily stop sending output\n",
      "to the client in order to avoid crashing it.\n",
      "To change this limit, set the config variable\n",
      "`--NotebookApp.iopub_msg_rate_limit`.\n",
      "\n",
      "Current values:\n",
      "NotebookApp.iopub_msg_rate_limit=1000.0 (msgs/sec)\n",
      "NotebookApp.rate_limit_window=3.0 (secs)\n",
      "\n"
     ]
    },
    {
     "name": "stdout",
     "output_type": "stream",
     "text": [
      "1000000/1000000 [==============================]1000000/1000000 [==============================] - 53s 53us/step - loss: 4185222.9451 - mean_squared_error: 4185222.9451\n",
      "\n",
      "Epoch 70/100\n",
      "1000000/1000000 [==============================]1000000/1000000 [==============================] - 53s 53us/step - loss: 4298274.9562 - mean_squared_error: 4298274.9562\n",
      "\n",
      "Epoch 71/100\n",
      "1000000/1000000 [==============================]1000000/1000000 [==============================] - 53s 53us/step - loss: 4011747.6931 - mean_squared_error: 4011747.6931\n",
      "\n",
      "Epoch 72/100\n",
      " 113856/1000000 [==>...........................] 113856/1000000 [==>...........................] - ETA: 47s - loss: 4471852.5163 - mean_squared_error: 4471852.5163"
     ]
    },
    {
     "name": "stderr",
     "output_type": "stream",
     "text": [
      "IOPub message rate exceeded.\n",
      "The notebook server will temporarily stop sending output\n",
      "to the client in order to avoid crashing it.\n",
      "To change this limit, set the config variable\n",
      "`--NotebookApp.iopub_msg_rate_limit`.\n",
      "\n",
      "Current values:\n",
      "NotebookApp.iopub_msg_rate_limit=1000.0 (msgs/sec)\n",
      "NotebookApp.rate_limit_window=3.0 (secs)\n",
      "\n"
     ]
    },
    {
     "name": "stdout",
     "output_type": "stream",
     "text": [
      "1000000/1000000 [==============================]1000000/1000000 [==============================] - 53s 53us/step - loss: 4472866.7643 - mean_squared_error: 4472866.7643\n",
      "\n",
      "Epoch 77/100\n",
      "1000000/1000000 [==============================]1000000/1000000 [==============================] - 53s 53us/step - loss: 4162407.8450 - mean_squared_error: 4162407.8450\n",
      "\n",
      "Epoch 78/100\n",
      "1000000/1000000 [==============================]1000000/1000000 [==============================] - 53s 53us/step - loss: 4386246.9508 - mean_squared_error: 4386246.9508\n",
      "\n",
      "Epoch 79/100\n",
      " 295744/1000000 [=======>......................] 295744/1000000 [=======>......................] - ETA: 37s - loss: 4398407.1330 - mean_squared_error: 4398407.1330"
     ]
    },
    {
     "name": "stderr",
     "output_type": "stream",
     "text": [
      "IOPub message rate exceeded.\n",
      "The notebook server will temporarily stop sending output\n",
      "to the client in order to avoid crashing it.\n",
      "To change this limit, set the config variable\n",
      "`--NotebookApp.iopub_msg_rate_limit`.\n",
      "\n",
      "Current values:\n",
      "NotebookApp.iopub_msg_rate_limit=1000.0 (msgs/sec)\n",
      "NotebookApp.rate_limit_window=3.0 (secs)\n",
      "\n"
     ]
    },
    {
     "name": "stdout",
     "output_type": "stream",
     "text": [
      "1000000/1000000 [==============================]1000000/1000000 [==============================] - 53s 53us/step - loss: 4144871.7203 - mean_squared_error: 4144871.7203\n",
      "\n",
      "Epoch 84/100\n",
      "1000000/1000000 [==============================]1000000/1000000 [==============================] - 53s 53us/step - loss: 3999299.3885 - mean_squared_error: 3999299.3885\n",
      "\n",
      "Epoch 85/100\n",
      "1000000/1000000 [==============================]1000000/1000000 [==============================] - 53s 53us/step - loss: 4146816.0838 - mean_squared_error: 4146816.0838\n",
      "\n",
      "Epoch 86/100\n",
      " 212736/1000000 [=====>........................] 212736/1000000 [=====>........................] - ETA: 42s - loss: 3909682.1496 - mean_squared_error: 3909682.1496"
     ]
    },
    {
     "name": "stderr",
     "output_type": "stream",
     "text": [
      "IOPub message rate exceeded.\n",
      "The notebook server will temporarily stop sending output\n",
      "to the client in order to avoid crashing it.\n",
      "To change this limit, set the config variable\n",
      "`--NotebookApp.iopub_msg_rate_limit`.\n",
      "\n",
      "Current values:\n",
      "NotebookApp.iopub_msg_rate_limit=1000.0 (msgs/sec)\n",
      "NotebookApp.rate_limit_window=3.0 (secs)\n",
      "\n"
     ]
    },
    {
     "name": "stdout",
     "output_type": "stream",
     "text": [
      "1000000/1000000 [==============================]1000000/1000000 [==============================] - 53s 53us/step - loss: 3625298.9946 - mean_squared_error: 3625298.9946\n",
      "\n",
      "Epoch 91/100\n",
      "1000000/1000000 [==============================]1000000/1000000 [==============================] - 53s 53us/step - loss: 4144703.3104 - mean_squared_error: 4144703.3104\n",
      "\n",
      "Epoch 92/100\n",
      "1000000/1000000 [==============================]1000000/1000000 [==============================] - 53s 53us/step - loss: 3962311.9243 - mean_squared_error: 3962311.9243\n",
      "\n",
      "Epoch 93/100\n",
      " 384704/1000000 [==========>...................] 384704/1000000 [==========>...................] - ETA: 33s - loss: 3456985.2772 - mean_squared_error: 3456985.2772"
     ]
    },
    {
     "name": "stderr",
     "output_type": "stream",
     "text": [
      "IOPub message rate exceeded.\n",
      "The notebook server will temporarily stop sending output\n",
      "to the client in order to avoid crashing it.\n",
      "To change this limit, set the config variable\n",
      "`--NotebookApp.iopub_msg_rate_limit`.\n",
      "\n",
      "Current values:\n",
      "NotebookApp.iopub_msg_rate_limit=1000.0 (msgs/sec)\n",
      "NotebookApp.rate_limit_window=3.0 (secs)\n",
      "\n"
     ]
    },
    {
     "name": "stdout",
     "output_type": "stream",
     "text": [
      "1000000/1000000 [==============================]1000000/1000000 [==============================] - 53s 53us/step - loss: 3653024.9142 - mean_squared_error: 3653024.9142\n",
      "\n",
      "Epoch 98/100\n",
      "1000000/1000000 [==============================]1000000/1000000 [==============================] - 53s 53us/step - loss: 3656681.0022 - mean_squared_error: 3656681.0022\n",
      "\n",
      "Epoch 99/100\n",
      "1000000/1000000 [==============================]1000000/1000000 [==============================] - 53s 53us/step - loss: 3403663.0403 - mean_squared_error: 3403663.0403\n",
      "\n",
      "Epoch 100/100\n",
      " 601408/1000000 [=================>............] 601408/1000000 [=================>............] - ETA: 21s - loss: 3449923.4807 - mean_squared_error: 3449923.4807"
     ]
    },
    {
     "name": "stderr",
     "output_type": "stream",
     "text": [
      "IOPub message rate exceeded.\n",
      "The notebook server will temporarily stop sending output\n",
      "to the client in order to avoid crashing it.\n",
      "To change this limit, set the config variable\n",
      "`--NotebookApp.iopub_msg_rate_limit`.\n",
      "\n",
      "Current values:\n",
      "NotebookApp.iopub_msg_rate_limit=1000.0 (msgs/sec)\n",
      "NotebookApp.rate_limit_window=3.0 (secs)\n",
      "\n"
     ]
    }
   ],
   "source": [
    "step=1000000\n",
    "\n",
    "model = build_model()\n",
    "\n",
    "scaler = StandardScaler()\n",
    "\n",
    "training_error = []\n",
    "test_error = []\n",
    "perc_error = []\n",
    "\n",
    "for n in range(0,len(mom_train),step):\n",
    "    poly_train = np.array([np.ndarray.flatten(np.array(element)) for element in mom_train[n:n+step,1:]])\n",
    "    ##Rescale\n",
    "    scaler.partial_fit(poly_train) #Rescale on training set\n",
    "    poly_train = scaler.transform(poly_train)\n",
    "    \n",
    "    model.fit(poly_train,me_train[n:n+step], batch_size=64, epochs=100, shuffle=True)\n",
    "        \n",
    "    if(n%100000==0): \n",
    "        print(n)\n",
    "    \n",
    "        ##Testing Error\n",
    "        lin_mse = 0\n",
    "        lin_perc = 0\n",
    "        \n",
    "        for m in range(0,len(mom_test),step):\n",
    "            print(m)\n",
    "            \n",
    "            poly_test = np.array([np.ndarray.flatten(np.array(element)) for element in mom_test[m:m+step,1:]])\n",
    "            poly_test = scaler.transform(poly_test)\n",
    "\n",
    "            me_predict = model.predict(poly_test, verbose=0) #Prediction on test set\n",
    "            me_predict.shape = (len(me_predict))\n",
    "            \n",
    "            lin_mse += np.sum(mean_squared_error(me_test[m:m+step], me_predict))\n",
    "            lin_perc += 100*np.sum(np.divide(np.abs(me_test[m:m+step] - me_predict), me_test[m:m+step]))\n",
    "            print(np.divide(np.abs(me_test[m:m+step] - me_predict), me_test[m:m+step]).shape)\n",
    "            \n",
    "        test_error.append(np.sqrt(lin_mse*step/len(me_test)))\n",
    "        \n",
    "        u=model.evaluate(poly_train, me_train[n:n+step])[0]\n",
    "        training_error.append(np.sqrt(u))\n",
    "        perc_error.append(lin_perc/len(me_test))\n",
    "              \n",
    "        \n",
    "        print(training_error)\n",
    "        print(test_error)\n",
    "        print(perc_error)"
   ]
  },
  {
   "cell_type": "code",
   "execution_count": 36,
   "metadata": {},
   "outputs": [
    {
     "name": "stdout",
     "output_type": "stream",
     "text": [
      "460.014608567249\n"
     ]
    }
   ],
   "source": [
    "print(np.std(me_test))"
   ]
  },
  {
   "cell_type": "code",
   "execution_count": 73,
   "metadata": {},
   "outputs": [
    {
     "name": "stdout",
     "output_type": "stream",
     "text": [
      "[3079.3611583396646, 2627.1899755301765, 1657.3843221453646]\n"
     ]
    }
   ],
   "source": [
    "print(training_error)"
   ]
  },
  {
   "cell_type": "code",
   "execution_count": 75,
   "metadata": {},
   "outputs": [
    {
     "name": "stdout",
     "output_type": "stream",
     "text": [
      "[16164.552824766115, 14212.876163222896, 9659.26483517181]\n"
     ]
    }
   ],
   "source": [
    "print(test_error)"
   ]
  },
  {
   "cell_type": "code",
   "execution_count": 76,
   "metadata": {},
   "outputs": [
    {
     "name": "stdout",
     "output_type": "stream",
     "text": [
      "[90.51359258831695, 90.11540765945274, 83.68865221600602]\n"
     ]
    }
   ],
   "source": [
    "print(perc_error)"
   ]
  },
  {
   "cell_type": "code",
   "execution_count": null,
   "metadata": {},
   "outputs": [],
   "source": []
  }
 ],
 "metadata": {
  "kernelspec": {
   "display_name": "Python 3",
   "language": "python",
   "name": "python3"
  },
  "language_info": {
   "codemirror_mode": {
    "name": "ipython",
    "version": 3
   },
   "file_extension": ".py",
   "mimetype": "text/x-python",
   "name": "python",
   "nbconvert_exporter": "python",
   "pygments_lexer": "ipython3",
   "version": "3.6.3"
  }
 },
 "nbformat": 4,
 "nbformat_minor": 2
}
