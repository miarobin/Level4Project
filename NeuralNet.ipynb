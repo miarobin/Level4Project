{
 "cells": [
  {
   "cell_type": "code",
   "execution_count": 1,
   "metadata": {},
   "outputs": [
    {
     "name": "stderr",
     "output_type": "stream",
     "text": [
      "Using TensorFlow backend.\n"
     ]
    }
   ],
   "source": [
    "import tensorflow as tf\n",
    "from tensorflow import keras\n",
    "\n",
    "from sklearn.preprocessing import StandardScaler\n",
    "from sklearn.model_selection import RandomizedSearchCV\n",
    "from keras.wrappers.scikit_learn import KerasRegressor\n",
    "from sklearn.metrics import mean_squared_error\n",
    "\n",
    "import numpy as np\n",
    "import DataPreprocessing\n",
    "import SmartPolynomials"
   ]
  },
  {
   "cell_type": "code",
   "execution_count": 2,
   "metadata": {},
   "outputs": [],
   "source": [
    "combs = ['1,3','1,4','2,3','2,4','1,2,3','1,2,4','1,3,4','2,3,4','1,2,3','1,2,4','1,3,4','2,3,4']"
   ]
  },
  {
   "cell_type": "code",
   "execution_count": 9,
   "metadata": {},
   "outputs": [],
   "source": [
    "me_train, mom_train = DataPreprocessing.npy('LO/MG_uuuxux/me_4jet_1000000', 'LO/MG_uuuxux//mom_4jet_1000000', combs, frac=1)\n",
    "me_test, mom_test = DataPreprocessing.npy('LO/MG_uuuxux/me_4jet_100000', 'LO/MG_uuuxux/mom_4jet_100000', combs, frac=0.1)\n",
    "me_train=me_train/10**50\n",
    "me_test=me_test/10**50"
   ]
  },
  {
   "cell_type": "code",
   "execution_count": 10,
   "metadata": {},
   "outputs": [],
   "source": [
    "# Random Model from Tensorflow Website\n",
    "def build_model(components=3000):\n",
    "  model = keras.Sequential([\n",
    "    keras.layers.Dense(components, activation='relu', input_shape=[9,]), #could try swish??  \n",
    "    \n",
    "    keras.layers.Dense(components, activation='relu'),\n",
    "    keras.layers.Dense(components, activation='relu'),\n",
    "    keras.layers.Dense(components, activation='relu'),   \n",
    "    keras.layers.Dense(components, activation='relu'),\n",
    "      \n",
    "    keras.layers.Dense(1) \n",
    "  ])\n",
    "\n",
    "  sgd=tf.keras.optimizers.SGD(0.00000000000005, momentum=0.95, nesterov=True)\n",
    "  model.compile(loss='mse', \n",
    "                optimizer=sgd,\n",
    "                metrics=['mse'])\n",
    "  return model"
   ]
  },
  {
   "cell_type": "code",
   "execution_count": null,
   "metadata": {},
   "outputs": [
    {
     "name": "stdout",
     "output_type": "stream",
     "text": [
      "Epoch 1/1\n",
      "5000/5000 [==============================]5000/5000 [==============================] - 509s 102ms/step - loss: 643189373.1886 - mean_squared_error: 643189373.1886 - los\n",
      "\n",
      "0\n",
      "5000/5000 [==============================]5000/5000 [==============================] - 4s 751us/step\n",
      "\n",
      "8460508.993762197\n",
      "[25361.178335779274]\n",
      "[126038.36221901342]\n",
      "Epoch 1/1\n",
      "5000/5000 [==============================]5000/5000 [==============================] - 495s 99ms/step - loss: 639423830.9498 - mean_squared_error: 639423830.9498\n",
      "\n",
      "Epoch 1/1\n",
      "5000/5000 [==============================]5000/5000 [==============================] - 495s 99ms/step - loss: 643914133.0333 - mean_squared_error: 643914133.0333 [===========\n",
      "\n",
      "Epoch 1/1\n",
      "5000/5000 [==============================]5000/5000 [==============================] - 495s 99ms/step - loss: 628010229.9801 - mean_squared_error: 628010229.9801\n",
      "\n",
      "Epoch 1/1\n",
      "5000/5000 [==============================]5000/5000 [==============================] - 495s 99ms/step - loss: 645463805.8046 - mean_squared_error: 645463805.8046\n",
      "\n",
      "20000\n",
      "5000/5000 [==============================]5000/5000 [==============================] - 4s 748us/step\n",
      "\n",
      "8460485.472521126\n",
      "[25361.178335779274, 25405.97957709956]\n",
      "[126038.36221901342, 126038.3560806635]\n",
      "Epoch 1/1\n",
      "5000/5000 [==============================]5000/5000 [==============================] - 493s 99ms/step - loss: 623654512.4881 - mean_squared_error: 623654512.4881\n",
      "\n",
      "Epoch 1/1\n",
      "5000/5000 [==============================]5000/5000 [==============================] - 491s 98ms/step - loss: 672242600.9860 - mean_squared_error: 672242600.9860\n",
      "\n",
      "Epoch 1/1\n",
      "5000/5000 [==============================]5000/5000 [==============================] - 491s 98ms/step - loss: 638207420.1335 - mean_squared_error: 638207420.1335\n",
      "\n",
      "Epoch 1/1\n",
      "5000/5000 [==============================]5000/5000 [==============================] - 491s 98ms/step - loss: 632822563.6267 - mean_squared_error: 632822563.6267\n",
      "\n",
      "40000\n",
      "5000/5000 [==============================]5000/5000 [==============================] - 4s 756us/step\n",
      "\n",
      "8460460.360306546\n",
      "[25361.178335779274, 25405.97957709956, 25155.964575074435]\n",
      "[126038.36221901342, 126038.3560806635, 126038.34956439528]\n",
      "Epoch 1/1\n",
      "5000/5000 [==============================]5000/5000 [==============================] - 492s 98ms/step - loss: 643171823.9577 - mean_squared_error: 643171823.9577\n",
      "\n",
      "Epoch 1/1\n",
      "5000/5000 [==============================]5000/5000 [==============================] - 493s 99ms/step - loss: 631090030.8527 - mean_squared_error: 631090030.8527\n",
      "\n",
      "Epoch 1/1\n",
      "2481/5000 [=============>................]2481/5000 [=============>................] - ETA: 4:08 - loss: 634744082.8371 - mean_squared_error: 634744082.8371"
     ]
    },
    {
     "name": "stderr",
     "output_type": "stream",
     "text": [
      "IOPub message rate exceeded.\n",
      "The notebook server will temporarily stop sending output\n",
      "to the client in order to avoid crashing it.\n",
      "To change this limit, set the config variable\n",
      "`--NotebookApp.iopub_msg_rate_limit`.\n",
      "\n",
      "Current values:\n",
      "NotebookApp.iopub_msg_rate_limit=1000.0 (msgs/sec)\n",
      "NotebookApp.rate_limit_window=3.0 (secs)\n",
      "\n"
     ]
    },
    {
     "name": "stdout",
     "output_type": "stream",
     "text": [
      "5000/5000 [==============================]5000/5000 [==============================] - 493s 99ms/step - loss: 634596062.3906 - mean_squared_error: 634596062.3906\n",
      "\n",
      "60000\n",
      "5000/5000 [==============================]5000/5000 [==============================] - 4s 744us/step\n",
      "\n",
      "8460435.950259233\n",
      "[25361.178335779274, 25405.97957709956, 25155.964575074435, 25191.189943914917]\n",
      "[126038.36221901342, 126038.3560806635, 126038.34956439528, 126038.34320265806]\n",
      "Epoch 1/1\n",
      " 498/5000 [=>............................] 498/5000 [=>............................] - ETA: 7:22 - loss: 733465498.7769 - mean_squared_error: 733465498.7769"
     ]
    },
    {
     "name": "stderr",
     "output_type": "stream",
     "text": [
      "IOPub message rate exceeded.\n",
      "The notebook server will temporarily stop sending output\n",
      "to the client in order to avoid crashing it.\n",
      "To change this limit, set the config variable\n",
      "`--NotebookApp.iopub_msg_rate_limit`.\n",
      "\n",
      "Current values:\n",
      "NotebookApp.iopub_msg_rate_limit=1000.0 (msgs/sec)\n",
      "NotebookApp.rate_limit_window=3.0 (secs)\n",
      "\n"
     ]
    },
    {
     "name": "stdout",
     "output_type": "stream",
     "text": [
      "5000/5000 [==============================]5000/5000 [==============================] - 496s 99ms/step - loss: 669916342.4479 - mean_squared_error: 669916342.4479\n",
      "\n",
      "Epoch 1/1\n",
      "5000/5000 [==============================]5000/5000 [==============================] - 498s 100ms/step - loss: 628765783.6075 - mean_squared_error: 628765783.6075\n",
      "\n",
      "Epoch 1/1\n",
      "5000/5000 [==============================]5000/5000 [==============================] - 496s 99ms/step - loss: 653914803.1302 - mean_squared_error: 653914803.1302\n",
      "\n",
      "Epoch 1/1\n",
      "5000/5000 [==============================]5000/5000 [==============================] - 495s 99ms/step - loss: 641603622.3556 - mean_squared_error: 641603622.3556\n",
      "\n",
      "80000\n",
      "5000/5000 [==============================]5000/5000 [==============================] - 4s 725us/step\n",
      "\n",
      "8460411.345622517\n",
      "[25361.178335779274, 25405.97957709956, 25155.964575074435, 25191.189943914917, 25329.895584403817]\n",
      "[126038.36221901342, 126038.3560806635, 126038.34956439528, 126038.34320265806, 126038.3367869855]\n",
      "Epoch 1/1\n",
      "5000/5000 [==============================]5000/5000 [==============================] - 492s 98ms/step - loss: 603778058.9057 - mean_squared_error: 603778058.9057\n",
      "\n",
      "Epoch 1/1\n",
      "5000/5000 [==============================]5000/5000 [==============================] - 491s 98ms/step - loss: 654334537.7107 - mean_squared_error: 654334537.7107\n",
      "\n",
      "Epoch 1/1\n",
      " 111/5000 [..............................] 111/5000 [..............................] - ETA: 8:05 - loss: 677685212.2160 - mean_squared_error: 677685212.2160"
     ]
    },
    {
     "name": "stderr",
     "output_type": "stream",
     "text": [
      "IOPub message rate exceeded.\n",
      "The notebook server will temporarily stop sending output\n",
      "to the client in order to avoid crashing it.\n",
      "To change this limit, set the config variable\n",
      "`--NotebookApp.iopub_msg_rate_limit`.\n",
      "\n",
      "Current values:\n",
      "NotebookApp.iopub_msg_rate_limit=1000.0 (msgs/sec)\n",
      "NotebookApp.rate_limit_window=3.0 (secs)\n",
      "\n"
     ]
    },
    {
     "name": "stdout",
     "output_type": "stream",
     "text": [
      "3586/5000 [====================>.........]3586/5000 [====================>.........] - ETA: 2:19 - loss: 627488249.6687 - mean_squared_error: 627488249.6687"
     ]
    },
    {
     "name": "stderr",
     "output_type": "stream",
     "text": [
      "IOPub message rate exceeded.\n",
      "The notebook server will temporarily stop sending output\n",
      "to the client in order to avoid crashing it.\n",
      "To change this limit, set the config variable\n",
      "`--NotebookApp.iopub_msg_rate_limit`.\n",
      "\n",
      "Current values:\n",
      "NotebookApp.iopub_msg_rate_limit=1000.0 (msgs/sec)\n",
      "NotebookApp.rate_limit_window=3.0 (secs)\n",
      "\n"
     ]
    },
    {
     "name": "stdout",
     "output_type": "stream",
     "text": [
      "5000/5000 [==============================]5000/5000 [==============================] - 495s 99ms/step - loss: 628339257.8396 - mean_squared_error: 628339257.8396\n",
      "\n",
      "Epoch 1/1\n",
      "2234/5000 [============>.................]2234/5000 [============>.................] - ETA: 4:33 - loss: 654501555.7215 - mean_squared_error: 654501555.7215"
     ]
    },
    {
     "name": "stderr",
     "output_type": "stream",
     "text": [
      "IOPub message rate exceeded.\n",
      "The notebook server will temporarily stop sending output\n",
      "to the client in order to avoid crashing it.\n",
      "To change this limit, set the config variable\n",
      "`--NotebookApp.iopub_msg_rate_limit`.\n",
      "\n",
      "Current values:\n",
      "NotebookApp.iopub_msg_rate_limit=1000.0 (msgs/sec)\n",
      "NotebookApp.rate_limit_window=3.0 (secs)\n",
      "\n"
     ]
    },
    {
     "name": "stdout",
     "output_type": "stream",
     "text": [
      "5000/5000 [==============================]5000/5000 [==============================] - 497s 99ms/step - loss: 619488288.2692 - mean_squared_error: 619488288.2692\n",
      "\n",
      "Epoch 1/1\n",
      " 680/5000 [===>..........................] 680/5000 [===>..........................] - ETA: 7:11 - loss: 651668069.0477 - mean_squared_error: 651668069.0477"
     ]
    },
    {
     "name": "stderr",
     "output_type": "stream",
     "text": [
      "IOPub message rate exceeded.\n",
      "The notebook server will temporarily stop sending output\n",
      "to the client in order to avoid crashing it.\n",
      "To change this limit, set the config variable\n",
      "`--NotebookApp.iopub_msg_rate_limit`.\n",
      "\n",
      "Current values:\n",
      "NotebookApp.iopub_msg_rate_limit=1000.0 (msgs/sec)\n",
      "NotebookApp.rate_limit_window=3.0 (secs)\n",
      "\n"
     ]
    },
    {
     "name": "stdout",
     "output_type": "stream",
     "text": [
      "5000/5000 [==============================]5000/5000 [==============================] - 490s 98ms/step - loss: 633801235.5666 - mean_squared_error: 633801235.5666\n",
      "\n",
      "220000\n",
      "5000/5000 [==============================]5000/5000 [==============================] - 4s 742us/step\n",
      "\n",
      "8460240.204568353\n",
      "[25361.178335779274, 25405.97957709956, 25155.964575074435, 25191.189943914917, 25329.895584403817, 25225.369124403314, 25308.716433292306, 24437.233664455558, 25307.261893835926, 25389.080943240147, 24999.960921057456, 25175.409233106817]\n",
      "[126038.36221901342, 126038.3560806635, 126038.34956439528, 126038.34320265806, 126038.3367869855, 126038.33028359678, 126038.32390303284, 126038.31762984733, 126038.31133285146, 126038.30489549247, 126038.29851783541, 126038.29217214926]\n",
      "Epoch 1/1\n",
      "1874/5000 [==========>...................]1874/5000 [==========>...................] - ETA: 5:07 - loss: 598439962.2361 - mean_squared_error: 598439962.2361"
     ]
    },
    {
     "name": "stderr",
     "output_type": "stream",
     "text": [
      "IOPub message rate exceeded.\n",
      "The notebook server will temporarily stop sending output\n",
      "to the client in order to avoid crashing it.\n",
      "To change this limit, set the config variable\n",
      "`--NotebookApp.iopub_msg_rate_limit`.\n",
      "\n",
      "Current values:\n",
      "NotebookApp.iopub_msg_rate_limit=1000.0 (msgs/sec)\n",
      "NotebookApp.rate_limit_window=3.0 (secs)\n",
      "\n"
     ]
    },
    {
     "name": "stdout",
     "output_type": "stream",
     "text": [
      "4836/5000 [============================>.]4836/5000 [============================>.] - ETA: 16s - loss: 654917610.6244 - mean_squared_error: 654917610.6244"
     ]
    },
    {
     "name": "stderr",
     "output_type": "stream",
     "text": [
      "IOPub message rate exceeded.\n",
      "The notebook server will temporarily stop sending output\n",
      "to the client in order to avoid crashing it.\n",
      "To change this limit, set the config variable\n",
      "`--NotebookApp.iopub_msg_rate_limit`.\n",
      "\n",
      "Current values:\n",
      "NotebookApp.iopub_msg_rate_limit=1000.0 (msgs/sec)\n",
      "NotebookApp.rate_limit_window=3.0 (secs)\n",
      "\n"
     ]
    },
    {
     "name": "stdout",
     "output_type": "stream",
     "text": [
      "3393/5000 [===================>..........]3393/5000 [===================>..........] - ETA: 2:39 - loss: 638582119.5322 - mean_squared_error: 638582119.5322"
     ]
    },
    {
     "name": "stderr",
     "output_type": "stream",
     "text": [
      "IOPub message rate exceeded.\n",
      "The notebook server will temporarily stop sending output\n",
      "to the client in order to avoid crashing it.\n",
      "To change this limit, set the config variable\n",
      "`--NotebookApp.iopub_msg_rate_limit`.\n",
      "\n",
      "Current values:\n",
      "NotebookApp.iopub_msg_rate_limit=1000.0 (msgs/sec)\n",
      "NotebookApp.rate_limit_window=3.0 (secs)\n",
      "\n"
     ]
    },
    {
     "name": "stdout",
     "output_type": "stream",
     "text": [
      "5000/5000 [==============================]5000/5000 [==============================] - 528s 106ms/step - loss: 639054706.2345 - mean_squared_error: 639054706.2345\n",
      "\n",
      "Epoch 1/1\n",
      "1099/5000 [=====>........................]1099/5000 [=====>........................] - ETA: 6:47 - loss: 654358790.3048 - mean_squared_error: 654358790.304894/5000 [=====>........................] - ETA: 6:47 - loss: 654524832.5274 - mean_squared_error: 6545"
     ]
    },
    {
     "name": "stderr",
     "output_type": "stream",
     "text": [
      "IOPub message rate exceeded.\n",
      "The notebook server will temporarily stop sending output\n",
      "to the client in order to avoid crashing it.\n",
      "To change this limit, set the config variable\n",
      "`--NotebookApp.iopub_msg_rate_limit`.\n",
      "\n",
      "Current values:\n",
      "NotebookApp.iopub_msg_rate_limit=1000.0 (msgs/sec)\n",
      "NotebookApp.rate_limit_window=3.0 (secs)\n",
      "\n"
     ]
    },
    {
     "name": "stdout",
     "output_type": "stream",
     "text": [
      "4093/5000 [=======================>......]4093/5000 [=======================>......] - ETA: 1:28 - loss: 629606804.7702 - mean_squared_error: 629606804.7702"
     ]
    },
    {
     "name": "stderr",
     "output_type": "stream",
     "text": [
      "IOPub message rate exceeded.\n",
      "The notebook server will temporarily stop sending output\n",
      "to the client in order to avoid crashing it.\n",
      "To change this limit, set the config variable\n",
      "`--NotebookApp.iopub_msg_rate_limit`.\n",
      "\n",
      "Current values:\n",
      "NotebookApp.iopub_msg_rate_limit=1000.0 (msgs/sec)\n",
      "NotebookApp.rate_limit_window=3.0 (secs)\n",
      "\n"
     ]
    },
    {
     "name": "stdout",
     "output_type": "stream",
     "text": [
      "5000/5000 [==============================]5000/5000 [==============================] - 4s 741us/step\n",
      "\n",
      "8460191.104526237\n",
      "[25361.178335779274, 25405.97957709956, 25155.964575074435, 25191.189943914917, 25329.895584403817, 25225.369124403314, 25308.716433292306, 24437.233664455558, 25307.261893835926, 25389.080943240147, 24999.960921057456, 25175.409233106817, 25323.75875342363, 25141.750142549743]\n",
      "[126038.36221901342, 126038.3560806635, 126038.34956439528, 126038.34320265806, 126038.3367869855, 126038.33028359678, 126038.32390303284, 126038.31762984733, 126038.31133285146, 126038.30489549247, 126038.29851783541, 126038.29217214926, 126038.28575411031, 126038.27938263041]\n",
      "Epoch 1/1\n",
      "5000/5000 [==============================]5000/5000 [==============================] - 490s 98ms/step - loss: 618264461.1049 - mean_squared_error: 618264461.1049\n",
      "\n",
      "Epoch 1/1\n",
      "5000/5000 [==============================]5000/5000 [==============================] - 498s 100ms/step - loss: 635222712.7886 - mean_squared_error: 635222712.7886\n",
      "\n",
      "Epoch 1/1\n",
      "5000/5000 [==============================]5000/5000 [==============================] - 673s 135ms/step - loss: 637342942.2200 - mean_squared_error: 637342942.2200\n",
      "\n",
      "Epoch 1/1\n",
      "5000/5000 [==============================]5000/5000 [==============================] - 696s 139ms/step - loss: 615613388.3631 - mean_squared_error: 615613388.3631\n",
      "\n",
      "280000\n",
      "5000/5000 [==============================]5000/5000 [==============================] - 4s 731us/step\n",
      "\n",
      "8460166.826183356\n",
      "[25361.178335779274, 25405.97957709956, 25155.964575074435, 25191.189943914917, 25329.895584403817, 25225.369124403314, 25308.716433292306, 24437.233664455558, 25307.261893835926, 25389.080943240147, 24999.960921057456, 25175.409233106817, 25323.75875342363, 25141.750142549743, 24811.5573668724]\n",
      "[126038.36221901342, 126038.3560806635, 126038.34956439528, 126038.34320265806, 126038.3367869855, 126038.33028359678, 126038.32390303284, 126038.31762984733, 126038.31133285146, 126038.30489549247, 126038.29851783541, 126038.29217214926, 126038.28575411031, 126038.27938263041, 126038.2730574256]\n",
      "Epoch 1/1\n",
      "2938/5000 [================>.............]2938/5000 [================>.............] - ETA: 3:24 - loss: 631426089.0162 - mean_squared_error: 631426089.0162"
     ]
    },
    {
     "name": "stderr",
     "output_type": "stream",
     "text": [
      "IOPub message rate exceeded.\n",
      "The notebook server will temporarily stop sending output\n",
      "to the client in order to avoid crashing it.\n",
      "To change this limit, set the config variable\n",
      "`--NotebookApp.iopub_msg_rate_limit`.\n",
      "\n",
      "Current values:\n",
      "NotebookApp.iopub_msg_rate_limit=1000.0 (msgs/sec)\n",
      "NotebookApp.rate_limit_window=3.0 (secs)\n",
      "\n"
     ]
    },
    {
     "name": "stdout",
     "output_type": "stream",
     "text": [
      "5000/5000 [==============================]5000/5000 [==============================] - 493s 99ms/step - loss: 632583383.4586 - mean_squared_error: 632583383.4586\n",
      "\n",
      "Epoch 1/1\n",
      " 623/5000 [==>...........................] 623/5000 [==>...........................] - ETA: 7:10 - loss: 666936961.8545 - mean_squared_error: 666936961.8545"
     ]
    },
    {
     "name": "stderr",
     "output_type": "stream",
     "text": [
      "IOPub message rate exceeded.\n",
      "The notebook server will temporarily stop sending output\n",
      "to the client in order to avoid crashing it.\n",
      "To change this limit, set the config variable\n",
      "`--NotebookApp.iopub_msg_rate_limit`.\n",
      "\n",
      "Current values:\n",
      "NotebookApp.iopub_msg_rate_limit=1000.0 (msgs/sec)\n",
      "NotebookApp.rate_limit_window=3.0 (secs)\n",
      "\n"
     ]
    },
    {
     "name": "stdout",
     "output_type": "stream",
     "text": [
      "3050/5000 [=================>............]3050/5000 [=================>............] - ETA: 3:12 - loss: 645757599.8368 - mean_squared_error: 645757599.8368"
     ]
    },
    {
     "name": "stderr",
     "output_type": "stream",
     "text": [
      "IOPub message rate exceeded.\n",
      "The notebook server will temporarily stop sending output\n",
      "to the client in order to avoid crashing it.\n",
      "To change this limit, set the config variable\n",
      "`--NotebookApp.iopub_msg_rate_limit`.\n",
      "\n",
      "Current values:\n",
      "NotebookApp.iopub_msg_rate_limit=1000.0 (msgs/sec)\n",
      "NotebookApp.rate_limit_window=3.0 (secs)\n",
      "\n"
     ]
    },
    {
     "name": "stdout",
     "output_type": "stream",
     "text": [
      "4975/5000 [============================>.]4975/5000 [============================>.] - ETA: 2s - loss: 614357364.6340 - mean_squared_error: 614357364.6340"
     ]
    },
    {
     "name": "stderr",
     "output_type": "stream",
     "text": [
      "IOPub message rate exceeded.\n",
      "The notebook server will temporarily stop sending output\n",
      "to the client in order to avoid crashing it.\n",
      "To change this limit, set the config variable\n",
      "`--NotebookApp.iopub_msg_rate_limit`.\n",
      "\n",
      "Current values:\n",
      "NotebookApp.iopub_msg_rate_limit=1000.0 (msgs/sec)\n",
      "NotebookApp.rate_limit_window=3.0 (secs)\n",
      "\n"
     ]
    },
    {
     "name": "stdout",
     "output_type": "stream",
     "text": [
      "5000/5000 [==============================]5000/5000 [==============================] - 527s 105ms/step - loss: 616250427.4745 - mean_squared_error: 616250427.4745\n",
      "\n",
      "Epoch 1/1\n",
      "2731/5000 [===============>..............]2731/5000 [===============>..............] - ETA: 3:46 - loss: 643745626.7006 - mean_squared_error: 643745626.7006"
     ]
    },
    {
     "name": "stderr",
     "output_type": "stream",
     "text": [
      "IOPub message rate exceeded.\n",
      "The notebook server will temporarily stop sending output\n",
      "to the client in order to avoid crashing it.\n",
      "To change this limit, set the config variable\n",
      "`--NotebookApp.iopub_msg_rate_limit`.\n",
      "\n",
      "Current values:\n",
      "NotebookApp.iopub_msg_rate_limit=1000.0 (msgs/sec)\n",
      "NotebookApp.rate_limit_window=3.0 (secs)\n",
      "\n"
     ]
    },
    {
     "name": "stdout",
     "output_type": "stream",
     "text": [
      "5000/5000 [==============================]5000/5000 [==============================] - 497s 99ms/step - loss: 620228077.1640 - mean_squared_error: 620228077.1640\n",
      "\n",
      "320000\n",
      "5000/5000 [==============================]5000/5000 [==============================] - 4s 741us/step\n",
      "\n",
      "8460118.234874167\n",
      "[25361.178335779274, 25405.97957709956, 25155.964575074435, 25191.189943914917, 25329.895584403817, 25225.369124403314, 25308.716433292306, 24437.233664455558, 25307.261893835926, 25389.080943240147, 24999.960921057456, 25175.409233106817, 25323.75875342363, 25141.750142549743, 24811.5573668724, 25438.98972383927, 24904.378470879372]\n",
      "[126038.36221901342, 126038.3560806635, 126038.34956439528, 126038.34320265806, 126038.3367869855, 126038.33028359678, 126038.32390303284, 126038.31762984733, 126038.31133285146, 126038.30489549247, 126038.29851783541, 126038.29217214926, 126038.28575411031, 126038.27938263041, 126038.2730574256, 126038.26668940848, 126038.26039044105]\n",
      "Epoch 1/1\n",
      " 387/5000 [=>............................] 387/5000 [=>............................] - ETA: 7:39 - loss: 627708757.1219 - mean_squared_error: 627708757.1219"
     ]
    },
    {
     "name": "stderr",
     "output_type": "stream",
     "text": [
      "IOPub message rate exceeded.\n",
      "The notebook server will temporarily stop sending output\n",
      "to the client in order to avoid crashing it.\n",
      "To change this limit, set the config variable\n",
      "`--NotebookApp.iopub_msg_rate_limit`.\n",
      "\n",
      "Current values:\n",
      "NotebookApp.iopub_msg_rate_limit=1000.0 (msgs/sec)\n",
      "NotebookApp.rate_limit_window=3.0 (secs)\n",
      "\n"
     ]
    },
    {
     "name": "stdout",
     "output_type": "stream",
     "text": [
      "3289/5000 [==================>...........]3289/5000 [==================>...........] - ETA: 2:49 - loss: 653281683.4995 - mean_squared_error: 653281683.4995"
     ]
    },
    {
     "name": "stderr",
     "output_type": "stream",
     "text": [
      "IOPub message rate exceeded.\n",
      "The notebook server will temporarily stop sending output\n",
      "to the client in order to avoid crashing it.\n",
      "To change this limit, set the config variable\n",
      "`--NotebookApp.iopub_msg_rate_limit`.\n",
      "\n",
      "Current values:\n",
      "NotebookApp.iopub_msg_rate_limit=1000.0 (msgs/sec)\n",
      "NotebookApp.rate_limit_window=3.0 (secs)\n",
      "\n"
     ]
    },
    {
     "name": "stdout",
     "output_type": "stream",
     "text": [
      "5000/5000 [==============================]5000/5000 [==============================] - 495s 99ms/step - loss: 612239138.4239 - mean_squared_error: 612239138.4239\n",
      "\n",
      "Epoch 1/1\n",
      "1320/5000 [======>.......................]1320/5000 [======>.......................] - ETA: 6:05 - loss: 641553142.4194 - mean_squared_error: 641553142.4194"
     ]
    },
    {
     "name": "stderr",
     "output_type": "stream",
     "text": [
      "IOPub message rate exceeded.\n",
      "The notebook server will temporarily stop sending output\n",
      "to the client in order to avoid crashing it.\n",
      "To change this limit, set the config variable\n",
      "`--NotebookApp.iopub_msg_rate_limit`.\n",
      "\n",
      "Current values:\n",
      "NotebookApp.iopub_msg_rate_limit=1000.0 (msgs/sec)\n",
      "NotebookApp.rate_limit_window=3.0 (secs)\n",
      "\n"
     ]
    },
    {
     "name": "stdout",
     "output_type": "stream",
     "text": [
      "4260/5000 [========================>.....]4260/5000 [========================>.....] - ETA: 1:13 - loss: 625994662.3178 - mean_squared_error: 625994662.3178"
     ]
    },
    {
     "name": "stderr",
     "output_type": "stream",
     "text": [
      "IOPub message rate exceeded.\n",
      "The notebook server will temporarily stop sending output\n",
      "to the client in order to avoid crashing it.\n",
      "To change this limit, set the config variable\n",
      "`--NotebookApp.iopub_msg_rate_limit`.\n",
      "\n",
      "Current values:\n",
      "NotebookApp.iopub_msg_rate_limit=1000.0 (msgs/sec)\n",
      "NotebookApp.rate_limit_window=3.0 (secs)\n",
      "\n"
     ]
    },
    {
     "name": "stdout",
     "output_type": "stream",
     "text": [
      "5000/5000 [==============================]5000/5000 [==============================] - 497s 99ms/step - loss: 621964230.4142 - mean_squared_error: 621964230.4142\n",
      "\n",
      "Epoch 1/1\n",
      "2588/5000 [==============>...............]2588/5000 [==============>...............] - ETA: 3:59 - loss: 582676036.3221 - mean_squared_error: 582676036.3221"
     ]
    },
    {
     "name": "stderr",
     "output_type": "stream",
     "text": [
      "IOPub message rate exceeded.\n",
      "The notebook server will temporarily stop sending output\n",
      "to the client in order to avoid crashing it.\n",
      "To change this limit, set the config variable\n",
      "`--NotebookApp.iopub_msg_rate_limit`.\n",
      "\n",
      "Current values:\n",
      "NotebookApp.iopub_msg_rate_limit=1000.0 (msgs/sec)\n",
      "NotebookApp.rate_limit_window=3.0 (secs)\n",
      "\n"
     ]
    },
    {
     "name": "stdout",
     "output_type": "stream",
     "text": [
      "5000/5000 [==============================]5000/5000 [==============================] - 498s 100ms/step - loss: 633986986.2209 - mean_squared_error: 633986986.2209\n",
      "\n",
      "360000\n",
      "5000/5000 [==============================]5000/5000 [==============================] - 4s 735us/step\n",
      "\n",
      "8460069.85545622\n",
      "[25361.178335779274, 25405.97957709956, 25155.964575074435, 25191.189943914917, 25329.895584403817, 25225.369124403314, 25308.716433292306, 24437.233664455558, 25307.261893835926, 25389.080943240147, 24999.960921057456, 25175.409233106817, 25323.75875342363, 25141.750142549743, 24811.5573668724, 25438.98972383927, 24904.378470879372, 24627.78894306186, 25179.0980459269]\n",
      "[126038.36221901342, 126038.3560806635, 126038.34956439528, 126038.34320265806, 126038.3367869855, 126038.33028359678, 126038.32390303284, 126038.31762984733, 126038.31133285146, 126038.30489549247, 126038.29851783541, 126038.29217214926, 126038.28575411031, 126038.27938263041, 126038.2730574256, 126038.26668940848, 126038.26039044105, 126038.25408442761, 126038.24778749504]\n",
      "Epoch 1/1\n",
      "5000/5000 [==============================]5000/5000 [==============================] - 495s 99ms/step - loss: 657033594.1862 - mean_squared_error: 657033594.1862\n",
      "\n",
      "Epoch 1/1\n",
      "5000/5000 [==============================]5000/5000 [==============================] - 494s 99ms/step - loss: 638529966.3400 - mean_squared_error: 638529966.3400\n",
      "\n",
      "Epoch 1/1\n",
      "3580/5000 [====================>.........]3580/5000 [====================>.........] - ETA: 2:20 - loss: 622708126.1742 - mean_squared_error: 622708126.1742"
     ]
    },
    {
     "name": "stderr",
     "output_type": "stream",
     "text": [
      "IOPub message rate exceeded.\n",
      "The notebook server will temporarily stop sending output\n",
      "to the client in order to avoid crashing it.\n",
      "To change this limit, set the config variable\n",
      "`--NotebookApp.iopub_msg_rate_limit`.\n",
      "\n",
      "Current values:\n",
      "NotebookApp.iopub_msg_rate_limit=1000.0 (msgs/sec)\n",
      "NotebookApp.rate_limit_window=3.0 (secs)\n",
      "\n"
     ]
    },
    {
     "name": "stdout",
     "output_type": "stream",
     "text": [
      "3989/5000 [======================>.......]3989/5000 [======================>.......] - ETA: 1:39 - loss: 658664784.3157 - mean_squared_error: 658664784.3157"
     ]
    },
    {
     "name": "stderr",
     "output_type": "stream",
     "text": [
      "IOPub message rate exceeded.\n",
      "The notebook server will temporarily stop sending output\n",
      "to the client in order to avoid crashing it.\n",
      "To change this limit, set the config variable\n",
      "`--NotebookApp.iopub_msg_rate_limit`.\n",
      "\n",
      "Current values:\n",
      "NotebookApp.iopub_msg_rate_limit=1000.0 (msgs/sec)\n",
      "NotebookApp.rate_limit_window=3.0 (secs)\n",
      "\n"
     ]
    },
    {
     "name": "stdout",
     "output_type": "stream",
     "text": [
      "5000/5000 [==============================]5000/5000 [==============================] - 495s 99ms/step - loss: 643037922.1492 - mean_squared_error: 643037922.1492\n",
      "\n",
      "380000\n",
      "5000/5000 [==============================]5000/5000 [==============================] - 4s 733us/step\n",
      "\n",
      "8460045.250803925\n",
      "[25361.178335779274, 25405.97957709956, 25155.964575074435, 25191.189943914917, 25329.895584403817, 25225.369124403314, 25308.716433292306, 24437.233664455558, 25307.261893835926, 25389.080943240147, 24999.960921057456, 25175.409233106817, 25323.75875342363, 25141.750142549743, 24811.5573668724, 25438.98972383927, 24904.378470879372, 24627.78894306186, 25179.0980459269, 25358.192187930115]\n",
      "[126038.36221901342, 126038.3560806635, 126038.34956439528, 126038.34320265806, 126038.3367869855, 126038.33028359678, 126038.32390303284, 126038.31762984733, 126038.31133285146, 126038.30489549247, 126038.29851783541, 126038.29217214926, 126038.28575411031, 126038.27938263041, 126038.2730574256, 126038.26668940848, 126038.26039044105, 126038.25408442761, 126038.24778749504, 126038.24137438921]\n",
      "Epoch 1/1\n",
      "1742/5000 [=========>....................]1742/5000 [=========>....................] - ETA: 5:27 - loss: 655878081.0385 - mean_squared_error: 655878081.0385"
     ]
    },
    {
     "name": "stderr",
     "output_type": "stream",
     "text": [
      "IOPub message rate exceeded.\n",
      "The notebook server will temporarily stop sending output\n",
      "to the client in order to avoid crashing it.\n",
      "To change this limit, set the config variable\n",
      "`--NotebookApp.iopub_msg_rate_limit`.\n",
      "\n",
      "Current values:\n",
      "NotebookApp.iopub_msg_rate_limit=1000.0 (msgs/sec)\n",
      "NotebookApp.rate_limit_window=3.0 (secs)\n",
      "\n"
     ]
    },
    {
     "name": "stdout",
     "output_type": "stream",
     "text": [
      "3998/5000 [======================>.......]3998/5000 [======================>.......] - ETA: 1:40 - loss: 616147007.3964 - mean_squared_error: 616147007.3964"
     ]
    },
    {
     "name": "stderr",
     "output_type": "stream",
     "text": [
      "IOPub message rate exceeded.\n",
      "The notebook server will temporarily stop sending output\n",
      "to the client in order to avoid crashing it.\n",
      "To change this limit, set the config variable\n",
      "`--NotebookApp.iopub_msg_rate_limit`.\n",
      "\n",
      "Current values:\n",
      "NotebookApp.iopub_msg_rate_limit=1000.0 (msgs/sec)\n",
      "NotebookApp.rate_limit_window=3.0 (secs)\n",
      "\n"
     ]
    },
    {
     "name": "stdout",
     "output_type": "stream",
     "text": [
      "5000/5000 [==============================]5000/5000 [==============================] - 499s 100ms/step - loss: 636088192.5093 - mean_squared_error: 636088192.5093\n",
      "\n",
      "Epoch 1/1\n",
      "2041/5000 [===========>..................]2041/5000 [===========>..................] - ETA: 4:55 - loss: 651848045.4350 - mean_squared_error: 651848045.4350"
     ]
    },
    {
     "name": "stderr",
     "output_type": "stream",
     "text": [
      "IOPub message rate exceeded.\n",
      "The notebook server will temporarily stop sending output\n",
      "to the client in order to avoid crashing it.\n",
      "To change this limit, set the config variable\n",
      "`--NotebookApp.iopub_msg_rate_limit`.\n",
      "\n",
      "Current values:\n",
      "NotebookApp.iopub_msg_rate_limit=1000.0 (msgs/sec)\n",
      "NotebookApp.rate_limit_window=3.0 (secs)\n",
      "\n"
     ]
    },
    {
     "name": "stdout",
     "output_type": "stream",
     "text": [
      "4861/5000 [============================>.]4861/5000 [============================>.] - ETA: 14s - loss: 632046428.5572 - mean_squared_error: 632046428.5572"
     ]
    },
    {
     "name": "stderr",
     "output_type": "stream",
     "text": [
      "IOPub message rate exceeded.\n",
      "The notebook server will temporarily stop sending output\n",
      "to the client in order to avoid crashing it.\n",
      "To change this limit, set the config variable\n",
      "`--NotebookApp.iopub_msg_rate_limit`.\n",
      "\n",
      "Current values:\n",
      "NotebookApp.iopub_msg_rate_limit=1000.0 (msgs/sec)\n",
      "NotebookApp.rate_limit_window=3.0 (secs)\n",
      "\n"
     ]
    },
    {
     "name": "stdout",
     "output_type": "stream",
     "text": [
      "5000/5000 [==============================]5000/5000 [==============================] - 498s 100ms/step - loss: 622857338.8660 - mean_squared_error: 622857338.8660\n",
      "\n",
      "Epoch 1/1\n",
      "2733/5000 [===============>..............]2733/5000 [===============>..............] - ETA: 3:43 - loss: 607154081.5379 - mean_squared_error: 607154081.5379"
     ]
    },
    {
     "name": "stderr",
     "output_type": "stream",
     "text": [
      "IOPub message rate exceeded.\n",
      "The notebook server will temporarily stop sending output\n",
      "to the client in order to avoid crashing it.\n",
      "To change this limit, set the config variable\n",
      "`--NotebookApp.iopub_msg_rate_limit`.\n",
      "\n",
      "Current values:\n",
      "NotebookApp.iopub_msg_rate_limit=1000.0 (msgs/sec)\n",
      "NotebookApp.rate_limit_window=3.0 (secs)\n",
      "\n"
     ]
    },
    {
     "name": "stdout",
     "output_type": "stream",
     "text": [
      "5000/5000 [==============================]5000/5000 [==============================] - 494s 99ms/step - loss: 618317506.5670 - mean_squared_error: 618317506.5670\n",
      "\n",
      "420000\n",
      "5000/5000 [==============================]5000/5000 [==============================] - 4s 755us/step\n",
      "\n",
      "8459996.596820246\n",
      "[25361.178335779274, 25405.97957709956, 25155.964575074435, 25191.189943914917, 25329.895584403817, 25225.369124403314, 25308.716433292306, 24437.233664455558, 25307.261893835926, 25389.080943240147, 24999.960921057456, 25175.409233106817, 25323.75875342363, 25141.750142549743, 24811.5573668724, 25438.98972383927, 24904.378470879372, 24627.78894306186, 25179.0980459269, 25358.192187930115, 25436.326352113036, 24865.99078053396]\n",
      "[126038.36221901342, 126038.3560806635, 126038.34956439528, 126038.34320265806, 126038.3367869855, 126038.33028359678, 126038.32390303284, 126038.31762984733, 126038.31133285146, 126038.30489549247, 126038.29851783541, 126038.29217214926, 126038.28575411031, 126038.27938263041, 126038.2730574256, 126038.26668940848, 126038.26039044105, 126038.25408442761, 126038.24778749504, 126038.24137438921, 126038.2349887603, 126038.2286976085]\n",
      "Epoch 1/1\n",
      " 715/5000 [===>..........................] 715/5000 [===>..........................] - ETA: 7:04 - loss: 685183421.1930 - mean_squared_error: 685183421.1930"
     ]
    },
    {
     "name": "stderr",
     "output_type": "stream",
     "text": [
      "IOPub message rate exceeded.\n",
      "The notebook server will temporarily stop sending output\n",
      "to the client in order to avoid crashing it.\n",
      "To change this limit, set the config variable\n",
      "`--NotebookApp.iopub_msg_rate_limit`.\n",
      "\n",
      "Current values:\n",
      "NotebookApp.iopub_msg_rate_limit=1000.0 (msgs/sec)\n",
      "NotebookApp.rate_limit_window=3.0 (secs)\n",
      "\n"
     ]
    },
    {
     "name": "stdout",
     "output_type": "stream",
     "text": [
      "3948/5000 [======================>.......]3948/5000 [======================>.......] - ETA: 1:44 - loss: 687490920.5476 - mean_squared_error: 687490920.5476"
     ]
    },
    {
     "name": "stderr",
     "output_type": "stream",
     "text": [
      "IOPub message rate exceeded.\n",
      "The notebook server will temporarily stop sending output\n",
      "to the client in order to avoid crashing it.\n",
      "To change this limit, set the config variable\n",
      "`--NotebookApp.iopub_msg_rate_limit`.\n",
      "\n",
      "Current values:\n",
      "NotebookApp.iopub_msg_rate_limit=1000.0 (msgs/sec)\n",
      "NotebookApp.rate_limit_window=3.0 (secs)\n",
      "\n"
     ]
    },
    {
     "name": "stdout",
     "output_type": "stream",
     "text": [
      "5000/5000 [==============================]5000/5000 [==============================] - 496s 99ms/step - loss: 672322001.6628 - mean_squared_error: 672322001.6628\n",
      "\n",
      "Epoch 1/1\n",
      "5000/5000 [==============================]5000/5000 [==============================] - 495s 99ms/step - loss: 635020977.1722 - mean_squared_error: 635020977.1722\n",
      "\n",
      "Epoch 1/1\n",
      "2230/5000 [============>.................]2230/5000 [============>.................] - ETA: 4:33 - loss: 661318603.5669 - mean_squared_error: 661318603.5669"
     ]
    },
    {
     "name": "stderr",
     "output_type": "stream",
     "text": [
      "IOPub message rate exceeded.\n",
      "The notebook server will temporarily stop sending output\n",
      "to the client in order to avoid crashing it.\n",
      "To change this limit, set the config variable\n",
      "`--NotebookApp.iopub_msg_rate_limit`.\n",
      "\n",
      "Current values:\n",
      "NotebookApp.iopub_msg_rate_limit=1000.0 (msgs/sec)\n",
      "NotebookApp.rate_limit_window=3.0 (secs)\n",
      "\n"
     ]
    },
    {
     "name": "stdout",
     "output_type": "stream",
     "text": [
      "5000/5000 [==============================]5000/5000 [==============================] - 496s 99ms/step - loss: 642436408.4766 - mean_squared_error: 642436408.4766\n",
      "\n",
      "Epoch 1/1\n",
      " 534/5000 [==>...........................] 534/5000 [==>...........................] - ETA: 7:24 - loss: 599681828.3535 - mean_squared_error: 599681828.3535"
     ]
    },
    {
     "name": "stderr",
     "output_type": "stream",
     "text": [
      "IOPub message rate exceeded.\n",
      "The notebook server will temporarily stop sending output\n",
      "to the client in order to avoid crashing it.\n",
      "To change this limit, set the config variable\n",
      "`--NotebookApp.iopub_msg_rate_limit`.\n",
      "\n",
      "Current values:\n",
      "NotebookApp.iopub_msg_rate_limit=1000.0 (msgs/sec)\n",
      "NotebookApp.rate_limit_window=3.0 (secs)\n",
      "\n"
     ]
    },
    {
     "name": "stdout",
     "output_type": "stream",
     "text": [
      "3406/5000 [===================>..........]3406/5000 [===================>..........] - ETA: 2:37 - loss: 619850766.7303 - mean_squared_error: 619850766.7303"
     ]
    },
    {
     "name": "stderr",
     "output_type": "stream",
     "text": [
      "IOPub message rate exceeded.\n",
      "The notebook server will temporarily stop sending output\n",
      "to the client in order to avoid crashing it.\n",
      "To change this limit, set the config variable\n",
      "`--NotebookApp.iopub_msg_rate_limit`.\n",
      "\n",
      "Current values:\n",
      "NotebookApp.iopub_msg_rate_limit=1000.0 (msgs/sec)\n",
      "NotebookApp.rate_limit_window=3.0 (secs)\n",
      "\n"
     ]
    },
    {
     "name": "stdout",
     "output_type": "stream",
     "text": [
      "5000/5000 [==============================]5000/5000 [==============================] - 491s 98ms/step - loss: 632841178.6157 - mean_squared_error: 632841178.6157\n",
      "\n",
      "460000\n",
      "5000/5000 [==============================]5000/5000 [==============================] - 4s 736us/step\n",
      "\n",
      "8459947.554136524\n",
      "[25361.178335779274, 25405.97957709956, 25155.964575074435, 25191.189943914917, 25329.895584403817, 25225.369124403314, 25308.716433292306, 24437.233664455558, 25307.261893835926, 25389.080943240147, 24999.960921057456, 25175.409233106817, 25323.75875342363, 25141.750142549743, 24811.5573668724, 25438.98972383927, 24904.378470879372, 24627.78894306186, 25179.0980459269, 25358.192187930115, 25436.326352113036, 24865.99078053396, 25358.798124201392, 25156.3346208942]\n",
      "[126038.36221901342, 126038.3560806635, 126038.34956439528, 126038.34320265806, 126038.3367869855, 126038.33028359678, 126038.32390303284, 126038.31762984733, 126038.31133285146, 126038.30489549247, 126038.29851783541, 126038.29217214926, 126038.28575411031, 126038.27938263041, 126038.2730574256, 126038.26668940848, 126038.26039044105, 126038.25408442761, 126038.24778749504, 126038.24137438921, 126038.2349887603, 126038.2286976085, 126038.22226219827, 126038.21591214882]\n",
      "Epoch 1/1\n",
      "1193/5000 [======>.......................]1193/5000 [======>.......................] - ETA: 6:17 - loss: 623210265.1889 - mean_squared_error: 623210265.1889"
     ]
    },
    {
     "name": "stderr",
     "output_type": "stream",
     "text": [
      "IOPub message rate exceeded.\n",
      "The notebook server will temporarily stop sending output\n",
      "to the client in order to avoid crashing it.\n",
      "To change this limit, set the config variable\n",
      "`--NotebookApp.iopub_msg_rate_limit`.\n",
      "\n",
      "Current values:\n",
      "NotebookApp.iopub_msg_rate_limit=1000.0 (msgs/sec)\n",
      "NotebookApp.rate_limit_window=3.0 (secs)\n",
      "\n"
     ]
    },
    {
     "name": "stdout",
     "output_type": "stream",
     "text": [
      "4432/5000 [=========================>....]4432/5000 [=========================>....] - ETA: 56s - loss: 646486895.8887 - mean_squared_error: 646486895.8887"
     ]
    },
    {
     "name": "stderr",
     "output_type": "stream",
     "text": [
      "IOPub message rate exceeded.\n",
      "The notebook server will temporarily stop sending output\n",
      "to the client in order to avoid crashing it.\n",
      "To change this limit, set the config variable\n",
      "`--NotebookApp.iopub_msg_rate_limit`.\n",
      "\n",
      "Current values:\n",
      "NotebookApp.iopub_msg_rate_limit=1000.0 (msgs/sec)\n",
      "NotebookApp.rate_limit_window=3.0 (secs)\n",
      "\n"
     ]
    },
    {
     "name": "stdout",
     "output_type": "stream",
     "text": [
      "5000/5000 [==============================]5000/5000 [==============================] - 497s 99ms/step - loss: 624073886.3599 - mean_squared_error: 624073886.3599\n",
      "\n",
      "Epoch 1/1\n",
      "2166/5000 [===========>..................]2166/5000 [===========>..................] - ETA: 4:41 - loss: 619832819.4980 - mean_squared_error: 619832819.498014/5000 "
     ]
    },
    {
     "name": "stderr",
     "output_type": "stream",
     "text": [
      "IOPub message rate exceeded.\n",
      "The notebook server will temporarily stop sending output\n",
      "to the client in order to avoid crashing it.\n",
      "To change this limit, set the config variable\n",
      "`--NotebookApp.iopub_msg_rate_limit`.\n",
      "\n",
      "Current values:\n",
      "NotebookApp.iopub_msg_rate_limit=1000.0 (msgs/sec)\n",
      "NotebookApp.rate_limit_window=3.0 (secs)\n",
      "\n"
     ]
    },
    {
     "name": "stdout",
     "output_type": "stream",
     "text": [
      "5000/5000 [==============================]5000/5000 [==============================] - 501s 100ms/step - loss: 615687881.3877 - mean_squared_error: 615687881.3877\n",
      "\n",
      "Epoch 1/1\n",
      "5000/5000 [==============================]5000/5000 [==============================] - 642s 128ms/step - loss: 620265782.1405 - mean_squared_error: 620265782.1405\n",
      "\n",
      "Epoch 1/1\n",
      " 912/5000 [====>.........................] 912/5000 [====>.........................] - ETA: 7:42 - loss: 611072538.9821 - mean_squared_error: 611072538.9821"
     ]
    },
    {
     "name": "stderr",
     "output_type": "stream",
     "text": [
      "IOPub message rate exceeded.\n",
      "The notebook server will temporarily stop sending output\n",
      "to the client in order to avoid crashing it.\n",
      "To change this limit, set the config variable\n",
      "`--NotebookApp.iopub_msg_rate_limit`.\n",
      "\n",
      "Current values:\n",
      "NotebookApp.iopub_msg_rate_limit=1000.0 (msgs/sec)\n",
      "NotebookApp.rate_limit_window=3.0 (secs)\n",
      "\n"
     ]
    },
    {
     "name": "stdout",
     "output_type": "stream",
     "text": [
      "3737/5000 [=====================>........]3737/5000 [=====================>........] - ETA: 2:04 - loss: 651438758.9984 - mean_squared_error: 651438758.9984"
     ]
    },
    {
     "name": "stderr",
     "output_type": "stream",
     "text": [
      "IOPub message rate exceeded.\n",
      "The notebook server will temporarily stop sending output\n",
      "to the client in order to avoid crashing it.\n",
      "To change this limit, set the config variable\n",
      "`--NotebookApp.iopub_msg_rate_limit`.\n",
      "\n",
      "Current values:\n",
      "NotebookApp.iopub_msg_rate_limit=1000.0 (msgs/sec)\n",
      "NotebookApp.rate_limit_window=3.0 (secs)\n",
      "\n"
     ]
    },
    {
     "name": "stdout",
     "output_type": "stream",
     "text": [
      "5000/5000 [==============================]5000/5000 [==============================] - 492s 98ms/step - loss: 659617793.4023 - mean_squared_error: 659617793.4023\n",
      "\n",
      "Epoch 1/1\n",
      "1888/5000 [==========>...................]1888/5000 [==========>...................] - ETA: 5:06 - loss: 622018725.7453 - mean_squared_error: 622018725.7453"
     ]
    },
    {
     "name": "stderr",
     "output_type": "stream",
     "text": [
      "IOPub message rate exceeded.\n",
      "The notebook server will temporarily stop sending output\n",
      "to the client in order to avoid crashing it.\n",
      "To change this limit, set the config variable\n",
      "`--NotebookApp.iopub_msg_rate_limit`.\n",
      "\n",
      "Current values:\n",
      "NotebookApp.iopub_msg_rate_limit=1000.0 (msgs/sec)\n",
      "NotebookApp.rate_limit_window=3.0 (secs)\n",
      "\n"
     ]
    },
    {
     "name": "stdout",
     "output_type": "stream",
     "text": [
      "4883/5000 [============================>.]4883/5000 [============================>.] - ETA: 11s - loss: 636422719.6626 - mean_squared_error: 636422719.6626"
     ]
    },
    {
     "name": "stderr",
     "output_type": "stream",
     "text": [
      "IOPub message rate exceeded.\n",
      "The notebook server will temporarily stop sending output\n",
      "to the client in order to avoid crashing it.\n",
      "To change this limit, set the config variable\n",
      "`--NotebookApp.iopub_msg_rate_limit`.\n",
      "\n",
      "Current values:\n",
      "NotebookApp.iopub_msg_rate_limit=1000.0 (msgs/sec)\n",
      "NotebookApp.rate_limit_window=3.0 (secs)\n",
      "\n"
     ]
    },
    {
     "name": "stdout",
     "output_type": "stream",
     "text": [
      "5000/5000 [==============================]5000/5000 [==============================] - 495s 99ms/step - loss: 651207218.9269 - mean_squared_error: 651207218.9269\n",
      "\n",
      "Epoch 1/1\n",
      "2947/5000 [================>.............]2947/5000 [================>.............] - ETA: 3:24 - loss: 609405488.0573 - mean_squared_error: 609405488.0573"
     ]
    },
    {
     "name": "stderr",
     "output_type": "stream",
     "text": [
      "IOPub message rate exceeded.\n",
      "The notebook server will temporarily stop sending output\n",
      "to the client in order to avoid crashing it.\n",
      "To change this limit, set the config variable\n",
      "`--NotebookApp.iopub_msg_rate_limit`.\n",
      "\n",
      "Current values:\n",
      "NotebookApp.iopub_msg_rate_limit=1000.0 (msgs/sec)\n",
      "NotebookApp.rate_limit_window=3.0 (secs)\n",
      "\n"
     ]
    },
    {
     "name": "stdout",
     "output_type": "stream",
     "text": [
      "5000/5000 [==============================]5000/5000 [==============================] - 542s 108ms/step - loss: 620860285.3075 - mean_squared_error: 620860285.3075\n",
      "\n",
      "Epoch 1/1\n",
      "2797/5000 [===============>..............]2797/5000 [===============>..............] - ETA: 4:53 - loss: 645171808.3703 - mean_squared_error: 645171808.3703"
     ]
    },
    {
     "name": "stderr",
     "output_type": "stream",
     "text": [
      "IOPub message rate exceeded.\n",
      "The notebook server will temporarily stop sending output\n",
      "to the client in order to avoid crashing it.\n",
      "To change this limit, set the config variable\n",
      "`--NotebookApp.iopub_msg_rate_limit`.\n",
      "\n",
      "Current values:\n",
      "NotebookApp.iopub_msg_rate_limit=1000.0 (msgs/sec)\n",
      "NotebookApp.rate_limit_window=3.0 (secs)\n",
      "\n"
     ]
    },
    {
     "name": "stdout",
     "output_type": "stream",
     "text": [
      "5000/5000 [==============================]5000/5000 [==============================] - 494s 99ms/step - loss: 646064049.1789 - mean_squared_error: 646064049.1789\n",
      "\n",
      "560000\n",
      "5000/5000 [==============================]5000/5000 [==============================] - 4s 746us/step\n",
      "\n",
      "8459825.757746717\n",
      "[25361.178335779274, 25405.97957709956, 25155.964575074435, 25191.189943914917, 25329.895584403817, 25225.369124403314, 25308.716433292306, 24437.233664455558, 25307.261893835926, 25389.080943240147, 24999.960921057456, 25175.409233106817, 25323.75875342363, 25141.750142549743, 24811.5573668724, 25438.98972383927, 24904.378470879372, 24627.78894306186, 25179.0980459269, 25358.192187930115, 25436.326352113036, 24865.99078053396, 25358.798124201392, 25156.3346208942, 25837.194109453914, 24862.997164847202, 25020.791810716142, 25188.083405674202, 25417.789872134832]\n",
      "[126038.36221901342, 126038.3560806635, 126038.34956439528, 126038.34320265806, 126038.3367869855, 126038.33028359678, 126038.32390303284, 126038.31762984733, 126038.31133285146, 126038.30489549247, 126038.29851783541, 126038.29217214926, 126038.28575411031, 126038.27938263041, 126038.2730574256, 126038.26668940848, 126038.26039044105, 126038.25408442761, 126038.24778749504, 126038.24137438921, 126038.2349887603, 126038.2286976085, 126038.22226219827, 126038.21591214882, 126038.20955759661, 126038.20320565872, 126038.1969391746, 126038.19050635825, 126038.18417031108]\n",
      "Epoch 1/1\n",
      " 612/5000 [==>...........................] 612/5000 [==>...........................] - ETA: 7:14 - loss: 583087099.0026 - mean_squared_error: 583087099.0026"
     ]
    },
    {
     "name": "stderr",
     "output_type": "stream",
     "text": [
      "IOPub message rate exceeded.\n",
      "The notebook server will temporarily stop sending output\n",
      "to the client in order to avoid crashing it.\n",
      "To change this limit, set the config variable\n",
      "`--NotebookApp.iopub_msg_rate_limit`.\n",
      "\n",
      "Current values:\n",
      "NotebookApp.iopub_msg_rate_limit=1000.0 (msgs/sec)\n",
      "NotebookApp.rate_limit_window=3.0 (secs)\n",
      "\n"
     ]
    },
    {
     "name": "stdout",
     "output_type": "stream",
     "text": [
      "3364/5000 [===================>..........]3364/5000 [===================>..........] - ETA: 2:41 - loss: 647556797.2107 - mean_squared_error: 647556797.2107"
     ]
    },
    {
     "name": "stderr",
     "output_type": "stream",
     "text": [
      "IOPub message rate exceeded.\n",
      "The notebook server will temporarily stop sending output\n",
      "to the client in order to avoid crashing it.\n",
      "To change this limit, set the config variable\n",
      "`--NotebookApp.iopub_msg_rate_limit`.\n",
      "\n",
      "Current values:\n",
      "NotebookApp.iopub_msg_rate_limit=1000.0 (msgs/sec)\n",
      "NotebookApp.rate_limit_window=3.0 (secs)\n",
      "\n"
     ]
    },
    {
     "name": "stdout",
     "output_type": "stream",
     "text": [
      "5000/5000 [==============================]5000/5000 [==============================] - 492s 98ms/step - loss: 637372471.5521 - mean_squared_error: 637372471.5521\n",
      "\n",
      "Epoch 1/1\n",
      "1549/5000 [========>.....................]1549/5000 [========>.....................] - ETA: 5:41 - loss: 671063651.3510 - mean_squared_error: 671063651.3510"
     ]
    },
    {
     "name": "stderr",
     "output_type": "stream",
     "text": [
      "IOPub message rate exceeded.\n",
      "The notebook server will temporarily stop sending output\n",
      "to the client in order to avoid crashing it.\n",
      "To change this limit, set the config variable\n",
      "`--NotebookApp.iopub_msg_rate_limit`.\n",
      "\n",
      "Current values:\n",
      "NotebookApp.iopub_msg_rate_limit=1000.0 (msgs/sec)\n",
      "NotebookApp.rate_limit_window=3.0 (secs)\n",
      "\n"
     ]
    },
    {
     "name": "stdout",
     "output_type": "stream",
     "text": [
      "5000/5000 [==============================]5000/5000 [==============================] - 529s 106ms/step - loss: 647513918.3240 - mean_squared_error: 647513918.3240\n",
      "\n",
      "Epoch 1/1\n",
      "5000/5000 [==============================]5000/5000 [==============================] - 649s 130ms/step - loss: 622156892.8316 - mean_squared_error: 622156892.8316\n",
      "\n",
      "Epoch 1/1\n",
      " 257/5000 [>.............................] 257/5000 [>.............................] - ETA: 10:33 - loss: 552945465.9457 - mean_squared_error: 552945465.9457"
     ]
    },
    {
     "name": "stderr",
     "output_type": "stream",
     "text": [
      "IOPub message rate exceeded.\n",
      "The notebook server will temporarily stop sending output\n",
      "to the client in order to avoid crashing it.\n",
      "To change this limit, set the config variable\n",
      "`--NotebookApp.iopub_msg_rate_limit`.\n",
      "\n",
      "Current values:\n",
      "NotebookApp.iopub_msg_rate_limit=1000.0 (msgs/sec)\n",
      "NotebookApp.rate_limit_window=3.0 (secs)\n",
      "\n"
     ]
    },
    {
     "name": "stdout",
     "output_type": "stream",
     "text": [
      "3219/5000 [==================>...........]3219/5000 [==================>...........] - ETA: 3:03 - loss: 646287023.2686 - mean_squared_error: 646287023.2686"
     ]
    },
    {
     "name": "stderr",
     "output_type": "stream",
     "text": [
      "IOPub message rate exceeded.\n",
      "The notebook server will temporarily stop sending output\n",
      "to the client in order to avoid crashing it.\n",
      "To change this limit, set the config variable\n",
      "`--NotebookApp.iopub_msg_rate_limit`.\n",
      "\n",
      "Current values:\n",
      "NotebookApp.iopub_msg_rate_limit=1000.0 (msgs/sec)\n",
      "NotebookApp.rate_limit_window=3.0 (secs)\n",
      "\n"
     ]
    },
    {
     "name": "stdout",
     "output_type": "stream",
     "text": [
      "5000/5000 [==============================]5000/5000 [==============================] - 493s 99ms/step - loss: 641517736.0290 - mean_squared_error: 641517736.0290\n",
      "\n",
      "Epoch 1/1\n",
      "1341/5000 [=======>......................]1341/5000 [=======>......................] - ETA: 6:00 - loss: 636323120.0441 - mean_squared_error: 636323120.0441"
     ]
    },
    {
     "name": "stderr",
     "output_type": "stream",
     "text": [
      "IOPub message rate exceeded.\n",
      "The notebook server will temporarily stop sending output\n",
      "to the client in order to avoid crashing it.\n",
      "To change this limit, set the config variable\n",
      "`--NotebookApp.iopub_msg_rate_limit`.\n",
      "\n",
      "Current values:\n",
      "NotebookApp.iopub_msg_rate_limit=1000.0 (msgs/sec)\n",
      "NotebookApp.rate_limit_window=3.0 (secs)\n",
      "\n"
     ]
    },
    {
     "name": "stdout",
     "output_type": "stream",
     "text": [
      "4620/5000 [==========================>...]4620/5000 [==========================>...] - ETA: 37s - loss: 638014649.6442 - mean_squared_error: 638014649.6442"
     ]
    },
    {
     "name": "stderr",
     "output_type": "stream",
     "text": [
      "IOPub message rate exceeded.\n",
      "The notebook server will temporarily stop sending output\n",
      "to the client in order to avoid crashing it.\n",
      "To change this limit, set the config variable\n",
      "`--NotebookApp.iopub_msg_rate_limit`.\n",
      "\n",
      "Current values:\n",
      "NotebookApp.iopub_msg_rate_limit=1000.0 (msgs/sec)\n",
      "NotebookApp.rate_limit_window=3.0 (secs)\n",
      "\n"
     ]
    },
    {
     "name": "stdout",
     "output_type": "stream",
     "text": [
      "5000/5000 [==============================]5000/5000 [==============================] - 491s 98ms/step - loss: 642332050.4456 - mean_squared_error: 642332050.4456\n",
      "\n",
      "620000\n",
      "5000/5000 [==============================]5000/5000 [==============================] - 4s 748us/step\n",
      "\n",
      "8459752.408041848\n",
      "[25361.178335779274, 25405.97957709956, 25155.964575074435, 25191.189943914917, 25329.895584403817, 25225.369124403314, 25308.716433292306, 24437.233664455558, 25307.261893835926, 25389.080943240147, 24999.960921057456, 25175.409233106817, 25323.75875342363, 25141.750142549743, 24811.5573668724, 25438.98972383927, 24904.378470879372, 24627.78894306186, 25179.0980459269, 25358.192187930115, 25436.326352113036, 24865.99078053396, 25358.798124201392, 25156.3346208942, 25837.194109453914, 24862.997164847202, 25020.791810716142, 25188.083405674202, 25417.789872134832, 25405.542873632912, 25556.15357098951, 25344.270392497]\n",
      "[126038.36221901342, 126038.3560806635, 126038.34956439528, 126038.34320265806, 126038.3367869855, 126038.33028359678, 126038.32390303284, 126038.31762984733, 126038.31133285146, 126038.30489549247, 126038.29851783541, 126038.29217214926, 126038.28575411031, 126038.27938263041, 126038.2730574256, 126038.26668940848, 126038.26039044105, 126038.25408442761, 126038.24778749504, 126038.24137438921, 126038.2349887603, 126038.2286976085, 126038.22226219827, 126038.21591214882, 126038.20955759661, 126038.20320565872, 126038.1969391746, 126038.19050635825, 126038.18417031108, 126038.17783713833, 126038.17144400276, 126038.16505399613]\n",
      "Epoch 1/1\n",
      "2542/5000 [==============>...............]2542/5000 [==============>...............] - ETA: 4:03 - loss: 628116371.1126 - mean_squared_error: 628116371.1126"
     ]
    },
    {
     "name": "stderr",
     "output_type": "stream",
     "text": [
      "IOPub message rate exceeded.\n",
      "The notebook server will temporarily stop sending output\n",
      "to the client in order to avoid crashing it.\n",
      "To change this limit, set the config variable\n",
      "`--NotebookApp.iopub_msg_rate_limit`.\n",
      "\n",
      "Current values:\n",
      "NotebookApp.iopub_msg_rate_limit=1000.0 (msgs/sec)\n",
      "NotebookApp.rate_limit_window=3.0 (secs)\n",
      "\n"
     ]
    },
    {
     "name": "stdout",
     "output_type": "stream",
     "text": [
      "5000/5000 [==============================]5000/5000 [==============================] - 494s 99ms/step - loss: 621706687.5500 - mean_squared_error: 621706687.5500\n",
      "\n",
      "Epoch 1/1\n",
      " 808/5000 [===>..........................] 808/5000 [===>..........................] - ETA: 6:51 - loss: 628034891.8176 - mean_squared_error: 628034891.8176"
     ]
    },
    {
     "name": "stderr",
     "output_type": "stream",
     "text": [
      "IOPub message rate exceeded.\n",
      "The notebook server will temporarily stop sending output\n",
      "to the client in order to avoid crashing it.\n",
      "To change this limit, set the config variable\n",
      "`--NotebookApp.iopub_msg_rate_limit`.\n",
      "\n",
      "Current values:\n",
      "NotebookApp.iopub_msg_rate_limit=1000.0 (msgs/sec)\n",
      "NotebookApp.rate_limit_window=3.0 (secs)\n",
      "\n"
     ]
    },
    {
     "name": "stdout",
     "output_type": "stream",
     "text": [
      "3496/5000 [===================>..........]3496/5000 [===================>..........] - ETA: 2:28 - loss: 635772463.7631 - mean_squared_error: 635772463.7631"
     ]
    },
    {
     "name": "stderr",
     "output_type": "stream",
     "text": [
      "IOPub message rate exceeded.\n",
      "The notebook server will temporarily stop sending output\n",
      "to the client in order to avoid crashing it.\n",
      "To change this limit, set the config variable\n",
      "`--NotebookApp.iopub_msg_rate_limit`.\n",
      "\n",
      "Current values:\n",
      "NotebookApp.iopub_msg_rate_limit=1000.0 (msgs/sec)\n",
      "NotebookApp.rate_limit_window=3.0 (secs)\n",
      "\n"
     ]
    },
    {
     "name": "stdout",
     "output_type": "stream",
     "text": [
      "5000/5000 [==============================]5000/5000 [==============================] - 493s 99ms/step - loss: 633777674.8104 - mean_squared_error: 633777674.8104\n",
      "\n",
      "Epoch 1/1\n",
      "1745/5000 [=========>....................]1745/5000 [=========>....................] - ETA: 5:20 - loss: 641256842.2045 - mean_squared_error: 641256842.2045"
     ]
    },
    {
     "name": "stderr",
     "output_type": "stream",
     "text": [
      "IOPub message rate exceeded.\n",
      "The notebook server will temporarily stop sending output\n",
      "to the client in order to avoid crashing it.\n",
      "To change this limit, set the config variable\n",
      "`--NotebookApp.iopub_msg_rate_limit`.\n",
      "\n",
      "Current values:\n",
      "NotebookApp.iopub_msg_rate_limit=1000.0 (msgs/sec)\n",
      "NotebookApp.rate_limit_window=3.0 (secs)\n",
      "\n"
     ]
    },
    {
     "name": "stdout",
     "output_type": "stream",
     "text": [
      "4846/5000 [============================>.]4846/5000 [============================>.] - ETA: 15s - loss: 635132452.0159 - mean_squared_error: 635132452.0159"
     ]
    },
    {
     "name": "stderr",
     "output_type": "stream",
     "text": [
      "IOPub message rate exceeded.\n",
      "The notebook server will temporarily stop sending output\n",
      "to the client in order to avoid crashing it.\n",
      "To change this limit, set the config variable\n",
      "`--NotebookApp.iopub_msg_rate_limit`.\n",
      "\n",
      "Current values:\n",
      "NotebookApp.iopub_msg_rate_limit=1000.0 (msgs/sec)\n",
      "NotebookApp.rate_limit_window=3.0 (secs)\n",
      "\n"
     ]
    },
    {
     "name": "stdout",
     "output_type": "stream",
     "text": [
      "5000/5000 [==============================]5000/5000 [==============================] - 602s 120ms/step - loss: 654765867.9690 - mean_squared_error: 654765867.9690\n",
      "\n",
      "Epoch 1/1\n",
      "5000/5000 [==============================]5000/5000 [==============================] - 494s 99ms/step - loss: 622509221.8370 - mean_squared_error: 622509221.8370\n",
      "\n",
      "680000\n",
      "3206/5000 [==================>...........]3206/5000 [==================>...........] - ETA: 2:58 - loss: 623089308.0570 - mean_squared_error: 623089308.05\r"
     ]
    },
    {
     "name": "stderr",
     "output_type": "stream",
     "text": [
      "IOPub message rate exceeded.\n",
      "The notebook server will temporarily stop sending output\n",
      "to the client in order to avoid crashing it.\n",
      "To change this limit, set the config variable\n",
      "`--NotebookApp.iopub_msg_rate_limit`.\n",
      "\n",
      "Current values:\n",
      "NotebookApp.iopub_msg_rate_limit=1000.0 (msgs/sec)\n",
      "NotebookApp.rate_limit_window=3.0 (secs)\n",
      "\n"
     ]
    },
    {
     "name": "stdout",
     "output_type": "stream",
     "text": [
      "5000/5000 [==============================]5000/5000 [==============================] - 498s 100ms/step - loss: 650961376.3849 - mean_squared_error: 650961376.3849\n",
      "\n",
      "Epoch 1/1\n",
      "1241/5000 [======>.......................]1241/5000 [======>.......................] - ETA: 6:14 - loss: 634582378.0014 - mean_squared_error: 634582378.0014"
     ]
    },
    {
     "name": "stderr",
     "output_type": "stream",
     "text": [
      "IOPub message rate exceeded.\n",
      "The notebook server will temporarily stop sending output\n",
      "to the client in order to avoid crashing it.\n",
      "To change this limit, set the config variable\n",
      "`--NotebookApp.iopub_msg_rate_limit`.\n",
      "\n",
      "Current values:\n",
      "NotebookApp.iopub_msg_rate_limit=1000.0 (msgs/sec)\n",
      "NotebookApp.rate_limit_window=3.0 (secs)\n",
      "\n"
     ]
    },
    {
     "name": "stdout",
     "output_type": "stream",
     "text": [
      "5000/5000 [==============================]5000/5000 [==============================] - 4s 735us/step\n",
      "\n",
      "8459630.555851214\n",
      "[25361.178335779274, 25405.97957709956, 25155.964575074435, 25191.189943914917, 25329.895584403817, 25225.369124403314, 25308.716433292306, 24437.233664455558, 25307.261893835926, 25389.080943240147, 24999.960921057456, 25175.409233106817, 25323.75875342363, 25141.750142549743, 24811.5573668724, 25438.98972383927, 24904.378470879372, 24627.78894306186, 25179.0980459269, 25358.192187930115, 25436.326352113036, 24865.99078053396, 25358.798124201392, 25156.3346208942, 25837.194109453914, 24862.997164847202, 25020.791810716142, 25188.083405674202, 25417.789872134832, 25405.542873632912, 25556.15357098951, 25344.270392497, 25167.34041398892, 25301.00137983475, 24950.134669873027, 25326.014427288, 24829.147077352456]\n",
      "[126038.36221901342, 126038.3560806635, 126038.34956439528, 126038.34320265806, 126038.3367869855, 126038.33028359678, 126038.32390303284, 126038.31762984733, 126038.31133285146, 126038.30489549247, 126038.29851783541, 126038.29217214926, 126038.28575411031, 126038.27938263041, 126038.2730574256, 126038.26668940848, 126038.26039044105, 126038.25408442761, 126038.24778749504, 126038.24137438921, 126038.2349887603, 126038.2286976085, 126038.22226219827, 126038.21591214882, 126038.20955759661, 126038.20320565872, 126038.1969391746, 126038.19050635825, 126038.18417031108, 126038.17783713833, 126038.17144400276, 126038.16505399613, 126038.15872356665, 126038.15238613043, 126038.14601975295, 126038.13965527574, 126038.13328846594]\n",
      "Epoch 1/1\n",
      "2940/5000 [================>.............]2940/5000 [================>.............] - ETA: 3:27 - loss: 647263044.6422 - mean_squared_error: 647263044.6422"
     ]
    },
    {
     "name": "stderr",
     "output_type": "stream",
     "text": [
      "IOPub message rate exceeded.\n",
      "The notebook server will temporarily stop sending output\n",
      "to the client in order to avoid crashing it.\n",
      "To change this limit, set the config variable\n",
      "`--NotebookApp.iopub_msg_rate_limit`.\n",
      "\n",
      "Current values:\n",
      "NotebookApp.iopub_msg_rate_limit=1000.0 (msgs/sec)\n",
      "NotebookApp.rate_limit_window=3.0 (secs)\n",
      "\n"
     ]
    },
    {
     "name": "stdout",
     "output_type": "stream",
     "text": [
      "5000/5000 [==============================]5000/5000 [==============================] - 505s 101ms/step - loss: 620891839.9433 - mean_squared_error: 620891839.9433\n",
      "\n",
      "Epoch 1/1\n",
      "5000/5000 [==============================]5000/5000 [==============================] - 507s 101ms/step - loss: 614583596.6774 - mean_squared_error: 614583596.6774\n",
      "\n",
      "Epoch 1/1\n",
      " 605/5000 [==>...........................] 605/5000 [==>...........................] - ETA: 7:25 - loss: 612726367.6611 - mean_squared_error: 612726367.6611"
     ]
    },
    {
     "name": "stderr",
     "output_type": "stream",
     "text": [
      "IOPub message rate exceeded.\n",
      "The notebook server will temporarily stop sending output\n",
      "to the client in order to avoid crashing it.\n",
      "To change this limit, set the config variable\n",
      "`--NotebookApp.iopub_msg_rate_limit`.\n",
      "\n",
      "Current values:\n",
      "NotebookApp.iopub_msg_rate_limit=1000.0 (msgs/sec)\n",
      "NotebookApp.rate_limit_window=3.0 (secs)\n",
      "\n"
     ]
    },
    {
     "name": "stdout",
     "output_type": "stream",
     "text": [
      "3588/5000 [====================>.........]3588/5000 [====================>.........] - ETA: 2:24 - loss: 644342747.0763 - mean_squared_error: 644342747.076381/5000 [====================>.........] - ETA: 2:25 - loss: 644163491.2138 - mean_squared_error: "
     ]
    },
    {
     "name": "stderr",
     "output_type": "stream",
     "text": [
      "IOPub message rate exceeded.\n",
      "The notebook server will temporarily stop sending output\n",
      "to the client in order to avoid crashing it.\n",
      "To change this limit, set the config variable\n",
      "`--NotebookApp.iopub_msg_rate_limit`.\n",
      "\n",
      "Current values:\n",
      "NotebookApp.iopub_msg_rate_limit=1000.0 (msgs/sec)\n",
      "NotebookApp.rate_limit_window=3.0 (secs)\n",
      "\n"
     ]
    },
    {
     "name": "stdout",
     "output_type": "stream",
     "text": [
      "5000/5000 [==============================]5000/5000 [==============================] - 508s 102ms/step - loss: 638686740.3154 - mean_squared_error: 638686740.3154 - loss: 638877793.6376 - mean_squared_error: 638877793.\n",
      "\n",
      "Epoch 1/1\n",
      "1562/5000 [========>.....................]1562/5000 [========>.....................] - ETA: 5:51 - loss: 647041592.2130 - mean_squared_error: 647041592.2130"
     ]
    },
    {
     "name": "stderr",
     "output_type": "stream",
     "text": [
      "IOPub message rate exceeded.\n",
      "The notebook server will temporarily stop sending output\n",
      "to the client in order to avoid crashing it.\n",
      "To change this limit, set the config variable\n",
      "`--NotebookApp.iopub_msg_rate_limit`.\n",
      "\n",
      "Current values:\n",
      "NotebookApp.iopub_msg_rate_limit=1000.0 (msgs/sec)\n",
      "NotebookApp.rate_limit_window=3.0 (secs)\n",
      "\n"
     ]
    },
    {
     "name": "stdout",
     "output_type": "stream",
     "text": [
      "5000/5000 [==============================]5000/5000 [==============================] - 548s 110ms/step - loss: 625761236.2753 - mean_squared_error: 625761236.2753\n",
      "\n",
      "Epoch 1/1\n",
      "5000/5000 [==============================]5000/5000 [==============================] - 568s 114ms/step - loss: 631528032.6973 - mean_squared_error: 631528032.6973\n",
      "\n",
      "760000\n",
      "5000/5000 [==============================]5000/5000 [==============================] - 4s 710us/step\n",
      "\n",
      "8459582.108598808\n",
      "[25361.178335779274, 25405.97957709956, 25155.964575074435, 25191.189943914917, 25329.895584403817, 25225.369124403314, 25308.716433292306, 24437.233664455558, 25307.261893835926, 25389.080943240147, 24999.960921057456, 25175.409233106817, 25323.75875342363, 25141.750142549743, 24811.5573668724, 25438.98972383927, 24904.378470879372, 24627.78894306186, 25179.0980459269, 25358.192187930115, 25436.326352113036, 24865.99078053396, 25358.798124201392, 25156.3346208942, 25837.194109453914, 24862.997164847202, 25020.791810716142, 25188.083405674202, 25417.789872134832, 25405.542873632912, 25556.15357098951, 25344.270392497, 25167.34041398892, 25301.00137983475, 24950.134669873027, 25326.014427288, 24829.147077352456, 25245.592384065778, 25130.221351798715]\n",
      "[126038.36221901342, 126038.3560806635, 126038.34956439528, 126038.34320265806, 126038.3367869855, 126038.33028359678, 126038.32390303284, 126038.31762984733, 126038.31133285146, 126038.30489549247, 126038.29851783541, 126038.29217214926, 126038.28575411031, 126038.27938263041, 126038.2730574256, 126038.26668940848, 126038.26039044105, 126038.25408442761, 126038.24778749504, 126038.24137438921, 126038.2349887603, 126038.2286976085, 126038.22226219827, 126038.21591214882, 126038.20955759661, 126038.20320565872, 126038.1969391746, 126038.19050635825, 126038.18417031108, 126038.17783713833, 126038.17144400276, 126038.16505399613, 126038.15872356665, 126038.15238613043, 126038.14601975295, 126038.13965527574, 126038.13328846594, 126038.12698926113, 126038.12066069274]\n",
      "Epoch 1/1\n",
      "5000/5000 [==============================]5000/5000 [==============================] - 626s 125ms/step - loss: 667907270.0152 - mean_squared_error: 667907270.0152\n",
      "\n",
      "Epoch 1/1\n",
      "5000/5000 [==============================]5000/5000 [==============================] - 647s 129ms/step - loss: 638776819.0331 - mean_squared_error: 638776819.0331\n",
      "\n",
      "Epoch 1/1\n",
      "5000/5000 [==============================]5000/5000 [==============================] - 644s 129ms/step - loss: 635533061.0346 - mean_squared_error: 635533061.0346\n",
      "\n",
      "Epoch 1/1\n",
      "5000/5000 [==============================]5000/5000 [==============================] - 592s 118ms/step - loss: 642993745.6809 - mean_squared_error: 642993745.6809\n",
      "\n",
      "780000\n",
      "5000/5000 [==============================]5000/5000 [==============================] - 7s 1ms/step\n",
      "\n",
      "8459557.595443813\n",
      "[25361.178335779274, 25405.97957709956, 25155.964575074435, 25191.189943914917, 25329.895584403817, 25225.369124403314, 25308.716433292306, 24437.233664455558, 25307.261893835926, 25389.080943240147, 24999.960921057456, 25175.409233106817, 25323.75875342363, 25141.750142549743, 24811.5573668724, 25438.98972383927, 24904.378470879372, 24627.78894306186, 25179.0980459269, 25358.192187930115, 25436.326352113036, 24865.99078053396, 25358.798124201392, 25156.3346208942, 25837.194109453914, 24862.997164847202, 25020.791810716142, 25188.083405674202, 25417.789872134832, 25405.542873632912, 25556.15357098951, 25344.270392497, 25167.34041398892, 25301.00137983475, 24950.134669873027, 25326.014427288, 24829.147077352456, 25245.592384065778, 25130.221351798715, 25357.321215238804]\n",
      "[126038.36221901342, 126038.3560806635, 126038.34956439528, 126038.34320265806, 126038.3367869855, 126038.33028359678, 126038.32390303284, 126038.31762984733, 126038.31133285146, 126038.30489549247, 126038.29851783541, 126038.29217214926, 126038.28575411031, 126038.27938263041, 126038.2730574256, 126038.26668940848, 126038.26039044105, 126038.25408442761, 126038.24778749504, 126038.24137438921, 126038.2349887603, 126038.2286976085, 126038.22226219827, 126038.21591214882, 126038.20955759661, 126038.20320565872, 126038.1969391746, 126038.19050635825, 126038.18417031108, 126038.17783713833, 126038.17144400276, 126038.16505399613, 126038.15872356665, 126038.15238613043, 126038.14601975295, 126038.13965527574, 126038.13328846594, 126038.12698926113, 126038.12066069274, 126038.11427162256]\n",
      "Epoch 1/1\n",
      "5000/5000 [==============================]5000/5000 [==============================] - 631s 126ms/step - loss: 627119348.0397 - mean_squared_error: 627119348.0397\n",
      "\n",
      "Epoch 1/1\n",
      "5000/5000 [==============================]5000/5000 [==============================] - 602s 120ms/step - loss: 640427792.8058 - mean_squared_error: 640427792.8058\n",
      "\n",
      "Epoch 1/1\n",
      "5000/5000 [==============================]5000/5000 [==============================] - 633s 127ms/step - loss: 626458785.7037 - mean_squared_error: 626458785.7037\n",
      "\n",
      "Epoch 1/1\n",
      "1556/5000 [========>.....................]1556/5000 [========>.....................] - ETA: 7:14 - loss: 641019318.9790 - mean_squared_error: 641019318.9790"
     ]
    }
   ],
   "source": [
    "step=5000\n",
    "\n",
    "#model = build_model()\n",
    "\n",
    "scaler = StandardScaler()\n",
    "\n",
    "training_error = []\n",
    "test_error = []\n",
    "component = []\n",
    "\n",
    "for n in range(0,len(mom_train),step):\n",
    "    poly_train = SmartPolynomials.smarterPolynomialFeatures(4, mom_train[n:n+step])\n",
    "    ##Rescale\n",
    "    scaler.partial_fit(poly_train) #Rescale on training set\n",
    "    poly_train = scaler.transform(poly_train)\n",
    "    \n",
    "    model.fit(poly_train,me_train[n:n+step], batch_size=1, epochs=1, shuffle=True)\n",
    "        \n",
    "    if(n%20000==0): \n",
    "        print(n)\n",
    "    \n",
    "        ##Testing Error\n",
    "        lin_mse = 0\n",
    "        lin_perc = 0\n",
    "        me_predictions = np.zeros(len(me_test))\n",
    "        for m in range(0,len(mom_test),200):\n",
    "            poly_test = SmartPolynomials.smarterPolynomialFeatures(4, mom_test[m: m+step])\n",
    "            poly_test = scaler.transform(poly_test)\n",
    "\n",
    "            me_predict = model.predict(poly_test, verbose=0) #Prediction on test set\n",
    "            me_predictions[m:m+step] = me_predict.T\n",
    "            lin_mse += np.sum(mean_squared_error(me_test[m:m+step], me_predict))\n",
    "            lin_perc += np.sum(100*np.divide(np.abs(me_test[m:m+step] - me_predict), me_test[m:m+step]))\n",
    "        test_error.append(np.sqrt(lin_mse*step/len(me_test)))\n",
    "        \n",
    "        u=model.evaluate(poly_train, me_train[n:n+step])[0]\n",
    "        training_error.append(np.sqrt(u))\n",
    "              \n",
    "        print(lin_perc/len(me_test))\n",
    "        print(training_error)\n",
    "        print(test_error)"
   ]
  },
  {
   "cell_type": "code",
   "execution_count": null,
   "metadata": {},
   "outputs": [],
   "source": []
  }
 ],
 "metadata": {
  "kernelspec": {
   "display_name": "Python 3",
   "language": "python",
   "name": "python3"
  },
  "language_info": {
   "codemirror_mode": {
    "name": "ipython",
    "version": 3
   },
   "file_extension": ".py",
   "mimetype": "text/x-python",
   "name": "python",
   "nbconvert_exporter": "python",
   "pygments_lexer": "ipython3",
   "version": "3.6.3"
  }
 },
 "nbformat": 4,
 "nbformat_minor": 2
}
