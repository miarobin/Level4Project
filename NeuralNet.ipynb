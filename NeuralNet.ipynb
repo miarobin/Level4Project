{
 "cells": [
  {
   "cell_type": "code",
   "execution_count": 1,
   "metadata": {},
   "outputs": [
    {
     "name": "stderr",
     "output_type": "stream",
     "text": [
      "Using TensorFlow backend.\n"
     ]
    }
   ],
   "source": [
    "import tensorflow as tf\n",
    "from tensorflow import keras\n",
    "\n",
    "from sklearn.preprocessing import StandardScaler\n",
    "from sklearn.model_selection import RandomizedSearchCV\n",
    "from keras.wrappers.scikit_learn import KerasRegressor\n",
    "\n",
    "import numpy as np"
   ]
  },
  {
   "cell_type": "code",
   "execution_count": 2,
   "metadata": {},
   "outputs": [],
   "source": [
    "##Data Aquisition\n",
    "me_test = np.load('LO_3_0.01/NJ_LO_3_0.01_500000.npy', allow_pickle=True) #Matrix elements - test\n",
    "momentum_test_r = np.load('LO_3_0.01/PS3_0.01_500000.npy', allow_pickle=True, encoding='bytes')#4-momenta of inputs - test\n",
    "\n",
    "me_train = np.load('LO_3_0.01/NJ_LO_3_0.01_3000000.npy', allow_pickle=True) #Matrix elements - train\n",
    "momentum_train_r = np.load('LO_3_0.01/PS3_0.01_3000000.npy', allow_pickle=True, encoding='bytes') #4-momenta of input - train"
   ]
  },
  {
   "cell_type": "code",
   "execution_count": 3,
   "metadata": {},
   "outputs": [],
   "source": [
    "##Reformat Momentum\n",
    "momentum_train = np.array([np.ndarray.flatten(np.array(element)[3:, 2:]) for element in momentum_train_r])\n",
    "momentum_test = np.array([np.ndarray.flatten(np.array(element)[3:, 2:]) for element in momentum_test_r])\n",
    "##Rescale\n",
    "scaler = StandardScaler()\n",
    "\n",
    "momentum_train = scaler.fit_transform(momentum_train) #Rescale on training set\n",
    "momentum_test = scaler.transform(momentum_test) #Rescale on test set"
   ]
  },
  {
   "cell_type": "code",
   "execution_count": 4,
   "metadata": {},
   "outputs": [],
   "source": [
    "# Random Model from Tensorflow Website\n",
    "def build_model(dropout, hidden_layers, optimizer='RMSprop'):\n",
    "    \n",
    "  model = keras.Sequential([\n",
    "    keras.layers.Dense(10, activation='relu', input_shape=[4]), #could try swish??\n",
    "    keras.layers.BatchNormalization(),  \n",
    "    keras.layers.Dropout(dropout),\n",
    "      \n",
    "    *np.repeat([keras.layers.Dense(10, activation='relu'), \n",
    "    keras.layers.BatchNormalization(),\n",
    "    keras.layers.Dropout(dropout)], hidden_layers),\n",
    "    \n",
    "    keras.layers.Dense(10, activation='relu'), \n",
    "    keras.layers.BatchNormalization(),\n",
    "    keras.layers.Dropout(dropout),\n",
    "    \n",
    "    keras.layers.Dense(1) \n",
    "  ])\n",
    "\n",
    "  model.compile(loss='mse', #gans?\n",
    "                optimizer=optimizer,\n",
    "                metrics=['mape'])\n",
    "  return model"
   ]
  },
  {
   "cell_type": "code",
   "execution_count": 5,
   "metadata": {},
   "outputs": [
    {
     "name": "stderr",
     "output_type": "stream",
     "text": [
      "/opt/conda/lib/python3.6/site-packages/sklearn/model_selection/_search.py:266: UserWarning: The total space of parameters 9 is smaller than n_iter=10. Running 9 iterations. For exhaustive searches, use GridSearchCV.\n",
      "  % (grid_size, self.n_iter, grid_size), UserWarning)\n"
     ]
    },
    {
     "name": "stdout",
     "output_type": "stream",
     "text": [
      "WARNING:tensorflow:From /opt/conda/lib/python3.6/site-packages/tensorflow/python/keras/_impl/keras/backend.py:1557: calling reduce_mean (from tensorflow.python.ops.math_ops) with keep_dims is deprecated and will be removed in a future version.\n",
      "Instructions for updating:\n",
      "keep_dims is deprecated, use keepdims instead\n",
      "Epoch 1/1\n",
      "6666/6666 [==============================]6666/6666 [==============================] - 1s 173us/step - loss: 0.7072 - mean_absolute_percentage_error: 3063.1633\n",
      "\n",
      "Epoch 1/1\n",
      "6667/6667 [==============================]6667/6667 [==============================] - 1s 185us/step - loss: 0.7764 - mean_absolute_percentage_error: 3703.4688\n",
      "\n",
      "Epoch 1/1\n",
      "6667/6667 [==============================]6667/6667 [==============================] - 1s 206us/step - loss: 0.7780 - mean_absolute_percentage_error: 4100.6973\n",
      "\n",
      "Epoch 1/1\n",
      "6666/6666 [==============================]6666/6666 [==============================] - 2s 271us/step - loss: 0.7487 - mean_absolute_percentage_error: 3155.5002\n",
      "\n",
      "Epoch 1/1\n",
      "6667/6667 [==============================]6667/6667 [==============================] - 2s 291us/step - loss: 1.1107 - mean_absolute_percentage_error: 4882.4546\n",
      "\n",
      "Epoch 1/1\n",
      "6667/6667 [==============================]6667/6667 [==============================] - 2s 309us/step - loss: 0.5966 - mean_absolute_percentage_error: 3370.4538\n",
      "\n",
      "Epoch 1/1\n",
      "6666/6666 [==============================]6666/6666 [==============================] - 2s 350us/step - loss: 0.9774 - mean_absolute_percentage_error: 3605.2738\n",
      "\n",
      "Epoch 1/1\n",
      "6667/6667 [==============================]6667/6667 [==============================] - 3s 392us/step - loss: 0.9398 - mean_absolute_percentage_error: 4474.1145\n",
      "\n",
      "Epoch 1/1\n",
      "6667/6667 [==============================]6667/6667 [==============================] - 3s 420us/step - loss: 1.0988 - mean_absolute_percentage_error: 4519.5487\n",
      "\n",
      "Epoch 1/1\n",
      "6666/6666 [==============================]6666/6666 [==============================] - 2s 371us/step - loss: 1.1590 - mean_absolute_percentage_error: 5036.7888\n",
      "\n",
      "Epoch 1/1\n",
      "6667/6667 [==============================]6667/6667 [==============================] - 3s 392us/step - loss: 1.6539 - mean_absolute_percentage_error: 5610.2920\n",
      "\n",
      "Epoch 1/1\n",
      "6667/6667 [==============================]6667/6667 [==============================] - 3s 469us/step - loss: 0.6983 - mean_absolute_percentage_error: 3184.9357\n",
      "\n",
      "Epoch 1/1\n",
      "6666/6666 [==============================]6666/6666 [==============================] - 4s 531us/step - loss: 1.0358 - mean_absolute_percentage_error: 4537.0565\n",
      "\n",
      "Epoch 1/1\n",
      "6667/6667 [==============================]6667/6667 [==============================] - 3s 481us/step - loss: 1.7444 - mean_absolute_percentage_error: 6207.9055\n",
      "\n",
      "Epoch 1/1\n",
      "6667/6667 [==============================]6667/6667 [==============================] - 3s 494us/step - loss: 0.6477 - mean_absolute_percentage_error: 3364.1357\n",
      "\n",
      "Epoch 1/1\n",
      "6666/6666 [==============================]6666/6666 [==============================] - 4s 577us/step - loss: 2.4541 - mean_absolute_percentage_error: 7949.9085\n",
      "\n",
      "Epoch 1/1\n",
      "6667/6667 [==============================]6667/6667 [==============================] - 4s 581us/step - loss: 0.9846 - mean_absolute_percentage_error: 4114.9793\n",
      "\n",
      "Epoch 1/1\n",
      "6667/6667 [==============================]6667/6667 [==============================] - 4s 626us/step - loss: 0.8921 - mean_absolute_percentage_error: 4156.0300\n",
      "\n",
      "Epoch 1/1\n",
      "6666/6666 [==============================]6666/6666 [==============================] - 4s 576us/step - loss: 1.5682 - mean_absolute_percentage_error: 4956.4104\n",
      "\n",
      "Epoch 1/1\n",
      "6667/6667 [==============================]6667/6667 [==============================] - 4s 663us/step - loss: 1.2695 - mean_absolute_percentage_error: 5002.8303\n",
      "\n",
      "Epoch 1/1\n",
      "6667/6667 [==============================]6667/6667 [==============================] - 4s 613us/step - loss: 1.3349 - mean_absolute_percentage_error: 4614.3775\n",
      "\n",
      "Epoch 1/1\n",
      "6666/6666 [==============================]6666/6666 [==============================] - 5s 809us/step - loss: 1.2638 - mean_absolute_percentage_error: 4454.9302\n",
      "\n",
      "Epoch 1/1\n",
      "6667/6667 [==============================]6667/6667 [==============================] - 5s 692us/step - loss: 1.7386 - mean_absolute_percentage_error: 5475.3854\n",
      "\n",
      "Epoch 1/1\n",
      "6667/6667 [==============================]6667/6667 [==============================] - 5s 803us/step - loss: 2.0092 - mean_absolute_percentage_error: 7242.3093\n",
      "\n",
      "Epoch 1/1\n",
      "6666/6666 [==============================]6666/6666 [==============================] - 5s 820us/step - loss: 1.8030 - mean_absolute_percentage_error: 4562.2274\n",
      "\n",
      "Epoch 1/1\n",
      "6667/6667 [==============================]6667/6667 [==============================] - 5s 773us/step - loss: 2.0962 - mean_absolute_percentage_error: 6096.2200\n",
      "\n",
      "Epoch 1/1\n",
      "6667/6667 [==============================]6667/6667 [==============================] - 5s 818us/step - loss: 2.2866 - mean_absolute_percentage_error: 5830.5552\n",
      "\n"
     ]
    },
    {
     "name": "stderr",
     "output_type": "stream",
     "text": [
      "/opt/conda/lib/python3.6/site-packages/sklearn/model_selection/_search.py:814: DeprecationWarning: The default of the `iid` parameter will change from True to False in version 0.22 and will be removed in 0.24. This will change numeric results when test-set sizes are unequal.\n",
      "  DeprecationWarning)\n"
     ]
    },
    {
     "name": "stdout",
     "output_type": "stream",
     "text": [
      "Epoch 1/1\n",
      "10000/10000 [==============================]10000/10000 [==============================] - 5s 550us/step - loss: 1.1750 - mean_absolute_percentage_error: 4676.6107\n",
      "\n"
     ]
    }
   ],
   "source": [
    "model = KerasRegressor(build_fn=build_model, epochs=1)\n",
    "\n",
    "dropout = [0.1, 0.2, 0.3]\n",
    "hidden_layers = [5, 7, 9]\n",
    "param_grid = dict(dropout=dropout, hidden_layers=hidden_layers)\n",
    "\n",
    "grid = RandomizedSearchCV(model, param_grid, cv=3, scoring='neg_mean_absolute_error')\n",
    "grid_result = grid.fit(momentum_train[:10000], me_train[:10000])"
   ]
  },
  {
   "cell_type": "code",
   "execution_count": 6,
   "metadata": {},
   "outputs": [
    {
     "name": "stdout",
     "output_type": "stream",
     "text": [
      "Best: -20208.839950 using {'hidden_layers': 5, 'dropout': 0.2}\n",
      "-73285.484666 (74877.478866) with: {'hidden_layers': 5, 'dropout': 0.1}\n",
      "-23359462.567204 (6927336.230272) with: {'hidden_layers': 7, 'dropout': 0.1}\n",
      "-15782655229.207970 (17110364084.415371) with: {'hidden_layers': 9, 'dropout': 0.1}\n",
      "-20208.839950 (20182.706280) with: {'hidden_layers': 5, 'dropout': 0.2}\n",
      "-603842.861838 (853978.737358) with: {'hidden_layers': 7, 'dropout': 0.2}\n",
      "-30740488332.326706 (43467095280.395302) with: {'hidden_layers': 9, 'dropout': 0.2}\n",
      "-37321.014077 (37150.902745) with: {'hidden_layers': 5, 'dropout': 0.3}\n",
      "-38113436.334196 (29336828.590443) with: {'hidden_layers': 7, 'dropout': 0.3}\n",
      "-16655490361.421835 (12664597841.219374) with: {'hidden_layers': 9, 'dropout': 0.3}\n"
     ]
    }
   ],
   "source": [
    "# summarize results\n",
    "print(\"Best: %f using %s\" % (grid_result.best_score_, grid_result.best_params_))\n",
    "means = grid_result.cv_results_['mean_test_score']\n",
    "stds = grid_result.cv_results_['std_test_score']\n",
    "params = grid_result.cv_results_['params']\n",
    "for mean, stdev, param in zip(means, stds, params):\n",
    "    print(\"%f (%f) with: %r\" % (mean, stdev, param))"
   ]
  },
  {
   "cell_type": "code",
   "execution_count": 8,
   "metadata": {},
   "outputs": [
    {
     "name": "stdout",
     "output_type": "stream",
     "text": [
      "Epoch 1/1\n",
      "3000000/3000000 [==============================]3000000/3000000 [==============================] - 411s 137us/step - loss: 0.5553 - mean_absolute_percentage_error: 893.5349\n",
      "\n"
     ]
    },
    {
     "data": {
      "text/plain": [
       "<tensorflow.python.keras._impl.keras.callbacks.History at 0x7fe281f0d0f0>"
      ]
     },
     "execution_count": 8,
     "metadata": {},
     "output_type": "execute_result"
    }
   ],
   "source": [
    "model = build_model(grid_result.best_params_['dropout'],grid_result.best_params_['hidden_layers'])\n",
    "model.fit(momentum_train, me_train, epochs=1)"
   ]
  },
  {
   "cell_type": "code",
   "execution_count": 10,
   "metadata": {},
   "outputs": [
    {
     "name": "stdout",
     "output_type": "stream",
     "text": [
      "500000/500000 [==============================]500000/500000 [==============================] - 22s 43us/step\n",
      "\n"
     ]
    },
    {
     "data": {
      "text/plain": [
       "[161293591609.60614, 3173938184.183808]"
      ]
     },
     "execution_count": 10,
     "metadata": {},
     "output_type": "execute_result"
    }
   ],
   "source": [
    "model.evaluate(momentum_test, me_test, batch_size=32, verbose=1)"
   ]
  },
  {
   "cell_type": "code",
   "execution_count": null,
   "metadata": {},
   "outputs": [],
   "source": []
  },
  {
   "cell_type": "code",
   "execution_count": null,
   "metadata": {},
   "outputs": [],
   "source": []
  }
 ],
 "metadata": {
  "kernelspec": {
   "display_name": "Python 3",
   "language": "python",
   "name": "python3"
  },
  "language_info": {
   "codemirror_mode": {
    "name": "ipython",
    "version": 3
   },
   "file_extension": ".py",
   "mimetype": "text/x-python",
   "name": "python",
   "nbconvert_exporter": "python",
   "pygments_lexer": "ipython3",
   "version": "3.6.3"
  }
 },
 "nbformat": 4,
 "nbformat_minor": 2
}
