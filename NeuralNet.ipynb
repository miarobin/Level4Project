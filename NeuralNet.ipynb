{
 "cells": [
  {
   "cell_type": "code",
   "execution_count": 1,
   "metadata": {},
   "outputs": [
    {
     "name": "stderr",
     "output_type": "stream",
     "text": [
      "Using TensorFlow backend.\n"
     ]
    }
   ],
   "source": [
    "import tensorflow as tf\n",
    "from tensorflow import keras\n",
    "import matplotlib.pyplot as pyplot\n",
    "\n",
    "from sklearn.preprocessing import StandardScaler\n",
    "from keras.wrappers.scikit_learn import KerasRegressor\n",
    "from sklearn.metrics import mean_squared_error\n",
    "from sklearn.preprocessing import PolynomialFeatures\n",
    "from functools import reduce\n",
    "from scipy import stats\n",
    "\n",
    "from scipy.interpolate import griddata\n",
    "import matplotlib.colors as colors\n",
    "\n",
    "import numpy as np\n",
    "import DataPreprocessing\n",
    "import SmartPolynomials\n",
    "import SplitDataSet"
   ]
  },
  {
   "cell_type": "code",
   "execution_count": 2,
   "metadata": {},
   "outputs": [],
   "source": [
    "lmbda=-0.70853776\n",
    "def transform(me):\n",
    "    return (np.power(me + 1, lmbda) - 1)/lmbda\n",
    "    #return (np.power(np.sign(me) + 1, np.sign(me)*(lmbda - 1) + 1) - 1)/(lmbda + np.sign(me) - 1)\n",
    "def inverse(temp):\n",
    "    return np.power(lmbda*temp + 1, 1/lmbda) - 1\n",
    "    #return - 1 + np.sign(temp)*np.power((np.sign(temp) - 1 + lmbda)*temp + 1, 1/(np.sign(temp)*(lmbda - 1) + 1))\n",
    "def inverse_tf(temp):\n",
    "    return tf.pow(lmbda*temp + 1, 1/lmbda) - 1\n",
    "    #return - 1 + tf.sign(temp)*tf.pow((tf.sign(temp) - 1 + lmbda)*temp + 1, 1/(tf.sign(temp)*(lmbda - 1) + 1))\n",
    "def frac_error(true, experimental):\n",
    "    return np.abs(np.divide(inverse(true) - inverse(experimental), inverse(true)))"
   ]
  },
  {
   "cell_type": "code",
   "execution_count": 16,
   "metadata": {},
   "outputs": [],
   "source": [
    "def perc_error(true, experimental):\n",
    "    return 100*tf.abs(tf.divide(inverse_tf(true) - inverse_tf(experimental), inverse_tf(true)))\n",
    "\n",
    "def build_model(components=200, activation='elu'):\n",
    "    #activation = keras.\n",
    "    model = keras.Sequential([\n",
    "        keras.layers.Dense(components, activation=activation, input_shape=[8]), #could try swish??  \n",
    "        keras.layers.Dense(components - 100, activation=activation),\n",
    "        keras.layers.Dense(components - 150, activation=activation),\n",
    "        keras.layers.Dense(1, activation='linear') \n",
    "    ])\n",
    "\n",
    "    adam = tf.keras.optimizers.Adam(0.00005)\n",
    "    model.compile(loss='mse', \n",
    "                optimizer=adam, metrics=['mape',perc_error])\n",
    "    return model"
   ]
  },
  {
   "cell_type": "code",
   "execution_count": 9,
   "metadata": {},
   "outputs": [],
   "source": [
    "def calc_RMSE(mom_train, mom_test, rescaled_train, rescaled_test, reuse_model=False):\n",
    "    if reuse_model:\n",
    "        model = build_model()\n",
    "        model.load_weights(\"LO/MODEL/uuxg.hdf5\")\n",
    "    else:\n",
    "        model = build_model()\n",
    "    \n",
    "    temp_train = rescaled_train\n",
    "    temp_test = rescaled_test\n",
    "    \n",
    "    scaler = StandardScaler()\n",
    "\n",
    "    poly_train = np.array([np.ndarray.flatten(np.array(element)) for element in mom_train[:,1:]])\n",
    "    poly_test = np.array([np.ndarray.flatten(np.array(element)) for element in mom_test[:,1:]])\n",
    "    poly_train = scaler.fit_transform(poly_train) #Rescale on training set\n",
    "    poly_test = scaler.transform(poly_test)\n",
    "\n",
    "    \n",
    "        # Saves the best model's weights\n",
    "    checkpoint_path = \"LO/MODEL/uuxg.hdf5\"\n",
    "    callback_a = tf.keras.callbacks.ModelCheckpoint(filepath=checkpoint_path,\n",
    "                                                       save_best_only=True)\n",
    "    callback_b = tf.keras.callbacks.EarlyStopping(monitor='val_loss', patience=30)\n",
    "    history = model.fit(poly_train, temp_train, batch_size=256, epochs=1000, \n",
    "                        shuffle=True, verbose=1, callbacks=[callback_b, callback_a],\n",
    "                       validation_data=(poly_test, temp_test))\n",
    "\n",
    "\n",
    "    try:\n",
    "        # load the saved model\n",
    "        saved_model = build_model()\n",
    "        saved_model.load_weights(checkpoint_path)\n",
    "        \n",
    "        \n",
    "        train_predict = saved_model.predict(poly_train)\n",
    "        train_predict.shape = (len(train_predict))  \n",
    "        train_perc = 100*np.mean(np.abs((temp_train - train_predict) / temp_train))\n",
    "        train_error = 100*np.mean(frac_error(temp_train, train_predict))                                 \n",
    "        \n",
    "        test_predict = saved_model.predict(poly_test)\n",
    "        test_predict.shape = (len(test_predict))\n",
    "        test_perc = 100*np.mean(np.abs((temp_test - test_predict) / temp_test))\n",
    "        test_error = 100*np.mean(frac_error(temp_test, test_predict))\n",
    "\n",
    "        print('Train: %.3f, Test: %.3f' % (train_perc, test_perc))\n",
    "        print('Train: %.3f, Test: %.3f' % (train_error, test_error))\n",
    "        \n",
    "        #return(train_error, test_error, born_error(temp_test, test_predict, rescaled_test[:,0]), history)\n",
    "        return(train_error, test_error, temp_test**2 - test_predict**2, history)\n",
    "    except ValueError:\n",
    "        print('Value Error Encountered')       \n",
    "    return(0, 0, 0, 0)"
   ]
  },
  {
   "cell_type": "code",
   "execution_count": 14,
   "metadata": {},
   "outputs": [
    {
     "name": "stdout",
     "output_type": "stream",
     "text": [
      "(334366,)\n"
     ]
    }
   ],
   "source": [
    "##Obtain & process data NPY\n",
    "me_train, mom_train = SplitDataSet.smallestS('LO/MG_uuxg_2/me_1000000.npy', 'LO/MG_uuxg_2/mom_1000000.npy', 1)\n",
    "me_test, mom_test = SplitDataSet.smallestS('LO/MG_uuxg_2/me_100000.npy', 'LO/MG_uuxg_2/mom_100000.npy', 1)\n",
    "\n",
    "print(me_train.shape)\n",
    "div_train = reduce(np.multiply, DataPreprocessing.mandel_creation(['1,3','2,3'], mom_train))\n",
    "div_test = reduce(np.multiply, DataPreprocessing.mandel_creation(['1,3','2,3'], mom_test))\n",
    "    \n",
    "temp_train = np.multiply(div_train, me_train)\n",
    "temp_test = np.multiply(div_test, me_test)\n",
    "\n",
    "std = np.std(temp_train)\n",
    "temp_train = transform(temp_train/std)\n",
    "temp_test = transform(temp_test/std)"
   ]
  },
  {
   "cell_type": "code",
   "execution_count": 17,
   "metadata": {},
   "outputs": [
    {
     "name": "stdout",
     "output_type": "stream",
     "text": [
      "Std : 0.07594040214534281\n",
      "Mean : 0.8939618724645176\n",
      "Train on 334366 samples, validate on 33271 samples\n",
      "Epoch 1/1000\n",
      "334366/334366 [==============================]334366/334366 [==============================] - 5s 15us/step - loss: 2.6995e-07 - mean_absolute_percentage_error: 0.0404 - perc_error: 0.1302 - val_loss: 4.2118e-07 - val_mean_absolute_percentage_error: 0.0599 - val_perc_error: 0.1964\n",
      "\n",
      "Epoch 2/1000\n",
      "334366/334366 [==============================]334366/334366 [==============================] - 4s 13us/step - loss: 2.1943e-07 - mean_absolute_percentage_error: 0.0418 - perc_error: 0.1355 - val_loss: 3.7156e-07 - val_mean_absolute_percentage_error: 0.0558 - val_perc_error: 0.1808\n",
      "\n",
      "Epoch 3/1000\n",
      "334366/334366 [==============================]334366/334366 [==============================] - 4s 12us/step - loss: 2.1735e-07 - mean_absolute_percentage_error: 0.0417 - perc_error: 0.1350 - val_loss: 2.3499e-07 - val_mean_absolute_percentage_error: 0.0441 - val_perc_error: 0.1396\n",
      "\n",
      "Epoch 4/1000\n",
      "334366/334366 [==============================]334366/334366 [==============================] - 4s 12us/step - loss: 2.1305e-07 - mean_absolute_percentage_error: 0.0412 - perc_error: 0.1333 - val_loss: 3.6163e-07 - val_mean_absolute_percentage_error: 0.0548 - val_perc_error: 0.1758\n",
      "\n",
      "Epoch 5/1000\n",
      "334366/334366 [==============================]334366/334366 [==============================] - 4s 13us/step - loss: 2.2642e-07 - mean_absolute_percentage_error: 0.0425 - perc_error: 0.1378 - val_loss: 2.2719e-07 - val_mean_absolute_percentage_error: 0.0431 - val_perc_error: 0.1402\n",
      "\n",
      "Epoch 6/1000\n",
      "334366/334366 [==============================]334366/334366 [==============================] - 4s 13us/step - loss: 2.1357e-07 - mean_absolute_percentage_error: 0.0412 - perc_error: 0.1335 - val_loss: 5.8856e-07 - val_mean_absolute_percentage_error: 0.0708 - val_perc_error: 0.2370\n",
      "\n",
      "Epoch 7/1000\n",
      "334366/334366 [==============================]334366/334366 [==============================] - 4s 12us/step - loss: 2.2111e-07 - mean_absolute_percentage_error: 0.0419 - perc_error: 0.1359 - val_loss: 5.0002e-07 - val_mean_absolute_percentage_error: 0.0653 - val_perc_error: 0.2092\n",
      "\n",
      "Epoch 8/1000\n",
      "334366/334366 [==============================]334366/334366 [==============================] - 4s 12us/step - loss: 2.1843e-07 - mean_absolute_percentage_error: 0.0416 - perc_error: 0.1347 - val_loss: 3.1515e-07 - val_mean_absolute_percentage_error: 0.0520 - val_perc_error: 0.1695\n",
      "\n",
      "Epoch 9/1000\n",
      "334366/334366 [==============================]334366/334366 [==============================] - 4s 12us/step - loss: 2.0990e-07 - mean_absolute_percentage_error: 0.0407 - perc_error: 0.1320 - val_loss: 2.0587e-07 - val_mean_absolute_percentage_error: 0.0409 - val_perc_error: 0.1309\n",
      "\n",
      "Epoch 10/1000\n",
      "334366/334366 [==============================]334366/334366 [==============================] - 4s 13us/step - loss: 2.1777e-07 - mean_absolute_percentage_error: 0.0416 - perc_error: 0.1348 - val_loss: 1.3283e-07 - val_mean_absolute_percentage_error: 0.0326 - val_perc_error: 0.1037\n",
      "\n",
      "Epoch 11/1000\n",
      "334366/334366 [==============================]334366/334366 [==============================] - 4s 12us/step - loss: 2.0744e-07 - mean_absolute_percentage_error: 0.0406 - perc_error: 0.1317 - val_loss: 3.9639e-07 - val_mean_absolute_percentage_error: 0.0594 - val_perc_error: 0.1940\n",
      "\n",
      "Epoch 12/1000\n",
      "334366/334366 [==============================]334366/334366 [==============================] - 4s 12us/step - loss: 2.1773e-07 - mean_absolute_percentage_error: 0.0415 - perc_error: 0.1345 - val_loss: 2.4264e-07 - val_mean_absolute_percentage_error: 0.0450 - val_perc_error: 0.1482\n",
      "\n",
      "Epoch 13/1000\n",
      "334366/334366 [==============================]334366/334366 [==============================] - 4s 12us/step - loss: 2.0650e-07 - mean_absolute_percentage_error: 0.0404 - perc_error: 0.1310 - val_loss: 2.6682e-07 - val_mean_absolute_percentage_error: 0.0474 - val_perc_error: 0.1539\n",
      "\n",
      "Epoch 14/1000\n",
      "334366/334366 [==============================]334366/334366 [==============================] - 4s 12us/step - loss: 2.1757e-07 - mean_absolute_percentage_error: 0.0415 - perc_error: 0.1347 - val_loss: 3.0972e-07 - val_mean_absolute_percentage_error: 0.0511 - val_perc_error: 0.1673\n",
      "\n",
      "Epoch 15/1000\n",
      "334366/334366 [==============================]334366/334366 [==============================] - 4s 12us/step - loss: 2.0378e-07 - mean_absolute_percentage_error: 0.0402 - perc_error: 0.1304 - val_loss: 9.7278e-07 - val_mean_absolute_percentage_error: 0.0950 - val_perc_error: 0.3125\n",
      "\n",
      "Epoch 16/1000\n",
      "334366/334366 [==============================]334366/334366 [==============================] - 4s 12us/step - loss: 2.1494e-07 - mean_absolute_percentage_error: 0.0414 - perc_error: 0.1340 - val_loss: 2.9586e-07 - val_mean_absolute_percentage_error: 0.0500 - val_perc_error: 0.1602\n",
      "\n",
      "Epoch 17/1000\n",
      "334366/334366 [==============================]334366/334366 [==============================] - 4s 13us/step - loss: 2.0435e-07 - mean_absolute_percentage_error: 0.0403 - perc_error: 0.1307 - val_loss: 3.1670e-07 - val_mean_absolute_percentage_error: 0.0511 - val_perc_error: 0.1611\n",
      "\n",
      "Epoch 18/1000\n",
      "334366/334366 [==============================]334366/334366 [==============================] - 4s 13us/step - loss: 2.0648e-07 - mean_absolute_percentage_error: 0.0404 - perc_error: 0.1313 - val_loss: 3.8605e-07 - val_mean_absolute_percentage_error: 0.0578 - val_perc_error: 0.1871\n",
      "\n",
      "Epoch 19/1000\n",
      "334366/334366 [==============================]334366/334366 [==============================] - 4s 12us/step - loss: 2.0291e-07 - mean_absolute_percentage_error: 0.0400 - perc_error: 0.1296 - val_loss: 4.6718e-07 - val_mean_absolute_percentage_error: 0.0649 - val_perc_error: 0.2154\n",
      "\n",
      "Epoch 20/1000\n",
      "334366/334366 [==============================]334366/334366 [==============================] - 4s 12us/step - loss: 2.0625e-07 - mean_absolute_percentage_error: 0.0404 - perc_error: 0.1310 - val_loss: 4.2131e-07 - val_mean_absolute_percentage_error: 0.0590 - val_perc_error: 0.1995\n",
      "\n",
      "Epoch 21/1000\n",
      "334366/334366 [==============================]334366/334366 [==============================] - 4s 12us/step - loss: 2.0156e-07 - mean_absolute_percentage_error: 0.0399 - perc_error: 0.1296 - val_loss: 2.7009e-07 - val_mean_absolute_percentage_error: 0.0477 - val_perc_error: 0.1511\n",
      "\n",
      "Epoch 22/1000\n",
      "334366/334366 [==============================]334366/334366 [==============================] - 4s 12us/step - loss: 2.0183e-07 - mean_absolute_percentage_error: 0.0400 - perc_error: 0.1296 - val_loss: 3.5995e-07 - val_mean_absolute_percentage_error: 0.0553 - val_perc_error: 0.1811\n",
      "\n",
      "Epoch 23/1000\n",
      "334366/334366 [==============================]334366/334366 [==============================] - 4s 12us/step - loss: 1.9638e-07 - mean_absolute_percentage_error: 0.0395 - perc_error: 0.1279 - val_loss: 2.8505e-07 - val_mean_absolute_percentage_error: 0.0489 - val_perc_error: 0.1555\n",
      "\n",
      "Epoch 24/1000\n",
      "334366/334366 [==============================]334366/334366 [==============================] - 4s 12us/step - loss: 2.1649e-07 - mean_absolute_percentage_error: 0.0413 - perc_error: 0.1343 - val_loss: 1.8122e-07 - val_mean_absolute_percentage_error: 0.0390 - val_perc_error: 0.1246\n",
      "\n",
      "Epoch 25/1000\n",
      "334366/334366 [==============================]334366/334366 [==============================] - 4s 12us/step - loss: 1.8568e-07 - mean_absolute_percentage_error: 0.0384 - perc_error: 0.1245 - val_loss: 2.2240e-07 - val_mean_absolute_percentage_error: 0.0427 - val_perc_error: 0.1372\n",
      "\n",
      "Epoch 26/1000\n",
      "334366/334366 [==============================]334366/334366 [==============================] - 4s 13us/step - loss: 1.9920e-07 - mean_absolute_percentage_error: 0.0398 - perc_error: 0.1290 - val_loss: 2.7956e-07 - val_mean_absolute_percentage_error: 0.0475 - val_perc_error: 0.1568\n",
      "\n",
      "Epoch 27/1000\n",
      "334366/334366 [==============================]334366/334366 [==============================] - 4s 12us/step - loss: 1.9833e-07 - mean_absolute_percentage_error: 0.0398 - perc_error: 0.1291 - val_loss: 1.5003e-07 - val_mean_absolute_percentage_error: 0.0352 - val_perc_error: 0.1136\n",
      "\n",
      "Epoch 28/1000\n"
     ]
    },
    {
     "name": "stdout",
     "output_type": "stream",
     "text": [
      "334366/334366 [==============================]334366/334366 [==============================] - 4s 12us/step - loss: 1.9272e-07 - mean_absolute_percentage_error: 0.0391 - perc_error: 0.1269 - val_loss: 2.7111e-07 - val_mean_absolute_percentage_error: 0.0465 - val_perc_error: 0.1454\n",
      "\n",
      "Epoch 29/1000\n",
      "334366/334366 [==============================]334366/334366 [==============================] - 4s 12us/step - loss: 2.0840e-07 - mean_absolute_percentage_error: 0.0406 - perc_error: 0.1320 - val_loss: 2.3279e-07 - val_mean_absolute_percentage_error: 0.0438 - val_perc_error: 0.1399\n",
      "\n",
      "Epoch 30/1000\n",
      "334366/334366 [==============================]334366/334366 [==============================] - 4s 12us/step - loss: 1.8739e-07 - mean_absolute_percentage_error: 0.0387 - perc_error: 0.1255 - val_loss: 2.6935e-07 - val_mean_absolute_percentage_error: 0.0468 - val_perc_error: 0.1542\n",
      "\n",
      "Epoch 31/1000\n",
      "334366/334366 [==============================]334366/334366 [==============================] - 4s 12us/step - loss: 1.9974e-07 - mean_absolute_percentage_error: 0.0398 - perc_error: 0.1290 - val_loss: 2.9934e-07 - val_mean_absolute_percentage_error: 0.0508 - val_perc_error: 0.1695\n",
      "\n",
      "Epoch 32/1000\n",
      "334366/334366 [==============================]334366/334366 [==============================] - 4s 12us/step - loss: 2.0251e-07 - mean_absolute_percentage_error: 0.0400 - perc_error: 0.1300 - val_loss: 3.2063e-07 - val_mean_absolute_percentage_error: 0.0531 - val_perc_error: 0.1679\n",
      "\n",
      "Epoch 33/1000\n",
      "334366/334366 [==============================]334366/334366 [==============================] - 4s 12us/step - loss: 1.8600e-07 - mean_absolute_percentage_error: 0.0385 - perc_error: 0.1248 - val_loss: 4.2111e-07 - val_mean_absolute_percentage_error: 0.0603 - val_perc_error: 0.1998\n",
      "\n",
      "Epoch 34/1000\n",
      "334366/334366 [==============================]334366/334366 [==============================] - 4s 12us/step - loss: 2.0288e-07 - mean_absolute_percentage_error: 0.0400 - perc_error: 0.1299 - val_loss: 4.4700e-07 - val_mean_absolute_percentage_error: 0.0617 - val_perc_error: 0.1994\n",
      "\n",
      "Epoch 35/1000\n",
      "334366/334366 [==============================]334366/334366 [==============================] - 4s 12us/step - loss: 1.8558e-07 - mean_absolute_percentage_error: 0.0384 - perc_error: 0.1247 - val_loss: 2.3332e-07 - val_mean_absolute_percentage_error: 0.0438 - val_perc_error: 0.1409\n",
      "\n",
      "Epoch 36/1000\n",
      "334366/334366 [==============================]334366/334366 [==============================] - 4s 13us/step - loss: 1.9214e-07 - mean_absolute_percentage_error: 0.0389 - perc_error: 0.1263 - val_loss: 1.6481e-07 - val_mean_absolute_percentage_error: 0.0365 - val_perc_error: 0.1189\n",
      "\n",
      "Epoch 37/1000\n",
      "334366/334366 [==============================]334366/334366 [==============================] - 4s 13us/step - loss: 1.9863e-07 - mean_absolute_percentage_error: 0.0393 - perc_error: 0.1278 - val_loss: 1.7840e-07 - val_mean_absolute_percentage_error: 0.0382 - val_perc_error: 0.1212\n",
      "\n",
      "Epoch 38/1000\n",
      "334366/334366 [==============================]334366/334366 [==============================] - 4s 12us/step - loss: 1.8952e-07 - mean_absolute_percentage_error: 0.0387 - perc_error: 0.1259 - val_loss: 3.9165e-07 - val_mean_absolute_percentage_error: 0.0582 - val_perc_error: 0.1903\n",
      "\n",
      "Epoch 39/1000\n",
      "334366/334366 [==============================]334366/334366 [==============================] - 4s 13us/step - loss: 2.0651e-07 - mean_absolute_percentage_error: 0.0403 - perc_error: 0.1311 - val_loss: 2.4803e-07 - val_mean_absolute_percentage_error: 0.0454 - val_perc_error: 0.1459\n",
      "\n",
      "Epoch 40/1000\n",
      "334366/334366 [==============================]334366/334366 [==============================] - 4s 13us/step - loss: 1.7927e-07 - mean_absolute_percentage_error: 0.0378 - perc_error: 0.1226 - val_loss: 3.8130e-07 - val_mean_absolute_percentage_error: 0.0563 - val_perc_error: 0.1818\n",
      "\n",
      "Train: 0.032, Test: 0.033\n",
      "Train: 0.102, Test: 0.104\n"
     ]
    }
   ],
   "source": [
    "print('Std : {}'.format(np.std(temp_train)))\n",
    "print('Mean : {}'.format(np.mean(temp_train)))\n",
    "\n",
    "train, test, perc, history = calc_RMSE(mom_train, mom_test, temp_train, temp_test, reuse_model=True)"
   ]
  },
  {
   "cell_type": "code",
   "execution_count": 9,
   "metadata": {},
   "outputs": [
    {
     "ename": "NameError",
     "evalue": "name 'training_error' is not defined",
     "output_type": "error",
     "traceback": [
      "\u001b[0;31m---------------------------------------------------------------------------\u001b[0m",
      "\u001b[0;31mNameError\u001b[0m                                 Traceback (most recent call last)",
      "\u001b[0;32m<ipython-input-9-1d7bf553316d>\u001b[0m in \u001b[0;36m<module>\u001b[0;34m()\u001b[0m\n\u001b[0;32m----> 1\u001b[0;31m \u001b[0mprint\u001b[0m\u001b[0;34m(\u001b[0m\u001b[0mtraining_error\u001b[0m\u001b[0;34m)\u001b[0m\u001b[0;34m\u001b[0m\u001b[0m\n\u001b[0m",
      "\u001b[0;31mNameError\u001b[0m: name 'training_error' is not defined"
     ]
    }
   ],
   "source": [
    "print(training_error)"
   ]
  },
  {
   "cell_type": "code",
   "execution_count": 8,
   "metadata": {},
   "outputs": [
    {
     "name": "stdout",
     "output_type": "stream",
     "text": [
      "0.9621650993422035\n"
     ]
    }
   ],
   "source": [
    "print(test_error)"
   ]
  },
  {
   "cell_type": "code",
   "execution_count": 24,
   "metadata": {},
   "outputs": [
    {
     "name": "stdout",
     "output_type": "stream",
     "text": [
      "23.910728432260218\n"
     ]
    }
   ],
   "source": [
    "print(perc_error)"
   ]
  },
  {
   "cell_type": "code",
   "execution_count": 7,
   "metadata": {},
   "outputs": [
    {
     "data": {
      "image/png": "[encoded data removed]",
      "text/plain": [
       "<Figure size 432x288 with 1 Axes>"
      ]
     },
     "metadata": {},
     "output_type": "display_data"
    }
   ],
   "source": [
    "points = len(history.history['loss'])\n",
    "pyplot.plot(range(points), history.history['loss'], color='r', label='Training Set')\n",
    "pyplot.plot(range(points), history.history['val_loss'],color='b', label='Val Set')\n",
    "pyplot.legend()\n",
    "#pyplot.ylim(0,2)\n",
    "pyplot.yscale('log')"
   ]
  },
  {
   "cell_type": "code",
   "execution_count": null,
   "metadata": {},
   "outputs": [],
   "source": [
    "np.divide(np.abs(me_test - me_predict), me_test)\n",
    "\n"
   ]
  }
 ],
 "metadata": {
  "kernelspec": {
   "display_name": "Python 3",
   "language": "python",
   "name": "python3"
  },
  "language_info": {
   "codemirror_mode": {
    "name": "ipython",
    "version": 3
   },
   "file_extension": ".py",
   "mimetype": "text/x-python",
   "name": "python",
   "nbconvert_exporter": "python",
   "pygments_lexer": "ipython3",
   "version": "3.6.3"
  }
 },
 "nbformat": 4,
 "nbformat_minor": 2
}
