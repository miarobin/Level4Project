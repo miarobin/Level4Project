{
 "cells": [
  {
   "cell_type": "code",
   "execution_count": 1,
   "metadata": {},
   "outputs": [
    {
     "name": "stderr",
     "output_type": "stream",
     "text": [
      "Using TensorFlow backend.\n"
     ]
    }
   ],
   "source": [
    "import tensorflow as tf\n",
    "from tensorflow import keras\n",
    "\n",
    "from sklearn.preprocessing import StandardScaler\n",
    "from sklearn.model_selection import RandomizedSearchCV\n",
    "from keras.wrappers.scikit_learn import KerasRegressor\n",
    "\n",
    "import numpy as np"
   ]
  },
  {
   "cell_type": "code",
   "execution_count": 2,
   "metadata": {},
   "outputs": [],
   "source": [
    "##Minkowski product of 4-vectors p1, p2.\n",
    "def m_prod_arr(p1, p2):\n",
    "    return np.multiply(p1[:,0], p2[:,0]) - np.sum(np.multiply(p1[:,1:], p2[:,1:]), axis=1)"
   ]
  },
  {
   "cell_type": "code",
   "execution_count": 3,
   "metadata": {},
   "outputs": [],
   "source": [
    "def data_preprocessing(me_filename, mom_filename, frac=1):\n",
    "    ##Data Aquisition\n",
    "    me_raw = np.load(me_filename, allow_pickle=True) #Matrix elements\n",
    "    mom_raw = np.load(mom_filename, allow_pickle=True, encoding='bytes') #4-momenta of inputs\n",
    "    mom_raw = np.array([np.array(element) for element in mom_raw])\n",
    "    \n",
    "    me_raw=me_raw[:int(frac*len(me_raw))]\n",
    "    mom_raw=mom_raw[:int(frac*len(mom_raw))]\n",
    "    \n",
    "    p_12 = mom_raw[:,2] + mom_raw[:,3] #p1+p2\n",
    "    p_13 = mom_raw[:,2] + mom_raw[:,4] #p1+p3\n",
    "    p_23 = mom_raw[:,3] + mom_raw[:,4] #p2+p3\n",
    "\n",
    "    s_12 = m_prod_arr(p_12, p_12) #center of mass energies of two of three beams\n",
    "    s_13 = m_prod_arr(p_13, p_13)\n",
    "    s_23 = m_prod_arr(p_23, p_23)\n",
    "    \n",
    "    ##Flatten Momentum\n",
    "    mom = np.array([np.ndarray.flatten(np.array(element)[2:]) for element in mom_raw])\n",
    "\n",
    "    ##Reformat Matrix Element (remove divergent behaviour)\n",
    "    me = np.multiply(np.multiply(me_raw, s_13), s_23)/(s_12+s_13+s_23)\n",
    "    \n",
    "    return(me, mom)"
   ]
  },
  {
   "cell_type": "code",
   "execution_count": 4,
   "metadata": {},
   "outputs": [],
   "source": [
    "##Obtain & process data\n",
    "me_train, mom_train = data_preprocessing('LO_3_MG/3Jet_3000000.npy', 'LO_3_0.01_NJet/PS3_0.01_3000000.npy', frac=0.1)\n",
    "me_test, mom_test = data_preprocessing('LO_3_MG/3Jet_500000.npy', 'LO_3_0.01_NJet/PS3_0.01_500000.npy', frac=0.1)\n",
    "\n",
    "##Rescale\n",
    "scaler = StandardScaler()\n",
    "\n",
    "mom_train = scaler.fit_transform(mom_train) #Rescale on training set\n",
    "mom_test = scaler.transform(mom_test) #Rescale on test set"
   ]
  },
  {
   "cell_type": "code",
   "execution_count": 5,
   "metadata": {},
   "outputs": [],
   "source": [
    "# Random Model from Tensorflow Website\n",
    "def build_model(dropout, hidden_layers=5, components=200, optimizer='RMSprop'):\n",
    "    \n",
    "  model = keras.Sequential([\n",
    "    keras.layers.Dense(components, activation='relu', input_shape=[12]), #could try swish??\n",
    "    keras.layers.BatchNormalization(),  \n",
    "    keras.layers.Dropout(dropout),\n",
    "      \n",
    "    *np.repeat([keras.layers.Dense(components, activation='relu'), \n",
    "    keras.layers.BatchNormalization(),\n",
    "    keras.layers.Dropout(dropout)], hidden_layers),\n",
    "    \n",
    "    keras.layers.Dense(components, activation='relu'), \n",
    "    keras.layers.BatchNormalization(),\n",
    "    keras.layers.Dropout(dropout),\n",
    "    \n",
    "    keras.layers.Dense(1) \n",
    "  ])\n",
    "\n",
    "  model.compile(loss='mse', #gans?\n",
    "                optimizer=optimizer,\n",
    "                metrics=['mse'])\n",
    "  return model"
   ]
  },
  {
   "cell_type": "code",
   "execution_count": 6,
   "metadata": {},
   "outputs": [
    {
     "name": "stderr",
     "output_type": "stream",
     "text": [
      "/opt/conda/lib/python3.6/site-packages/sklearn/model_selection/_search.py:266: UserWarning: The total space of parameters 3 is smaller than n_iter=10. Running 3 iterations. For exhaustive searches, use GridSearchCV.\n",
      "  % (grid_size, self.n_iter, grid_size), UserWarning)\n"
     ]
    },
    {
     "name": "stdout",
     "output_type": "stream",
     "text": [
      "WARNING:tensorflow:From /opt/conda/lib/python3.6/site-packages/tensorflow/python/keras/_impl/keras/backend.py:1557: calling reduce_mean (from tensorflow.python.ops.math_ops) with keep_dims is deprecated and will be removed in a future version.\n",
      "Instructions for updating:\n",
      "keep_dims is deprecated, use keepdims instead\n",
      "Epoch 1/3\n",
      "66666/66666 [==============================]66666/66666 [==============================] - 19s 286us/step - loss: 0.1088 - mean_squared_error: 0.1088\n",
      "\n",
      "Epoch 2/3\n",
      "66666/66666 [==============================]66666/66666 [==============================] - 19s 281us/step - loss: 3.0033e-04 - mean_squared_error: 3.0033e-04\n",
      "\n",
      "Epoch 3/3\n",
      "66666/66666 [==============================]66666/66666 [==============================] - 18s 276us/step - loss: 1.2177e-04 - mean_squared_error: 1.2177e-04\n",
      "\n",
      "33334/33334 [==============================]33334/33334 [==============================] - 2s 75us/step\n",
      "\n",
      "Epoch 1/3\n",
      "66667/66667 [==============================]66667/66667 [==============================] - 20s 293us/step - loss: 0.1202 - mean_squared_error: 0.1202\n",
      "\n",
      "Epoch 2/3\n",
      "66667/66667 [==============================]66667/66667 [==============================] - 19s 282us/step - loss: 2.9066e-04 - mean_squared_error: 2.9066e-04\n",
      "\n",
      "Epoch 3/3\n",
      "66667/66667 [==============================]66667/66667 [==============================] - 19s 281us/step - loss: 1.1597e-04 - mean_squared_error: 1.1597e-04\n",
      "\n",
      "33333/33333 [==============================]33333/33333 [==============================] - 2s 74us/step\n",
      "\n",
      "Epoch 1/3\n",
      "66667/66667 [==============================]66667/66667 [==============================] - 19s 281us/step - loss: 0.1167 - mean_squared_error: 0.1167\n",
      "\n",
      "Epoch 2/3\n",
      "66667/66667 [==============================]66667/66667 [==============================] - 18s 276us/step - loss: 3.0684e-04 - mean_squared_error: 3.0684e-04\n",
      "\n",
      "Epoch 3/3\n",
      "66667/66667 [==============================]66667/66667 [==============================] - 19s 283us/step - loss: 1.2559e-04 - mean_squared_error: 1.2559e-04\n",
      "\n",
      "33333/33333 [==============================]33333/33333 [==============================] - 3s 78us/step\n",
      "\n",
      "Epoch 1/3\n",
      "66666/66666 [==============================]66666/66666 [==============================] - 20s 294us/step - loss: 0.1625 - mean_squared_error: 0.1625\n",
      "\n",
      "Epoch 2/3\n",
      "66666/66666 [==============================]66666/66666 [==============================] - 19s 282us/step - loss: 4.2323e-04 - mean_squared_error: 4.2323e-04\n",
      "\n",
      "Epoch 3/3\n",
      "66666/66666 [==============================]66666/66666 [==============================] - 19s 286us/step - loss: 1.7965e-04 - mean_squared_error: 1.7965e-04\n",
      "\n",
      "33334/33334 [==============================]33334/33334 [==============================] - 3s 83us/step\n",
      "\n",
      "Epoch 1/3\n",
      "66667/66667 [==============================]66667/66667 [==============================] - 20s 301us/step - loss: 0.1210 - mean_squared_error: 0.1210\n",
      "\n",
      "Epoch 2/3\n",
      "66667/66667 [==============================]66667/66667 [==============================] - 19s 286us/step - loss: 4.1475e-04 - mean_squared_error: 4.1475e-04\n",
      "\n",
      "Epoch 3/3\n",
      "66667/66667 [==============================]66667/66667 [==============================] - 18s 272us/step - loss: 1.7406e-04 - mean_squared_error: 1.7406e-04\n",
      "\n",
      "33333/33333 [==============================]33333/33333 [==============================] - 2s 74us/step\n",
      "\n",
      "Epoch 1/3\n",
      "66667/66667 [==============================]66667/66667 [==============================] - 19s 291us/step - loss: 0.1339 - mean_squared_error: 0.1339\n",
      "\n",
      "Epoch 2/3\n",
      "66667/66667 [==============================]66667/66667 [==============================] - 18s 276us/step - loss: 4.2618e-04 - mean_squared_error: 4.2618e-04\n",
      "\n",
      "Epoch 3/3\n",
      "66667/66667 [==============================]66667/66667 [==============================] - 19s 283us/step - loss: 1.8049e-04 - mean_squared_error: 1.8049e-04\n",
      "\n",
      "33333/33333 [==============================]33333/33333 [==============================] - 3s 91us/step\n",
      "\n",
      "Epoch 1/3\n",
      "66666/66666 [==============================]66666/66666 [==============================] - 20s 306us/step - loss: 0.1799 - mean_squared_error: 0.1799\n",
      "\n",
      "Epoch 2/3\n",
      "66666/66666 [==============================]66666/66666 [==============================] - 19s 288us/step - loss: 6.4777e-04 - mean_squared_error: 6.4777e-04\n",
      "\n",
      "Epoch 3/3\n",
      "66666/66666 [==============================]66666/66666 [==============================] - 18s 270us/step - loss: 2.9204e-04 - mean_squared_error: 2.9204e-04\n",
      "\n",
      "33334/33334 [==============================]33334/33334 [==============================] - 3s 87us/step\n",
      "\n",
      "Epoch 1/3\n",
      "66667/66667 [==============================]66667/66667 [==============================] - 20s 303us/step - loss: 0.1936 - mean_squared_error: 0.1936\n",
      "\n",
      "Epoch 2/3\n",
      "66667/66667 [==============================]66667/66667 [==============================] - 19s 286us/step - loss: 6.7432e-04 - mean_squared_error: 6.7432e-04\n",
      "\n",
      "Epoch 3/3\n",
      "66667/66667 [==============================]66667/66667 [==============================] - 18s 266us/step - loss: 2.9486e-04 - mean_squared_error: 2.9486e-04\n",
      "\n",
      "33333/33333 [==============================]33333/33333 [==============================] - 3s 82us/step\n",
      "\n",
      "Epoch 1/3\n",
      "66667/66667 [==============================]66667/66667 [==============================] - 20s 296us/step - loss: 0.2001 - mean_squared_error: 0.2001\n",
      "\n",
      "Epoch 2/3\n",
      "66667/66667 [==============================]66667/66667 [==============================] - 19s 292us/step - loss: 6.8603e-04 - mean_squared_error: 6.8603e-04\n",
      "\n",
      "Epoch 3/3\n",
      "66667/66667 [==============================]66667/66667 [==============================] - 19s 288us/step - loss: 3.0708e-04 - mean_squared_error: 3.0708e-04\n",
      "\n",
      "33333/33333 [==============================]33333/33333 [==============================] - 3s 95us/step\n",
      "\n",
      "Epoch 1/3\n",
      "100000/100000 [==============================]100000/100000 [==============================] - 30s 304us/step - loss: 0.1541 - mean_squared_error: 0.1541\n",
      "\n",
      "Epoch 2/3\n",
      "100000/100000 [==============================]100000/100000 [==============================] - 29s 295us/step - loss: 3.8991e-04 - mean_squared_error: 3.8991e-04\n",
      "\n",
      "Epoch 3/3\n",
      "100000/100000 [==============================]100000/100000 [==============================] - 27s 273us/step - loss: 2.4120e-04 - mean_squared_error: 2.4120e-04\n",
      "\n"
     ]
    }
   ],
   "source": [
    "model = KerasRegressor(build_fn=build_model, epochs=3)\n",
    "\n",
    "dropout = [0.3,0.4,0.5]\n",
    "param_grid = dict(dropout=dropout)\n",
    "\n",
    "grid = RandomizedSearchCV(model, param_grid, cv=3)\n",
    "grid_result = grid.fit(mom_train[:100000], me_train[:100000])"
   ]
  },
  {
   "cell_type": "code",
   "execution_count": 7,
   "metadata": {},
   "outputs": [
    {
     "name": "stdout",
     "output_type": "stream",
     "text": [
      "Best: -149201.496120 using {'dropout': 0.5}\n",
      "-68515008.965965 (68301991.291308) with: {'dropout': 0.3}\n",
      "-14806972.801880 (5951164.275980) with: {'dropout': 0.4}\n",
      "-149201.496120 (104714.456035) with: {'dropout': 0.5}\n"
     ]
    }
   ],
   "source": [
    "# summarize results\n",
    "print(\"Best: %f using %s\" % (grid_result.best_score_, grid_result.best_params_))\n",
    "means = grid_result.cv_results_['mean_test_score']\n",
    "stds = grid_result.cv_results_['std_test_score']\n",
    "params = grid_result.cv_results_['params']\n",
    "for mean, stdev, param in zip(means, stds, params):\n",
    "    print(\"%f (%f) with: %r\" % (mean, stdev, param))"
   ]
  },
  {
   "cell_type": "code",
   "execution_count": 6,
   "metadata": {},
   "outputs": [
    {
     "name": "stdout",
     "output_type": "stream",
     "text": [
      "WARNING:tensorflow:From /opt/conda/lib/python3.6/site-packages/tensorflow/python/keras/_impl/keras/backend.py:1557: calling reduce_mean (from tensorflow.python.ops.math_ops) with keep_dims is deprecated and will be removed in a future version.\n",
      "Instructions for updating:\n",
      "keep_dims is deprecated, use keepdims instead\n",
      "Epoch 1/3\n",
      "300000/300000 [==============================]300000/300000 [==============================] - 71s 236us/step - loss: 0.0501 - mean_squared_error: 0.0501\n",
      "\n",
      "Epoch 2/3\n",
      "300000/300000 [==============================]300000/300000 [==============================] - 71s 237us/step - loss: 1.4324e-04 - mean_squared_error: 1.4324e-04\n",
      "\n",
      "Epoch 3/3\n",
      "300000/300000 [==============================]300000/300000 [==============================] - 72s 239us/step - loss: 1.2855e-04 - mean_squared_error: 1.2855e-04\n",
      "\n"
     ]
    },
    {
     "data": {
      "text/plain": [
       "<tensorflow.python.keras._impl.keras.callbacks.History at 0x7fe4d591b9b0>"
      ]
     },
     "execution_count": 6,
     "metadata": {},
     "output_type": "execute_result"
    }
   ],
   "source": [
    "#model = build_model(grid_result.best_params_['dropout'])\n",
    "model = build_model(0.5)\n",
    "model.fit(mom_train, me_train, epochs=3)"
   ]
  },
  {
   "cell_type": "code",
   "execution_count": 8,
   "metadata": {},
   "outputs": [
    {
     "name": "stdout",
     "output_type": "stream",
     "text": [
      "50000/50000 [==============================]50000/50000 [==============================] - 2s 37us/step\n",
      "\n"
     ]
    },
    {
     "data": {
      "text/plain": [
       "[6344488.30976, 6344488.30976]"
      ]
     },
     "execution_count": 8,
     "metadata": {},
     "output_type": "execute_result"
    }
   ],
   "source": [
    "model.evaluate(mom_test, me_test, batch_size=64, verbose=1)"
   ]
  },
  {
   "cell_type": "code",
   "execution_count": 9,
   "metadata": {},
   "outputs": [
    {
     "name": "stdout",
     "output_type": "stream",
     "text": [
      "['loss', 'mean_squared_error']\n"
     ]
    }
   ],
   "source": [
    "print(model.metrics_names)"
   ]
  },
  {
   "cell_type": "code",
   "execution_count": 13,
   "metadata": {},
   "outputs": [
    {
     "name": "stdout",
     "output_type": "stream",
     "text": [
      "0.06921789967290297\n",
      "0.024785264292307374\n"
     ]
    }
   ],
   "source": [
    "print(np.mean(me_train))\n",
    "print(np.std(me_train))"
   ]
  },
  {
   "cell_type": "code",
   "execution_count": 14,
   "metadata": {},
   "outputs": [],
   "source": [
    "def mean_absolute_percentage_error(y_true, y_pred): \n",
    "    return np.mean(100*np.divide(np.abs((y_true - y_pred),y_true)))"
   ]
  },
  {
   "cell_type": "code",
   "execution_count": null,
   "metadata": {},
   "outputs": [],
   "source": [
    "me_predict = model.predict(mom_test)\n",
    "\n",
    "print(np.mean(100*np.divide(np.abs(me_test - me_predict), me_test)))"
   ]
  },
  {
   "cell_type": "code",
   "execution_count": null,
   "metadata": {},
   "outputs": [],
   "source": [
    "print(model.predict(mom_test[:10]))\n",
    "print(me_test[:10])"
   ]
  },
  {
   "cell_type": "code",
   "execution_count": null,
   "metadata": {},
   "outputs": [],
   "source": []
  }
 ],
 "metadata": {
  "kernelspec": {
   "display_name": "Python 3",
   "language": "python",
   "name": "python3"
  },
  "language_info": {
   "codemirror_mode": {
    "name": "ipython",
    "version": 3
   },
   "file_extension": ".py",
   "mimetype": "text/x-python",
   "name": "python",
   "nbconvert_exporter": "python",
   "pygments_lexer": "ipython3",
   "version": "3.6.3"
  }
 },
 "nbformat": 4,
 "nbformat_minor": 2
}
