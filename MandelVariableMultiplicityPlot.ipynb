{
 "cells": [
  {
   "cell_type": "code",
   "execution_count": 1,
   "metadata": {},
   "outputs": [],
   "source": [
    "import numpy as np\n",
    "import matplotlib.pyplot as plt\n",
    "import DataPreprocessing\n",
    "from functools import reduce"
   ]
  },
  {
   "cell_type": "code",
   "execution_count": 33,
   "metadata": {},
   "outputs": [],
   "source": [
    "def graph_data(me_filename, mom_filename, comb_str):    \n",
    "    me_raw = np.load(me_filename, allow_pickle=True) #Matrix elements\n",
    "    mom_raw = np.load(mom_filename, allow_pickle=True, encoding='bytes') #4-momenta of inputs\n",
    "    mom_raw = np.array([np.array(element) for element in mom_raw])\n",
    "    \n",
    "    #mandel_vars = reduce(np.multiply, DataPreprocessing.mandel_creation(['1,3','2,3'], mom_raw))\n",
    "    #me = np.multiply(me_raw[:,1], mandel_vars)\n",
    "\n",
    "    return (me_raw[:,1], DataPreprocessing.mandel_creation([comb_str], mom_raw)[0])"
   ]
  },
  {
   "cell_type": "code",
   "execution_count": 35,
   "metadata": {},
   "outputs": [
    {
     "data": {
      "text/plain": [
       "<matplotlib.collections.PathCollection at 0x7fd401d27e48>"
      ]
     },
     "execution_count": 35,
     "metadata": {},
     "output_type": "execute_result"
    },
    {
     "data": {
      "image/png": "[encoded data removed]",
      "text/plain": [
       "<Figure size 432x288 with 1 Axes>"
      ]
     },
     "metadata": {},
     "output_type": "display_data"
    }
   ],
   "source": [
    "\n",
    "#me, S = graph_data('LO/MG_uuxg/3Jet_500000.npy', 'LO/LO_3_0.01_NJet/PS3_0.01_500000.npy', '3,5')\n",
    "#me, S = graph_data('LO/MG_uuxg_2/me_3jet_1000000.npy', 'LO/MG_uuxg_2/mom_3jet_1000000.npy', '1,3')\n",
    "me, S = graph_data('NLO/MG_uuxg/me_1000000.npy', 'NLO/MG_uuxg/mom_1000000.npy', '2,3')\n",
    "\n",
    "me = -me + 1\n",
    "#plt.ylim(0, 30)\n",
    "plt.yscale('log')\n",
    "plt.xscale('log')\n",
    "\n",
    "plt.ylabel('Matrix Element')\n",
    "plt.xlabel('Mandelstam Variable')\n",
    "plt.scatter(S, me)"
   ]
  },
  {
   "cell_type": "code",
   "execution_count": 28,
   "metadata": {},
   "outputs": [
    {
     "name": "stdout",
     "output_type": "stream",
     "text": [
      "20.000003030550136\n"
     ]
    }
   ],
   "source": [
    "print(max(me))"
   ]
  },
  {
   "cell_type": "code",
   "execution_count": null,
   "metadata": {},
   "outputs": [],
   "source": []
  }
 ],
 "metadata": {
  "kernelspec": {
   "display_name": "Python 3",
   "language": "python",
   "name": "python3"
  },
  "language_info": {
   "codemirror_mode": {
    "name": "ipython",
    "version": 3
   },
   "file_extension": ".py",
   "mimetype": "text/x-python",
   "name": "python",
   "nbconvert_exporter": "python",
   "pygments_lexer": "ipython3",
   "version": "3.6.3"
  }
 },
 "nbformat": 4,
 "nbformat_minor": 2
}
