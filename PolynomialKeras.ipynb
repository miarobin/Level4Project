{
 "cells": [
  {
   "cell_type": "code",
   "execution_count": 1,
   "metadata": {},
   "outputs": [],
   "source": [
    "import tensorflow as tf\n",
    "from tensorflow import keras\n",
    "import numpy as np\n",
    "from sklearn.metrics import mean_squared_error\n",
    "\n",
    "from sklearn.preprocessing import StandardScaler\n",
    "\n",
    "import DataPreprocessing\n",
    "import SmartPolynomials"
   ]
  },
  {
   "cell_type": "code",
   "execution_count": 2,
   "metadata": {},
   "outputs": [],
   "source": [
    "#combs = ['1,3','1,4','2,3','2,4','1,2,3','1,2,4','2,3,4','1,3,4','1,2,3','1,2,4','2,3,4','1,3,4']\n",
    "combs = ['1,3','1,4','2,3','2,4','1,2,3','1,2,4','2,3,4','1,3,4','1,2,3','1,2,4','2,3,4','1,3,4']"
   ]
  },
  {
   "cell_type": "code",
   "execution_count": 3,
   "metadata": {},
   "outputs": [],
   "source": [
    "me_train, mom_train_r = DataPreprocessing.npy('LO/MG_uuuxux/me_4jet_1000000', 'LO/MG_uuuxux/mom_4jet_1000000', combs, frac=1)\n",
    "me_test, mom_test_r = DataPreprocessing.npy('LO/MG_uuuxux/me_4jet_100000', 'LO/MG_uuuxux/mom_4jet_100000', combs, frac=0.1)\n",
    "me_train = me_train/10**45\n",
    "me_test = me_test/10**45"
   ]
  },
  {
   "cell_type": "code",
   "execution_count": 4,
   "metadata": {},
   "outputs": [
    {
     "name": "stdout",
     "output_type": "stream",
     "text": [
      "1743951053.8319516\n"
     ]
    }
   ],
   "source": [
    "print(np.std(me_train))"
   ]
  },
  {
   "cell_type": "code",
   "execution_count": 4,
   "metadata": {},
   "outputs": [
    {
     "name": "stdout",
     "output_type": "stream",
     "text": [
      "WARNING:tensorflow:From /opt/conda/lib/python3.6/site-packages/tensorflow/python/keras/_impl/keras/backend.py:1557: calling reduce_mean (from tensorflow.python.ops.math_ops) with keep_dims is deprecated and will be removed in a future version.\n",
      "Instructions for updating:\n",
      "keep_dims is deprecated, use keepdims instead\n",
      "Epoch 1/1\n",
      "2000/2000 [==============================]2000/2000 [==============================] - 2s 1ms/step - loss: 6898447203188221952.0000 - mean_squared_error: 6898447203188221952.0000\n",
      "\n",
      "0\n",
      "2000/2000 [==============================]2000/2000 [==============================] - 0s 199us/step\n",
      "\n",
      "[-603.21515]\n",
      "1874907.7472615761\n",
      "[2625185650.182103]\n",
      "[7925476653.9725895]\n",
      "Epoch 1/1\n",
      "2000/2000 [==============================]2000/2000 [==============================] - 2s 1ms/step - loss: 6080789488970224640.0000 - mean_squared_error: 6080789488970224640.0000\n",
      "\n",
      "Epoch 1/1\n",
      "2000/2000 [==============================]2000/2000 [==============================] - 2s 1ms/step - loss: 6624096589737480192.0000 - mean_squared_error: 6624096589737480192.0000\n",
      "\n",
      "Epoch 1/1\n",
      "2000/2000 [==============================]2000/2000 [==============================] - 2s 1ms/step - loss: 5890629053736597504.0000 - mean_squared_error: 5890629053736597504.0000\n",
      "\n",
      "Epoch 1/1\n",
      "2000/2000 [==============================]2000/2000 [==============================] - 2s 1ms/step - loss: 6445431425570226176.0000 - mean_squared_error: 6445431425570226176.0000\n",
      "\n",
      "Epoch 1/1\n",
      "2000/2000 [==============================]2000/2000 [==============================] - 2s 1ms/step - loss: 6288829655593067520.0000 - mean_squared_error: 6288829655593067520.0000\n",
      "\n",
      "Epoch 1/1\n",
      "2000/2000 [==============================]2000/2000 [==============================] - 2s 1ms/step - loss: 6084016972313892864.0000 - mean_squared_error: 6084016972313892864.0000\n",
      "\n",
      "Epoch 1/1\n",
      "2000/2000 [==============================]2000/2000 [==============================] - 2s 1ms/step - loss: 6374201647754140672.0000 - mean_squared_error: 6374201647754140672.0000\n",
      "\n",
      "Epoch 1/1\n",
      "2000/2000 [==============================]2000/2000 [==============================] - 2s 1ms/step - loss: 6536753594579625984.0000 - mean_squared_error: 6536753594579625984.0000\n",
      "\n",
      "Epoch 1/1\n",
      "2000/2000 [==============================]2000/2000 [==============================] - 2s 1ms/step - loss: 6200422581143129088.0000 - mean_squared_error: 6200422581143129088.0000\n",
      "\n",
      "Epoch 1/1\n",
      "2000/2000 [==============================]2000/2000 [==============================] - 2s 1ms/step - loss: 6472832678141762560.0000 - mean_squared_error: 6472832678141762560.0000\n",
      "\n",
      "Epoch 1/1\n",
      "2000/2000 [==============================]2000/2000 [==============================] - 2s 1ms/step - loss: 6186132757528128512.0000 - mean_squared_error: 6186132757528128512.0000\n",
      "\n",
      "Epoch 1/1\n",
      "2000/2000 [==============================]2000/2000 [==============================] - 2s 1ms/step - loss: 6365061957870434304.0000 - mean_squared_error: 6365061957870434304.0000\n",
      "\n",
      "Epoch 1/1\n",
      "2000/2000 [==============================]2000/2000 [==============================] - 2s 1ms/step - loss: 6068189758483169280.0000 - mean_squared_error: 6068189758483169280.0000\n",
      "\n",
      "Epoch 1/1\n",
      "2000/2000 [==============================]2000/2000 [==============================] - 2s 1ms/step - loss: 6165102472249452544.0000 - mean_squared_error: 6165102472249452544.0000\n",
      "\n",
      "Epoch 1/1\n",
      "2000/2000 [==============================]2000/2000 [==============================] - 2s 1ms/step - loss: 6714128991245309952.0000 - mean_squared_error: 6714128991245309952.0000\n",
      "\n",
      "Epoch 1/1\n",
      "2000/2000 [==============================]2000/2000 [==============================] - 2s 1ms/step - loss: 6387180514684171264.0000 - mean_squared_error: 6387180514684171264.0000\n",
      "\n",
      "Epoch 1/1\n",
      "2000/2000 [==============================]2000/2000 [==============================] - 2s 1ms/step - loss: 6377533392436058112.0000 - mean_squared_error: 6377533392436058112.0000\n",
      "\n",
      "Epoch 1/1\n",
      "2000/2000 [==============================]2000/2000 [==============================] - 2s 1ms/step - loss: 6359484671634023424.0000 - mean_squared_error: 6359484671634023424.0000\n",
      "\n",
      "Epoch 1/1\n",
      "2000/2000 [==============================]2000/2000 [==============================] - 2s 1ms/step - loss: 6281409362648716288.0000 - mean_squared_error: 6281409362648716288.0000\n",
      "\n",
      "Epoch 1/1\n",
      "2000/2000 [==============================]2000/2000 [==============================] - 2s 1ms/step - loss: 6395299704659106816.0000 - mean_squared_error: 6395299704659106816.0000\n",
      "\n",
      "Epoch 1/1\n",
      "2000/2000 [==============================]2000/2000 [==============================] - 2s 1ms/step - loss: 6045204618167529472.0000 - mean_squared_error: 6045204618167529472.0000\n",
      "\n",
      "Epoch 1/1\n",
      "2000/2000 [==============================]2000/2000 [==============================] - 2s 1ms/step - loss: 6239463466731470848.0000 - mean_squared_error: 6239463466731470848.0000\n",
      "\n",
      "Epoch 1/1\n",
      "2000/2000 [==============================]2000/2000 [==============================] - 2s 1ms/step - loss: 6419061941233844224.0000 - mean_squared_error: 6419061941233844224.0000\n",
      "\n",
      "Epoch 1/1\n",
      "2000/2000 [==============================]2000/2000 [==============================] - 2s 1ms/step - loss: 6060738157552658432.0000 - mean_squared_error: 6060738157552658432.0000\n",
      "\n",
      "Epoch 1/1\n",
      "2000/2000 [==============================]2000/2000 [==============================] - 2s 1ms/step - loss: 6252611910013381632.0000 - mean_squared_error: 6252611910013381632.0000\n",
      "\n",
      "50000\n",
      "2000/2000 [==============================]2000/2000 [==============================] - 0s 185us/step\n",
      "\n",
      "[-603.21515, 677.986]\n",
      "4073812.8158546523\n",
      "[2625185650.182103, 2499911175.4569335]\n",
      "[7925476653.9725895, 7827690408.884327]\n",
      "Epoch 1/1\n",
      "2000/2000 [==============================]2000/2000 [==============================] - 2s 1ms/step - loss: 6156686209791520768.0000 - mean_squared_error: 6156686209791520768.0000\n",
      "\n",
      "Epoch 1/1\n",
      "2000/2000 [==============================]2000/2000 [==============================] - 2s 1ms/step - loss: 6038976811935435776.0000 - mean_squared_error: 6038976811935435776.0000\n",
      "\n",
      "Epoch 1/1\n",
      "2000/2000 [==============================]2000/2000 [==============================] - 2s 1ms/step - loss: 6225359035951644672.0000 - mean_squared_error: 6225359035951644672.0000\n",
      "\n",
      "Epoch 1/1\n",
      "2000/2000 [==============================]2000/2000 [==============================] - 2s 1ms/step - loss: 6150772614442673152.0000 - mean_squared_error: 6150772614442673152.0000\n",
      "\n",
      "Epoch 1/1\n",
      "2000/2000 [==============================]2000/2000 [==============================] - 2s 1ms/step - loss: 6600380558189972480.0000 - mean_squared_error: 6600380558189972480.0000\n",
      "\n",
      "Epoch 1/1\n",
      "2000/2000 [==============================]2000/2000 [==============================] - 2s 1ms/step - loss: 5956859634292702208.0000 - mean_squared_error: 5956859634292702208.0000\n",
      "\n",
      "Epoch 1/1\n",
      "2000/2000 [==============================]2000/2000 [==============================] - 2s 1ms/step - loss: 6438379964580912128.0000 - mean_squared_error: 6438379964580912128.0000\n",
      "\n",
      "Epoch 1/1\n",
      "2000/2000 [==============================]2000/2000 [==============================] - 2s 1ms/step - loss: 6398266394545121280.0000 - mean_squared_error: 6398266394545121280.0000\n",
      "\n",
      "Epoch 1/1\n",
      "2000/2000 [==============================]2000/2000 [==============================] - 2s 1ms/step - loss: 6210051074805948416.0000 - mean_squared_error: 6210051074805948416.0000\n",
      "\n",
      "Epoch 1/1\n",
      "2000/2000 [==============================]2000/2000 [==============================] - 2s 1ms/step - loss: 6090817006910006272.0000 - mean_squared_error: 6090817006910006272.0000\n",
      "\n",
      "Epoch 1/1\n",
      "2000/2000 [==============================]2000/2000 [==============================] - 2s 1ms/step - loss: 6093409889461832704.0000 - mean_squared_error: 6093409889461832704.0000\n",
      "\n",
      "Epoch 1/1\n",
      "2000/2000 [==============================]2000/2000 [==============================] - 2s 1ms/step - loss: 6363102282061353984.0000 - mean_squared_error: 6363102282061353984.0000\n",
      "\n",
      "Epoch 1/1\n",
      "2000/2000 [==============================]2000/2000 [==============================] - 2s 1ms/step - loss: 6474161174996453376.0000 - mean_squared_error: 6474161174996453376.0000\n",
      "\n",
      "Epoch 1/1\n"
     ]
    },
    {
     "name": "stdout",
     "output_type": "stream",
     "text": [
      "2000/2000 [==============================]2000/2000 [==============================] - 2s 1ms/step - loss: 5986154547484143616.0000 - mean_squared_error: 5986154547484143616.0000\n",
      "\n",
      "Epoch 1/1\n",
      "2000/2000 [==============================]2000/2000 [==============================] - 2s 1ms/step - loss: 6126266462931137536.0000 - mean_squared_error: 6126266462931137536.0000\n",
      "\n",
      "Epoch 1/1\n",
      "2000/2000 [==============================]2000/2000 [==============================] - 2s 1ms/step - loss: 6458945808152610816.0000 - mean_squared_error: 6458945808152610816.0000\n",
      "\n",
      "Epoch 1/1\n",
      "2000/2000 [==============================]2000/2000 [==============================] - 2s 1ms/step - loss: 5892767747272830976.0000 - mean_squared_error: 5892767747272830976.0000\n",
      "\n",
      "Epoch 1/1\n",
      "2000/2000 [==============================]2000/2000 [==============================] - 2s 1ms/step - loss: 5879653236595150848.0000 - mean_squared_error: 5879653236595150848.0000\n",
      "\n",
      "Epoch 1/1\n",
      "2000/2000 [==============================]2000/2000 [==============================] - 2s 1ms/step - loss: 5756109884820550656.0000 - mean_squared_error: 5756109884820550656.0000\n",
      "\n",
      "Epoch 1/1\n",
      "2000/2000 [==============================]2000/2000 [==============================] - 2s 1ms/step - loss: 6104678701655031808.0000 - mean_squared_error: 6104678701655031808.0000\n",
      "\n",
      "Epoch 1/1\n",
      "2000/2000 [==============================]2000/2000 [==============================] - 2s 1ms/step - loss: 6588711904904973312.0000 - mean_squared_error: 6588711904904973312.0000\n",
      "\n",
      "Epoch 1/1\n",
      "2000/2000 [==============================]2000/2000 [==============================] - 2s 1ms/step - loss: 6305873087264790528.0000 - mean_squared_error: 6305873087264790528.0000\n",
      "\n",
      "Epoch 1/1\n",
      "2000/2000 [==============================]2000/2000 [==============================] - 2s 1ms/step - loss: 6607909549535335424.0000 - mean_squared_error: 6607909549535335424.0000\n",
      "\n",
      "Epoch 1/1\n",
      "2000/2000 [==============================]2000/2000 [==============================] - 2s 1ms/step - loss: 6309287958201572352.0000 - mean_squared_error: 6309287958201572352.0000\n",
      "\n",
      "Epoch 1/1\n",
      "2000/2000 [==============================]2000/2000 [==============================] - 2s 1ms/step - loss: 6130832393898259456.0000 - mean_squared_error: 6130832393898259456.0000\n",
      "\n",
      "100000\n",
      "2000/2000 [==============================]2000/2000 [==============================] - 0s 231us/step\n",
      "\n",
      "[-603.21515, 677.986, 9484.096]\n",
      "5336246.614023642\n",
      "[2625185650.182103, 2499911175.4569335, 2475514767.0104184]\n",
      "[7925476653.9725895, 7827690408.884327, 7778300102.725265]\n",
      "Epoch 1/1\n",
      "2000/2000 [==============================]2000/2000 [==============================] - 2s 1ms/step - loss: 6060698751361599488.0000 - mean_squared_error: 6060698751361599488.0000\n",
      "\n",
      "Epoch 1/1\n",
      "2000/2000 [==============================]2000/2000 [==============================] - 2s 1ms/step - loss: 6215476858806340608.0000 - mean_squared_error: 6215476858806340608.0000\n",
      "\n",
      "Epoch 1/1\n",
      "2000/2000 [==============================]2000/2000 [==============================] - 2s 1ms/step - loss: 6195078310850950144.0000 - mean_squared_error: 6195078310850950144.0000\n",
      "\n",
      "Epoch 1/1\n",
      "2000/2000 [==============================]2000/2000 [==============================] - 2s 1ms/step - loss: 5844413972117638144.0000 - mean_squared_error: 5844413972117638144.0000\n",
      "\n",
      "Epoch 1/1\n",
      "2000/2000 [==============================]2000/2000 [==============================] - 2s 1ms/step - loss: 6267059485890900992.0000 - mean_squared_error: 6267059485890900992.0000\n",
      "\n",
      "Epoch 1/1\n",
      "2000/2000 [==============================]2000/2000 [==============================] - 2s 1ms/step - loss: 6385132298727020544.0000 - mean_squared_error: 6385132298727020544.0000\n",
      "\n",
      "Epoch 1/1\n",
      "2000/2000 [==============================]2000/2000 [==============================] - 2s 1ms/step - loss: 5833964120208323584.0000 - mean_squared_error: 5833964120208323584.0000\n",
      "\n",
      "Epoch 1/1\n",
      "2000/2000 [==============================]2000/2000 [==============================] - 2s 1ms/step - loss: 5727145660144422912.0000 - mean_squared_error: 5727145660144422912.0000\n",
      "\n",
      "Epoch 1/1\n",
      "2000/2000 [==============================]2000/2000 [==============================] - 2s 1ms/step - loss: 6213651944402189312.0000 - mean_squared_error: 6213651944402189312.0000\n",
      "\n",
      "Epoch 1/1\n",
      "2000/2000 [==============================]2000/2000 [==============================] - 2s 1ms/step - loss: 6055726198663190528.0000 - mean_squared_error: 6055726198663190528.0000\n",
      "\n",
      "Epoch 1/1\n",
      "2000/2000 [==============================]2000/2000 [==============================] - 2s 1ms/step - loss: 6141200093728288768.0000 - mean_squared_error: 6141200093728288768.0000\n",
      "\n",
      "Epoch 1/1\n",
      "2000/2000 [==============================]2000/2000 [==============================] - 2s 1ms/step - loss: 6451575577787279360.0000 - mean_squared_error: 6451575577787279360.0000\n",
      "\n",
      "Epoch 1/1\n",
      "2000/2000 [==============================]2000/2000 [==============================] - 2s 1ms/step - loss: 6006471111749040128.0000 - mean_squared_error: 6006471111749040128.0000\n",
      "\n",
      "Epoch 1/1\n",
      "2000/2000 [==============================]2000/2000 [==============================] - 2s 1ms/step - loss: 6455837323796911104.0000 - mean_squared_error: 6455837323796911104.0000\n",
      "\n",
      "Epoch 1/1\n",
      " 240/2000 [==>...........................] 240/2000 [==>...........................] - ETA: 1s - loss: 7222081238109903872.0000 - mean_squared_error: 7222081238109903872.0000"
     ]
    },
    {
     "name": "stderr",
     "output_type": "stream",
     "text": [
      "IOPub message rate exceeded.\n",
      "The notebook server will temporarily stop sending output\n",
      "to the client in order to avoid crashing it.\n",
      "To change this limit, set the config variable\n",
      "`--NotebookApp.iopub_msg_rate_limit`.\n",
      "\n",
      "Current values:\n",
      "NotebookApp.iopub_msg_rate_limit=1000.0 (msgs/sec)\n",
      "NotebookApp.rate_limit_window=3.0 (secs)\n",
      "\n"
     ]
    },
    {
     "name": "stdout",
     "output_type": "stream",
     "text": [
      "Epoch 1/1\n",
      "2000/2000 [==============================]2000/2000 [==============================] - 2s 1ms/step - loss: 5790528997110408192.0000 - mean_squared_error: 5790528997110408192.0000\n",
      "\n",
      "Epoch 1/1\n",
      "2000/2000 [==============================]2000/2000 [==============================] - 2s 1ms/step - loss: 5772940702924986368.0000 - mean_squared_error: 5772940702924986368.0000\n",
      "\n",
      "Epoch 1/1\n",
      "2000/2000 [==============================]2000/2000 [==============================] - 2s 1ms/step - loss: 5733838338378312704.0000 - mean_squared_error: 5733838338378312704.0000\n",
      "\n",
      "Epoch 1/1\n",
      "2000/2000 [==============================]2000/2000 [==============================] - 2s 1ms/step - loss: 5859556056349099008.0000 - mean_squared_error: 5859556056349099008.0000\n",
      "\n",
      "Epoch 1/1\n",
      "2000/2000 [==============================]2000/2000 [==============================] - 2s 1ms/step - loss: 5543673917860064256.0000 - mean_squared_error: 5543673917860064256.0000\n",
      "\n",
      "350000\n"
     ]
    },
    {
     "ename": "KeyboardInterrupt",
     "evalue": "",
     "output_type": "error",
     "traceback": [
      "\u001b[0;31m---------------------------------------------------------------------------\u001b[0m",
      "\u001b[0;31mKeyboardInterrupt\u001b[0m                         Traceback (most recent call last)",
      "\u001b[0;32m<ipython-input-4-df3bd03a9bde>\u001b[0m in \u001b[0;36m<module>\u001b[0;34m()\u001b[0m\n\u001b[1;32m     27\u001b[0m         \u001b[0mme_predictions\u001b[0m \u001b[0;34m=\u001b[0m \u001b[0mnp\u001b[0m\u001b[0;34m.\u001b[0m\u001b[0mzeros\u001b[0m\u001b[0;34m(\u001b[0m\u001b[0mlen\u001b[0m\u001b[0;34m(\u001b[0m\u001b[0mme_test\u001b[0m\u001b[0;34m)\u001b[0m\u001b[0;34m)\u001b[0m\u001b[0;34m\u001b[0m\u001b[0m\n\u001b[1;32m     28\u001b[0m         \u001b[0;32mfor\u001b[0m \u001b[0mm\u001b[0m \u001b[0;32min\u001b[0m \u001b[0mrange\u001b[0m\u001b[0;34m(\u001b[0m\u001b[0;36m0\u001b[0m\u001b[0;34m,\u001b[0m\u001b[0mlen\u001b[0m\u001b[0;34m(\u001b[0m\u001b[0mmom_test_r\u001b[0m\u001b[0;34m)\u001b[0m\u001b[0;34m,\u001b[0m\u001b[0;36m200\u001b[0m\u001b[0;34m)\u001b[0m\u001b[0;34m:\u001b[0m\u001b[0;34m\u001b[0m\u001b[0m\n\u001b[0;32m---> 29\u001b[0;31m             \u001b[0mpoly_test\u001b[0m \u001b[0;34m=\u001b[0m \u001b[0mSmartPolynomials\u001b[0m\u001b[0;34m.\u001b[0m\u001b[0msmarterPolynomialFeatures\u001b[0m\u001b[0;34m(\u001b[0m\u001b[0;36m4\u001b[0m\u001b[0;34m,\u001b[0m \u001b[0mmom_test_r\u001b[0m\u001b[0;34m[\u001b[0m\u001b[0mm\u001b[0m\u001b[0;34m:\u001b[0m \u001b[0mm\u001b[0m\u001b[0;34m+\u001b[0m\u001b[0mstep\u001b[0m\u001b[0;34m]\u001b[0m\u001b[0;34m)\u001b[0m\u001b[0;34m\u001b[0m\u001b[0m\n\u001b[0m\u001b[1;32m     30\u001b[0m             \u001b[0mpoly_test\u001b[0m \u001b[0;34m=\u001b[0m \u001b[0mscaler\u001b[0m\u001b[0;34m.\u001b[0m\u001b[0mtransform\u001b[0m\u001b[0;34m(\u001b[0m\u001b[0mpoly_test\u001b[0m\u001b[0;34m)\u001b[0m\u001b[0;34m\u001b[0m\u001b[0m\n\u001b[1;32m     31\u001b[0m \u001b[0;34m\u001b[0m\u001b[0m\n",
      "\u001b[0;32m~/SmartPolynomials.py\u001b[0m in \u001b[0;36msmarterPolynomialFeatures\u001b[0;34m(n, mom)\u001b[0m\n\u001b[1;32m     49\u001b[0m \u001b[0;34m\u001b[0m\u001b[0m\n\u001b[1;32m     50\u001b[0m     \u001b[0mpoly_features\u001b[0m \u001b[0;34m=\u001b[0m \u001b[0mPolynomialFeatures\u001b[0m\u001b[0;34m(\u001b[0m\u001b[0mdegree\u001b[0m\u001b[0;34m=\u001b[0m\u001b[0;36m10\u001b[0m\u001b[0;34m)\u001b[0m\u001b[0;34m\u001b[0m\u001b[0m\n\u001b[0;32m---> 51\u001b[0;31m     \u001b[0mpoly\u001b[0m \u001b[0;34m=\u001b[0m \u001b[0mpoly_features\u001b[0m\u001b[0;34m.\u001b[0m\u001b[0mfit_transform\u001b[0m\u001b[0;34m(\u001b[0m\u001b[0mall_mandel\u001b[0m\u001b[0;34m.\u001b[0m\u001b[0mT\u001b[0m\u001b[0;34m)\u001b[0m\u001b[0;34m\u001b[0m\u001b[0m\n\u001b[0m\u001b[1;32m     52\u001b[0m \u001b[0;34m\u001b[0m\u001b[0m\n\u001b[1;32m     53\u001b[0m     \u001b[0;32mreturn\u001b[0m \u001b[0mpoly\u001b[0m\u001b[0;34m\u001b[0m\u001b[0m\n",
      "\u001b[0;32m/opt/conda/lib/python3.6/site-packages/sklearn/base.py\u001b[0m in \u001b[0;36mfit_transform\u001b[0;34m(self, X, y, **fit_params)\u001b[0m\n\u001b[1;32m    551\u001b[0m         \u001b[0;32mif\u001b[0m \u001b[0my\u001b[0m \u001b[0;32mis\u001b[0m \u001b[0;32mNone\u001b[0m\u001b[0;34m:\u001b[0m\u001b[0;34m\u001b[0m\u001b[0m\n\u001b[1;32m    552\u001b[0m             \u001b[0;31m# fit method of arity 1 (unsupervised transformation)\u001b[0m\u001b[0;34m\u001b[0m\u001b[0;34m\u001b[0m\u001b[0m\n\u001b[0;32m--> 553\u001b[0;31m             \u001b[0;32mreturn\u001b[0m \u001b[0mself\u001b[0m\u001b[0;34m.\u001b[0m\u001b[0mfit\u001b[0m\u001b[0;34m(\u001b[0m\u001b[0mX\u001b[0m\u001b[0;34m,\u001b[0m \u001b[0;34m**\u001b[0m\u001b[0mfit_params\u001b[0m\u001b[0;34m)\u001b[0m\u001b[0;34m.\u001b[0m\u001b[0mtransform\u001b[0m\u001b[0;34m(\u001b[0m\u001b[0mX\u001b[0m\u001b[0;34m)\u001b[0m\u001b[0;34m\u001b[0m\u001b[0m\n\u001b[0m\u001b[1;32m    554\u001b[0m         \u001b[0;32melse\u001b[0m\u001b[0;34m:\u001b[0m\u001b[0;34m\u001b[0m\u001b[0m\n\u001b[1;32m    555\u001b[0m             \u001b[0;31m# fit method of arity 2 (supervised transformation)\u001b[0m\u001b[0;34m\u001b[0m\u001b[0;34m\u001b[0m\u001b[0m\n",
      "\u001b[0;32m/opt/conda/lib/python3.6/site-packages/sklearn/preprocessing/data.py\u001b[0m in \u001b[0;36mtransform\u001b[0;34m(self, X)\u001b[0m\n\u001b[1;32m   1546\u001b[0m                               dtype=X.dtype, order=self.order)\n\u001b[1;32m   1547\u001b[0m                 \u001b[0;32mfor\u001b[0m \u001b[0mi\u001b[0m\u001b[0;34m,\u001b[0m \u001b[0mcomb\u001b[0m \u001b[0;32min\u001b[0m \u001b[0menumerate\u001b[0m\u001b[0;34m(\u001b[0m\u001b[0mcombinations\u001b[0m\u001b[0;34m)\u001b[0m\u001b[0;34m:\u001b[0m\u001b[0;34m\u001b[0m\u001b[0m\n\u001b[0;32m-> 1548\u001b[0;31m                     \u001b[0mXP\u001b[0m\u001b[0;34m[\u001b[0m\u001b[0;34m:\u001b[0m\u001b[0;34m,\u001b[0m \u001b[0mi\u001b[0m\u001b[0;34m]\u001b[0m \u001b[0;34m=\u001b[0m \u001b[0mX\u001b[0m\u001b[0;34m[\u001b[0m\u001b[0;34m:\u001b[0m\u001b[0;34m,\u001b[0m \u001b[0mcomb\u001b[0m\u001b[0;34m]\u001b[0m\u001b[0;34m.\u001b[0m\u001b[0mprod\u001b[0m\u001b[0;34m(\u001b[0m\u001b[0;36m1\u001b[0m\u001b[0;34m)\u001b[0m\u001b[0;34m\u001b[0m\u001b[0m\n\u001b[0m\u001b[1;32m   1549\u001b[0m \u001b[0;34m\u001b[0m\u001b[0m\n\u001b[1;32m   1550\u001b[0m         \u001b[0;32mreturn\u001b[0m \u001b[0mXP\u001b[0m\u001b[0;34m\u001b[0m\u001b[0m\n",
      "\u001b[0;31mKeyboardInterrupt\u001b[0m: "
     ]
    }
   ],
   "source": [
    "step=2000\n",
    "\n",
    "model = tf.keras.Sequential([keras.layers.Dense(1,activation='linear',input_shape=(43758,))])\n",
    "sgd=tf.keras.optimizers.SGD(0.0000000001, momentum=0.95, nesterov=True)\n",
    "model.compile(optimizer=sgd ,loss='mse',metrics=['mse'])\n",
    "\n",
    "scaler = StandardScaler()\n",
    "\n",
    "training_error = []\n",
    "test_error = []\n",
    "component = []\n",
    "\n",
    "for n in range(0,len(mom_train_r),step):\n",
    "    poly_train = SmartPolynomials.smarterPolynomialFeatures(4, mom_train_r[n:n+step])\n",
    "    ##Rescale\n",
    "    scaler.partial_fit(poly_train) #Rescale on training set\n",
    "    poly_train = scaler.transform(poly_train)\n",
    "    \n",
    "    model.fit(poly_train, me_train[n:n+step], batch_size=1, epochs=1, shuffle=True)\n",
    "        \n",
    "    if(n%50000==0): \n",
    "        print(n)\n",
    "    \n",
    "        ##Testing Error\n",
    "        lin_mse = 0\n",
    "        lin_perc = 0\n",
    "        me_predictions = np.zeros(len(me_test))\n",
    "        for m in range(0,len(mom_test_r),200):\n",
    "            poly_test = SmartPolynomials.smarterPolynomialFeatures(4, mom_test_r[m: m+step])\n",
    "            poly_test = scaler.transform(poly_test)\n",
    "\n",
    "            me_predict = model.predict(poly_test) #Prediction on test set\n",
    "            me_predictions[m:m+step] = me_predict.T\n",
    "            lin_mse += np.sum(mean_squared_error(me_test[m:m+step], me_predict))\n",
    "            lin_perc += np.sum(100*np.divide(np.abs(me_test[m:m+step] - me_predict), me_test[m:m+step]))\n",
    "        test_error.append(np.sqrt(lin_mse*step/len(me_test)))\n",
    "        \n",
    "        u=model.evaluate(poly_train, me_train[n:n+step])[0]\n",
    "        training_error.append(np.sqrt(u))\n",
    "        \n",
    "        weights = model.get_weights()[0]\n",
    "        component.append(*weights[3])\n",
    "        print(component)       \n",
    "        print(lin_perc/len(me_test))\n",
    "        print(training_error)\n",
    "        print(test_error)\n"
   ]
  },
  {
   "cell_type": "code",
   "execution_count": 11,
   "metadata": {},
   "outputs": [
    {
     "data": {
      "text/plain": [
       "[<matplotlib.lines.Line2D at 0x7f74d4554e48>]"
      ]
     },
     "execution_count": 11,
     "metadata": {},
     "output_type": "execute_result"
    },
    {
     "data": {
      "image/png": "[encoded data removed]",
      "text/plain": [
       "<Figure size 432x288 with 1 Axes>"
      ]
     },
     "metadata": {},
     "output_type": "display_data"
    }
   ],
   "source": [
    "import matplotlib.pyplot as pyplot\n",
    "pyplot.figure()\n",
    "\n",
    "pyplot.xlabel(\"Training examples\")\n",
    "pyplot.ylabel(\"RMSE\")\n",
    "pyplot.plot(np.array(training_error), 'o-', color=\"r\",\n",
    "             label=\"Training score\")\n",
    "pyplot.plot(np.array(test_error), 'o-', color=\"g\",\n",
    "             label=\"Cross-validation score\")"
   ]
  },
  {
   "cell_type": "code",
   "execution_count": 9,
   "metadata": {},
   "outputs": [
    {
     "data": {
      "text/plain": [
       "[<matplotlib.lines.Line2D at 0x7f6bf3201828>]"
      ]
     },
     "execution_count": 9,
     "metadata": {},
     "output_type": "execute_result"
    },
    {
     "data": {
      "image/png": "[encoded data removed]",
      "text/plain": [
       "<Figure size 432x288 with 1 Axes>"
      ]
     },
     "metadata": {},
     "output_type": "display_data"
    }
   ],
   "source": [
    "pyplot.figure()\n",
    "\n",
    "pyplot.xlabel(\"Training Examples\")\n",
    "pyplot.ylabel(\"Parameter Value\")\n",
    "pyplot.plot(component, 'o-', color=\"r\",\n",
    "             label=\"Training score\")"
   ]
  },
  {
   "cell_type": "code",
   "execution_count": 12,
   "metadata": {},
   "outputs": [
    {
     "name": "stdout",
     "output_type": "stream",
     "text": [
      "[3663531451.021101 2130843365.7687101 213745031.6748882 ...\n",
      " 1627440181.9145424 264034853.31936815 557173355.4631606]\n"
     ]
    }
   ],
   "source": [
    "print(me_test)"
   ]
  },
  {
   "cell_type": "code",
   "execution_count": 13,
   "metadata": {},
   "outputs": [
    {
     "name": "stdout",
     "output_type": "stream",
     "text": [
      "1727722955.9776702\n"
     ]
    }
   ],
   "source": [
    "print(np.std(me_test))"
   ]
  },
  {
   "cell_type": "code",
   "execution_count": 12,
   "metadata": {},
   "outputs": [
    {
     "name": "stdout",
     "output_type": "stream",
     "text": [
      "[0.908730330956175, 0.3509328261494746, 0.277377828304248, 0.26022305515787325, 0.2109629447566608, 0.21506917474139448, 0.1809126925715772, 0.18283602893241724, 0.1703471802150222, 0.16264743646613883, 0.1589364232333585, 0.1454613890998141, 0.14944882750127808]\n"
     ]
    }
   ],
   "source": [
    "print(training_error)"
   ]
  },
  {
   "cell_type": "code",
   "execution_count": null,
   "metadata": {},
   "outputs": [],
   "source": []
  }
 ],
 "metadata": {
  "kernelspec": {
   "display_name": "Python 3",
   "language": "python",
   "name": "python3"
  },
  "language_info": {
   "codemirror_mode": {
    "name": "ipython",
    "version": 3
   },
   "file_extension": ".py",
   "mimetype": "text/x-python",
   "name": "python",
   "nbconvert_exporter": "python",
   "pygments_lexer": "ipython3",
   "version": "3.6.3"
  }
 },
 "nbformat": 4,
 "nbformat_minor": 2
}
