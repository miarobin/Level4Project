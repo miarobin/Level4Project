{
 "cells": [
  {
   "cell_type": "code",
   "execution_count": 1,
   "metadata": {},
   "outputs": [],
   "source": [
    "import numpy as np\n",
    "import matplotlib.pyplot as pyplot\n",
    "import pandas as pd\n",
    "from functools import reduce\n",
    "\n",
    "from sklearn.pipeline import Pipeline\n",
    "from sklearn.preprocessing import StandardScaler, KBinsDiscretizer\n",
    "from sklearn.model_selection import train_test_split, learning_curve, StratifiedShuffleSplit\n",
    "\n",
    "from sklearn.linear_model import LinearRegression\n",
    "from sklearn.metrics import mean_squared_error\n",
    "from sklearn.ensemble import RandomForestRegressor\n",
    "\n",
    "import DataPreprocessing"
   ]
  },
  {
   "cell_type": "code",
   "execution_count": 2,
   "metadata": {},
   "outputs": [],
   "source": [
    "##Obtain & process data NPY\n",
    "me_train, mom_train = DataPreprocessing.npy('NLO/MG_uuxg/me_1000000.npy', 'NLO/MG_uuxg/mom_1000000.npy', [], frac=1)\n",
    "me_test, mom_test = DataPreprocessing.npy('NLO/MG_uuxg/me_100000.npy', 'NLO/MG_uuxg/mom_100000.npy', [], frac=1)"
   ]
  },
  {
   "cell_type": "code",
   "execution_count": 3,
   "metadata": {},
   "outputs": [],
   "source": [
    "def error_smallest_S(perc_error, mom):\n",
    "    mandel_vars = DataPreprocessing.mandel_creation(['1,3','2,3'], mom)\n",
    "    min_mandel_vars = [min(mandel_var) for mandel_var in mandel_vars.T]\n",
    "    pyplot.scatter(min_mandel_vars,perc_error)\n",
    "    pyplot.xlabel('Minimum Mandelstam Variable')\n",
    "    pyplot.ylabel('Percentage Error')\n",
    "    pyplot.savefig('KBinsAtNLO')"
   ]
  },
  {
   "cell_type": "code",
   "execution_count": 5,
   "metadata": {},
   "outputs": [
    {
     "name": "stdout",
     "output_type": "stream",
     "text": [
      "Born RMSE: 9.257450753419672\n",
      "Born Percentage Error: 0.010509130918361597\n",
      "Finite RMSE: 3938.8556259740376\n",
      "Finite Percentage Error: 98.2966807064825\n",
      "Sing RMSE: 590.4868779812919\n",
      "Sing Percentage Error: 3.53648485691553\n",
      "Doub RMSE: 0.7266631590039127\n",
      "Doub Percentage Error: 0.010509130928934551\n"
     ]
    },
    {
     "data": {
      "image/png": "[encoded data removed]",
      "text/plain": [
       "<Figure size 432x288 with 1 Axes>"
      ]
     },
     "metadata": {},
     "output_type": "display_data"
    }
   ],
   "source": [
    "def calc_RMSE(mom_train, mom_test, me_train, me_test, var_name):\n",
    "    ##Data transformation\n",
    "    mom_train_flat = np.array([np.ndarray.flatten(np.array(element)) for element in mom_train])\n",
    "    mom_test_flat = np.array([np.ndarray.flatten(np.array(element)) for element in mom_test])\n",
    "\n",
    "    pipeline = Pipeline([\n",
    "        \n",
    "        ('scaler', StandardScaler()), #Rescale Data.\n",
    "        ('kbins', KBinsDiscretizer(n_bins=8000)) #Checking convergence as bins.\n",
    "    ])\n",
    " \n",
    "    mom_train_flat = pipeline.fit_transform(mom_train_flat) #Rescale on training set\n",
    "    mom_test_flat = pipeline.transform(mom_test_flat) #Rescale on test set\n",
    "\n",
    "    \n",
    "    linreg = LinearRegression().fit(mom_train_flat, me_train) #Linear fit\n",
    "    pred = linreg.predict(mom_test_flat) #Prediction on test set\n",
    "    \n",
    "    mse = mean_squared_error(me_test, pred) #Mean squared error on test set\n",
    "    print('{} RMSE: {}'.format(var_name, np.sqrt(mse)))\n",
    "\n",
    "    perc = np.mean(100*np.divide(np.abs(me_test - pred), abs(me_test)))\n",
    "    print('{} Percentage Error: {}'.format(var_name, perc))\n",
    "    \n",
    "    if var_name=='Born':\n",
    "        #error_plot(np.abs(100*np.divide(np.abs(me_test - pred), me_test)))\n",
    "        error_smallest_S(np.abs(100*np.divide(np.abs(me_test - pred), me_test)), mom_test)\n",
    "    \n",
    "for i, name in enumerate(['Born', 'Finite', 'Sing', 'Doub']):\n",
    "    div_train = reduce(np.multiply, DataPreprocessing.mandel_creation(['1,3','2,3'], mom_train))\n",
    "    div_test = reduce(np.multiply, DataPreprocessing.mandel_creation(['1,3','2,3'], mom_test))\n",
    "\n",
    "    temp_train = np.multiply(div_train, me_train[:,i])\n",
    "    temp_test = np.multiply(div_test, me_test[:,i])\n",
    "        \n",
    "    calc_RMSE(mom_train, mom_test, temp_train, temp_test, name)"
   ]
  },
  {
   "cell_type": "markdown",
   "metadata": {},
   "source": [
    "Plotting Learning Curve"
   ]
  },
  {
   "cell_type": "markdown",
   "metadata": {},
   "source": [
    "## Accuracy Vs Number of Bins"
   ]
  }
 ],
 "metadata": {
  "kernelspec": {
   "display_name": "Python 3",
   "language": "python",
   "name": "python3"
  },
  "language_info": {
   "codemirror_mode": {
    "name": "ipython",
    "version": 3
   },
   "file_extension": ".py",
   "mimetype": "text/x-python",
   "name": "python",
   "nbconvert_exporter": "python",
   "pygments_lexer": "ipython3",
   "version": "3.6.3"
  }
 },
 "nbformat": 4,
 "nbformat_minor": 2
}
