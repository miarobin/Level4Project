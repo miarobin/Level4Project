{
 "cells": [
  {
   "cell_type": "code",
   "execution_count": 8,
   "metadata": {},
   "outputs": [],
   "source": [
    "import numpy as np\n",
    "import matplotlib.pyplot as pyplot\n",
    "import pandas as pd\n",
    "\n",
    "from sklearn.pipeline import Pipeline\n",
    "from sklearn.preprocessing import StandardScaler, KBinsDiscretizer\n",
    "from sklearn.model_selection import train_test_split, learning_curve, StratifiedShuffleSplit\n",
    "\n",
    "from sklearn.linear_model import LinearRegression\n",
    "from sklearn.metrics import mean_squared_error\n",
    "from sklearn.ensemble import RandomForestRegressor\n",
    "\n",
    "import DataPreprocessing"
   ]
  },
  {
   "cell_type": "code",
   "execution_count": 9,
   "metadata": {},
   "outputs": [
    {
     "name": "stdout",
     "output_type": "stream",
     "text": [
      "[[ 0.01255251  0.00058765 -0.00094296 -0.00062864]\n",
      " [ 0.0210088   0.00098354 -0.0015782  -0.00105214]\n",
      " [ 0.01483563  0.00069454 -0.00111447 -0.00074298]\n",
      " ...\n",
      " [ 0.01729205  0.00080954 -0.001299   -0.000866  ]\n",
      " [ 0.01509194  0.00070654 -0.00113372 -0.00075582]\n",
      " [ 0.0204844   0.00095899 -0.00153881 -0.00102587]]\n",
      "[[ 0.01887437  0.00088361 -0.00141786 -0.00094524]\n",
      " [ 0.0160254   0.00075024 -0.00120385 -0.00080256]\n",
      " [ 0.01617337  0.00075717 -0.00121496 -0.00080997]\n",
      " ...\n",
      " [ 0.01997483  0.00093513 -0.00150053 -0.00100035]\n",
      " [ 0.01210853  0.00056687 -0.00090961 -0.0006064 ]\n",
      " [ 0.02163157  0.00101269 -0.00162499 -0.00108333]]\n"
     ]
    }
   ],
   "source": [
    "##Obtain & process data NPY\n",
    "me_train, mom_train = DataPreprocessing.npy('NLO/MG_uux/me_1000000.npy', 'NLO/MG_uux/mom_1000000.npy', [], 1000, frac=0.1)\n",
    "me_test, mom_test = DataPreprocessing.npy('NLO/MG_uux/me_300000.npy', 'NLO/MG_uux/mom_300000.npy', [], 1000, frac=0.1)"
   ]
  },
  {
   "cell_type": "code",
   "execution_count": 18,
   "metadata": {},
   "outputs": [
    {
     "name": "stdout",
     "output_type": "stream",
     "text": [
      "[0.0468156 0.0468156 0.0468156 ... 0.0468156 0.0468156 0.0468156]\n"
     ]
    }
   ],
   "source": [
    "print(me_test[:,1]/me_test[:,0])"
   ]
  },
  {
   "cell_type": "code",
   "execution_count": 13,
   "metadata": {},
   "outputs": [
    {
     "name": "stderr",
     "output_type": "stream",
     "text": [
      "/opt/conda/lib/python3.6/site-packages/sklearn/preprocessing/_discretization.py:193: UserWarning: Bins whose width are too small (i.e., <= 1e-8) in feature 0 are removed. Consider decreasing the number of bins.\n",
      "  'decreasing the number of bins.' % jj)\n",
      "/opt/conda/lib/python3.6/site-packages/sklearn/preprocessing/_discretization.py:193: UserWarning: Bins whose width are too small (i.e., <= 1e-8) in feature 4 are removed. Consider decreasing the number of bins.\n",
      "  'decreasing the number of bins.' % jj)\n"
     ]
    },
    {
     "name": "stdout",
     "output_type": "stream",
     "text": [
      "Born RMSE: 6.514233202993989e-05\n",
      "Born Percentage Error: 0.3326042403650782\n"
     ]
    },
    {
     "name": "stderr",
     "output_type": "stream",
     "text": [
      "/opt/conda/lib/python3.6/site-packages/sklearn/preprocessing/_discretization.py:193: UserWarning: Bins whose width are too small (i.e., <= 1e-8) in feature 0 are removed. Consider decreasing the number of bins.\n",
      "  'decreasing the number of bins.' % jj)\n",
      "/opt/conda/lib/python3.6/site-packages/sklearn/preprocessing/_discretization.py:193: UserWarning: Bins whose width are too small (i.e., <= 1e-8) in feature 4 are removed. Consider decreasing the number of bins.\n",
      "  'decreasing the number of bins.' % jj)\n"
     ]
    },
    {
     "name": "stdout",
     "output_type": "stream",
     "text": [
      "Real RMSE: 3.049677385189429e-06\n",
      "Real Percentage Error: 0.33260423956126833\n"
     ]
    },
    {
     "name": "stderr",
     "output_type": "stream",
     "text": [
      "/opt/conda/lib/python3.6/site-packages/sklearn/preprocessing/_discretization.py:193: UserWarning: Bins whose width are too small (i.e., <= 1e-8) in feature 0 are removed. Consider decreasing the number of bins.\n",
      "  'decreasing the number of bins.' % jj)\n",
      "/opt/conda/lib/python3.6/site-packages/sklearn/preprocessing/_discretization.py:193: UserWarning: Bins whose width are too small (i.e., <= 1e-8) in feature 4 are removed. Consider decreasing the number of bins.\n",
      "  'decreasing the number of bins.' % jj)\n"
     ]
    },
    {
     "name": "stdout",
     "output_type": "stream",
     "text": [
      "Sing RMSE: 4.893565790976995e-06\n",
      "Sing Percentage Error: -0.3326042391826366\n"
     ]
    },
    {
     "name": "stderr",
     "output_type": "stream",
     "text": [
      "/opt/conda/lib/python3.6/site-packages/sklearn/preprocessing/_discretization.py:193: UserWarning: Bins whose width are too small (i.e., <= 1e-8) in feature 0 are removed. Consider decreasing the number of bins.\n",
      "  'decreasing the number of bins.' % jj)\n",
      "/opt/conda/lib/python3.6/site-packages/sklearn/preprocessing/_discretization.py:193: UserWarning: Bins whose width are too small (i.e., <= 1e-8) in feature 4 are removed. Consider decreasing the number of bins.\n",
      "  'decreasing the number of bins.' % jj)\n"
     ]
    },
    {
     "name": "stdout",
     "output_type": "stream",
     "text": [
      "Doub RMSE: 3.262377186895427e-06\n",
      "Doub Percentage Error: -0.33260423934815153\n"
     ]
    }
   ],
   "source": [
    "def calc_RMSE(mom_train, mom_test, me_train, me_test, var_name):\n",
    "    ##Data transformation\n",
    "    pipeline = Pipeline([\n",
    "        ('scaler', StandardScaler()), #Rescale Data.\n",
    "        ('kbins', KBinsDiscretizer(n_bins=100)) #Checking convergence as bins.\n",
    "    ])\n",
    " \n",
    "    mom_train = pipeline.fit_transform(mom_train) #Rescale on training set\n",
    "    mom_test = pipeline.transform(mom_test) #Rescale on test set\n",
    "\n",
    "    \n",
    "    linreg = LinearRegression().fit(mom_train, me_train) #Linear fit\n",
    "    pred = linreg.predict(mom_test) #Prediction on test set\n",
    "    \n",
    "    mse = mean_squared_error(me_test, pred) #Mean squared error on test set\n",
    "    print('{} RMSE: {}'.format(var_name, np.sqrt(mse)))\n",
    "\n",
    "    perc = np.mean(100*np.divide(np.abs(me_test - pred), me_test))\n",
    "    print('{} Percentage Error: {}'.format(var_name, perc))\n",
    "    \n",
    "for i, name in enumerate(['Born', 'Real', 'Sing', 'Doub']):\n",
    "    calc_RMSE(mom_train, mom_test, me_train[:,i], me_test[:,i], name)"
   ]
  },
  {
   "cell_type": "markdown",
   "metadata": {},
   "source": [
    "Plotting Learning Curve"
   ]
  },
  {
   "cell_type": "markdown",
   "metadata": {},
   "source": [
    "## Accuracy Vs Number of Bins"
   ]
  }
 ],
 "metadata": {
  "kernelspec": {
   "display_name": "Python 3",
   "language": "python",
   "name": "python3"
  },
  "language_info": {
   "codemirror_mode": {
    "name": "ipython",
    "version": 3
   },
   "file_extension": ".py",
   "mimetype": "text/x-python",
   "name": "python",
   "nbconvert_exporter": "python",
   "pygments_lexer": "ipython3",
   "version": "3.6.3"
  }
 },
 "nbformat": 4,
 "nbformat_minor": 2
}
