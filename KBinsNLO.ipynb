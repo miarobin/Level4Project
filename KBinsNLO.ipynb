{
 "cells": [
  {
   "cell_type": "code",
   "execution_count": 1,
   "metadata": {},
   "outputs": [],
   "source": [
    "import numpy as np\n",
    "import matplotlib.pyplot as pyplot\n",
    "import pandas as pd\n",
    "from functools import reduce\n",
    "\n",
    "from sklearn.pipeline import Pipeline\n",
    "from sklearn.preprocessing import StandardScaler, KBinsDiscretizer\n",
    "from sklearn.model_selection import train_test_split, learning_curve, StratifiedShuffleSplit\n",
    "\n",
    "from sklearn.linear_model import LinearRegression\n",
    "from sklearn.metrics import mean_squared_error\n",
    "from sklearn.ensemble import RandomForestRegressor\n",
    "\n",
    "import DataPreprocessing"
   ]
  },
  {
   "cell_type": "code",
   "execution_count": 2,
   "metadata": {},
   "outputs": [],
   "source": [
    "##Obtain & process data NPY\n",
    "me_train, mom_train = DataPreprocessing.npy('NLO/MG_uuxg/me_1000000.npy', 'NLO/MG_uuxg/mom_1000000.npy', [], 1000, frac=0.1)\n",
    "me_test, mom_test = DataPreprocessing.npy('NLO/MG_uuxg/me_300000.npy', 'NLO/MG_uuxg/mom_300000.npy', [], 1000, frac=0.1)"
   ]
  },
  {
   "cell_type": "code",
   "execution_count": 4,
   "metadata": {},
   "outputs": [
    {
     "name": "stdout",
     "output_type": "stream",
     "text": [
      "[-0.10642161 -0.10642161 -0.10642161 ... -0.10642161 -0.10642161\n",
      " -0.10642161]\n"
     ]
    }
   ],
   "source": [
    "print(me_test[:,3]/me_test[:,0])"
   ]
  },
  {
   "cell_type": "code",
   "execution_count": 41,
   "metadata": {},
   "outputs": [
    {
     "name": "stdout",
     "output_type": "stream",
     "text": [
      "Born RMSE: 49.297094974472174\n",
      "Born Percentage Error: 0.048707223406025485\n",
      "Real RMSE: 8861.5473544747\n",
      "Real Percentage Error: 157.28853324185485\n",
      "Sing RMSE: 1237.5522245235413\n",
      "Sing Percentage Error: 4.247558545536715\n",
      "Doub RMSE: 5.246275975816848\n",
      "Doub Percentage Error: 0.04870722334029269\n"
     ]
    }
   ],
   "source": [
    "def calc_RMSE(mom_train, mom_test, me_train, me_test, var_name):\n",
    "    ##Data transformation\n",
    "    pipeline = Pipeline([\n",
    "        \n",
    "        ('scaler', StandardScaler()), #Rescale Data.\n",
    "        ('kbins', KBinsDiscretizer(n_bins=1000)) #Checking convergence as bins.\n",
    "    ])\n",
    " \n",
    "    mom_train = pipeline.fit_transform(mom_train) #Rescale on training set\n",
    "    mom_test = pipeline.transform(mom_test) #Rescale on test set\n",
    "\n",
    "    \n",
    "    linreg = LinearRegression().fit(mom_train, me_train) #Linear fit\n",
    "    pred = linreg.predict(mom_test) #Prediction on test set\n",
    "    \n",
    "    mse = mean_squared_error(me_test, pred) #Mean squared error on test set\n",
    "    print('{} RMSE: {}'.format(var_name, np.sqrt(mse)))\n",
    "\n",
    "    perc = np.mean(100*np.divide(np.abs(me_test - pred), abs(me_test)))\n",
    "    print('{} Percentage Error: {}'.format(var_name, perc))\n",
    "    \n",
    "for i, name in enumerate(['Born', 'Real', 'Sing', 'Doub']):\n",
    "    div_train = reduce(np.multiply, DataPreprocessing.mandel_creation(['1,3','2,3'], mom_train))\n",
    "    div_test = reduce(np.multiply, DataPreprocessing.mandel_creation(['1,3','2,3'], mom_test))\n",
    "\n",
    "    temp_train = np.multiply(div_train, me_train[:,i])\n",
    "    temp_test = np.multiply(div_test, me_test[:,i])\n",
    "        \n",
    "    calc_RMSE(mom_train, mom_test, temp_train, temp_test, name)"
   ]
  },
  {
   "cell_type": "markdown",
   "metadata": {},
   "source": [
    "Plotting Learning Curve"
   ]
  },
  {
   "cell_type": "markdown",
   "metadata": {},
   "source": [
    "## Accuracy Vs Number of Bins"
   ]
  }
 ],
 "metadata": {
  "kernelspec": {
   "display_name": "Python 3",
   "language": "python",
   "name": "python3"
  },
  "language_info": {
   "codemirror_mode": {
    "name": "ipython",
    "version": 3
   },
   "file_extension": ".py",
   "mimetype": "text/x-python",
   "name": "python",
   "nbconvert_exporter": "python",
   "pygments_lexer": "ipython3",
   "version": "3.6.3"
  }
 },
 "nbformat": 4,
 "nbformat_minor": 2
}
