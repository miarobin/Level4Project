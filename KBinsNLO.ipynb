{
 "cells": [
  {
   "cell_type": "code",
   "execution_count": 1,
   "metadata": {},
   "outputs": [],
   "source": [
    "import numpy as np\n",
    "import matplotlib.pyplot as pyplot\n",
    "from functools import reduce\n",
    "\n",
    "from sklearn.pipeline import Pipeline\n",
    "from sklearn.preprocessing import StandardScaler, KBinsDiscretizer\n",
    "\n",
    "from sklearn.linear_model import LinearRegression\n",
    "from sklearn.metrics import mean_squared_error\n",
    "\n",
    "import time\n",
    "import DataPreprocessing"
   ]
  },
  {
   "cell_type": "code",
   "execution_count": 2,
   "metadata": {},
   "outputs": [
    {
     "name": "stdout",
     "output_type": "stream",
     "text": [
      "Test multiplication ran in 0.3784 seconds\n",
      "Test multiplication ran in 0.1581 seconds\n"
     ]
    }
   ],
   "source": [
    "##Obtain & process data NPY\n",
    "me_train, mom_train = DataPreprocessing.npy('NLO/uuxg/me_1000000.npy', 'NLO/uuxg/mom_1000000.npy', [], frac=1)\n",
    "me_test, mom_test = DataPreprocessing.npy('NLO/uuxg/me_500000.npy', 'NLO/uuxg/mom_500000.npy', [], frac=1)\n",
    "\n",
    "combs = ['1,3','2,3']\n",
    "\n",
    "tic = time.perf_counter()\n",
    "div_train = reduce(np.multiply, DataPreprocessing.mandel_creation(combs, mom_train))\n",
    "temp_train = np.multiply(div_train[:,np.newaxis], me_train)\n",
    "toc = time.perf_counter()\n",
    "print(f\"Test multiplication ran in {toc - tic:0.4f} seconds\")\n",
    "\n",
    "tic = time.perf_counter()\n",
    "div_test = reduce(np.multiply, DataPreprocessing.mandel_creation(combs, mom_test))\n",
    "temp_test = np.multiply(div_test[:,np.newaxis], me_test)\n",
    "toc = time.perf_counter()\n",
    "print(f\"Test multiplication ran in {toc - tic:0.4f} seconds\")\n",
    "\n",
    "me_test = temp_test[:,1]\n",
    "me_train = temp_train[:,1]"
   ]
  },
  {
   "cell_type": "code",
   "execution_count": 3,
   "metadata": {},
   "outputs": [
    {
     "name": "stdout",
     "output_type": "stream",
     "text": [
      "Ran in 13.6484 seconds\n"
     ]
    }
   ],
   "source": [
    "mom_train = np.array([np.ndarray.flatten(np.array(element)) for element in mom_train])\n",
    "mom_test = np.array([np.ndarray.flatten(np.array(element)) for element in mom_test])\n",
    "\n",
    "pipeline = Pipeline([\n",
    "    ('scaler', StandardScaler()), #Rescale Data.\n",
    "    ('kbins', KBinsDiscretizer(n_bins=20000)) #Checking convergence as bins.\n",
    "])\n",
    " \n",
    "mom_train = pipeline.fit_transform(mom_train) #Rescale on training set\n",
    "mom_test = pipeline.transform(mom_test) #Rescale on test set\n",
    "\n",
    "tic = time.perf_counter()\n",
    "\n",
    "linreg = LinearRegression().fit(mom_train, me_train)\n",
    "\n",
    "toc = time.perf_counter()\n",
    "\n",
    "print(f\"Ran in {toc - tic:0.4f} seconds\")"
   ]
  },
  {
   "cell_type": "code",
   "execution_count": 4,
   "metadata": {},
   "outputs": [
    {
     "name": "stdout",
     "output_type": "stream",
     "text": [
      "Ran in 0.0344 seconds\n"
     ]
    }
   ],
   "source": [
    "tic = time.perf_counter()\n",
    "\n",
    "me_predict_lin = linreg.predict(mom_test)\n",
    "\n",
    "toc = time.perf_counter()\n",
    "\n",
    "print(f\"Ran in {toc - tic:0.4f} seconds\")\n",
    "np.save('NLO/uuxg/pred_kbins_fin.npy', me_predict_lin)"
   ]
  },
  {
   "cell_type": "code",
   "execution_count": 5,
   "metadata": {},
   "outputs": [
    {
     "name": "stdout",
     "output_type": "stream",
     "text": [
      "RMSE Test: 4287.239849031828\n",
      "RMSE Train: 3290.2500159419633\n",
      "Percentage Error: 157.85534621623296\n"
     ]
    }
   ],
   "source": [
    "lin_mse = mean_squared_error(me_test, me_predict_lin) \n",
    "print('RMSE Test: {}'.format(np.sqrt(lin_mse)))\n",
    "\n",
    "lin_mse = mean_squared_error(me_train, linreg.predict(mom_train))\n",
    "print('RMSE Train: {}'.format(np.sqrt(lin_mse)))\n",
    "\n",
    "lin_perc = 100*np.mean(np.abs(np.divide(me_test - me_predict_lin, me_test)))\n",
    "print('Percentage Error: {}'.format(lin_perc))"
   ]
  },
  {
   "cell_type": "code",
   "execution_count": null,
   "metadata": {},
   "outputs": [],
   "source": []
  }
 ],
 "metadata": {
  "kernelspec": {
   "display_name": "Python 3",
   "language": "python",
   "name": "python3"
  },
  "language_info": {
   "codemirror_mode": {
    "name": "ipython",
    "version": 3
   },
   "file_extension": ".py",
   "mimetype": "text/x-python",
   "name": "python",
   "nbconvert_exporter": "python",
   "pygments_lexer": "ipython3",
   "version": "3.6.3"
  }
 },
 "nbformat": 4,
 "nbformat_minor": 2
}
