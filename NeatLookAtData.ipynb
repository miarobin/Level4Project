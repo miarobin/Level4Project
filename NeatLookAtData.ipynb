{
 "cells": [
  {
   "cell_type": "code",
   "execution_count": 1,
   "metadata": {},
   "outputs": [],
   "source": [
    "import numpy as np\n",
    "import matplotlib.pyplot as pyplot\n",
    "from scipy.stats import skew\n",
    "from functools import reduce\n",
    "import DataPreprocessing\n",
    "import SplitDataSet"
   ]
  },
  {
   "cell_type": "code",
   "execution_count": 2,
   "metadata": {},
   "outputs": [],
   "source": [
    "me, mom = DataPreprocessing.npy('LO/uuuxux/MG_me_1000000.npy', 'LO/uuuxux/MG_mom_1000000.npy', [], frac=1)"
   ]
  },
  {
   "cell_type": "code",
   "execution_count": 58,
   "metadata": {},
   "outputs": [
    {
     "name": "stdout",
     "output_type": "stream",
     "text": [
      "Mean : 7.269328417488038e-10\n",
      "Stdev : 2.0413256325697658e-07\n",
      "Max : 0.00017743861924461113\n",
      "Skew : 719.0574917042891\n"
     ]
    }
   ],
   "source": [
    "##BARE\n",
    "print('Mean : {}'.format(np.mean(me)))\n",
    "print('Stdev : {}'.format(np.std(me)))\n",
    "print('Max : {}'.format(np.max(me)))\n",
    "print('Skew : {}'.format(skew(me)))"
   ]
  },
  {
   "cell_type": "code",
   "execution_count": 60,
   "metadata": {},
   "outputs": [
    {
     "name": "stdout",
     "output_type": "stream",
     "text": [
      "Mean : 1.0860608514430364e+75\n",
      "Stdev : 2.527034060236992e+75\n",
      "Max : 3.750588182950835e+76\n",
      "Min : 4.337225358618334e+59\n",
      "Skew : 4.4242531499622615\n"
     ]
    }
   ],
   "source": [
    "##POLYNOMIAL\n",
    "combs = ['1,3','1,4','2,3','2,4','1,2,3','1,2,4','2,3,4','1,3,4','1,3','1,4','2,3','2,4','1,2,3','1,2,4','2,3,4','1,3,4']\n",
    "div = reduce(np.multiply, DataPreprocessing.mandel_creation(combs, mom))\n",
    "temp = np.multiply(div, me)\n",
    "\n",
    "\n",
    "print('Mean : {}'.format(np.mean(temp)))\n",
    "print('Stdev : {}'.format(np.std(temp)))\n",
    "print('Max : {}'.format(np.max(temp)))\n",
    "print('Min : {}'.format(np.min(temp)))\n",
    "print('Skew : {}'.format(skew(temp)))"
   ]
  },
  {
   "cell_type": "code",
   "execution_count": 61,
   "metadata": {},
   "outputs": [
    {
     "name": "stdout",
     "output_type": "stream",
     "text": [
      "Mean : -25.544718576902557\n",
      "Stdev : 1.7429534537160418\n",
      "Max : -8.63688581592647\n",
      "Min : -35.54679848460459\n",
      "Skew : 1.0502318297549689\n"
     ]
    }
   ],
   "source": [
    "##LOGGED\n",
    "print('Mean : {}'.format(np.mean(np.log(me))))\n",
    "print('Stdev : {}'.format(np.std(np.log(me))))\n",
    "print('Max : {}'.format(np.max(np.log(me))))\n",
    "print('Min : {}'.format(np.min(np.log(me))))\n",
    "print('Skew : {}'.format(skew(np.log(me))))"
   ]
  },
  {
   "cell_type": "code",
   "execution_count": 43,
   "metadata": {},
   "outputs": [
    {
     "name": "stdout",
     "output_type": "stream",
     "text": [
      "Mean : 170.17756183521203\n",
      "Stdev : 3.1845441108947035\n",
      "Max : 176.3183797440172\n",
      "Skew : -1.0114695395386764\n"
     ]
    }
   ],
   "source": [
    "##POLYNOMIAL & LOGGED\n",
    "combs = ['1,3','1,4','2,3','2,4','1,2,3','1,2,4','2,3,4','1,3,4','1,3','1,4','2,3','2,4','1,2,3','1,2,4','2,3,4','1,3,4']\n",
    "div = reduce(np.multiply, DataPreprocessing.mandel_creation(combs, mom))\n",
    "temp = np.multiply(div, me)\n",
    "\n",
    "temp = np.log(temp)\n",
    "\n",
    "print('Mean : {}'.format(np.mean(temp)))\n",
    "print('Stdev : {}'.format(np.std(temp)))\n",
    "print('Max : {}'.format(np.max(temp)))\n",
    "print('Skew : {}'.format(skew(temp)))"
   ]
  },
  {
   "cell_type": "code",
   "execution_count": 3,
   "metadata": {},
   "outputs": [],
   "source": [
    "me_NLO, mom_NLO = DataPreprocessing.npy('NLO/MG_uuxg/me_1000000.npy', 'NLO/MG_uuxg/mom_1000000.npy', [], frac=1)\n",
    "#me_NLO, mom_NLO = DataPreprocessing.npy('NLO/uuuxux/me_1000000.npy', 'NLO/uuuxux/mom_1000000.npy', [], frac=1)\n",
    "#me_NLO, mom_NLO = SplitDataSet.smallestS('NLO/uuuxux/me_1000000.npy', 'NLO/uuuxux/mom_1000000.npy', 1)"
   ]
  },
  {
   "cell_type": "code",
   "execution_count": 62,
   "metadata": {},
   "outputs": [
    {
     "name": "stdout",
     "output_type": "stream",
     "text": [
      "Mean : -9.435677827181034e-05\n",
      "Stdev : 0.02404587375310133\n",
      "Max : 3.0305501363204243e-06\n",
      "Min : -16.199592860658964\n",
      "Skew : -493.89396886123035\n"
     ]
    }
   ],
   "source": [
    "##BARE\n",
    "print('Mean : {}'.format(np.mean(me_NLO[:,1])))\n",
    "print('Stdev : {}'.format(np.std(me_NLO[:,1])))\n",
    "print('Max : {}'.format(np.max(me_NLO[:,1])))\n",
    "print('Min : {}'.format(np.min(me_NLO[:,1])))\n",
    "print('Skew : {}'.format(skew(me_NLO[:,1])))"
   ]
  },
  {
   "cell_type": "code",
   "execution_count": 63,
   "metadata": {},
   "outputs": [
    {
     "name": "stdout",
     "output_type": "stream",
     "text": [
      "Mean : 447637980324469.6\n",
      "Stdev : 517145607908913.06\n",
      "Max : 4216954023206219.0\n",
      "Min : -264806712359679.56\n",
      "Skew : 0.727132932510539\n"
     ]
    }
   ],
   "source": [
    "##POLYNOMIAL\n",
    "combs = ['1,3','1,4','2,3','2,4','1,2,3','1,2,4','2,3,4','1,3,4','1,3','1,4','2,3','2,4','1,2,3','1,2,4','2,3,4','1,3,4']\n",
    "combs = ['1,3','2,3']\n",
    "div = reduce(np.multiply, np.square(DataPreprocessing.mandel_creation(combs, mom_NLO)))\n",
    "temp = np.multiply(div, me_NLO[:,1])\n",
    "\n",
    "print('Mean : {}'.format(np.mean(temp)))\n",
    "print('Stdev : {}'.format(np.std(temp)))\n",
    "print('Max : {}'.format(np.max(temp)))\n",
    "print('Min : {}'.format(np.min(temp)))\n",
    "print('Skew : {}'.format(skew(temp)))"
   ]
  },
  {
   "cell_type": "code",
   "execution_count": 53,
   "metadata": {},
   "outputs": [
    {
     "name": "stdout",
     "output_type": "stream",
     "text": [
      "-16.199592860658964\n",
      "Mean : 2.8332048335196887\n",
      "Stdev : 0.0033919399910972794\n",
      "Max : 2.833213522323855\n",
      "Skew : -773.4947251621389\n"
     ]
    }
   ],
   "source": [
    "##LOGGED\n",
    "print(min(me_NLO[:,1]))\n",
    "rescaled = me_NLO[:,1] + 17\n",
    "\n",
    "print('Mean : {}'.format(np.mean(np.log(rescaled))))\n",
    "print('Stdev : {}'.format(np.std(np.log(rescaled))))\n",
    "print('Max : {}'.format(np.max(np.log(rescaled))))\n",
    "print('Skew : {}'.format(skew(np.log(rescaled))))"
   ]
  },
  {
   "cell_type": "code",
   "execution_count": 37,
   "metadata": {},
   "outputs": [
    {
     "name": "stdout",
     "output_type": "stream",
     "text": [
      "-722395.4913727135\n",
      "Mean : 13.590782245346835\n",
      "Stdev : 0.02263739479305763\n",
      "Max : 13.633091991818507\n",
      "Skew : -8.234241052844272\n"
     ]
    }
   ],
   "source": [
    "##POLYNOMIAL LOGGED\n",
    "combs = ['1,3','1,4','2,3','2,4','1,2,3','1,2,4','2,3,4','1,3,4','1,3','1,4','2,3','2,4','1,2,3','1,2,4','2,3,4','1,3,4']\n",
    "combs = ['1,3','2,3']\n",
    "div = reduce(np.multiply, DataPreprocessing.mandel_creation(combs, mom_NLO))\n",
    "temp = np.multiply(div, me_NLO[:,1])\n",
    "print(min(temp))\n",
    "rescaled = temp + 8e+5\n",
    "\n",
    "print('Mean : {}'.format(np.mean(np.log(rescaled))))\n",
    "print('Stdev : {}'.format(np.std(np.log(rescaled))))\n",
    "print('Max : {}'.format(np.max(np.abs(np.log(rescaled)))))\n",
    "print('Skew : {}'.format(skew(np.log(rescaled))))"
   ]
  },
  {
   "cell_type": "code",
   "execution_count": 152,
   "metadata": {},
   "outputs": [],
   "source": [
    "def sqrt(temp):\n",
    "    return np.multiply(np.sign(temp), np.power(np.abs(temp), 0.6))"
   ]
  },
  {
   "cell_type": "code",
   "execution_count": 153,
   "metadata": {},
   "outputs": [
    {
     "name": "stdout",
     "output_type": "stream",
     "text": [
      "257681967.9141922\n",
      "Mean : 492239888069.32263\n",
      "Stdev : 845657185659.6223\n",
      "Max : 1948646114463.5364\n",
      "Min : 257681967.9141922\n",
      "Skew : -0.5411081820726881\n"
     ]
    }
   ],
   "source": [
    "combs = ['1,3','1,4','2,3','2,4','1,2,3','1,2,4','1,3,4','2,3,4']\n",
    "combs = ['1,3','2,3']\n",
    "div = reduce(np.multiply, np.square(DataPreprocessing.mandel_creation(combs, mom_NLO)))\n",
    "temp = np.multiply(div, me_NLO[:,1])\n",
    "div = reduce(np.multiply, DataPreprocessing.mandel_creation(['1,2'], mom_NLO))\n",
    "temp = np.multiply(div, temp)\n",
    "   \n",
    "temp = sqrt(temp)\n",
    "print(min(abs(temp)))\n",
    "\n",
    "print('Mean : {}'.format(np.mean(temp)))\n",
    "print('Stdev : {}'.format(np.std(temp)))\n",
    "print('Max : {}'.format(np.max(np.abs(temp))))\n",
    "print('Min : {}'.format(np.min(np.abs(temp))))\n",
    "print('Skew : {}'.format(skew(temp)))"
   ]
  },
  {
   "cell_type": "code",
   "execution_count": null,
   "metadata": {},
   "outputs": [],
   "source": [
    "def log(temp):\n",
    "    return np.multiply(np.sign(temp), np.log(1+temp))"
   ]
  },
  {
   "cell_type": "code",
   "execution_count": 36,
   "metadata": {},
   "outputs": [
    {
     "name": "stdout",
     "output_type": "stream",
     "text": [
      "0.000717016808991769\n",
      "Mean : 0.00014607105762972356\n",
      "Stdev : 0.029866318206191313\n",
      "Max : 2.006208309695324\n",
      "Min : 0.000717016808991769\n",
      "Skew : -5.264009564185583\n"
     ]
    }
   ],
   "source": [
    "temp = sqrt(me_NLO[:,1])\n",
    "print(min(abs(temp)))\n",
    "\n",
    "print('Mean : {}'.format(np.mean(temp)))\n",
    "print('Stdev : {}'.format(np.std(temp)))\n",
    "print('Max : {}'.format(np.max(np.abs(temp))))\n",
    "print('Min : {}'.format(np.min(np.abs(temp))))\n",
    "print('Skew : {}'.format(skew(temp)))"
   ]
  },
  {
   "cell_type": "code",
   "execution_count": 9,
   "metadata": {},
   "outputs": [
    {
     "data": {
      "text/plain": [
       "<matplotlib.collections.PathCollection at 0x12fb67db508>"
      ]
     },
     "execution_count": 9,
     "metadata": {},
     "output_type": "execute_result"
    },
    {
     "data": {
      "image/png": "[encoded data removed]",
      "text/plain": [
       "<Figure size 432x288 with 1 Axes>"
      ]
     },
     "metadata": {
      "needs_background": "light"
     },
     "output_type": "display_data"
    }
   ],
   "source": [
    "combs = ['1,3','1,4','2,3','2,4']\n",
    "div = reduce(np.multiply, np.square(DataPreprocessing.mandel_creation(combs, mom_NLO)))\n",
    "temp = np.multiply(div, me_NLO)\n",
    "\n",
    "pyplot.scatter(DataPreprocessing.mandel_creation(['1,3'], mom_NLO),temp)"
   ]
  },
  {
   "cell_type": "code",
   "execution_count": 42,
   "metadata": {},
   "outputs": [
    {
     "name": "stdout",
     "output_type": "stream",
     "text": [
      "21083\n"
     ]
    }
   ],
   "source": [
    "print(sum([1 for t in temp if t < 0]))"
   ]
  },
  {
   "cell_type": "code",
   "execution_count": null,
   "metadata": {},
   "outputs": [],
   "source": []
  }
 ],
 "metadata": {
  "kernelspec": {
   "display_name": "Python 3",
   "language": "python",
   "name": "python3"
  },
  "language_info": {
   "codemirror_mode": {
    "name": "ipython",
    "version": 3
   },
   "file_extension": ".py",
   "mimetype": "text/x-python",
   "name": "python",
   "nbconvert_exporter": "python",
   "pygments_lexer": "ipython3",
   "version": "3.6.3"
  }
 },
 "nbformat": 4,
 "nbformat_minor": 4
}
