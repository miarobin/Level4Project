{
 "cells": [
  {
   "cell_type": "code",
   "execution_count": 6,
   "metadata": {},
   "outputs": [],
   "source": [
    "import numpy as np\n",
    "import matplotlib.pyplot as pyplot\n",
    "from sklearn.pipeline import Pipeline\n",
    "from sklearn.preprocessing import StandardScaler\n",
    "from sklearn.metrics import mean_squared_error\n",
    "from sklearn.linear_model import LinearRegression\n",
    "from sklearn.model_selection import train_test_split, learning_curve, StratifiedShuffleSplit\n",
    "import pandas as pd\n",
    "from functools import reduce\n",
    "\n",
    "import DataPreprocessing"
   ]
  },
  {
   "cell_type": "code",
   "execution_count": 7,
   "metadata": {},
   "outputs": [],
   "source": [
    "##Obtain & process data NPY\n",
    "me_train, mom_train = DataPreprocessing.npy('NLO/MG_uuxg/me_1000000.npy', 'NLO/MG_uuxg/mom_1000000.npy', [], 1000, frac=0.1)\n",
    "me_test, mom_test = DataPreprocessing.npy('NLO/MG_uuxg/me_300000.npy', 'NLO/MG_uuxg/mom_300000.npy', [], 1000, frac=0.1)"
   ]
  },
  {
   "cell_type": "code",
   "execution_count": 8,
   "metadata": {},
   "outputs": [
    {
     "name": "stdout",
     "output_type": "stream",
     "text": [
      "Born RMSE: 1.0113494747286401e-07\n",
      "Born Percentage Error: 3.262965813336881e-12\n",
      "Real RMSE: 19520.858383874478\n",
      "Real Percentage Error: 31.90201858937738\n",
      "Sing RMSE: 3238.530905981832\n",
      "Sing Percentage Error: -9.920705289063822\n",
      "Doub RMSE: 1.6051563407153593e-06\n",
      "Doub Percentage Error: -9.90084971764896e-11\n"
     ]
    }
   ],
   "source": [
    "from sklearn.preprocessing import PolynomialFeatures\n",
    "\n",
    "\n",
    "def calc_RMSE(mom_train, mom_test, me_train, me_test, var_name):\n",
    "    ##Data transformation\n",
    "    pipeline = Pipeline([\n",
    "        ('poly', PolynomialFeatures(degree=2)),\n",
    "        ('scaler', StandardScaler()), #Rescale Data.\n",
    "    ])\n",
    " \n",
    "    mom_train = pipeline.fit_transform(mom_train) #Rescale on training set\n",
    "    mom_test = pipeline.transform(mom_test) #Rescale on test set\n",
    "\n",
    "    linreg = LinearRegression().fit(mom_train, me_train) #Linear fit\n",
    "    pred = linreg.predict(mom_test) #Prediction on test set\n",
    "    \n",
    "    mse = mean_squared_error(me_test, pred) #Mean squared error on test set\n",
    "    print('{} RMSE: {}'.format(var_name, np.sqrt(mse)))\n",
    "\n",
    "    perc = np.mean(100*np.divide(np.abs(me_test - pred), me_test))\n",
    "    print('{} Percentage Error: {}'.format(var_name, perc))\n",
    "    \n",
    "for i, name in enumerate(['Born', 'Real', 'Sing', 'Doub']):\n",
    "    div_train = reduce(np.multiply, DataPreprocessing.mandel_creation(['1,3','2,3'], mom_train))\n",
    "    div_test = reduce(np.multiply, DataPreprocessing.mandel_creation(['1,3','2,3'], mom_test))\n",
    "\n",
    "    temp_train = np.multiply(div_train, me_train[:,i])\n",
    "    temp_test = np.multiply(div_test, me_test[:,i])\n",
    "        \n",
    "    calc_RMSE(mom_train, mom_test, temp_train, temp_test, name)"
   ]
  },
  {
   "cell_type": "code",
   "execution_count": null,
   "metadata": {},
   "outputs": [],
   "source": []
  },
  {
   "cell_type": "code",
   "execution_count": null,
   "metadata": {},
   "outputs": [],
   "source": []
  }
 ],
 "metadata": {
  "kernelspec": {
   "display_name": "Python 3",
   "language": "python",
   "name": "python3"
  },
  "language_info": {
   "codemirror_mode": {
    "name": "ipython",
    "version": 3
   },
   "file_extension": ".py",
   "mimetype": "text/x-python",
   "name": "python",
   "nbconvert_exporter": "python",
   "pygments_lexer": "ipython3",
   "version": "3.6.3"
  }
 },
 "nbformat": 4,
 "nbformat_minor": 2
}
