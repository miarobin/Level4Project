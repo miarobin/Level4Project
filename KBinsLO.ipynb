{
 "cells": [
  {
   "cell_type": "code",
   "execution_count": 1,
   "metadata": {},
   "outputs": [],
   "source": [
    "import numpy as np\n",
    "import matplotlib.pyplot as pyplot\n",
    "from scipy.interpolate import griddata\n",
    "import matplotlib.colors as colors\n",
    "from functools import reduce\n",
    "import time\n",
    "\n",
    "from sklearn.pipeline import Pipeline\n",
    "from sklearn.preprocessing import StandardScaler, KBinsDiscretizer\n",
    "from sklearn.model_selection import train_test_split, learning_curve, StratifiedShuffleSplit\n",
    "\n",
    "from sklearn.linear_model import LinearRegression\n",
    "from sklearn.metrics import mean_squared_error\n",
    "\n",
    "import DataPreprocessing"
   ]
  },
  {
   "cell_type": "markdown",
   "metadata": {},
   "source": [
    "## Obtaining and nicely arranging data"
   ]
  },
  {
   "cell_type": "code",
   "execution_count": 2,
   "metadata": {},
   "outputs": [],
   "source": [
    "combs = ['1,3','1,4','2,3','2,4','1,2,3','1,2,4','2,3,4','1,3,4','1,3','1,4','2,3','2,4','1,2,3','1,2,4','2,3,4','1,3,4']\n",
    "combs = ['1,3','2,3']"
   ]
  },
  {
   "cell_type": "code",
   "execution_count": 3,
   "metadata": {},
   "outputs": [
    {
     "name": "stdout",
     "output_type": "stream",
     "text": [
      "0\n"
     ]
    }
   ],
   "source": [
    "##Obtain & process data NPY\n",
    "me_train, mom_train_r = DataPreprocessing.npy('LO/MG_uuxg_2/me_1000000.npy', 'LO/MG_uuxg_2/mom_1000000.npy', ['1,3','2,3'], frac=1)\n",
    "me_test, mom_test_r = DataPreprocessing.npy('LO/MG_uuxg_2/me_100000.npy', 'LO/MG_uuxg_2/mom_100000.npy', ['1,3','2,3'], frac=1)\n",
    "\n",
    "#me_train, mom_train_r = DataPreprocessing.npy('LO/MG_uuuxux/me_4jet_1000000', 'LO/MG_uuuxux/mom_4jet_1000000', combs, frac=0.01)\n",
    "#me_test, mom_test_r = DataPreprocessing.npy('LO/MG_uuuxux/me_4jet_100000', 'LO/MG_uuuxux/mom_4jet_100000', combs, frac=0.01)\n",
    "\n",
    "\n",
    "print(sum([1 for me in me_train if me < 0]))"
   ]
  },
  {
   "cell_type": "markdown",
   "metadata": {},
   "source": [
    "Adding some extra features"
   ]
  },
  {
   "cell_type": "markdown",
   "metadata": {},
   "source": [
    "## Single Test"
   ]
  },
  {
   "cell_type": "code",
   "execution_count": 7,
   "metadata": {},
   "outputs": [
    {
     "name": "stdout",
     "output_type": "stream",
     "text": [
      "[[ 211.27285952  133.57967233 -121.45507987 ...  146.11367585\n",
      "  -164.44168012 -278.26450632]\n",
      " [ 163.49670488  -44.61000541 -104.05805645 ...  375.11204846\n",
      "   200.78489234 -217.77202358]\n",
      " [ 410.835974    182.0901363   304.81597206 ...  -21.45618093\n",
      "  -349.88250229  -39.13019714]\n",
      " ...\n",
      " [ 422.88660418 -285.71542457 -265.7899415  ...  317.65407145\n",
      "    34.16393772  103.84359097]\n",
      " [ 254.25472195 -232.70323256   95.11191152 ... -248.68876861\n",
      "   -85.2459485     1.95737792]\n",
      " [ 274.37922291  121.26561954  -31.38468673 ... -159.83834117\n",
      "   -11.99352037  212.02754115]]\n"
     ]
    }
   ],
   "source": [
    "mom_train = np.array([np.ndarray.flatten(np.array(element)) for element in mom_train_r])\n",
    "mom_test = np.array([np.ndarray.flatten(np.array(element)) for element in mom_test_r])\n",
    "\n",
    "print(mom_test)\n",
    "##Data transformation\n",
    "pipeline = Pipeline([\n",
    "    ('scaler', StandardScaler()),\n",
    "    ('kbins', KBinsDiscretizer(n_bins=10000)) #Checking convergence as bins.\n",
    "])\n",
    " \n",
    "mom_train = pipeline.fit_transform(mom_train) #Rescale on training set\n",
    "mom_test = pipeline.transform(mom_test) #Rescale on test set\n",
    "\n",
    "linreg = LinearRegression().fit(mom_train, me_train)"
   ]
  },
  {
   "cell_type": "code",
   "execution_count": 8,
   "metadata": {
    "scrolled": true
   },
   "outputs": [
    {
     "name": "stdout",
     "output_type": "stream",
     "text": [
      "Ran in 0.0058 seconds\n"
     ]
    }
   ],
   "source": [
    "tic = time.perf_counter()\n",
    "\n",
    "me_predict_lin = linreg.predict(mom_test)\n",
    "\n",
    "toc = time.perf_counter()\n",
    "\n",
    "print(f\"Ran in {toc - tic:0.4f} seconds\")"
   ]
  },
  {
   "cell_type": "code",
   "execution_count": 9,
   "metadata": {},
   "outputs": [
    {
     "name": "stdout",
     "output_type": "stream",
     "text": [
      "RMSE Test: 11.118298538099886\n",
      "RMSE Train: 9.66507426253201\n",
      "Percentage Error: 0.008647824773147458\n"
     ]
    }
   ],
   "source": [
    " #Prediction on test set\n",
    "\n",
    "lin_mse = mean_squared_error(me_test, me_predict_lin) \n",
    "print('RMSE Test: {}'.format(np.sqrt(lin_mse)))\n",
    "\n",
    "lin_mse = mean_squared_error(me_train, linreg.predict(mom_train))\n",
    "print('RMSE Train: {}'.format(np.sqrt(lin_mse)))\n",
    "\n",
    "lin_perc = 100*np.mean(np.divide(np.abs(me_test - me_predict_lin), me_test))\n",
    "print('Percentage Error: {}'.format(lin_perc))"
   ]
  },
  {
   "cell_type": "code",
   "execution_count": 6,
   "metadata": {},
   "outputs": [
    {
     "name": "stdout",
     "output_type": "stream",
     "text": [
      "[58958.40316053 32133.29223541 62170.73259396 78407.87761806\n",
      " 47698.45382744]\n",
      "[57139.75979864 37437.10313893 61744.05053321 74624.27591726\n",
      " 56551.66119761]\n",
      "[0.03182798 0.14167258 0.0069105  ... 0.03957581 0.08811322 0.03365317]\n"
     ]
    }
   ],
   "source": [
    "print(me_predict_lin[:5])\n",
    "print(me_test[:5])\n",
    "print(np.divide(np.abs(me_test - me_predict_lin), me_test))"
   ]
  },
  {
   "cell_type": "code",
   "execution_count": null,
   "metadata": {},
   "outputs": [],
   "source": []
  },
  {
   "cell_type": "markdown",
   "metadata": {},
   "source": [
    "Plotting Learning Curve"
   ]
  },
  {
   "cell_type": "code",
   "execution_count": 7,
   "metadata": {},
   "outputs": [
    {
     "name": "stdout",
     "output_type": "stream",
     "text": [
      "[learning_curve] Training set sizes: [ 800 2240 3679 5120 6560 8000]\n"
     ]
    },
    {
     "name": "stderr",
     "output_type": "stream",
     "text": [
      "[Parallel(n_jobs=1)]: Using backend SequentialBackend with 1 concurrent workers.\n",
      "[Parallel(n_jobs=1)]: Done  30 out of  30 | elapsed:    0.5s finished\n"
     ]
    }
   ],
   "source": [
    "##Plotting a Learning Curve\n",
    "split = StratifiedShuffleSplit() #Collects data evenly about mean to put into validation sets\n",
    "train = split.split(mom_train, pd.cut(me_train, bins = 200)) #But are we testing on something we've trained..?\n",
    "\n",
    "train_sizes, train_scores, test_scores = learning_curve(\n",
    "        linreg, mom_train, me_train, scoring='neg_mean_squared_error',\n",
    "        cv=5, shuffle=True, train_sizes=np.linspace(0.1, 1, 6), \n",
    "        n_jobs=1, verbose=1)"
   ]
  },
  {
   "cell_type": "code",
   "execution_count": 8,
   "metadata": {},
   "outputs": [
    {
     "data": {
      "image/png": "[encoded data removed]",
      "text/plain": [
       "<Figure size 432x288 with 1 Axes>"
      ]
     },
     "metadata": {},
     "output_type": "display_data"
    }
   ],
   "source": [
    "pyplot.figure()\n",
    "\n",
    "train_scores_mean = np.sqrt(-np.mean(train_scores, axis=1))\n",
    "test_scores_mean = np.sqrt(-np.mean(test_scores, axis=1))\n",
    "\n",
    "pyplot.plot(train_sizes, train_scores_mean)\n",
    "pyplot.plot(train_sizes, test_scores_mean)\n",
    "\n",
    "pyplot.xlabel(\"Training examples\")\n",
    "pyplot.ylabel(\"RMSE\")\n",
    "pyplot.savefig('LearningCurveKBins')"
   ]
  },
  {
   "cell_type": "markdown",
   "metadata": {},
   "source": [
    "Error Distribution 3-jets"
   ]
  },
  {
   "cell_type": "code",
   "execution_count": 32,
   "metadata": {},
   "outputs": [],
   "source": [
    "#s12, s13, s23 = DataPreprocessing.mandel_creation(['3,4','3,5','4,5'], mom_test)\n",
    "s12, s13, s23 = DataPreprocessing.mandel_creation(['1,2','1,3','2,3'], mom_test_r)\n",
    "S = s12 + s13 + s23"
   ]
  },
  {
   "cell_type": "code",
   "execution_count": 33,
   "metadata": {},
   "outputs": [],
   "source": [
    "x1 = np.divide(s12, 1000000)\n",
    "x2 = np.divide(s13, 1000000)\n",
    "x3 = np.divide(s23, 1000000)\n",
    "\n",
    "x2i = np.linspace(0, 1, 500) #x1 coordinates\n",
    "x3i = np.linspace(0, 1, 500) #x2 coordinates\n",
    "X2i, X3i = np.meshgrid(x2i, x3i) #2d regularly spaced grid of coordinates."
   ]
  },
  {
   "cell_type": "code",
   "execution_count": 34,
   "metadata": {},
   "outputs": [],
   "source": [
    "#Value at grid coordinate is mapped to the nearest actual datapoint.\n",
    "grid = griddata((x2, x3), 100*np.divide(np.abs(me_test - me_predict_lin), me_test), (X2i, X3i), method='linear')\n",
    "#grid = griddata((x2, x3), me_test, (X2i, X3i), method='linear')"
   ]
  },
  {
   "cell_type": "code",
   "execution_count": 36,
   "metadata": {},
   "outputs": [
    {
     "data": {
      "image/png": "[encoded data removed]",
      "text/plain": [
       "<Figure size 360x216 with 2 Axes>"
      ]
     },
     "metadata": {},
     "output_type": "display_data"
    }
   ],
   "source": [
    "fig, ax = pyplot.subplots(figsize=(5, 3))\n",
    "im = ax.pcolor(grid, cmap = 'nipy_spectral_r', norm = colors.LogNorm()) #color map of coord grid\n",
    "cbar = ax.figure.colorbar(im)\n",
    "cbar.set_label('Percentage Error')\n",
    "\n",
    "ax.set_xticks([0, 500])\n",
    "ax.set_xticklabels([0, 1])\n",
    "ax.set_yticks([0, 500])\n",
    "ax.set_yticklabels([0, 1])\n",
    "\n",
    "\n",
    "ax.set_ylabel('x2')\n",
    "ax.set_xlabel('x3')\n",
    "pyplot.savefig('errordalitz_kbins_3jetLO')"
   ]
  },
  {
   "cell_type": "markdown",
   "metadata": {},
   "source": [
    "## Plot accuracy vs number of bins"
   ]
  },
  {
   "cell_type": "code",
   "execution_count": 30,
   "metadata": {},
   "outputs": [],
   "source": [
    "def changeBins(n_bins, input_train, input_test, output_train, output_test):\n",
    "    input_train = np.array([np.ndarray.flatten(np.array(element)) for element in input_train])\n",
    "    input_test = np.array([np.ndarray.flatten(np.array(element)) for element in input_test])\n",
    "\n",
    "    ##Data transformation\n",
    "    pipeline = Pipeline([\n",
    "        ('scaler', StandardScaler()), #Rescale Data.\n",
    "        ('kbins', KBinsDiscretizer(n_bins=n_bins)) #Checking convergence as bins.\n",
    "    ])\n",
    "\n",
    "    temp_train = pipeline.fit_transform(input_train) #Rescale on training set\n",
    "    temp_test = pipeline.transform(input_test) #Rescale on test set\n",
    "    \n",
    "    linreg = LinearRegression().fit(temp_train, output_train)\n",
    "\n",
    "    me_predict = linreg.predict(temp_test) #Prediction on test set\n",
    "    lin_mse = mean_squared_error(output_test, me_predict) \n",
    "    \n",
    "    #print(np.divide(np.abs(output_test - me_predict), output_test))\n",
    "    lin_perc = 100*np.mean(np.divide(np.abs(output_test - me_predict), output_test))\n",
    "    \n",
    "    return lin_perc"
   ]
  },
  {
   "cell_type": "code",
   "execution_count": 18,
   "metadata": {},
   "outputs": [
    {
     "ename": "TypeError",
     "evalue": "npy() got multiple values for argument 'frac'",
     "output_type": "error",
     "traceback": [
      "\u001b[0;31m---------------------------------------------------------------------------\u001b[0m",
      "\u001b[0;31mTypeError\u001b[0m                                 Traceback (most recent call last)",
      "\u001b[0;32m<ipython-input-18-8791f34eb810>\u001b[0m in \u001b[0;36m<module>\u001b[0;34m()\u001b[0m\n\u001b[1;32m      1\u001b[0m \u001b[0;31m##Obtain & process data\u001b[0m\u001b[0;34m\u001b[0m\u001b[0;34m\u001b[0m\u001b[0m\n\u001b[1;32m      2\u001b[0m me_train, mom_train_r = DataPreprocessing.npy('LO/MG_uuuxux/me_4jet_1000000', 'LO/MG_uuuxux/mom_4jet_1000000', \n\u001b[0;32m----> 3\u001b[0;31m                                             ['1,3','1,4','2,3','2,4'], 10000, frac=1)\n\u001b[0m\u001b[1;32m      4\u001b[0m me_test, mom_test_r = DataPreprocessing.npy('LO/MG_uuuxux/me_4jet_100000', 'LO/MG_uuuxux/mom_4jet_100000', \n\u001b[1;32m      5\u001b[0m                                           ['1,3','1,4','2,3','2,4'], 10000, frac=1)\n",
      "\u001b[0;31mTypeError\u001b[0m: npy() got multiple values for argument 'frac'"
     ]
    }
   ],
   "source": [
    "##Obtain & process data\n",
    "me_train, mom_train_r = DataPreprocessing.npy('LO/MG_uuuxux/me_4jet_1000000', 'LO/MG_uuuxux/mom_4jet_1000000', \n",
    "                                            ['1,3','1,4','2,3','2,4'], 10000, frac=1)\n",
    "me_test, mom_test_r = DataPreprocessing.npy('LO/MG_uuuxux/me_4jet_100000', 'LO/MG_uuuxux/mom_4jet_100000', \n",
    "                                          ['1,3','1,4','2,3','2,4'], 10000, frac=1)\n",
    "\n",
    "train = reduce(np.multiply, DataPreprocessing.mandel_creation(['1,3,4',',2,3,4','1,2,3','1,2,4'], mom_train_r))**0.5\n",
    "test = reduce(np.multiply, DataPreprocessing.mandel_creation(['1,3,4',',2,3,4','1,2,3','1,2,4'], mom_test_r))**0.5\n",
    "mom_train = np.multiply(mom_train, train)\n",
    "mom_test = np.multiply(mom_test, test)\n",
    "\n",
    "mom_train = np.append(mom_train, DataPreprocessing.mandel_creation(combs, mom_train_r).T, axis=1)\n",
    "mom_test = np.append(mom_test, DataPreprocessing.mandel_creation(combs, mom_test_r).T, axis=1)\n",
    "\n",
    "n_bins_arr = range(100, 10000, 1000)\n",
    "result = []\n",
    "for n_bins in n_bins_arr:\n",
    "    temp = changeBins(n_bins, mom_train, mom_test, me_train, me_test)\n",
    "    print(temp)\n",
    "    result.append(temp)"
   ]
  },
  {
   "cell_type": "code",
   "execution_count": 39,
   "metadata": {},
   "outputs": [
    {
     "name": "stdout",
     "output_type": "stream",
     "text": [
      "0.6517975281205803\n",
      "0.034609508228348844\n",
      "0.018639755985720034\n",
      "0.013107974813697881\n",
      "0.010327075990377422\n",
      "0.008586756503293129\n",
      "0.00752111688656486\n",
      "0.006661267489600375\n",
      "0.0061180180881149696\n",
      "0.005650942353333651\n",
      "0.005259559702533493\n",
      "0.004982432234513525\n",
      "0.004753333694589214\n",
      "0.004554394810304656\n",
      "0.004355643506653321\n",
      "0.004236753669571044\n",
      "0.004152420915535677\n",
      "0.004062588831362679\n",
      "0.0039990266045571475\n",
      "0.003948834293025016\n"
     ]
    }
   ],
   "source": [
    "##Obtain & process data NPY\n",
    "me_train, mom_train_r = DataPreprocessing.npy('LO/MG_uuxg_2/me_1000000.npy', 'LO/MG_uuxg_2/mom_1000000.npy', ['1,3','2,3'], frac=1)\n",
    "me_test, mom_test_r = DataPreprocessing.npy('LO/MG_uuxg_2/me_100000.npy', 'LO/MG_uuxg_2/mom_100000.npy', ['1,3','2,3'], frac=1)\n",
    "\n",
    "n_bins_arr = range(100, 40000, 2000)\n",
    "result = []\n",
    "for n_bins in n_bins_arr:\n",
    "    temp = changeBins(n_bins, mom_train_r, mom_test_r, me_train, me_test)\n",
    "    print(temp)\n",
    "    result.append(temp)"
   ]
  },
  {
   "cell_type": "code",
   "execution_count": 40,
   "metadata": {},
   "outputs": [
    {
     "data": {
      "image/png": "[encoded data removed]",
      "text/plain": [
       "<Figure size 360x216 with 1 Axes>"
      ]
     },
     "metadata": {},
     "output_type": "display_data"
    }
   ],
   "source": [
    "from matplotlib import rcParams\n",
    "\n",
    "rcParams['font.family'] = 'Serif'\n",
    "rcParams['font.size'] = 11\n",
    "\n",
    "fig = pyplot.figure(figsize=(5, 3))\n",
    "\n",
    "pyplot.xlabel('Number of Bins')\n",
    "pyplot.ylabel('Percentage Error')\n",
    "pyplot.plot(n_bins_arr, result)\n",
    "\n",
    "pyplot.yscale('log')\n",
    "pyplot.savefig('KBINS_NBins.png')"
   ]
  },
  {
   "cell_type": "code",
   "execution_count": 38,
   "metadata": {},
   "outputs": [
    {
     "name": "stdout",
     "output_type": "stream",
     "text": [
      "27820.578600538574\n"
     ]
    }
   ],
   "source": [
    "print(np.mean(me_test))"
   ]
  },
  {
   "cell_type": "code",
   "execution_count": 39,
   "metadata": {},
   "outputs": [
    {
     "name": "stdout",
     "output_type": "stream",
     "text": [
      "41758.90805249425\n"
     ]
    }
   ],
   "source": [
    "print(np.std(me_test))"
   ]
  },
  {
   "cell_type": "code",
   "execution_count": null,
   "metadata": {},
   "outputs": [],
   "source": []
  }
 ],
 "metadata": {
  "kernelspec": {
   "display_name": "Python 3",
   "language": "python",
   "name": "python3"
  },
  "language_info": {
   "codemirror_mode": {
    "name": "ipython",
    "version": 3
   },
   "file_extension": ".py",
   "mimetype": "text/x-python",
   "name": "python",
   "nbconvert_exporter": "python",
   "pygments_lexer": "ipython3",
   "version": "3.6.3"
  }
 },
 "nbformat": 4,
 "nbformat_minor": 2
}
