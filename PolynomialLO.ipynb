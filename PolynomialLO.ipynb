{
 "cells": [
  {
   "cell_type": "code",
   "execution_count": 2,
   "metadata": {},
   "outputs": [],
   "source": [
    "import numpy as np\n",
    "import matplotlib.pyplot as pyplot\n",
    "from scipy.interpolate import griddata\n",
    "import matplotlib.colors as colors\n",
    "\n",
    "from sklearn.pipeline import Pipeline\n",
    "from sklearn.preprocessing import StandardScaler\n",
    "from sklearn.metrics import mean_squared_error\n",
    "from sklearn.linear_model import LinearRegression, SGDRegressor\n",
    "from sklearn.model_selection import train_test_split, learning_curve, StratifiedShuffleSplit\n",
    "import pandas as pd\n",
    "\n",
    "import DataPreprocessing"
   ]
  },
  {
   "cell_type": "markdown",
   "metadata": {},
   "source": [
    "## Data Processing"
   ]
  },
  {
   "cell_type": "code",
   "execution_count": 3,
   "metadata": {},
   "outputs": [],
   "source": [
    "combs = ['1,3','1,4','2,3','2,4']\n",
    "#combs = ['1,4','1,5','1,6','2,4','2,5','2,6','3,4','3,5','3,6']\n",
    "#combs = ['1,3','2,3']"
   ]
  },
  {
   "cell_type": "code",
   "execution_count": 10,
   "metadata": {},
   "outputs": [],
   "source": [
    "##Obtain & process data NPY\n",
    "#me_train, mom_train = DataPreprocessing.npy('LO/MG_uuxg/3Jet_3000000.npy', 'LO/LO_3_0.01_NJet/PS3_0.01_3000000.npy', ['3,5', '4,5'], 100000, frac=0.1)\n",
    "#me_test, mom_test = DataPreprocessing.npy('LO/MG_uuxg/3Jet_500000.npy', 'LO/LO_3_0.01_NJet/PS3_0.01_500000.npy', ['3,5', '4,5'], 100000, frac=0.1)\n",
    "\n",
    "#me_train, mom_train = DataPreprocessing.npy('LO/MG_uuxg_2/me_3jet_1000000.npy', 'LO/MG_uuxg_2/mom_3jet_1000000.npy', ['1,3','2,3'], 100000, frac=1)\n",
    "#me_test, mom_test = DataPreprocessing.npy('LO/MG_uuxg_2/me_3jet_100000.npy', 'LO/MG_uuxg_2/mom_3jet_100000.npy', ['1,3','2,3'], 100000, frac=1)\n",
    "\n",
    "me_train, mom_train = DataPreprocessing.npy('LO/MG_uuuxux/me_4jet_1000000', 'LO/MG_uuuxux/mom_4jet_1000000', combs, 1000, frac=0.005)\n",
    "me_test, mom_test = DataPreprocessing.npy('LO/MG_uuuxux/me_4jet_100000', 'LO/MG_uuuxux/mom_4jet_100000', combs, 1000, frac=0.005)\n",
    "\n",
    "#me_train, mom_train = DataPreprocessing.npy('me_6jet_100000.npy', 'mom_6jet_100000.npy', combs, 10000, frac=0.001)\n",
    "#me_test, mom_test = DataPreprocessing.npy('me_6jet_10000.npy', 'mom_6jet_10000.npy', combs, 10000, frac=0.1)\n",
    "\n",
    "\n",
    "mom_train = np.append(mom_train, DataPreprocessing.mandel_creation(combs, mom_train).T, axis=1)\n",
    "mom_test = np.append(mom_test, DataPreprocessing.mandel_creation(combs, mom_test).T, axis=1)\n",
    "\n",
    "#mom_train = mom_train[:,3:]\n",
    "#mom_test = mom_test[:,3:]\n",
    "\n",
    "#mom_train = DataPreprocessing.mandel_creation(combs, mom_train).T\n",
    "#mom_test = DataPreprocessing.mandel_creation(combs, mom_test).T\n",
    "\n",
    "#mom_train=np.delete(mom_train, [0,1,2,3,7,11,15], axis=1)\n",
    "#mom_test=np.delete(mom_test, [0,1,2,3,7,11,15], axis=1)\n",
    "\n",
    "#mom_train = np.append(mom_train, np.square(mom_train),axis=1)\n",
    "#mom_test = np.append(mom_test, np.square(mom_test),axis=1)\n",
    "\n",
    "##Rescale\n",
    "#scaler = StandardScaler()\n",
    "\n",
    "#mom_train = scaler.fit_transform(mom_train) #Rescale on training set\n",
    "#mom_test = scaler.transform(mom_test) #Rescale on test set"
   ]
  },
  {
   "cell_type": "markdown",
   "metadata": {},
   "source": [
    "## Polynomial Fit:"
   ]
  },
  {
   "cell_type": "markdown",
   "metadata": {},
   "source": [
    "Small Multiplicity Polynomial Fit"
   ]
  },
  {
   "cell_type": "code",
   "execution_count": 12,
   "metadata": {},
   "outputs": [
    {
     "name": "stdout",
     "output_type": "stream",
     "text": [
      "RMSE: 831281290.2837495\n",
      "Percentage Error: 192.41141236732545\n"
     ]
    }
   ],
   "source": [
    "from sklearn.preprocessing import PolynomialFeatures\n",
    "\n",
    "poly_features = PolynomialFeatures(degree=4)\n",
    "poly_train = poly_features.fit_transform(mom_train)\n",
    "poly_test = poly_features.transform(mom_test)\n",
    "\n",
    "poly_train = poly_train[:,16:]\n",
    "poly_test = poly_test[:,16:]\n",
    "\n",
    "linreg = LinearRegression().fit(poly_train, me_train)\n",
    "\n",
    "me_predict_lin = linreg.predict(poly_test) #Prediction on test set\n",
    "lin_mse = mean_squared_error(me_test, me_predict_lin) \n",
    "print('RMSE: {}'.format(np.sqrt(lin_mse)))\n",
    "\n",
    "\n",
    "lin_perc = np.mean(100*np.divide(np.abs(me_test - me_predict_lin), me_test))\n",
    "print('Percentage Error: {}'.format(lin_perc))"
   ]
  },
  {
   "cell_type": "markdown",
   "metadata": {},
   "source": [
    "Large Multiplicity Polynomial Fit"
   ]
  },
  {
   "cell_type": "code",
   "execution_count": null,
   "metadata": {},
   "outputs": [],
   "source": []
  },
  {
   "cell_type": "markdown",
   "metadata": {},
   "source": [
    "Learning Curve"
   ]
  },
  {
   "cell_type": "code",
   "execution_count": 8,
   "metadata": {},
   "outputs": [
    {
     "name": "stdout",
     "output_type": "stream",
     "text": [
      "[learning_curve] Training set sizes: [   1 1601 3200 4800 6400 8000]\n"
     ]
    },
    {
     "name": "stderr",
     "output_type": "stream",
     "text": [
      "[Parallel(n_jobs=1)]: Using backend SequentialBackend with 1 concurrent workers.\n",
      "[Parallel(n_jobs=1)]: Done  30 out of  30 | elapsed: 11.0min finished\n"
     ]
    }
   ],
   "source": [
    "train_sizes, train_scores, test_scores = learning_curve(\n",
    "        linreg, poly_train, me_train, scoring='neg_mean_squared_error',\n",
    "        cv=5, shuffle=True, train_sizes=np.linspace(0.0002, 1, 6), \n",
    "        n_jobs=1, verbose=1)"
   ]
  },
  {
   "cell_type": "code",
   "execution_count": 9,
   "metadata": {},
   "outputs": [
    {
     "data": {
      "text/plain": [
       "[<matplotlib.lines.Line2D at 0x7fa3cf3ecb70>]"
      ]
     },
     "execution_count": 9,
     "metadata": {},
     "output_type": "execute_result"
    },
    {
     "data": {
      "image/png": "[encoded data removed]",
      "text/plain": [
       "<Figure size 432x288 with 1 Axes>"
      ]
     },
     "metadata": {},
     "output_type": "display_data"
    }
   ],
   "source": [
    "pyplot.figure()\n",
    "\n",
    "train_scores_mean = np.sqrt(-np.mean(train_scores, axis=1))\n",
    "test_scores_mean = np.sqrt(-np.mean(test_scores, axis=1))\n",
    "\n",
    "pyplot.xlabel(\"Training examples\")\n",
    "pyplot.ylabel(\"RMSE\")\n",
    "pyplot.plot(train_sizes, train_scores_mean, 'o-', color=\"r\",\n",
    "             label=\"Training score\")\n",
    "pyplot.plot(train_sizes, test_scores_mean, 'o-', color=\"g\",\n",
    "             label=\"Cross-validation score\")\n"
   ]
  },
  {
   "cell_type": "markdown",
   "metadata": {},
   "source": [
    "Error Plot"
   ]
  },
  {
   "cell_type": "code",
   "execution_count": null,
   "metadata": {},
   "outputs": [],
   "source": [
    "#s12, s13, s23 = DataPreprocessing.mandel_creation(['3,4','3,5','4,5'], mom_test)\n",
    "s12, s13, s23 = DataPreprocessing.mandel_creation(['1,2','1,3','2,3'], mom_test)\n",
    "S = s12 + s13 + s23\n",
    "print(S)"
   ]
  },
  {
   "cell_type": "code",
   "execution_count": null,
   "metadata": {},
   "outputs": [],
   "source": [
    "x1 = np.divide(s12, S)\n",
    "x2 = np.divide(s13, S)\n",
    "x3 = np.divide(s23, S)\n",
    "print(x3)\n",
    "\n",
    "x2i = np.linspace(0, 1, 500) #x1 coordinates\n",
    "x3i = np.linspace(0, 1, 500) #x2 coordinates\n",
    "X2i, X3i = np.meshgrid(x2i, x3i) #2d regularly spaced grid of coordinates."
   ]
  },
  {
   "cell_type": "code",
   "execution_count": null,
   "metadata": {},
   "outputs": [],
   "source": [
    "#Value at grid coordinate is mapped to the nearest actual datapoint.\n",
    "grid = griddata((x2, x3), 100*np.divide(np.abs(me_test - me_predict_lin), me_test), (X2i, X3i), method='linear') "
   ]
  },
  {
   "cell_type": "code",
   "execution_count": null,
   "metadata": {},
   "outputs": [],
   "source": [
    "fig, ax = pyplot.subplots()\n",
    "im = ax.pcolor(grid, cmap = 'nipy_spectral_r', norm = colors.LogNorm()) #color map of coord grid\n",
    "cbar = ax.figure.colorbar(im)\n",
    "cbar.set_label('Percentage Error')\n",
    "\n",
    "ax.set_xticks([0, 500])\n",
    "ax.set_xticklabels([0, 1])\n",
    "ax.set_yticks([0, 500])\n",
    "ax.set_yticklabels([0, 1])\n",
    "\n",
    "\n",
    "ax.set_ylabel('x2')\n",
    "ax.set_xlabel('x3')"
   ]
  },
  {
   "cell_type": "code",
   "execution_count": null,
   "metadata": {},
   "outputs": [],
   "source": []
  }
 ],
 "metadata": {
  "kernelspec": {
   "display_name": "Python 3",
   "language": "python",
   "name": "python3"
  },
  "language_info": {
   "codemirror_mode": {
    "name": "ipython",
    "version": 3
   },
   "file_extension": ".py",
   "mimetype": "text/x-python",
   "name": "python",
   "nbconvert_exporter": "python",
   "pygments_lexer": "ipython3",
   "version": "3.6.3"
  }
 },
 "nbformat": 4,
 "nbformat_minor": 2
}
