{
 "cells": [
  {
   "cell_type": "code",
   "execution_count": 3,
   "metadata": {},
   "outputs": [],
   "source": [
    "import numpy as np\n",
    "import matplotlib.pyplot as plt\n",
    "import DataPreprocessing\n",
    "from functools import reduce\n",
    "\n",
    "from sklearn.preprocessing import StandardScaler\n",
    "from sklearn.linear_model import LinearRegression"
   ]
  },
  {
   "cell_type": "code",
   "execution_count": 47,
   "metadata": {},
   "outputs": [],
   "source": [
    "def graph_data(me_filename, mom_filename):    \n",
    "    me = np.load(me_filename, allow_pickle=True)[20000:] #Matrix elements\n",
    "    print('hi')\n",
    "    mom = np.load(mom_filename, allow_pickle=True, encoding='bytes')[20000:] #4-momenta of inputs\n",
    "    print('ho')\n",
    "    \n",
    "    ##Multiply matrix element\n",
    "    mandel_multiply = reduce(np.multiply, DataPreprocessing.mandel_creation(['2,3,4','2,3,4'], mom))\n",
    "    ##Gradient\n",
    "    \n",
    "    print('hi')\n",
    "    #print(mandel_multiply.shape)\n",
    "    #print(me.shape)\n",
    "    me = np.multiply(me, mandel_multiply)\n",
    "    \n",
    "    \n",
    "    print('ho')\n",
    "    mandel = np.transpose(DataPreprocessing.mandel_creation(['2,3'], mom)[0])\n",
    "    mandel.shape= (len(mandel),1)\n",
    "    linreg = LinearRegression().fit(np.log10(mandel), np.log10(me))\n",
    "\n",
    "    print('Gradient : {}'.format(linreg.coef_[0]))\n",
    "    print('Intercept : {}'.format(linreg.intercept_))\n",
    "    \n",
    "    return (me, DataPreprocessing.mandel_creation(['2,3,4'], mom)[0], linreg)"
   ]
  },
  {
   "cell_type": "code",
   "execution_count": 48,
   "metadata": {},
   "outputs": [
    {
     "name": "stdout",
     "output_type": "stream",
     "text": [
      "hi\n",
      "ho\n",
      "hi\n",
      "ho\n",
      "Gradient : 0.00015871829612039765\n",
      "Intercept : -0.3322490891304158\n"
     ]
    },
    {
     "data": {
      "text/plain": [
       "[<matplotlib.lines.Line2D at 0x7f3116378978>]"
      ]
     },
     "execution_count": 48,
     "metadata": {},
     "output_type": "execute_result"
    },
    {
     "data": {
      "image/png": "[encoded data removed]",
      "text/plain": [
       "<Figure size 432x288 with 1 Axes>"
      ]
     },
     "metadata": {},
     "output_type": "display_data"
    }
   ],
   "source": [
    "me, S, linreg = graph_data('LO/MG_uuxgg_smalls/me_100000.npy', 'LO/MG_uuxgg_smalls/mom_100000.npy')\n",
    "\n",
    "plt.xlim(10**-(11), 1)\n",
    "plt.yscale('log')\n",
    "plt.xscale('log')\n",
    "\n",
    "plt.ylabel('Matrix Element')\n",
    "plt.xlabel('Mandelstam Variable')\n",
    "plt.scatter(S, me)\n",
    "\n",
    "plt.plot(np.logspace(-10, -1,100),10**linreg.predict(np.array([np.linspace(-10, -1,100)]).T),color='r')"
   ]
  },
  {
   "cell_type": "code",
   "execution_count": null,
   "metadata": {},
   "outputs": [],
   "source": [
    "me = np.load('LO/MG_uuxgg_smalls/me_100000.npy', allow_pickle=True) #Matrix elements\n",
    "mom_raw = np.load('LO/MG_uuxgg_smalls/mom_100000.npy', allow_pickle=True, encoding='bytes') #4-momenta of inputs\n",
    "mom = np.array([np.array(element) for element in mom_raw])\n",
    "\n",
    "##Gradient\n",
    "mandel = DataPreprocessing.mandel_creation(['2,3'], mom).T\n",
    "\n",
    "\n",
    "plt.scatter(range(0,50),me[:50])\n",
    "#plt.yscale('log')"
   ]
  },
  {
   "cell_type": "code",
   "execution_count": null,
   "metadata": {},
   "outputs": [],
   "source": []
  }
 ],
 "metadata": {
  "kernelspec": {
   "display_name": "Python 3",
   "language": "python",
   "name": "python3"
  },
  "language_info": {
   "codemirror_mode": {
    "name": "ipython",
    "version": 3
   },
   "file_extension": ".py",
   "mimetype": "text/x-python",
   "name": "python",
   "nbconvert_exporter": "python",
   "pygments_lexer": "ipython3",
   "version": "3.6.3"
  }
 },
 "nbformat": 4,
 "nbformat_minor": 2
}
