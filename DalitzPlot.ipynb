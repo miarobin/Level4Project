{
 "cells": [
  {
   "cell_type": "code",
   "execution_count": 1,
   "metadata": {},
   "outputs": [],
   "source": [
    "import numpy as np\n",
    "import matplotlib.pyplot as plt\n",
    "from scipy.interpolate import griddata\n",
    "import matplotlib.colors as colors\n",
    "from mpl_toolkits.mplot3d import Axes3D"
   ]
  },
  {
   "cell_type": "code",
   "execution_count": 2,
   "metadata": {},
   "outputs": [],
   "source": [
    "##Data Aquisition\n",
    "me = np.load('MG_3jet/me_3jet_10.npy', allow_pickle=True) #Matrix elements\n",
    "momentum = np.load('MG_3jet/mom_3jet_10.npy', allow_pickle=True, encoding='bytes') #4-momenta of input states\n",
    "momentum = np.array([np.array(element) for element in momentum])"
   ]
  },
  {
   "cell_type": "code",
   "execution_count": 3,
   "metadata": {},
   "outputs": [],
   "source": [
    "##Minkowski product of 4-vectors p1, p2.\n",
    "def m_prod_arr(p1, p2):\n",
    "    #Input: p1, p2 - n x 4 dimensional numpy array.\n",
    "    #Output: n dimensional numpy array.\n",
    "    return np.multiply(p1[:,0], p2[:,0]) - np.sum(np.multiply(p1[:,1:], p2[:,1:]), axis=1)"
   ]
  },
  {
   "cell_type": "code",
   "execution_count": 4,
   "metadata": {},
   "outputs": [],
   "source": [
    "def m_prod(p1, p2):\n",
    "    return np.multiply(p1[0], p2[0]) - np.sum(np.multiply(p1[1:], p2[1:]))"
   ]
  },
  {
   "cell_type": "code",
   "execution_count": 5,
   "metadata": {},
   "outputs": [],
   "source": [
    "#Helpful sums\n",
    "p_12 = np.sum(np.array(momentum)[:,2:4], axis=1) #p1+p2\n",
    "p_13 = np.sum(np.array(momentum)[:,2:5:2], axis=1) #p1+p3\n",
    "p_23 = np.sum(np.array(momentum)[:,3:5], axis=1) #p2+p3"
   ]
  },
  {
   "cell_type": "code",
   "execution_count": 6,
   "metadata": {},
   "outputs": [],
   "source": [
    "s_12 = m_prod_arr(p_12, p_12)\n",
    "s_13 = m_prod_arr(p_13, p_13)\n",
    "s_23 = m_prod_arr(p_23, p_23)\n",
    "S = s_12 + s_13 + s_23 #Center of mass energy"
   ]
  },
  {
   "cell_type": "code",
   "execution_count": 7,
   "metadata": {},
   "outputs": [],
   "source": [
    "x1 = np.divide(s_12, S)\n",
    "x2 = np.divide(s_13, S)\n",
    "x3 = np.divide(s_23, S)\n",
    "\n",
    "\n",
    "x2i = np.linspace(0, 1, 500) #x1 coordinates\n",
    "x3i = np.linspace(0, 1, 500) #x2 coordinates\n",
    "X2i, X3i = np.meshgrid(x2i, x3i) #2d regularly spaced grid of coordinates."
   ]
  },
  {
   "cell_type": "code",
   "execution_count": 8,
   "metadata": {},
   "outputs": [],
   "source": [
    "#Value at grid coordinate is mapped to the nearest actual datapoint.\n",
    "grid = griddata((x2, x3), me, (X2i, X3i), method='linear') "
   ]
  },
  {
   "cell_type": "code",
   "execution_count": 9,
   "metadata": {
    "scrolled": true
   },
   "outputs": [
    {
     "data": {
      "text/plain": [
       "Text(0.5,0,'x3')"
      ]
     },
     "execution_count": 9,
     "metadata": {},
     "output_type": "execute_result"
    },
    {
     "data": {
      "image/png": "[encoded data removed]",
      "text/plain": [
       "<Figure size 432x288 with 2 Axes>"
      ]
     },
     "metadata": {},
     "output_type": "display_data"
    }
   ],
   "source": [
    "fig, ax = plt.subplots()\n",
    "im = ax.pcolor(grid, cmap = 'nipy_spectral_r', norm = colors.LogNorm()) #color map of coord grid\n",
    "cbar = ax.figure.colorbar(im)\n",
    "cbar.set_label('Matrix Element')\n",
    "\n",
    "ax.set_xticks([0, 500])\n",
    "ax.set_xticklabels([0, 1])\n",
    "ax.set_yticks([0, 500])\n",
    "ax.set_yticklabels([0, 1])\n",
    "\n",
    "\n",
    "ax.set_ylabel('x2')\n",
    "ax.set_xlabel('x3')"
   ]
  },
  {
   "cell_type": "code",
   "execution_count": 10,
   "metadata": {},
   "outputs": [],
   "source": [
    "def analytic_me(q1, q2, p1, p2, p3):\n",
    "    constants = 1\n",
    "    return constants*(m_prod(p1, q1)**2 + m_prod(p1, q2)**2 + m_prod(p2, q1)**2 + m_prod(p2, q2)**2)/(m_prod(p1, p3)*m_prod(p2, p3))"
   ]
  },
  {
   "cell_type": "code",
   "execution_count": 11,
   "metadata": {},
   "outputs": [
    {
     "name": "stdout",
     "output_type": "stream",
     "text": [
      "[[ 3.16227766e+02  0.00000000e+00  0.00000000e+00  3.16227766e+02]\n",
      " [ 3.16227766e+02  0.00000000e+00  0.00000000e+00 -3.16227766e+02]\n",
      " [ 4.24988561e-01 -3.51952239e-01 -5.38627522e-02 -2.32042458e-01]\n",
      " [ 3.20563730e-01  2.29410179e-01 -1.57037257e-01  1.59597540e-01]\n",
      " [ 2.54447709e-01  1.22542061e-01  2.10900009e-01  7.24449182e-02]]\n",
      "1531394971792.6724\n"
     ]
    }
   ],
   "source": [
    "print(momentum[2])\n",
    "print(analytic_me(*momentum[2])/me[2])\n"
   ]
  },
  {
   "cell_type": "code",
   "execution_count": 12,
   "metadata": {},
   "outputs": [
    {
     "name": "stdout",
     "output_type": "stream",
     "text": [
      "5389265.715798442\n"
     ]
    },
    {
     "data": {
      "text/plain": [
       "899772.7680499717"
      ]
     },
     "execution_count": 12,
     "metadata": {},
     "output_type": "execute_result"
    }
   ],
   "source": [
    "ka,kb,k1,k2,k3 = momentum[2]\n",
    "swapped = [ka,kb, k3,k2,k1]\n",
    "print(analytic_me(*momentum[2]))\n",
    "analytic_me(*swapped)"
   ]
  },
  {
   "cell_type": "code",
   "execution_count": 13,
   "metadata": {},
   "outputs": [
    {
     "name": "stdout",
     "output_type": "stream",
     "text": [
      "1531394971792.6814\n",
      "1531394971792.673\n",
      "1531394971792.6724\n",
      "1531394971792.677\n",
      "1531394971792.6733\n",
      "1531394971792.6646\n",
      "1531394971792.682\n",
      "1531394971792.6711\n",
      "1531394971792.6755\n",
      "1531394971792.6702\n"
     ]
    },
    {
     "ename": "IndexError",
     "evalue": "index 10 is out of bounds for axis 0 with size 10",
     "output_type": "error",
     "traceback": [
      "\u001b[0;31m---------------------------------------------------------------------------\u001b[0m",
      "\u001b[0;31mIndexError\u001b[0m                                Traceback (most recent call last)",
      "\u001b[0;32m<ipython-input-13-c3eb2bb982cf>\u001b[0m in \u001b[0;36m<module>\u001b[0;34m()\u001b[0m\n\u001b[1;32m      1\u001b[0m \u001b[0;32mfor\u001b[0m \u001b[0mi\u001b[0m \u001b[0;32min\u001b[0m \u001b[0mrange\u001b[0m\u001b[0;34m(\u001b[0m\u001b[0;36m40\u001b[0m\u001b[0;34m)\u001b[0m\u001b[0;34m:\u001b[0m\u001b[0;34m\u001b[0m\u001b[0m\n\u001b[0;32m----> 2\u001b[0;31m     \u001b[0mprint\u001b[0m\u001b[0;34m(\u001b[0m\u001b[0manalytic_me\u001b[0m\u001b[0;34m(\u001b[0m\u001b[0;34m*\u001b[0m\u001b[0mmomentum\u001b[0m\u001b[0;34m[\u001b[0m\u001b[0mi\u001b[0m\u001b[0;34m]\u001b[0m\u001b[0;34m)\u001b[0m\u001b[0;34m/\u001b[0m\u001b[0mme\u001b[0m\u001b[0;34m[\u001b[0m\u001b[0mi\u001b[0m\u001b[0;34m]\u001b[0m\u001b[0;34m)\u001b[0m\u001b[0;34m\u001b[0m\u001b[0m\n\u001b[0m",
      "\u001b[0;31mIndexError\u001b[0m: index 10 is out of bounds for axis 0 with size 10"
     ]
    }
   ],
   "source": [
    "for i in range(40):\n",
    "    print(analytic_me(*momentum[i])/me[i])"
   ]
  },
  {
   "cell_type": "code",
   "execution_count": 14,
   "metadata": {},
   "outputs": [
    {
     "ename": "IndexError",
     "evalue": "index 13 is out of bounds for axis 0 with size 10",
     "output_type": "error",
     "traceback": [
      "\u001b[0;31m---------------------------------------------------------------------------\u001b[0m",
      "\u001b[0;31mIndexError\u001b[0m                                Traceback (most recent call last)",
      "\u001b[0;32m<ipython-input-14-1c6e29a375c0>\u001b[0m in \u001b[0;36m<module>\u001b[0;34m()\u001b[0m\n\u001b[0;32m----> 1\u001b[0;31m \u001b[0mmomentum\u001b[0m\u001b[0;34m[\u001b[0m\u001b[0;36m13\u001b[0m\u001b[0;34m]\u001b[0m\u001b[0;34m\u001b[0m\u001b[0m\n\u001b[0m",
      "\u001b[0;31mIndexError\u001b[0m: index 13 is out of bounds for axis 0 with size 10"
     ]
    }
   ],
   "source": [
    "momentum[13]"
   ]
  },
  {
   "cell_type": "code",
   "execution_count": 15,
   "metadata": {},
   "outputs": [
    {
     "name": "stdout",
     "output_type": "stream",
     "text": [
      "95222450105292.0\n"
     ]
    }
   ],
   "source": [
    "print(sum([(analytic_me(*momenta)/S[0] - me[i])**2 for i, momenta in enumerate(momentum)])/len(me))"
   ]
  },
  {
   "cell_type": "code",
   "execution_count": 16,
   "metadata": {},
   "outputs": [
    {
     "data": {
      "text/plain": [
       "<matplotlib.collections.PathCollection at 0x7f197525c6d8>"
      ]
     },
     "execution_count": 16,
     "metadata": {},
     "output_type": "execute_result"
    },
    {
     "data": {
      "image/png": "[encoded data removed]",
      "text/plain": [
       "<Figure size 432x288 with 1 Axes>"
      ]
     },
     "metadata": {},
     "output_type": "display_data"
    }
   ],
   "source": [
    "plt.scatter(momentum[:,3,1], 100*me)"
   ]
  },
  {
   "cell_type": "code",
   "execution_count": 17,
   "metadata": {},
   "outputs": [
    {
     "data": {
      "text/plain": [
       "<matplotlib.collections.PathCollection at 0x7f1975244f98>"
      ]
     },
     "execution_count": 17,
     "metadata": {},
     "output_type": "execute_result"
    },
    {
     "data": {
      "image/png": "[encoded data removed]",
      "text/plain": [
       "<Figure size 432x288 with 1 Axes>"
      ]
     },
     "metadata": {},
     "output_type": "display_data"
    }
   ],
   "source": [
    "plt.scatter(momentum[:,2,3]/momentum[:,2,0], 100*me)"
   ]
  },
  {
   "cell_type": "code",
   "execution_count": null,
   "metadata": {},
   "outputs": [],
   "source": []
  }
 ],
 "metadata": {
  "kernelspec": {
   "display_name": "Python 3",
   "language": "python",
   "name": "python3"
  },
  "language_info": {
   "codemirror_mode": {
    "name": "ipython",
    "version": 3
   },
   "file_extension": ".py",
   "mimetype": "text/x-python",
   "name": "python",
   "nbconvert_exporter": "python",
   "pygments_lexer": "ipython3",
   "version": "3.6.3"
  }
 },
 "nbformat": 4,
 "nbformat_minor": 2
}
